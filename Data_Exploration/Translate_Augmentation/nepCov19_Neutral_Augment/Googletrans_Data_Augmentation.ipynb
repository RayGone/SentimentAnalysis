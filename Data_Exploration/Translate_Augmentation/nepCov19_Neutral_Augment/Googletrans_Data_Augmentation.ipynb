{
 "cells": [
  {
   "cell_type": "code",
   "execution_count": 2,
   "id": "106c9a16-ebb1-49ea-b717-09683eeeb66c",
   "metadata": {},
   "outputs": [],
   "source": [
    "'''\n",
    "    Don't Run this on conda environment.\n",
    "'''\n",
    "import os\n",
    "import pandas as pd\n",
    "import datasets\n",
    "from datasets import load_dataset\n",
    "from googletrans import Translator\n",
    "import pickle as pkl\n",
    "from tqdm.auto import tqdm"
   ]
  },
  {
   "cell_type": "code",
   "execution_count": null,
   "id": "4117230d",
   "metadata": {},
   "outputs": [],
   "source": [
    "translator = Translator()"
   ]
  },
  {
   "cell_type": "code",
   "execution_count": 4,
   "id": "039a6334",
   "metadata": {},
   "outputs": [
    {
     "name": "stderr",
     "output_type": "stream",
     "text": [
      "Found cached dataset parquet (C:/Users/Dell/.cache/huggingface/datasets/raygx___parquet/raygx--NepCov19Tweets-11ff376905985191/0.0.0/2a3b91fbd88a2c90d1dbbb32b460cf621d31bd5b05b934492fdef7d8d6f236ec)\n"
     ]
    },
    {
     "data": {
      "application/vnd.jupyter.widget-view+json": {
       "model_id": "b18cb994e84e4e05acb89e78172363d5",
       "version_major": 2,
       "version_minor": 0
      },
      "text/plain": [
       "  0%|          | 0/1 [00:00<?, ?it/s]"
      ]
     },
     "metadata": {},
     "output_type": "display_data"
    }
   ],
   "source": [
    "nepCov19 = load_dataset(\"raygx/NepCov19Tweets\")['train']"
   ]
  },
  {
   "cell_type": "code",
   "execution_count": null,
   "id": "d7551f0f",
   "metadata": {},
   "outputs": [],
   "source": [
    "bdf = nepCov19.filter(lambda x: x['Sentiment']==0).to_pandas(batched=True,batch_size=50)"
   ]
  },
  {
   "cell_type": "code",
   "execution_count": 2,
   "id": "c415afc5-dcab-4fc6-a573-06f263a5e6f6",
   "metadata": {},
   "outputs": [
    {
     "name": "stderr",
     "output_type": "stream",
     "text": [
      "Found cached dataset parquet (C:/Users/Dell/.cache/huggingface/datasets/raygx___parquet/raygx--NepCov19Tweets-11ff376905985191/0.0.0/2a3b91fbd88a2c90d1dbbb32b460cf621d31bd5b05b934492fdef7d8d6f236ec)\n"
     ]
    },
    {
     "data": {
      "application/vnd.jupyter.widget-view+json": {
       "model_id": "1c86dd05969f40508d9794e5f9513a3d",
       "version_major": 2,
       "version_minor": 0
      },
      "text/plain": [
       "  0%|          | 0/1 [00:00<?, ?it/s]"
      ]
     },
     "metadata": {},
     "output_type": "display_data"
    },
    {
     "name": "stderr",
     "output_type": "stream",
     "text": [
      "Loading cached processed dataset at C:\\Users\\Dell\\.cache\\huggingface\\datasets\\raygx___parquet\\raygx--NepCov19Tweets-11ff376905985191\\0.0.0\\2a3b91fbd88a2c90d1dbbb32b460cf621d31bd5b05b934492fdef7d8d6f236ec\\cache-f7fa500983a7f39c.arrow\n"
     ]
    },
    {
     "name": "stdout",
     "output_type": "stream",
     "text": [
      "Step 1: Translating Nepali To English\n"
     ]
    },
    {
     "data": {
      "application/vnd.jupyter.widget-view+json": {
       "model_id": "d1f477d8d2d945cc8d5c6177e176cb1d",
       "version_major": 2,
       "version_minor": 0
      },
      "text/plain": [
       "0it [00:00, ?it/s]"
      ]
     },
     "metadata": {},
     "output_type": "display_data"
    }
   ],
   "source": [
    "print(\"Step 1: Translating Nepali To English\")\n",
    "trans_en = []\n",
    "for batch in tqdm(bdf):\n",
    "    trans_en += translator.translate(batch['Sentences'].to_list(),src='ne',dest='en')"
   ]
  },
  {
   "cell_type": "code",
   "execution_count": 4,
   "id": "0496d1b2",
   "metadata": {},
   "outputs": [],
   "source": [
    "pd.DataFrame({'en':[x.text for x in trans_en]}).to_csv(\"nepCov19_neutral_googletrans_ne_2_en.csv\")\n",
    "trans_en = datasets.Dataset.from_dict({'en':[x.text for x in trans_en]}).to_pandas(batched=True,batch_size=50)"
   ]
  },
  {
   "cell_type": "code",
   "execution_count": 31,
   "id": "2fc4bc30",
   "metadata": {},
   "outputs": [],
   "source": [
    "if os.path.exists(\"nepCov19_neutral_googletrans_ne_2_en.csv\"):\n",
    "    trans_en = pd.read_csv(\"nepCov19_neutral_googletrans_ne_2_en.csv\")[['en']]\n",
    "    trans_en = datasets.Dataset.from_pandas(trans_en).to_pandas(batched=True,batch_size=50)"
   ]
  },
  {
   "cell_type": "code",
   "execution_count": 32,
   "id": "86d37c36",
   "metadata": {},
   "outputs": [
    {
     "name": "stdout",
     "output_type": "stream",
     "text": [
      "Step 2: Translating English To Nepali\n"
     ]
    },
    {
     "data": {
      "application/vnd.jupyter.widget-view+json": {
       "model_id": "f9eadc8b0c894cf78b7fd6691ac6705a",
       "version_major": 2,
       "version_minor": 0
      },
      "text/plain": [
       "0it [00:00, ?it/s]"
      ]
     },
     "metadata": {},
     "output_type": "display_data"
    }
   ],
   "source": [
    "print(\"Step 2: Translating English To Nepali\")\n",
    "trans_ne = []\n",
    "for batch in tqdm(trans_en):\n",
    "    trans_ne += translator.translate(batch['en'].to_list(),src='en',dest='ne')"
   ]
  },
  {
   "cell_type": "code",
   "execution_count": 33,
   "id": "17b2a16a",
   "metadata": {},
   "outputs": [
    {
     "name": "stdout",
     "output_type": "stream",
     "text": [
      "                                                     en\n",
      "0           Covid Update मा कतिवटा नमूना परीक्षण गरियो?\n",
      "1                                       स्वतन्त्र कोविड\n",
      "2     प्रारम्भिक धार्मिक भेला होस् वा जनसमूहबाट सरका...\n",
      "3     कुवेतबाट फर्किएपछि गरिएको कोभिड परीक्षणको रिपो...\n",
      "4     के हो कोरोना भाइरस, कोभिड, यसका लक्षणहरु के के...\n",
      "...                                                 ...\n",
      "1666  विश्व स्वास्थ्य संगठनले कोरोना भाइरसलाई नयाँ न...\n",
      "1667            WHO ले दिएको कोरोनाको नयाँ नाम कोविड हो\n",
      "1668    कोरोना भाइरस संक्रमणको आधिकारिक नाम अब कोविड हो\n",
      "1669  विश्व स्वास्थ्य संगठन (WHO) ले नोबल कोरोना भाइ...\n",
      "1670  विश्व स्वास्थ्य संगठनले कोरोना भाइरस संक्रमणको...\n",
      "\n",
      "[1671 rows x 1 columns]\n"
     ]
    }
   ],
   "source": [
    "trans_ne = pd.DataFrame({'ne':[x.text for x in trans_ne]})\n",
    "print(trans_ne)\n",
    "trans_ne.to_csv(\"nepCov19_neutral_googletrans_en_2_ne.csv\")"
   ]
  },
  {
   "cell_type": "code",
   "execution_count": 12,
   "id": "81784955",
   "metadata": {},
   "outputs": [
    {
     "name": "stderr",
     "output_type": "stream",
     "text": [
      "Loading cached processed dataset at C:\\Users\\Dell\\.cache\\huggingface\\datasets\\raygx___parquet\\raygx--NepCov19Tweets-11ff376905985191\\0.0.0\\2a3b91fbd88a2c90d1dbbb32b460cf621d31bd5b05b934492fdef7d8d6f236ec\\cache-f7fa500983a7f39c.arrow\n"
     ]
    },
    {
     "name": "stdout",
     "output_type": "stream",
     "text": [
      "(9742, 1)\n"
     ]
    }
   ],
   "source": [
    "if os.path.exists(\"nepCov19_neutral_googletrans_ne_2_en.csv\"):\n",
    "    trans_ne = pd.read_csv(\"nepCov19_neutral_googletrans_en_2_ne.csv\")[['ne']]\n",
    "    \n",
    "agg_neutral = pd.DataFrame({'ne':trans_ne['ne'].to_list()+nepCov19.filter(lambda x: x['Sentiment']==0)['Sentences']})\n",
    "print(agg_neutral.shape)"
   ]
  },
  {
   "cell_type": "code",
   "execution_count": 15,
   "id": "f328a92d",
   "metadata": {},
   "outputs": [],
   "source": [
    "agg_neutral = agg_neutral.drop_duplicates()\n",
    "agg_neutral.to_csv(\"googletrans_augmented_data.csv\")"
   ]
  },
  {
   "cell_type": "code",
   "execution_count": null,
   "id": "fa68efc3",
   "metadata": {},
   "outputs": [],
   "source": []
  }
 ],
 "metadata": {
  "kernelspec": {
   "display_name": "Python 3 (ipykernel)",
   "language": "python",
   "name": "python3"
  },
  "language_info": {
   "codemirror_mode": {
    "name": "ipython",
    "version": 3
   },
   "file_extension": ".py",
   "mimetype": "text/x-python",
   "name": "python",
   "nbconvert_exporter": "python",
   "pygments_lexer": "ipython3",
   "version": "3.10.11"
  }
 },
 "nbformat": 4,
 "nbformat_minor": 5
}
