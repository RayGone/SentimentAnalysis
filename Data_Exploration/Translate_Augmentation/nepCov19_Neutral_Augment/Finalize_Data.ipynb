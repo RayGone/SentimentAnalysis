{
 "cells": [
  {
   "cell_type": "code",
   "execution_count": 24,
   "metadata": {},
   "outputs": [],
   "source": [
    "import datasets\n",
    "import pandas as pd\n",
    "import numpy as np"
   ]
  },
  {
   "cell_type": "code",
   "execution_count": 25,
   "metadata": {},
   "outputs": [
    {
     "name": "stderr",
     "output_type": "stream",
     "text": [
      "Found cached dataset parquet (C:/Users/Dell/.cache/huggingface/datasets/raygx___parquet/raygx--NepCov19Tweets-11ff376905985191/0.0.0/2a3b91fbd88a2c90d1dbbb32b460cf621d31bd5b05b934492fdef7d8d6f236ec)\n"
     ]
    },
    {
     "data": {
      "application/vnd.jupyter.widget-view+json": {
       "model_id": "bb2a53f451d844da8c4eae619cebc500",
       "version_major": 2,
       "version_minor": 0
      },
      "text/plain": [
       "  0%|          | 0/1 [00:00<?, ?it/s]"
      ]
     },
     "metadata": {},
     "output_type": "display_data"
    },
    {
     "data": {
      "text/plain": [
       "DatasetDict({\n",
       "    train: Dataset({\n",
       "        features: ['Sentiment', 'Sentences'],\n",
       "        num_rows: 33471\n",
       "    })\n",
       "})"
      ]
     },
     "execution_count": 25,
     "metadata": {},
     "output_type": "execute_result"
    }
   ],
   "source": [
    "cov19 = datasets.load_dataset(\"raygx/NepCov19Tweets\")\n",
    "cov19"
   ]
  },
  {
   "cell_type": "code",
   "execution_count": 26,
   "metadata": {},
   "outputs": [
    {
     "data": {
      "text/html": [
       "<div>\n",
       "<style scoped>\n",
       "    .dataframe tbody tr th:only-of-type {\n",
       "        vertical-align: middle;\n",
       "    }\n",
       "\n",
       "    .dataframe tbody tr th {\n",
       "        vertical-align: top;\n",
       "    }\n",
       "\n",
       "    .dataframe thead th {\n",
       "        text-align: right;\n",
       "    }\n",
       "</style>\n",
       "<table border=\"1\" class=\"dataframe\">\n",
       "  <thead>\n",
       "    <tr style=\"text-align: right;\">\n",
       "      <th></th>\n",
       "      <th>Sentences</th>\n",
       "      <th>Sentiment</th>\n",
       "    </tr>\n",
       "  </thead>\n",
       "  <tbody>\n",
       "    <tr>\n",
       "      <th>0</th>\n",
       "      <td>कोभिड भ्याक्सिन पनि लगाइयो</td>\n",
       "      <td>0</td>\n",
       "    </tr>\n",
       "    <tr>\n",
       "      <th>1</th>\n",
       "      <td>रामेछापमा कोभिड–१९ सङ्क्रमितको सङ्ख्या ४८ पुगे...</td>\n",
       "      <td>0</td>\n",
       "    </tr>\n",
       "    <tr>\n",
       "      <th>2</th>\n",
       "      <td>स्वास्थ्य मन्त्रालयले कोभिड–१९ को रोकथाम तथा न...</td>\n",
       "      <td>0</td>\n",
       "    </tr>\n",
       "    <tr>\n",
       "      <th>3</th>\n",
       "      <td>कोभिड छ, अहिले पनि सामाजिक दूरी कायम गरेका छौं...</td>\n",
       "      <td>0</td>\n",
       "    </tr>\n",
       "    <tr>\n",
       "      <th>4</th>\n",
       "      <td>संयुक्त राज्य अमेरिकाले कोभिड-१९ को मृत्युमा न...</td>\n",
       "      <td>0</td>\n",
       "    </tr>\n",
       "    <tr>\n",
       "      <th>...</th>\n",
       "      <td>...</td>\n",
       "      <td>...</td>\n",
       "    </tr>\n",
       "    <tr>\n",
       "      <th>3971</th>\n",
       "      <td>कोरोना महामारीमा जीवन बीमाको अग्निपरीक्षा</td>\n",
       "      <td>0</td>\n",
       "    </tr>\n",
       "    <tr>\n",
       "      <th>3972</th>\n",
       "      <td>कोरोना महामारीले लाखौँको तरकारी नष्ट</td>\n",
       "      <td>0</td>\n",
       "    </tr>\n",
       "    <tr>\n",
       "      <th>3973</th>\n",
       "      <td>कोरोना महामारी रोकथाम र नियन्त्रणका लागि यस्तो...</td>\n",
       "      <td>0</td>\n",
       "    </tr>\n",
       "    <tr>\n",
       "      <th>3974</th>\n",
       "      <td>कोरोना महामारीको क्रममा अनुगमनमा निस्किए प्रदे...</td>\n",
       "      <td>0</td>\n",
       "    </tr>\n",
       "    <tr>\n",
       "      <th>3975</th>\n",
       "      <td>कोरोनाको महामारीबीच सकियो बिस्केट जात्रा</td>\n",
       "      <td>0</td>\n",
       "    </tr>\n",
       "  </tbody>\n",
       "</table>\n",
       "<p>13570 rows × 2 columns</p>\n",
       "</div>"
      ],
      "text/plain": [
       "                                              Sentences  Sentiment\n",
       "0                            कोभिड भ्याक्सिन पनि लगाइयो          0\n",
       "1     रामेछापमा कोभिड–१९ सङ्क्रमितको सङ्ख्या ४८ पुगे...          0\n",
       "2     स्वास्थ्य मन्त्रालयले कोभिड–१९ को रोकथाम तथा न...          0\n",
       "3     कोभिड छ, अहिले पनि सामाजिक दूरी कायम गरेका छौं...          0\n",
       "4     संयुक्त राज्य अमेरिकाले कोभिड-१९ को मृत्युमा न...          0\n",
       "...                                                 ...        ...\n",
       "3971          कोरोना महामारीमा जीवन बीमाको अग्निपरीक्षा          0\n",
       "3972               कोरोना महामारीले लाखौँको तरकारी नष्ट          0\n",
       "3973  कोरोना महामारी रोकथाम र नियन्त्रणका लागि यस्तो...          0\n",
       "3974  कोरोना महामारीको क्रममा अनुगमनमा निस्किए प्रदे...          0\n",
       "3975           कोरोनाको महामारीबीच सकियो बिस्केट जात्रा          0\n",
       "\n",
       "[13570 rows x 2 columns]"
      ]
     },
     "execution_count": 26,
     "metadata": {},
     "output_type": "execute_result"
    }
   ],
   "source": [
    "gt = pd.read_csv(\"googletrans_augmented_data.csv\").rename(columns={\"ne\":'text'})\n",
    "nt = pd.read_csv(\"aggregated_common_cleaned_cherry_picked.csv\")\n",
    "\n",
    "aug_data = pd.concat([gt,nt])[['text']].rename(columns={\"text\":'Sentences'})\n",
    "aug_data['Sentiment'] = np.zeros(aug_data.shape[0],dtype=np.int32)\n",
    "aug_data"
   ]
  },
  {
   "cell_type": "code",
   "execution_count": 27,
   "metadata": {},
   "outputs": [
    {
     "data": {
      "text/html": [
       "<div>\n",
       "<style scoped>\n",
       "    .dataframe tbody tr th:only-of-type {\n",
       "        vertical-align: middle;\n",
       "    }\n",
       "\n",
       "    .dataframe tbody tr th {\n",
       "        vertical-align: top;\n",
       "    }\n",
       "\n",
       "    .dataframe thead th {\n",
       "        text-align: right;\n",
       "    }\n",
       "</style>\n",
       "<table border=\"1\" class=\"dataframe\">\n",
       "  <thead>\n",
       "    <tr style=\"text-align: right;\">\n",
       "      <th></th>\n",
       "      <th>Sentiment</th>\n",
       "      <th>Sentences</th>\n",
       "    </tr>\n",
       "  </thead>\n",
       "  <tbody>\n",
       "    <tr>\n",
       "      <th>0</th>\n",
       "      <td>-1</td>\n",
       "      <td>अमेरिकामा कोभिड बाट एकै दिन चार हजारभन्दा बढीक...</td>\n",
       "    </tr>\n",
       "    <tr>\n",
       "      <th>1</th>\n",
       "      <td>-1</td>\n",
       "      <td>कोभिड का कारण विदेशमा रहेका नेपालीहरुमा मानसिक...</td>\n",
       "    </tr>\n",
       "    <tr>\n",
       "      <th>2</th>\n",
       "      <td>1</td>\n",
       "      <td>नेपालमा क्लोभर बायोफार्मास्युटिकल्स अस्ट्रेलिय...</td>\n",
       "    </tr>\n",
       "    <tr>\n",
       "      <th>3</th>\n",
       "      <td>0</td>\n",
       "      <td>कोभिड को खोप पनि लगाइयो</td>\n",
       "    </tr>\n",
       "    <tr>\n",
       "      <th>4</th>\n",
       "      <td>-1</td>\n",
       "      <td>अमेरिकामा कोभिड को नयाँ रेकर्ड एकै दिन हजारभन्...</td>\n",
       "    </tr>\n",
       "    <tr>\n",
       "      <th>...</th>\n",
       "      <td>...</td>\n",
       "      <td>...</td>\n",
       "    </tr>\n",
       "    <tr>\n",
       "      <th>3971</th>\n",
       "      <td>0</td>\n",
       "      <td>कोरोना महामारीमा जीवन बीमाको अग्निपरीक्षा</td>\n",
       "    </tr>\n",
       "    <tr>\n",
       "      <th>3972</th>\n",
       "      <td>0</td>\n",
       "      <td>कोरोना महामारीले लाखौँको तरकारी नष्ट</td>\n",
       "    </tr>\n",
       "    <tr>\n",
       "      <th>3973</th>\n",
       "      <td>0</td>\n",
       "      <td>कोरोना महामारी रोकथाम र नियन्त्रणका लागि यस्तो...</td>\n",
       "    </tr>\n",
       "    <tr>\n",
       "      <th>3974</th>\n",
       "      <td>0</td>\n",
       "      <td>कोरोना महामारीको क्रममा अनुगमनमा निस्किए प्रदे...</td>\n",
       "    </tr>\n",
       "    <tr>\n",
       "      <th>3975</th>\n",
       "      <td>0</td>\n",
       "      <td>कोरोनाको महामारीबीच सकियो बिस्केट जात्रा</td>\n",
       "    </tr>\n",
       "  </tbody>\n",
       "</table>\n",
       "<p>41550 rows × 2 columns</p>\n",
       "</div>"
      ],
      "text/plain": [
       "      Sentiment                                          Sentences\n",
       "0            -1  अमेरिकामा कोभिड बाट एकै दिन चार हजारभन्दा बढीक...\n",
       "1            -1  कोभिड का कारण विदेशमा रहेका नेपालीहरुमा मानसिक...\n",
       "2             1  नेपालमा क्लोभर बायोफार्मास्युटिकल्स अस्ट्रेलिय...\n",
       "3             0                            कोभिड को खोप पनि लगाइयो\n",
       "4            -1  अमेरिकामा कोभिड को नयाँ रेकर्ड एकै दिन हजारभन्...\n",
       "...         ...                                                ...\n",
       "3971          0          कोरोना महामारीमा जीवन बीमाको अग्निपरीक्षा\n",
       "3972          0               कोरोना महामारीले लाखौँको तरकारी नष्ट\n",
       "3973          0  कोरोना महामारी रोकथाम र नियन्त्रणका लागि यस्तो...\n",
       "3974          0  कोरोना महामारीको क्रममा अनुगमनमा निस्किए प्रदे...\n",
       "3975          0           कोरोनाको महामारीबीच सकियो बिस्केट जात्रा\n",
       "\n",
       "[41550 rows x 2 columns]"
      ]
     },
     "execution_count": 27,
     "metadata": {},
     "output_type": "execute_result"
    }
   ],
   "source": [
    "nepCov19Tweets_Augmented = pd.concat([cov19['train'].to_pandas(),aug_data])\n",
    "nepCov19Tweets_Augmented.drop_duplicates(inplace=True)\n",
    "nepCov19Tweets_Augmented"
   ]
  },
  {
   "cell_type": "code",
   "execution_count": 28,
   "metadata": {},
   "outputs": [
    {
     "data": {
      "text/plain": [
       " 1    14992\n",
       "-1    13600\n",
       " 0    12958\n",
       "Name: Sentiment, dtype: int64"
      ]
     },
     "execution_count": 28,
     "metadata": {},
     "output_type": "execute_result"
    }
   ],
   "source": [
    "nepCov19Tweets_Augmented['Sentiment'].value_counts()"
   ]
  },
  {
   "cell_type": "code",
   "execution_count": 29,
   "metadata": {},
   "outputs": [
    {
     "data": {
      "text/plain": [
       "Dataset({\n",
       "    features: ['Sentiment', 'Sentences'],\n",
       "    num_rows: 41550\n",
       "})"
      ]
     },
     "execution_count": 29,
     "metadata": {},
     "output_type": "execute_result"
    }
   ],
   "source": [
    "nepCov19Tweets_Augmented = datasets.Dataset.from_pandas(nepCov19Tweets_Augmented)\n",
    "nepCov19Tweets_Augmented = nepCov19Tweets_Augmented.remove_columns(['__index_level_0__'])\n",
    "nepCov19Tweets_Augmented"
   ]
  },
  {
   "cell_type": "code",
   "execution_count": 32,
   "metadata": {},
   "outputs": [
    {
     "data": {
      "application/vnd.jupyter.widget-view+json": {
       "model_id": "a74c20e6bb594ba4bdd7a83ce0d2cf97",
       "version_major": 2,
       "version_minor": 0
      },
      "text/plain": [
       "Saving the dataset (0/1 shards):   0%|          | 0/41550 [00:00<?, ? examples/s]"
      ]
     },
     "metadata": {},
     "output_type": "display_data"
    }
   ],
   "source": [
    "nepCov19Tweets_Augmented.save_to_disk(\"../data_dump/NepCov19TweetsPlus\")"
   ]
  },
  {
   "cell_type": "code",
   "execution_count": 34,
   "metadata": {},
   "outputs": [
    {
     "name": "stdout",
     "output_type": "stream",
     "text": [
      "Token will not been saved to git credential helper. Pass `add_to_git_credential=True` if you want to set the git credential as well.\n",
      "Token is valid.\n",
      "Your token has been saved to C:\\Users\\Dell\\.cache\\huggingface\\token\n",
      "Login successful\n"
     ]
    },
    {
     "data": {
      "text/plain": [
       "Dataset({\n",
       "    features: ['Sentiment', 'Sentences'],\n",
       "    num_rows: 41550\n",
       "})"
      ]
     },
     "execution_count": 34,
     "metadata": {},
     "output_type": "execute_result"
    }
   ],
   "source": [
    "from huggingface_hub import login\n",
    "login(token='')\n",
    "\n",
    "data = datasets.Dataset.load_from_disk(\"../data_dump/NepCov19TweetsPlus\")\n",
    "data"
   ]
  },
  {
   "cell_type": "code",
   "execution_count": 35,
   "metadata": {},
   "outputs": [
    {
     "data": {
      "application/vnd.jupyter.widget-view+json": {
       "model_id": "1394ea1c6c51493ab13f10f391ef5f3e",
       "version_major": 2,
       "version_minor": 0
      },
      "text/plain": [
       "Pushing dataset shards to the dataset hub:   0%|          | 0/1 [00:00<?, ?it/s]"
      ]
     },
     "metadata": {},
     "output_type": "display_data"
    },
    {
     "data": {
      "application/vnd.jupyter.widget-view+json": {
       "model_id": "8263f03fca4c424486bef835bc7e637c",
       "version_major": 2,
       "version_minor": 0
      },
      "text/plain": [
       "Creating parquet from Arrow format:   0%|          | 0/42 [00:00<?, ?ba/s]"
      ]
     },
     "metadata": {},
     "output_type": "display_data"
    },
    {
     "data": {
      "application/vnd.jupyter.widget-view+json": {
       "model_id": "6d63261420b84ef1b44457cebfde21d9",
       "version_major": 2,
       "version_minor": 0
      },
      "text/plain": [
       "Deleting unused files from dataset repository:   0%|          | 0/1 [00:00<?, ?it/s]"
      ]
     },
     "metadata": {},
     "output_type": "display_data"
    },
    {
     "name": "stderr",
     "output_type": "stream",
     "text": [
      "Updating downloaded metadata with the new split.\n"
     ]
    }
   ],
   "source": [
    "data.push_to_hub(\"raygx/NepCov19TweetsPlus\")"
   ]
  }
 ],
 "metadata": {
  "kernelspec": {
   "display_name": "base",
   "language": "python",
   "name": "python3"
  },
  "language_info": {
   "codemirror_mode": {
    "name": "ipython",
    "version": 3
   },
   "file_extension": ".py",
   "mimetype": "text/x-python",
   "name": "python",
   "nbconvert_exporter": "python",
   "pygments_lexer": "ipython3",
   "version": "3.9.13"
  },
  "orig_nbformat": 4
 },
 "nbformat": 4,
 "nbformat_minor": 2
}
