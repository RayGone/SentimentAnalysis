{
  "cells": [
    {
      "cell_type": "code",
      "execution_count": null,
      "metadata": {
        "id": "pzEaPBPnQjBT"
      },
      "outputs": [],
      "source": [
        "!pip install transformers tokenizers evaluate huggingface_hub --quiet\n",
        "\n",
        "import numpy as np\n",
        "from huggingface_hub import notebook_login\n",
        "# notebook_login()"
      ]
    },
    {
      "cell_type": "markdown",
      "metadata": {
        "id": "HgcWBEhe8aZt"
      },
      "source": [
        "# Loading Model and Tokenizer"
      ]
    },
    {
      "cell_type": "code",
      "execution_count": null,
      "metadata": {
        "colab": {
          "base_uri": "https://localhost:8080/"
        },
        "id": "MP3a46BsEcDu",
        "outputId": "af3f315a-cc39-4bce-a625-a3047d7287df"
      },
      "outputs": [
        {
          "output_type": "execute_result",
          "data": {
            "text/plain": [
              "PreTrainedTokenizerFast(name_or_path='raygx/GPT2-Nepali-Casual-LM', vocab_size=50000, model_max_length=1000000000000000019884624838656, is_fast=True, padding_side='right', truncation_side='right', special_tokens={'bos_token': '[CLS]', 'eos_token': '[SEP]', 'pad_token': '[PAD]'}, clean_up_tokenization_spaces=True)"
            ]
          },
          "metadata": {},
          "execution_count": 27
        }
      ],
      "source": [
        "from transformers import TFAutoModelForSequenceClassification, PreTrainedTokenizerFast\n",
        "import datasets\n",
        "\n",
        "tokenizer = PreTrainedTokenizerFast.from_pretrained('raygx/GPT2-Nepali-Casual-LM')\n",
        "tokenizer"
      ]
    },
    {
      "cell_type": "code",
      "execution_count": null,
      "metadata": {
        "colab": {
          "base_uri": "https://localhost:8080/"
        },
        "id": "MqsQ0xEvT4Do",
        "outputId": "a4ae87ed-93f7-44b1-c38f-b59da037a090"
      },
      "outputs": [
        {
          "output_type": "stream",
          "name": "stdout",
          "text": [
            "Loading Model 'distilbert-base-uncased\n"
          ]
        },
        {
          "output_type": "stream",
          "name": "stderr",
          "text": [
            "The tokenizer class you load from this checkpoint is not the same type as the class this function is called from. It may result in unexpected tokenization. \n",
            "The tokenizer class you load from this checkpoint is 'PreTrainedTokenizerFast'. \n",
            "The class this function is called from is 'BertTokenizerFast'.\n"
          ]
        },
        {
          "output_type": "stream",
          "name": "stdout",
          "text": [
            "DistilBertConfig {\n",
            "  \"_name_or_path\": \"distilbert-base-uncased\",\n",
            "  \"activation\": \"gelu\",\n",
            "  \"architectures\": [\n",
            "    \"DistilBertForMaskedLM\"\n",
            "  ],\n",
            "  \"attention_dropout\": 0.1,\n",
            "  \"bos_token_id\": 1,\n",
            "  \"dim\": 768,\n",
            "  \"dropout\": 0.1,\n",
            "  \"eos_token_id\": 2,\n",
            "  \"hidden_dim\": 3072,\n",
            "  \"id2label\": {\n",
            "    \"0\": \"NEUTRAL\",\n",
            "    \"1\": \"POSITIVE\",\n",
            "    \"2\": \"NEGATIVE\"\n",
            "  },\n",
            "  \"initializer_range\": 0.02,\n",
            "  \"label2id\": {\n",
            "    \"NEGATIVE\": 2,\n",
            "    \"NEUTRAL\": 0,\n",
            "    \"POSITIVE\": 1\n",
            "  },\n",
            "  \"max_position_embeddings\": 512,\n",
            "  \"model_type\": \"distilbert\",\n",
            "  \"n_heads\": 12,\n",
            "  \"n_layers\": 6,\n",
            "  \"pad_token_id\": 3,\n",
            "  \"qa_dropout\": 0.1,\n",
            "  \"seq_classif_dropout\": 0.2,\n",
            "  \"sinusoidal_pos_embds\": false,\n",
            "  \"tie_weights_\": true,\n",
            "  \"transformers_version\": \"4.29.2\",\n",
            "  \"vocab_size\": 50000\n",
            "}\n",
            "\n",
            "Model: \"tf_distil_bert_for_sequence_classification_1\"\n",
            "_________________________________________________________________\n",
            " Layer (type)                Output Shape              Param #   \n",
            "=================================================================\n",
            " distilbert (TFDistilBertMai  multiple                 81321984  \n",
            " nLayer)                                                         \n",
            "                                                                 \n",
            " pre_classifier (Dense)      multiple                  590592    \n",
            "                                                                 \n",
            " classifier (Dense)          multiple                  2307      \n",
            "                                                                 \n",
            " dropout_39 (Dropout)        multiple                  0         \n",
            "                                                                 \n",
            "=================================================================\n",
            "Total params: 81,914,883\n",
            "Trainable params: 81,914,883\n",
            "Non-trainable params: 0\n",
            "_________________________________________________________________\n",
            "None\n"
          ]
        }
      ],
      "source": [
        "from transformers import AutoConfig\n",
        "from transformers import BertTokenizerFast\n",
        "\n",
        "# print(\"Loading Model 'distilgpt2\")\n",
        "# using = 'gpt'\n",
        "# model = TFAutoModelForSequenceClassification.from_pretrained('distilgpt2',\n",
        "#                                     bos_token_id=tokenizer.bos_token_id,\n",
        "#                                     eos_token_id=tokenizer.eos_token_id,\n",
        "#                                     pad_token_id=tokenizer.pad_token_id,\n",
        "#                                     id2label={0:\"NEUTRAL\",1:\"POSITIVE\",2:\"NEGATIVE\"},\n",
        "#                                     label2id={\"NEUTRAL\":0,\"POSITIVE\":1,\"NEGATIVE\":2})\n",
        "\n",
        "  \n",
        "print(\"Loading Model 'distilbert-base-uncased\")\n",
        "using = 'bert'\n",
        "model = TFAutoModelForSequenceClassification.from_config(\n",
        "    AutoConfig.from_pretrained(\n",
        "        'distilbert-base-uncased',\n",
        "        bos_token_id=tokenizer.bos_token_id,\n",
        "        eos_token_id=tokenizer.eos_token_id,\n",
        "        pad_token_id=tokenizer.pad_token_id,\n",
        "        id2label={0:\"NEUTRAL\",1:\"POSITIVE\",2:\"NEGATIVE\"},\n",
        "        label2id={\"NEUTRAL\":0,\"POSITIVE\":1,\"NEGATIVE\":2}\n",
        "      )\n",
        "    )\n",
        "\n",
        "if using == 'bert':\n",
        "  tokenizer = BertTokenizerFast.from_pretrained(\"raygx/GPT2-Nepali-Casual-LM\")\n",
        "  \n",
        "model.resize_token_embeddings(len(tokenizer))\n",
        "print(model.config)\n",
        "print(model.summary())"
      ]
    },
    {
      "cell_type": "code",
      "execution_count": null,
      "metadata": {
        "colab": {
          "base_uri": "https://localhost:8080/"
        },
        "id": "1qXEbNQPxXum",
        "outputId": "ea6e3c54-d64e-46aa-c81a-d806debe8041"
      },
      "outputs": [
        {
          "output_type": "stream",
          "name": "stderr",
          "text": [
            "No loss specified in compile() - the model's internal loss computation will be used as the loss. Don't panic - this is a common way to train TensorFlow models in Transformers! To disable this behaviour please pass a loss argument, or explicitly pass `loss=None` if you do not want your model to compute a loss.\n"
          ]
        }
      ],
      "source": [
        "from transformers import create_optimizer, AdamWeightDecay\n",
        "import tensorflow as tf\n",
        "\n",
        "optimizer = AdamWeightDecay(learning_rate=9e-6, weight_decay_rate=0.009)\n",
        "model.compile(optimizer=optimizer)"
      ]
    },
    {
      "cell_type": "markdown",
      "metadata": {
        "id": "hnuFz81f8TS5"
      },
      "source": [
        "# Data Loading and Preparation"
      ]
    },
    {
      "cell_type": "code",
      "execution_count": null,
      "metadata": {
        "colab": {
          "base_uri": "https://localhost:8080/",
          "height": 193,
          "referenced_widgets": [
            "e6172a031f4d41c791883d9858aa6546",
            "a0dda8adcb734f3583c88041c2517f9c",
            "38d6d50a48a1458093a7cfc875b863d6",
            "87b9e8512a3c44c28080ca870344ca40",
            "25f276af0c7c4c52bb1a6122191b41f6",
            "70fc03cb1fa7454581654061af706a08",
            "360f1e6674de4695a4b8bf200d61e5e5",
            "b814443c6ca7433399f1799209e2e2c2",
            "a8971aaf7ef14feea1bc1111c6b57f6c",
            "525c911a56804d7aa87678b081a4185a",
            "ff7bec1cd5f34c7eba2721e7c4c81c87"
          ]
        },
        "id": "wBEwhF8EuD6d",
        "outputId": "26d88179-0b01-4ffa-c584-394cac2f89d3"
      },
      "outputs": [
        {
          "output_type": "stream",
          "name": "stderr",
          "text": [
            "WARNING:datasets.builder:Found cached dataset parquet (/root/.cache/huggingface/datasets/raygx___parquet/raygx--NepCov19Tweets-11ff376905985191/0.0.0/2a3b91fbd88a2c90d1dbbb32b460cf621d31bd5b05b934492fdef7d8d6f236ec)\n"
          ]
        },
        {
          "output_type": "display_data",
          "data": {
            "text/plain": [
              "  0%|          | 0/1 [00:00<?, ?it/s]"
            ],
            "application/vnd.jupyter.widget-view+json": {
              "version_major": 2,
              "version_minor": 0,
              "model_id": "e6172a031f4d41c791883d9858aa6546"
            }
          },
          "metadata": {}
        },
        {
          "output_type": "execute_result",
          "data": {
            "text/plain": [
              "DatasetDict({\n",
              "    train: Dataset({\n",
              "        features: ['labels', 'text'],\n",
              "        num_rows: 33471\n",
              "    })\n",
              "})"
            ]
          },
          "metadata": {},
          "execution_count": 30
        }
      ],
      "source": [
        "data = datasets.load_dataset(\"raygx/NepCov19Tweets\")\n",
        "data = data.rename_columns({\"Sentiment\":\"labels\",\"Sentences\":\"text\"})\n",
        "data"
      ]
    },
    {
      "cell_type": "code",
      "execution_count": null,
      "metadata": {
        "colab": {
          "base_uri": "https://localhost:8080/"
        },
        "id": "Ni1vde1RwFZI",
        "outputId": "455ce12b-4cdb-44a0-8f6e-7e6c26c4bdc3"
      },
      "outputs": [
        {
          "output_type": "stream",
          "name": "stderr",
          "text": [
            "WARNING:datasets.arrow_dataset:Loading cached shuffled indices for dataset at /root/.cache/huggingface/datasets/raygx___parquet/raygx--NepCov19Tweets-11ff376905985191/0.0.0/2a3b91fbd88a2c90d1dbbb32b460cf621d31bd5b05b934492fdef7d8d6f236ec/cache-35b248517b522968.arrow\n"
          ]
        },
        {
          "output_type": "execute_result",
          "data": {
            "text/plain": [
              "DatasetDict({\n",
              "    train: Dataset({\n",
              "        features: ['labels', 'text'],\n",
              "        num_rows: 30123\n",
              "    })\n",
              "    test: Dataset({\n",
              "        features: ['labels', 'text'],\n",
              "        num_rows: 3348\n",
              "    })\n",
              "})"
            ]
          },
          "metadata": {},
          "execution_count": 31
        }
      ],
      "source": [
        "data = data.shuffle(999)\n",
        "data = data['train'].train_test_split(test_size=0.1)\n",
        "data"
      ]
    },
    {
      "cell_type": "code",
      "execution_count": null,
      "metadata": {
        "colab": {
          "base_uri": "https://localhost:8080/",
          "height": 195,
          "referenced_widgets": [
            "f7c29c5491f04945b01a4b38a02d74cf",
            "ef453cb026dc44d48d00ec9b4cbe1d69",
            "6606a690bae4476a8170c44f6f310cb3",
            "c8138eecbb5c4b038179201afc958a1c",
            "898646829b5945a0adca47a87fc4524b",
            "9c01a8ce6add4885905ffda6eaf23c53",
            "6160ba7541a447d6a2a963cd05d5abda",
            "0a6389ba446c419e9e68599c78eb6576",
            "84bbd9ea5c2d4da38c96ae7f8f086efb",
            "f123e9a1bfdb416c836fff60b7525a7e",
            "c35e5127519d4019a3544e8852bd7e9b",
            "941daf53c3b5424bb4de2b010beafb68",
            "33563c235cd34dc48a3e286ad7d26668",
            "3cb27e5a7423456193c1e4da9824f292",
            "e6c10486bb31420db841bc8b7cacadaa",
            "6d8d14776de54563bdc9ee5c29965f73",
            "469d9e41ade049c8a5b58bb9ee9dc60a",
            "2e7334ab482b46368def2d3415037d2d",
            "68c68c4a65144563ada7f43b2d3fed2e",
            "8e675a3b83474f2e9c0b5f0740c067cd",
            "7a07fe21ee0f4b258b89f3fb44fde122",
            "438a6f9680a741f0a52eb28badf7bf94"
          ]
        },
        "id": "152_To_IvSl8",
        "outputId": "1c8dad23-476a-4017-d204-1164917fe684"
      },
      "outputs": [
        {
          "output_type": "display_data",
          "data": {
            "text/plain": [
              "Map (num_proc=4):   0%|          | 0/30123 [00:00<?, ? examples/s]"
            ],
            "application/vnd.jupyter.widget-view+json": {
              "version_major": 2,
              "version_minor": 0,
              "model_id": "f7c29c5491f04945b01a4b38a02d74cf"
            }
          },
          "metadata": {}
        },
        {
          "output_type": "display_data",
          "data": {
            "text/plain": [
              "Map (num_proc=4):   0%|          | 0/3348 [00:00<?, ? examples/s]"
            ],
            "application/vnd.jupyter.widget-view+json": {
              "version_major": 2,
              "version_minor": 0,
              "model_id": "941daf53c3b5424bb4de2b010beafb68"
            }
          },
          "metadata": {}
        },
        {
          "output_type": "stream",
          "name": "stdout",
          "text": [
            "DatasetDict({\n",
            "    train: Dataset({\n",
            "        features: ['labels', 'text'],\n",
            "        num_rows: 30123\n",
            "    })\n",
            "    test: Dataset({\n",
            "        features: ['labels', 'text'],\n",
            "        num_rows: 3348\n",
            "    })\n",
            "})\n"
          ]
        }
      ],
      "source": [
        "def prepareLabels(row):\n",
        "    if row['labels'] == -1:\n",
        "        row['labels'] = 2\n",
        "        \n",
        "    return row\n",
        "\n",
        "data = data.map(\n",
        "        prepareLabels,\n",
        "        num_proc=4)\n",
        "\n",
        "print(data)"
      ]
    },
    {
      "cell_type": "code",
      "execution_count": null,
      "metadata": {
        "colab": {
          "base_uri": "https://localhost:8080/",
          "height": 319,
          "referenced_widgets": [
            "216e9b516a404ec4b5bd005984a648ca",
            "8f55239377c24cf1b838baa8f770ece5",
            "f1a92e6781754101946f00f1b0ca5aff",
            "0634df33304b4b3eb3023ee02e1858b4",
            "84790d58656a4a65ab41093baff0931b",
            "a5437d36b605409fbe84a5bcc7a5acb4",
            "57c13b0099c8412084a7090151a6534c",
            "d6cbe1e70aa246b0a79551049dc6eb17",
            "971da474d0314ad78ba965f5d436db7f",
            "0a2247ada76c42779db9b6b4460df263",
            "4a201da2402c46268b7e2776740d599c",
            "5d0549b79d6044d3bdb9202336b68141",
            "4f3b3e712c7f40c59128c7c33b323b60",
            "4f03f386da1a4617b0e94fab1362131c",
            "e232d661c6f04f72a178ce9e999b9564",
            "fa2cb3df1f5243e6b17e9b25bdd96fbf",
            "248efcc84b9c415ea8f527cb6ef765d7",
            "757dac2b5b0b4d37a59039b46d1e8557",
            "1280d2f71823451a955ac39493a1d934",
            "261949db79ed47d08024223fab48bb08",
            "a8add09d44914dfaaac19057142fb015",
            "f230d233d9454753b756b1be5632fd97"
          ]
        },
        "id": "pphj-0bbwHVV",
        "outputId": "0a2d1bd0-4ba3-45ba-a8c2-57890481657d"
      },
      "outputs": [
        {
          "output_type": "stream",
          "name": "stdout",
          "text": [
            "Tokenizing the data\n"
          ]
        },
        {
          "output_type": "display_data",
          "data": {
            "text/plain": [
              "Map (num_proc=2):   0%|          | 0/30123 [00:00<?, ? examples/s]"
            ],
            "application/vnd.jupyter.widget-view+json": {
              "version_major": 2,
              "version_minor": 0,
              "model_id": "216e9b516a404ec4b5bd005984a648ca"
            }
          },
          "metadata": {}
        },
        {
          "output_type": "stream",
          "name": "stderr",
          "text": [
            "Asking to truncate to max_length but no maximum length is provided and the model has no predefined maximum length. Default to no truncation.\n",
            "Asking to truncate to max_length but no maximum length is provided and the model has no predefined maximum length. Default to no truncation.\n"
          ]
        },
        {
          "output_type": "display_data",
          "data": {
            "text/plain": [
              "Map (num_proc=2):   0%|          | 0/3348 [00:00<?, ? examples/s]"
            ],
            "application/vnd.jupyter.widget-view+json": {
              "version_major": 2,
              "version_minor": 0,
              "model_id": "5d0549b79d6044d3bdb9202336b68141"
            }
          },
          "metadata": {}
        },
        {
          "output_type": "stream",
          "name": "stderr",
          "text": [
            "Asking to truncate to max_length but no maximum length is provided and the model has no predefined maximum length. Default to no truncation.\n",
            "Asking to truncate to max_length but no maximum length is provided and the model has no predefined maximum length. Default to no truncation.\n"
          ]
        },
        {
          "output_type": "stream",
          "name": "stdout",
          "text": [
            "CPU times: user 486 ms, sys: 268 ms, total: 754 ms\n",
            "Wall time: 7.43 s\n"
          ]
        },
        {
          "output_type": "execute_result",
          "data": {
            "text/plain": [
              "DatasetDict({\n",
              "    train: Dataset({\n",
              "        features: ['input_ids', 'attention_mask', 'labels'],\n",
              "        num_rows: 30123\n",
              "    })\n",
              "    test: Dataset({\n",
              "        features: ['input_ids', 'attention_mask', 'labels'],\n",
              "        num_rows: 3348\n",
              "    })\n",
              "})"
            ]
          },
          "metadata": {},
          "execution_count": 33
        }
      ],
      "source": [
        "%%time\n",
        "\n",
        "def preprocess_function(rows):\n",
        "    return tokenizer(rows['text'],truncation=True)\n",
        "\n",
        "print(\"Tokenizing the data\")\n",
        "tokenized_inputs = data.map(\n",
        "    preprocess_function,\n",
        "    batched=True,\n",
        "    num_proc=2,\n",
        "    remove_columns=data[\"train\"].column_names,\n",
        ")\n",
        "tokenized_inputs = tokenized_inputs.remove_columns(['token_type_ids'])\n",
        "\n",
        "tokenized_inputs['train'] = tokenized_inputs['train'].add_column(\n",
        "    name=\"labels\",column=data['train']['labels']\n",
        ")\n",
        "tokenized_inputs['test'] = tokenized_inputs['test'].add_column(\n",
        "    name=\"labels\",column=data['test']['labels']\n",
        ")\n",
        "\n",
        "tokenized_inputs"
      ]
    },
    {
      "cell_type": "code",
      "execution_count": null,
      "metadata": {
        "id": "Y8O7gP7lwllC",
        "colab": {
          "base_uri": "https://localhost:8080/"
        },
        "outputId": "5bd647c6-38af-446c-d828-dda9e54eca22"
      },
      "outputs": [
        {
          "output_type": "stream",
          "name": "stdout",
          "text": [
            "{'labels': [0], 'text': ['कोभिड उपचारमा प्रभावकारी केही एन्टिभाइरलका लागि अनुमति दिने प्रक्रियामा छौँ']}\n",
            "[[1752, 6676, 2913, 623, 11791, 3709, 169, 2242, 352, 3046, 935, 4893, 3179]]\n",
            "['कोभिड उपचारमा प्रभावकारी केही एन्टिभाइरलका लागि अनुमति दिने प्रक्रियामा छौँ']\n"
          ]
        }
      ],
      "source": [
        "print(data['train'][:1])\n",
        "print(tokenized_inputs['train'][:1]['input_ids'])\n",
        "print(tokenizer.batch_decode(tokenized_inputs['train'][:1]['input_ids']))"
      ]
    },
    {
      "cell_type": "code",
      "execution_count": null,
      "metadata": {
        "id": "6pJ3aoiTwrmg",
        "colab": {
          "base_uri": "https://localhost:8080/"
        },
        "outputId": "9877fb36-920c-4b83-bca9-3741d7c6df5e"
      },
      "outputs": [
        {
          "output_type": "stream",
          "name": "stdout",
          "text": [
            "Initializing Data Collator\n"
          ]
        }
      ],
      "source": [
        "from transformers import DataCollatorWithPadding\n",
        "\n",
        "print(\"Initializing Data Collator\")\n",
        "data_collator = DataCollatorWithPadding(tokenizer=tokenizer, \n",
        "                                        max_length=128,\n",
        "                                        return_tensors=\"tf\")"
      ]
    },
    {
      "cell_type": "code",
      "execution_count": null,
      "metadata": {
        "id": "PyvdlNE1xPOa",
        "colab": {
          "base_uri": "https://localhost:8080/"
        },
        "outputId": "2c372dec-d105-4146-8b2d-287ba6b28f73"
      },
      "outputs": [
        {
          "output_type": "stream",
          "name": "stderr",
          "text": [
            "You're using a BertTokenizerFast tokenizer. Please note that with a fast tokenizer, using the `__call__` method is faster than using a method to encode the text followed by a call to the `pad` method to get a padded encoding.\n"
          ]
        },
        {
          "output_type": "stream",
          "name": "stdout",
          "text": [
            "Preparing Training and Testing sets to TRAIN the MODEL\n"
          ]
        },
        {
          "output_type": "stream",
          "name": "stderr",
          "text": [
            "/usr/local/lib/python3.10/dist-packages/transformers/tokenization_utils_base.py:2382: UserWarning: `max_length` is ignored when `padding`=`True` and there is no truncation strategy. To pad to max length, use `padding='max_length'`.\n",
            "  warnings.warn(\n"
          ]
        }
      ],
      "source": [
        "print(\"Preparing Training and Testing sets to TRAIN the MODEL\")\n",
        "tf_train_set = model.prepare_tf_dataset(\n",
        "    tokenized_inputs[\"train\"],\n",
        "    shuffle=True,\n",
        "    batch_size=16,\n",
        "    collate_fn=data_collator,\n",
        ")\n",
        "\n",
        "tf_test_set = model.prepare_tf_dataset(\n",
        "    tokenized_inputs[\"test\"],\n",
        "    shuffle=False,\n",
        "    batch_size=16,\n",
        "    collate_fn=data_collator,\n",
        ")"
      ]
    },
    {
      "cell_type": "markdown",
      "metadata": {
        "id": "7dO-qpCx7ei7"
      },
      "source": [
        "# Training and Evaluation"
      ]
    },
    {
      "cell_type": "markdown",
      "metadata": {
        "id": "gCu3xhJa7iDb"
      },
      "source": [
        "## Training **Batch 1**"
      ]
    },
    {
      "cell_type": "code",
      "execution_count": null,
      "metadata": {
        "id": "Npor23ZGxlU7",
        "colab": {
          "base_uri": "https://localhost:8080/"
        },
        "outputId": "5ade2e1f-65c1-4b2c-d27f-01bf2170afc0"
      },
      "outputs": [
        {
          "output_type": "stream",
          "name": "stdout",
          "text": [
            "Training the model\n",
            "Epoch 1/10\n",
            "1882/1882 [==============================] - 242s 118ms/step - loss: 0.8216 - val_loss: 0.7592\n",
            "Epoch 2/10\n",
            "1882/1882 [==============================] - 219s 116ms/step - loss: 0.6454 - val_loss: 0.7003\n",
            "Epoch 3/10\n",
            "1882/1882 [==============================] - 219s 117ms/step - loss: 0.5415 - val_loss: 0.6917\n",
            "Epoch 4/10\n",
            "1882/1882 [==============================] - 218s 116ms/step - loss: 0.4486 - val_loss: 0.7233\n",
            "Epoch 5/10\n",
            "1882/1882 [==============================] - 219s 116ms/step - loss: 0.3751 - val_loss: 0.7820\n",
            "Epoch 6/10\n",
            "1882/1882 [==============================] - 220s 117ms/step - loss: 0.3112 - val_loss: 0.8106\n",
            "Epoch 7/10\n",
            "1882/1882 [==============================] - 219s 116ms/step - loss: 0.2579 - val_loss: 0.9428\n",
            "Epoch 8/10\n",
            "1882/1882 [==============================] - 220s 117ms/step - loss: 0.2097 - val_loss: 1.1226\n",
            "Epoch 9/10\n",
            "1882/1882 [==============================] - 223s 119ms/step - loss: 0.1738 - val_loss: 1.2103\n",
            "Epoch 10/10\n",
            "1882/1882 [==============================] - 223s 118ms/step - loss: 0.1461 - val_loss: 1.2587\n",
            "{'loss': [0.8216366171836853, 0.6453580856323242, 0.5414814352989197, 0.4486006200313568, 0.3750675320625305, 0.3112369477748871, 0.2578548192977905, 0.20967833697795868, 0.17378972470760345, 0.1461029052734375], 'val_loss': [0.759204626083374, 0.7003449201583862, 0.6917327046394348, 0.7233397364616394, 0.7820225954055786, 0.8106112480163574, 0.9428322315216064, 1.1226203441619873, 1.2103086709976196, 1.2586822509765625]}\n",
            "CPU times: user 30min 18s, sys: 1min 12s, total: 31min 30s\n",
            "Wall time: 40min 29s\n"
          ]
        }
      ],
      "source": [
        "%%time\n",
        "\n",
        "n_epoch = 10\n",
        "print(\"Training the model\")\n",
        "history = model.fit(x=tf_train_set, \n",
        "          validation_data=tf_test_set,\n",
        "          epochs=n_epoch)\n",
        "print(history.history)"
      ]
    },
    {
      "cell_type": "code",
      "execution_count": null,
      "metadata": {
        "id": "4kBErfbpxp1-",
        "colab": {
          "base_uri": "https://localhost:8080/",
          "height": 448
        },
        "outputId": "e4ab84c8-f451-45a3-a56e-f916f01e82b2"
      },
      "outputs": [
        {
          "output_type": "execute_result",
          "data": {
            "text/plain": [
              "<Axes: >"
            ]
          },
          "metadata": {},
          "execution_count": 38
        },
        {
          "output_type": "display_data",
          "data": {
            "text/plain": [
              "<Figure size 640x480 with 1 Axes>"
            ],
            "image/png": "[encoded data removed]"
          },
          "metadata": {}
        }
      ],
      "source": [
        "import seaborn\n",
        "\n",
        "seaborn.lineplot(history.history['loss'])\n",
        "seaborn.lineplot(history.history['val_loss'])"
      ]
    },
    {
      "cell_type": "markdown",
      "metadata": {
        "id": "9a0BUyRc7rAr"
      },
      "source": [
        "### Evaluation"
      ]
    },
    {
      "cell_type": "code",
      "execution_count": null,
      "metadata": {
        "id": "aOlyjbE_030A",
        "colab": {
          "base_uri": "https://localhost:8080/"
        },
        "outputId": "e6ca23cc-3691-4e42-e85e-b2f554694d52"
      },
      "outputs": [
        {
          "output_type": "stream",
          "name": "stdout",
          "text": [
            "[2, 2, 2, 0, 2, 2, 0, 2, 2, 1, 1, 1, 0, 1, 2, 0, 1, 1, 2, 1, 2, 0, 2, 1, 0, 1, 0, 1, 1, 1, 0, 1, 2, 0, 2, 1, 2, 0, 1, 2, 2, 0, 1, 2, 2, 2, 1, 2, 2, 1, 2, 1, 1, 2, 2, 2, 2, 2, 1, 2, 0, 0, 0, 2, 1, 2, 2, 1, 2, 2, 0, 1, 1, 1, 1, 1, 2, 1, 2, 2, 2, 0, 2, 2, 2, 1, 1, 2, 1, 0, 0, 2, 1, 1, 2, 0, 2, 2, 1, 2, 1, 2, 1, 2, 2, 1, 1, 2, 2, 2, 1, 1, 1, 2, 1, 2, 1, 1, 2, 2, 1, 2, 1, 1, 0, 0, 2, 2, 2, 0, 2, 1, 1, 0, 0, 0, 1, 2, 2, 1, 1, 0, 2, 2, 1, 2, 1, 1, 2, 2, 1, 1, 1, 0, 2, 2, 1, 1, 1, 0, 1, 0, 2, 2, 1, 1, 1, 0, 0, 0, 1, 1, 0, 2, 1, 2, 1, 1, 1, 0, 2, 2, 2, 1, 2, 2, 2, 2, 2, 2, 0, 1, 0, 2, 1, 1, 1, 1, 2, 2, 2, 1, 2, 1, 0, 2, 2, 1, 2, 2, 2, 1, 1, 2, 1, 1, 2, 2, 2, 1, 1, 2, 2, 0, 1, 1, 2, 2, 1, 0, 1, 1, 2, 2, 1, 1, 1, 1, 1, 0, 1, 1, 1, 1, 2, 1, 1, 2, 2, 2, 0, 2, 2, 2, 1, 1, 2, 1, 2, 1, 2, 1, 1, 2, 0, 1, 1, 2, 2, 1, 2, 2, 2, 2, 1, 1, 2, 2, 2, 1, 1, 1, 2, 2, 2, 2, 2, 1, 2, 2, 2, 2, 1, 1, 0, 2, 1, 1, 1, 0, 1, 0, 2, 1, 1, 1, 1, 2, 1, 2, 2, 1, 2, 0, 1, 0, 1, 2, 2, 0, 2, 0, 2, 2, 2, 2, 2, 2, 1, 2, 0, 1, 1, 0, 2, 2, 2, 2, 2, 2, 1, 1, 1, 2, 2, 0, 2, 1, 2, 2, 2, 1, 1, 1, 1, 2, 1, 2, 2, 2, 1, 2, 1, 2, 2, 1, 2, 2, 2, 2, 2, 0, 2, 1, 2, 2, 1, 1, 2, 0, 2, 2, 2, 1, 2, 2, 2, 2, 2, 1, 2, 1, 2, 1, 2, 0, 2, 1, 1, 2, 2, 2, 0, 2, 1, 1, 2, 2, 1, 2, 1, 1, 1, 1, 2, 0, 0, 2, 1, 1, 2, 1, 0, 2, 2, 1, 1, 2, 1, 1, 1, 1, 1, 1, 2, 2, 2, 1, 1, 1, 0, 2, 2, 0, 1, 1, 1, 2, 2, 2, 2, 2, 0, 1, 2, 1, 2, 2, 2, 1, 1, 1, 1, 2, 0, 1, 1, 1, 0, 2, 0, 1, 0, 1, 2, 2, 2, 1, 0, 2, 1, 1, 1, 2, 1, 2, 2, 2, 1, 2, 1, 2, 1, 2, 2, 1, 1, 2, 1, 0, 1, 0, 2, 2, 2, 0, 0, 2, 1, 2, 2, 1, 2, 2, 1, 1, 1, 0, 1, 2, 2, 1, 0, 2, 1, 2, 0, 2, 1, 1, 2, 2, 0, 2, 2, 1, 2, 0, 1, 2, 1, 1, 1, 1, 2, 0, 2, 0, 2, 1, 1, 2, 2, 0, 2, 1, 2, 2, 2, 2, 1, 1, 2, 2, 1, 1, 0, 1, 1, 2, 1, 2, 2, 0, 0, 0, 0, 1, 2, 2, 1, 0, 2, 1, 2, 1, 2, 1, 2, 1, 1, 1, 1, 1, 1, 2, 0, 2, 1, 2, 2, 0, 2, 1, 1, 1, 1, 2, 2, 1, 2, 0, 2, 1, 1, 2, 0, 1, 1, 1, 1, 2, 2, 1, 2, 1, 1, 2, 2, 1, 0, 2, 1, 1, 1, 1, 2, 1, 2, 1, 1, 1, 2, 1, 1, 1, 1, 1, 2, 2, 0, 1, 1, 2, 1, 1, 1, 0, 2, 0, 2, 1, 2, 2, 1, 1, 0, 2, 2, 1, 2, 2, 1, 1, 0, 1, 0, 1, 2, 1, 2, 0, 2, 2, 2, 2, 2, 2, 1, 2, 2, 1, 2, 2, 1, 2, 1, 1, 2, 1, 1, 2, 1, 2, 2, 2, 0, 1, 1, 1, 2, 1, 2, 2, 2, 1, 2, 1, 1, 2, 1, 2, 2, 0, 2, 1, 2, 1, 2, 2, 1, 1, 0, 0, 1, 2, 0, 0, 2, 0, 2, 0, 2, 1, 2, 2, 2, 1, 0, 1, 1, 2, 0, 1, 1, 2, 2, 1, 0, 2, 1, 1, 2, 1, 2, 2, 1, 2, 2, 2, 1, 1, 2, 2, 0, 2, 2, 2, 1, 2, 1, 0, 0, 1, 2, 2, 2, 1, 1, 1, 2, 0, 1, 1, 2, 2, 1, 1, 1, 2, 2, 2, 0, 1, 1, 2, 1, 1, 2, 1, 1, 0, 1, 1, 1, 0, 1, 2, 2, 2, 1, 0, 2, 1, 2, 2, 2, 0, 2, 1, 2, 1, 2, 2, 2, 0, 0, 1, 0, 2, 1, 1, 2, 2, 2, 2, 0, 1, 0, 1, 2, 1, 1, 2, 1, 0, 1, 2, 2, 1, 1, 2, 2, 2, 2, 2, 2, 2, 1, 2, 2, 1, 0, 2, 2, 2, 2, 2, 1, 2, 2, 1, 1, 2, 2, 1, 1, 1, 2, 2, 2, 0, 1, 1, 2, 2, 2, 1, 2, 0, 0, 2, 2, 1, 2, 2, 2, 1, 2, 1, 1, 1, 2, 2, 2, 2, 2, 2, 1, 2, 2, 2, 2, 2, 2, 2, 2, 2, 1, 2, 2, 0, 1, 0, 2, 1, 1, 2, 2, 1, 1, 0, 1, 1, 2, 1, 1, 1, 1, 2, 1, 1, 2, 1, 2, 2, 1, 2, 1, 2, 2, 2, 1, 1, 0, 0, 2, 1, 2, 2, 0, 0, 0, 2, 1, 2, 1, 1, 1, 2, 2, 2, 2, 2, 2, 2, 2, 0, 0, 1, 1, 0, 0, 0, 1, 1, 2, 2, 2, 1, 2, 2, 1, 2, 1, 1, 2, 2, 2, 2, 1, 1, 2, 1, 2, 2, 2, 1, 1, 1, 1, 0, 1, 1, 1, 2, 2, 2, 2, 0, 1, 1, 0, 2, 2, 1, 1, 2, 0, 0, 1, 0, 2, 1, 1, 2, 2, 0, 2, 1, 1, 2, 1, 2, 2, 2, 1, 1, 2, 1, 1, 1, 2, 2, 2, 2, 1, 2, 1, 2, 1, 2, 2, 1, 1, 1, 1, 0, 2, 2, 1, 0, 1, 2, 2, 2, 2, 0, 1, 1, 1, 1, 2, 1, 2, 1, 2, 2, 1, 2, 1, 2, 0, 2, 2, 0, 0, 0, 1, 2, 2, 1, 2, 1, 0, 2, 1, 2, 1, 2, 1, 1, 1, 0, 0, 2, 2, 1, 2, 1, 2, 1, 1, 2, 2, 0, 1, 1, 0, 2, 2, 2, 2, 2, 2, 1, 2, 2, 2, 1, 2, 1, 1, 2, 2, 2, 1, 1, 1, 2, 1, 2, 2, 0, 1, 1, 2, 0, 0, 2, 2, 1, 2, 0, 2, 2, 1, 1, 1, 1, 1, 2, 2, 2, 2, 1, 1, 2, 2, 2, 2, 2, 2, 1, 1, 2, 1, 0, 1, 0, 2, 2, 1, 2, 2, 2, 1, 0, 1, 2, 1, 0, 1, 1, 2, 2, 0, 2, 2, 1, 1, 0, 2, 1, 2, 2, 1, 1, 0, 1, 1, 0, 0, 1, 2, 1, 2, 2, 0, 1, 1, 1, 1, 0, 2, 2, 1, 1, 0, 1, 2, 1, 2, 2, 0, 1, 1, 1, 1, 1, 0, 1, 0, 2, 1, 0, 0, 0, 2, 1, 1, 1, 2, 0, 1, 2, 1, 2, 2, 0, 2, 2, 0, 2, 2, 1, 0, 1, 1, 2, 1, 2, 2, 2, 2, 1, 1, 0, 2, 2, 2, 1, 2, 2, 2, 0, 2, 1, 2, 2, 1, 2, 2, 2, 1, 2, 2, 2, 2, 2, 1, 1, 1, 0, 1, 1, 2, 0, 0, 2, 1, 0, 0, 2, 2, 2, 1, 1, 2, 1, 2, 1, 1, 1, 1, 1, 2, 1, 1, 1, 2, 2, 1, 1, 2, 0, 0, 0, 2, 2, 1, 1, 1, 2, 2, 2, 0, 1, 1, 2, 0, 2, 1, 2, 0, 2, 0, 2, 1, 1, 0, 1, 1, 1, 1, 2, 2, 2, 1, 1, 2, 0, 2, 1, 2, 1, 1, 1, 2, 2, 1, 2, 2, 2, 0, 1, 1, 2, 0, 2, 2, 2, 2, 2, 2, 2, 1, 1, 1, 2, 0, 0, 1, 2, 2, 2, 2, 1, 1, 1, 1, 2, 1, 1, 1, 2, 0, 1, 2, 1, 1, 2, 2, 1, 2, 1, 0, 2, 2, 2, 1, 2, 2, 1, 1, 2, 1, 2, 2, 2, 1, 0, 2, 1, 1, 2, 1, 2, 1, 0, 1, 2, 2, 0, 2, 2, 2, 0, 2, 1, 1, 0, 0, 2, 1, 0, 2, 2, 0, 1, 2, 2, 2, 1, 2, 1, 2, 1, 2, 1, 2, 0, 1, 0, 1, 2, 2, 2, 0, 1, 2, 0, 2, 1, 1, 1, 1, 2, 2, 1, 0, 0, 2, 2, 1, 2, 2, 1, 1, 2, 2, 2, 0, 2, 2, 0, 1, 2, 1, 1, 2, 1, 0, 2, 1, 2, 1, 2, 1, 2, 2, 2, 1, 2, 2, 2, 2, 2, 0, 1, 1, 1, 0, 1, 2, 2, 2, 0, 1, 1, 0, 2, 1, 1, 2, 1, 2, 2, 1, 2, 1, 2, 2, 1, 1, 1, 2, 0, 2, 2, 0, 2, 2, 1, 1, 1, 2, 0, 2, 0, 2, 2, 2, 1, 2, 2, 2, 2, 2, 2, 2, 1, 1, 1, 2, 1, 2, 2, 1, 0, 1, 2, 1, 2, 2, 2, 2, 1, 2, 1, 1, 1, 2, 1, 1, 2, 2, 0, 1, 2, 1, 1, 1, 1, 0, 1, 1, 2, 2, 1, 2, 1, 1, 0, 0, 1, 1, 2, 1, 2, 1, 2, 0, 1, 1, 1, 1, 1, 0, 1, 0, 2, 1, 1, 0, 1, 1, 0, 1, 2, 2, 1, 2, 2, 1, 2, 1, 1, 2, 1, 0, 2, 1, 2, 2, 0, 2, 2, 1, 2, 0, 2, 1, 0, 2, 2, 1, 1, 2, 1, 1, 2, 2, 2, 1, 1, 2, 2, 1, 0, 0, 0, 1, 2, 2, 1, 0, 1, 1, 1, 1, 1, 0, 0, 2, 1, 2, 2, 1, 2, 1, 1, 1, 1, 1, 0, 2, 1, 0, 2, 1, 1, 1, 1, 2, 2, 1, 2, 0, 2, 2, 0, 0, 2, 1, 0, 2, 2, 2, 2, 2, 0, 1, 2, 2, 2, 2, 2, 2, 0, 1, 0, 1, 2, 2, 2, 0, 0, 0, 1, 1, 2, 2, 1, 2, 2, 2, 1, 2, 2, 1, 1, 0, 2, 0, 1, 2, 1, 0, 2, 1, 1, 1, 1, 2, 2, 1, 2, 0, 0, 0, 0, 0, 1, 2, 1, 2, 2, 2, 2, 2, 2, 1, 2, 0, 1, 1, 0, 0, 2, 2, 0, 2, 2, 2, 2, 0, 0, 2, 0, 0, 1, 2, 2, 2, 1, 2, 0, 2, 2, 2, 2, 2, 2, 0, 2, 0, 2, 2, 2, 1, 2, 1, 1, 1, 1, 2, 2, 0, 1, 1, 1, 2, 1, 2, 1, 1, 1, 1, 1, 2, 2, 2, 1, 1, 2, 2, 0, 2, 2, 2, 1, 2, 1, 2, 1, 1, 1, 1, 2, 0, 2, 1, 2, 1, 2, 1, 1, 1, 1, 2, 0, 2, 2, 0, 1, 1, 1, 1, 2, 2, 0, 2, 1, 0, 0, 2, 0, 2, 0, 1, 1, 1, 0, 1, 1, 2, 1, 1, 2, 2, 1, 2, 2, 1, 2, 0, 2, 1, 1, 1, 2, 1, 0, 2, 2, 1, 0, 2, 0, 2, 1, 1, 0, 0, 2, 2, 2, 2, 2, 2, 1, 1, 1, 1, 2, 1, 1, 2, 1, 2, 0, 2, 1, 2, 2, 2, 2, 0, 2, 1, 2, 1, 2, 1, 2, 1, 1, 2, 2, 0, 2, 2, 1, 2, 1, 0, 2, 1, 0, 2, 1, 1, 0, 2, 2, 2, 1, 0, 1, 2, 1, 2, 1, 1, 2, 2, 1, 1, 2, 2, 1, 1, 0, 1, 2, 1, 0, 2, 2, 2, 2, 1, 2, 0, 1, 1, 2, 0, 2, 0, 1, 2, 2, 1, 1, 2, 2, 1, 1, 2, 1, 1, 1, 1, 2, 2, 2, 2, 2, 2, 2, 2, 0, 0, 2, 1, 2, 2, 1, 2, 1, 2, 2, 1, 2, 0, 2, 0, 2, 2, 1, 1, 2, 2, 0, 2, 2, 2, 1, 2, 1, 2, 2, 2, 2, 1, 1, 1, 1, 1, 2, 2, 2, 2, 2, 1, 2, 2, 0, 1, 2, 1, 2, 1, 2, 2, 2, 0, 1, 1, 2, 2, 1, 1, 2, 1, 2, 2, 2, 2, 1, 2, 1, 0, 2, 1, 2, 2, 0, 1, 0, 2, 2, 0, 0, 2, 2, 2, 2, 1, 0, 1, 0, 2, 1, 1, 0, 0, 0, 2, 2, 0, 2, 1, 1, 1, 0, 2, 1, 1, 2, 1, 2, 0, 1, 2, 1, 2, 1, 1, 2, 0, 2, 2, 1, 1, 2, 1, 1, 2, 2, 1, 2, 2, 2, 2, 1, 2, 0, 2, 1, 2, 2, 1, 1, 2, 0, 2, 1, 1, 1, 2, 2, 2, 2, 0, 1, 1, 2, 2, 1, 2, 2, 2, 2, 2, 2, 1, 0, 2, 0, 1, 2, 2, 0, 1, 2, 2, 2, 1, 2, 2, 1, 2, 1, 1, 2, 2, 2, 1, 2, 1, 1, 1, 2, 1, 1, 1, 2, 2, 2, 2, 1, 2, 1, 1, 2, 0, 0, 2, 2, 1, 0, 0, 2, 2, 1, 1, 1, 0, 2, 2, 0, 2, 0, 2, 0, 2, 2, 2, 2, 2, 1, 1, 2, 1, 0, 2, 2, 2, 1, 2, 2, 1, 2, 2, 1, 2, 1, 1, 1, 2, 0, 2, 2, 2, 2, 2, 1, 2, 0, 2, 0, 2, 2, 0, 1, 1, 1, 0, 1, 2, 0, 2, 1, 2, 2, 0, 1, 2, 1, 2, 2, 2, 1, 2, 2, 0, 2, 0, 0, 2, 2, 1, 1, 2, 1, 1, 0, 0, 1, 1, 0, 1, 2, 1, 1, 2, 1, 0, 2, 1, 2, 1, 1, 1, 2, 2, 2, 1, 2, 2, 1, 2, 0, 2, 2, 1, 0, 1, 1, 2, 1, 0, 0, 1, 2, 1, 1, 1, 2, 2, 2, 2, 2, 2, 2, 2, 1, 0, 2, 1, 0, 0, 2, 0, 1, 0, 1, 1, 1, 0, 2, 2, 1, 1, 2, 1, 0, 0, 2, 2, 0, 0, 2, 1, 1, 0, 0, 2, 2, 1, 2, 2, 2, 1, 2, 2, 0, 2, 2, 1, 1, 1, 2, 2, 1, 2, 1, 2, 2, 2, 1, 2, 1, 0, 2, 0, 2, 2, 2, 0, 2, 1, 1, 2, 2, 0, 0, 2, 2, 0, 1, 2, 1, 1, 2, 1, 1, 0, 0, 1, 2, 2, 1, 1, 2, 2, 2, 2, 1, 1, 1, 0, 0, 2, 2, 1, 2, 2, 1, 2, 1, 2, 2, 1, 2, 2, 1, 1, 0, 2, 1, 2, 2, 2, 1, 1, 2, 0, 2, 1, 2, 1, 2, 1, 1, 1, 2, 0, 0, 1, 2, 2, 2, 1, 2, 0, 1, 2, 2, 1, 2, 1, 1, 2, 2, 0, 1, 2, 1, 2, 1, 0, 0, 1, 1, 0, 1, 2, 1, 0, 1, 0, 0, 1, 2, 1, 1, 0, 1, 0, 2, 2, 1, 2, 0, 2, 1, 2, 2, 2, 1, 1, 1, 0, 1, 0, 2, 0, 0, 2, 0, 2, 0, 1, 1, 0, 1, 1, 2, 2, 0, 2, 2, 1, 2, 1, 1, 1, 1, 0, 2, 2, 2, 2, 2, 0, 2, 1, 0, 0, 2, 0, 0, 2, 2, 1, 2, 0, 2, 1, 1, 2, 1, 2, 2, 2, 2, 1, 2, 2, 1, 1, 2, 2, 0, 1, 1, 2, 1, 2, 2, 2, 2, 2, 1, 2, 2, 2, 2, 2, 2, 2, 2, 1, 2, 2, 2, 1, 2, 2, 2, 2, 1, 1, 1, 2, 1, 1, 1, 1, 2, 2, 2, 0, 1, 2, 2, 0, 1, 1, 0, 1, 2, 2, 0, 1, 2, 1, 1, 1, 2, 2, 1, 2, 2, 1, 2, 2, 0, 1, 2, 2, 2, 1, 1, 0, 2, 1, 1, 1, 1, 2, 1, 1, 2, 2, 0, 2, 2, 1, 1, 1, 1, 2, 1, 1, 0, 1, 1, 2, 1, 2, 1, 2, 2, 2, 2, 1, 1, 1, 2, 2, 0, 2, 2, 2, 1, 2, 2, 2, 1, 2, 2, 2, 0, 0, 2, 1, 0, 2, 2, 0, 2, 2, 2, 0, 1, 2, 1, 2, 2, 1, 1, 1, 0, 1, 2, 1, 2, 2, 1, 2, 1, 2, 1, 0, 2, 1, 1, 1, 1, 2, 2, 1, 2, 2, 2, 1, 1, 1, 2, 1, 1, 0, 2, 2, 1, 1, 1, 1, 1, 2, 1, 2, 1, 0, 2, 1, 2, 1, 2, 0, 1, 2, 0, 1, 2, 0, 1, 2, 1, 2, 2, 2, 2, 1, 2, 2, 1, 1, 2, 1, 2, 2, 0, 1, 2, 2, 0, 2, 1, 1, 2, 0, 1, 1, 2, 1, 1, 2, 1, 1, 2, 1, 2, 2, 1, 1, 2, 2, 1, 1, 0, 2, 1, 1, 2, 0, 0, 0, 1, 2, 2, 2, 0, 1, 1, 1, 2, 1, 2, 2, 1, 1, 2, 0, 2, 2, 2, 1, 1, 0, 0, 2, 2, 1, 2, 1, 1, 2, 0, 2, 2, 1, 1, 1, 1, 1, 2, 2, 1, 0, 2, 1, 2, 2, 1, 1, 2, 1, 1, 1, 0, 2, 0, 2, 2, 0, 2, 2, 2, 0, 1, 2, 0, 2, 2, 1, 1, 2, 2, 0, 2, 1, 2, 1, 2, 1, 2, 2, 1, 2, 1, 2, 1, 1, 2, 2, 1, 2, 2, 2, 2, 0, 2, 0, 2, 2, 1, 2, 1, 1, 1, 1, 1, 0, 2, 1, 1, 2, 2, 2, 0, 1, 2, 2, 2, 1, 1, 1, 1, 0, 1, 0, 2, 2, 2, 2, 1, 1, 0, 2, 0, 2, 2, 2, 1, 2, 2, 2, 2, 2, 2, 2, 2, 0, 2, 2, 2, 2, 1, 1, 1, 1, 1, 2, 2, 2, 2, 2, 1, 2, 1, 1, 2, 1, 1, 1, 2, 2, 1, 2, 0, 1, 1, 2, 0, 1, 2, 1, 1, 1, 1, 1, 2, 1, 0, 1, 1, 1, 1, 1, 2, 2, 2, 1, 1, 1, 1, 1, 2, 2, 2, 2, 2, 1, 1, 2, 1, 2, 1, 0, 1, 0, 2, 2, 2, 2, 2, 0, 2, 0, 1, 2, 2, 1, 0, 2, 1, 1, 2, 1, 2, 2, 2, 1, 2, 2, 2, 0, 1, 2, 1, 0, 1, 2, 1, 2, 2, 0, 2, 2, 2, 1, 1, 2, 2, 1, 1, 2, 2, 1, 2, 2, 2, 2, 1, 2, 2, 2, 2, 2, 2, 1, 0, 2, 2, 0, 2, 0, 0, 1, 1, 2, 2, 1, 2, 2, 1, 2, 0, 0, 1, 0, 1, 1, 2, 1, 2, 1, 0, 1, 0, 2, 2, 2, 1, 1, 2, 2, 1, 2, 2, 2, 0, 2, 2, 1, 0, 2, 2, 1, 2, 0, 2, 1, 1, 2, 2, 1, 2, 1, 0, 2, 1, 1, 1, 2, 1, 2, 1, 1, 0, 2, 1, 0, 1, 2, 2, 2, 2, 1, 1, 1, 2, 1, 2, 2, 1, 1, 1, 2, 0, 2, 2, 2, 0, 1, 2, 1, 2, 1, 1, 1, 2, 1, 1, 2, 2, 1, 0, 2, 1, 0, 0, 2, 2, 1, 0, 1, 2, 0, 0, 2, 1, 1, 2, 2, 2, 0, 2, 2, 2, 2, 1, 1, 2, 2, 0, 2, 2, 1, 1, 1, 2, 0, 1, 0, 1, 1, 2, 2, 2, 2, 2]\n",
            "CPU times: user 6min 15s, sys: 1.31 s, total: 6min 16s\n",
            "Wall time: 6min 30s\n"
          ]
        }
      ],
      "source": [
        "%%time\n",
        "from transformers import pipeline, TextClassificationPipeline\n",
        "\n",
        "if using=='gpt':\n",
        "  print(\"Getting Test Prediction\")\n",
        "  pipe = pipeline('sentiment-analysis',model=model,tokenizer=tokenizer)\n",
        "  prediction = pipe(data['test']['text'])\n",
        "\n",
        "  print(\"Prediction Label to Id\")\n",
        "  pred_labels = [model.config.label2id[x['label']] for x in prediction]\n",
        "else:  \n",
        "  print(\"Getting Test Prediction\")\n",
        "  pred_labels = [np.argmax(tf.nn.softmax(model(tf.constant(x)).logits)) for x in tokenized_inputs['test']['input_ids']]\n",
        "\n",
        "actual_labels = data['test']['labels']"
      ]
    },
    {
      "cell_type": "markdown",
      "metadata": {
        "id": "U-ErdeQ69Bi1"
      },
      "source": [
        "**Computing F1-Score, Precision, Recall and Accuracy of the Model**"
      ]
    },
    {
      "cell_type": "code",
      "execution_count": null,
      "metadata": {
        "id": "wZOcUsi31COU",
        "colab": {
          "base_uri": "https://localhost:8080/"
        },
        "outputId": "8dc8f129-570c-42dd-bd30-95903176425e"
      },
      "outputs": [
        {
          "output_type": "stream",
          "name": "stdout",
          "text": [
            "F1-Score 0.6898669583521841\n",
            "Precision-Score 0.6968156381754053\n",
            "Recall-Score 0.6887694145758662\n",
            "accuracy_Score 0.6887694145758662\n"
          ]
        }
      ],
      "source": [
        "from sklearn.metrics import f1_score, precision_score, recall_score, accuracy_score\n",
        "\n",
        "print(\"F1-Score\",f1_score(actual_labels,pred_labels,average='weighted'))\n",
        "print(\"Precision-Score\",precision_score(actual_labels,pred_labels,average='weighted'))\n",
        "print(\"Recall-Score\",recall_score(actual_labels,pred_labels,average='weighted'))\n",
        "print(\"accuracy_Score\",accuracy_score(actual_labels,pred_labels))"
      ]
    },
    {
      "cell_type": "markdown",
      "metadata": {
        "id": "ElSP-aM086RT"
      },
      "source": [
        "**Plotting Confusion Matrix**"
      ]
    },
    {
      "cell_type": "code",
      "execution_count": null,
      "metadata": {
        "id": "f6503PQn1I5s",
        "colab": {
          "base_uri": "https://localhost:8080/",
          "height": 467
        },
        "outputId": "4070204d-c92e-4eb8-8ba2-a11e813f49a3"
      },
      "outputs": [
        {
          "output_type": "execute_result",
          "data": {
            "text/plain": [
              "<sklearn.metrics._plot.confusion_matrix.ConfusionMatrixDisplay at 0x7f87b9b02290>"
            ]
          },
          "metadata": {},
          "execution_count": 73
        },
        {
          "output_type": "display_data",
          "data": {
            "text/plain": [
              "<Figure size 640x480 with 2 Axes>"
            ],
            "image/png": "[encoded data removed]"
          },
          "metadata": {}
        }
      ],
      "source": [
        "from sklearn.metrics import ConfusionMatrixDisplay\n",
        "import matplotlib.pyplot as plt\n",
        "\n",
        "cmd = ConfusionMatrixDisplay(tf.math.confusion_matrix(actual_labels,pred_labels,num_classes=3).numpy())\n",
        "cmd.plot()"
      ]
    },
    {
      "cell_type": "markdown",
      "metadata": {
        "id": "gjfMo-eR8ynP"
      },
      "source": [
        "**Pushing Model to Huggingface Hub**"
      ]
    },
    {
      "cell_type": "code",
      "execution_count": null,
      "metadata": {
        "id": "e4_J9tnP1NbI"
      },
      "outputs": [],
      "source": [
        "### Pushing Model to hub\n",
        "model.push_to_hub(\"raygx/GPT2-NepSA-T1\",commit_message=\"Training From Scratch:Distilgpt2;3L6H:Batch 1:Epoch 10\",)"
      ]
    },
    {
      "cell_type": "markdown",
      "metadata": {
        "id": "Kb013VTA9Rxw"
      },
      "source": [
        "## Training **Batch 2**"
      ]
    },
    {
      "cell_type": "code",
      "execution_count": null,
      "metadata": {
        "id": "YBZ__Eg09Zz9",
        "colab": {
          "base_uri": "https://localhost:8080/"
        },
        "outputId": "0c8d78b3-be8e-4f1d-f268-972f06704aab"
      },
      "outputs": [
        {
          "output_type": "stream",
          "name": "stdout",
          "text": [
            "Training the model\n",
            "Epoch 1/5\n",
            "   1/1882 [..............................] - ETA: 5:52 - loss: 0.0197"
          ]
        },
        {
          "output_type": "stream",
          "name": "stderr",
          "text": [
            "/usr/local/lib/python3.10/dist-packages/transformers/tokenization_utils_base.py:2382: UserWarning: `max_length` is ignored when `padding`=`True` and there is no truncation strategy. To pad to max length, use `padding='max_length'`.\n",
            "  warnings.warn(\n"
          ]
        },
        {
          "output_type": "stream",
          "name": "stdout",
          "text": [
            "1882/1882 [==============================] - 222s 118ms/step - loss: 0.0551 - val_loss: 1.7056\n",
            "Epoch 2/5\n",
            "1882/1882 [==============================] - 225s 120ms/step - loss: 0.0489 - val_loss: 1.7997\n",
            "Epoch 3/5\n",
            "1882/1882 [==============================] - 221s 118ms/step - loss: 0.0452 - val_loss: 1.7263\n",
            "Epoch 4/5\n",
            "1882/1882 [==============================] - 222s 118ms/step - loss: 0.0385 - val_loss: 1.8973\n",
            "Epoch 5/5\n",
            "1882/1882 [==============================] - 224s 119ms/step - loss: 0.0357 - val_loss: 1.9011\n",
            "{'loss': [0.055088091641664505, 0.04892893508076668, 0.045164555311203, 0.03852160647511482, 0.035661980509757996], 'val_loss': [1.7055646181106567, 1.7996761798858643, 1.7262531518936157, 1.8973119258880615, 1.90109384059906]}\n",
            "CPU times: user 15min 36s, sys: 34.8 s, total: 16min 11s\n",
            "Wall time: 19min 51s\n"
          ]
        }
      ],
      "source": [
        "%%time\n",
        "n_epoch = 5 # I've actually run this twice, so it is 10 epochs\n",
        "print(\"Training the model\")\n",
        "history = model.fit(x=tf_train_set, \n",
        "          validation_data=tf_test_set,\n",
        "          epochs=n_epoch)\n",
        "print(history.history)"
      ]
    },
    {
      "cell_type": "code",
      "execution_count": null,
      "metadata": {
        "id": "yAHWRyG-9jfO",
        "colab": {
          "base_uri": "https://localhost:8080/",
          "height": 448
        },
        "outputId": "3561c007-7a12-4e05-fcda-e22d75f26f70"
      },
      "outputs": [
        {
          "output_type": "execute_result",
          "data": {
            "text/plain": [
              "<Axes: >"
            ]
          },
          "metadata": {},
          "execution_count": 83
        },
        {
          "output_type": "display_data",
          "data": {
            "text/plain": [
              "<Figure size 640x480 with 1 Axes>"
            ],
            "image/png": "[encoded data removed]"
          },
          "metadata": {}
        }
      ],
      "source": [
        "import seaborn\n",
        "\n",
        "seaborn.lineplot(history.history['loss'])\n",
        "seaborn.lineplot(history.history['val_loss'])"
      ]
    },
    {
      "cell_type": "markdown",
      "metadata": {
        "id": "H_jbB4V39np7"
      },
      "source": [
        "### Evaluation"
      ]
    },
    {
      "cell_type": "code",
      "execution_count": null,
      "metadata": {
        "id": "xFNaJoCs9qq9",
        "colab": {
          "base_uri": "https://localhost:8080/"
        },
        "outputId": "ec0248e1-86e2-47a6-d626-9b537de24f1e"
      },
      "outputs": [
        {
          "output_type": "stream",
          "name": "stdout",
          "text": [
            "Getting Test Prediction\n",
            "CPU times: user 6min 8s, sys: 1.4 s, total: 6min 9s\n",
            "Wall time: 6min 10s\n"
          ]
        }
      ],
      "source": [
        "%%time\n",
        "from transformers import pipeline, TextClassificationPipeline\n",
        "\n",
        "if using=='gpt':\n",
        "  print(\"Getting Test Prediction\")\n",
        "  pipe = pipeline('sentiment-analysis',model=model,tokenizer=tokenizer)\n",
        "  prediction = pipe(data['test']['text'])\n",
        "\n",
        "  print(\"Prediction Label to Id\")\n",
        "  pred_labels = [model.config.label2id[x['label']] for x in prediction]\n",
        "else:  \n",
        "  print(\"Getting Test Prediction\")\n",
        "  pred_labels = [np.argmax(tf.nn.softmax(model(tf.constant(x)).logits)) for x in tokenized_inputs['test']['input_ids']]\n",
        "\n",
        "actual_labels = data['test']['labels']"
      ]
    },
    {
      "cell_type": "markdown",
      "metadata": {
        "id": "Oox9lzSe90oR"
      },
      "source": [
        "**Computing F1-Score, Precision, Recall and Accuracy of the Model**"
      ]
    },
    {
      "cell_type": "code",
      "execution_count": null,
      "metadata": {
        "id": "GGvgnZZN90oU",
        "colab": {
          "base_uri": "https://localhost:8080/"
        },
        "outputId": "959d3164-1d78-4a6f-92ef-de0de9519d53"
      },
      "outputs": [
        {
          "output_type": "stream",
          "name": "stdout",
          "text": [
            "F1-Score 0.6836603053907604\n",
            "Precision-Score 0.6811617319268835\n",
            "Recall-Score 0.6893667861409797\n",
            "accuracy_Score 0.6893667861409797\n"
          ]
        }
      ],
      "source": [
        "from sklearn.metrics import f1_score, precision_score, recall_score, accuracy_score\n",
        "\n",
        "print(\"F1-Score\",f1_score(actual_labels,pred_labels,average='weighted'))\n",
        "print(\"Precision-Score\",precision_score(actual_labels,pred_labels,average='weighted'))\n",
        "print(\"Recall-Score\",recall_score(actual_labels,pred_labels,average='weighted'))\n",
        "print(\"accuracy_Score\",accuracy_score(actual_labels,pred_labels))"
      ]
    },
    {
      "cell_type": "markdown",
      "metadata": {
        "id": "aPW74b7P96dV"
      },
      "source": [
        "**Plotting Confusion Matrix**"
      ]
    },
    {
      "cell_type": "code",
      "execution_count": null,
      "metadata": {
        "id": "OJAyX_j-96dX",
        "colab": {
          "base_uri": "https://localhost:8080/",
          "height": 467
        },
        "outputId": "b2abbf5d-5ab4-4e42-a23c-aa99229c9891"
      },
      "outputs": [
        {
          "output_type": "execute_result",
          "data": {
            "text/plain": [
              "<sklearn.metrics._plot.confusion_matrix.ConfusionMatrixDisplay at 0x7f87b9c9aa70>"
            ]
          },
          "metadata": {},
          "execution_count": 86
        },
        {
          "output_type": "display_data",
          "data": {
            "text/plain": [
              "<Figure size 640x480 with 2 Axes>"
            ],
            "image/png": "[encoded data removed]"
          },
          "metadata": {}
        }
      ],
      "source": [
        "from sklearn.metrics import ConfusionMatrixDisplay\n",
        "import matplotlib.pyplot as plt\n",
        "\n",
        "cmd = ConfusionMatrixDisplay(tf.math.confusion_matrix(actual_labels,pred_labels,num_classes=3).numpy())\n",
        "cmd.plot()"
      ]
    },
    {
      "cell_type": "markdown",
      "metadata": {
        "id": "Sqzuk0uX96da"
      },
      "source": [
        "**Pushing Model to Huggingface Hub**"
      ]
    },
    {
      "cell_type": "code",
      "execution_count": null,
      "metadata": {
        "id": "xVFD3l1WYedT"
      },
      "outputs": [],
      "source": [
        "# tokenizer.push_to_hub(\"raygx/GPT2-NepSA-T1\")"
      ]
    },
    {
      "cell_type": "code",
      "execution_count": null,
      "metadata": {
        "id": "uWRnd1MX96db"
      },
      "outputs": [],
      "source": [
        "### Pushing Model to hub\n",
        "# model.push_to_hub(\"raygx/GPT2-NepSA-T1\",commit_message=\"Training From Scratch:Distilgpt2;3L6H:Batch 2:Epoch 5\")"
      ]
    }
  ],
  "metadata": {
    "accelerator": "GPU",
    "colab": {
      "provenance": []
    },
    "gpuClass": "standard",
    "kernelspec": {
      "display_name": "Python 3",
      "name": "python3"
    },
    "language_info": {
      "name": "python"
    },
    "widgets": {
      "application/vnd.jupyter.widget-state+json": {
        "e6172a031f4d41c791883d9858aa6546": {
          "model_module": "@jupyter-widgets/controls",
          "model_name": "HBoxModel",
          "model_module_version": "1.5.0",
          "state": {
            "_dom_classes": [],
            "_model_module": "@jupyter-widgets/controls",
            "_model_module_version": "1.5.0",
            "_model_name": "HBoxModel",
            "_view_count": null,
            "_view_module": "@jupyter-widgets/controls",
            "_view_module_version": "1.5.0",
            "_view_name": "HBoxView",
            "box_style": "",
            "children": [
              "IPY_MODEL_a0dda8adcb734f3583c88041c2517f9c",
              "IPY_MODEL_38d6d50a48a1458093a7cfc875b863d6",
              "IPY_MODEL_87b9e8512a3c44c28080ca870344ca40"
            ],
            "layout": "IPY_MODEL_25f276af0c7c4c52bb1a6122191b41f6"
          }
        },
        "a0dda8adcb734f3583c88041c2517f9c": {
          "model_module": "@jupyter-widgets/controls",
          "model_name": "HTMLModel",
          "model_module_version": "1.5.0",
          "state": {
            "_dom_classes": [],
            "_model_module": "@jupyter-widgets/controls",
            "_model_module_version": "1.5.0",
            "_model_name": "HTMLModel",
            "_view_count": null,
            "_view_module": "@jupyter-widgets/controls",
            "_view_module_version": "1.5.0",
            "_view_name": "HTMLView",
            "description": "",
            "description_tooltip": null,
            "layout": "IPY_MODEL_70fc03cb1fa7454581654061af706a08",
            "placeholder": "​",
            "style": "IPY_MODEL_360f1e6674de4695a4b8bf200d61e5e5",
            "value": "100%"
          }
        },
        "38d6d50a48a1458093a7cfc875b863d6": {
          "model_module": "@jupyter-widgets/controls",
          "model_name": "FloatProgressModel",
          "model_module_version": "1.5.0",
          "state": {
            "_dom_classes": [],
            "_model_module": "@jupyter-widgets/controls",
            "_model_module_version": "1.5.0",
            "_model_name": "FloatProgressModel",
            "_view_count": null,
            "_view_module": "@jupyter-widgets/controls",
            "_view_module_version": "1.5.0",
            "_view_name": "ProgressView",
            "bar_style": "success",
            "description": "",
            "description_tooltip": null,
            "layout": "IPY_MODEL_b814443c6ca7433399f1799209e2e2c2",
            "max": 1,
            "min": 0,
            "orientation": "horizontal",
            "style": "IPY_MODEL_a8971aaf7ef14feea1bc1111c6b57f6c",
            "value": 1
          }
        },
        "87b9e8512a3c44c28080ca870344ca40": {
          "model_module": "@jupyter-widgets/controls",
          "model_name": "HTMLModel",
          "model_module_version": "1.5.0",
          "state": {
            "_dom_classes": [],
            "_model_module": "@jupyter-widgets/controls",
            "_model_module_version": "1.5.0",
            "_model_name": "HTMLModel",
            "_view_count": null,
            "_view_module": "@jupyter-widgets/controls",
            "_view_module_version": "1.5.0",
            "_view_name": "HTMLView",
            "description": "",
            "description_tooltip": null,
            "layout": "IPY_MODEL_525c911a56804d7aa87678b081a4185a",
            "placeholder": "​",
            "style": "IPY_MODEL_ff7bec1cd5f34c7eba2721e7c4c81c87",
            "value": " 1/1 [00:00&lt;00:00, 33.11it/s]"
          }
        },
        "25f276af0c7c4c52bb1a6122191b41f6": {
          "model_module": "@jupyter-widgets/base",
          "model_name": "LayoutModel",
          "model_module_version": "1.2.0",
          "state": {
            "_model_module": "@jupyter-widgets/base",
            "_model_module_version": "1.2.0",
            "_model_name": "LayoutModel",
            "_view_count": null,
            "_view_module": "@jupyter-widgets/base",
            "_view_module_version": "1.2.0",
            "_view_name": "LayoutView",
            "align_content": null,
            "align_items": null,
            "align_self": null,
            "border": null,
            "bottom": null,
            "display": null,
            "flex": null,
            "flex_flow": null,
            "grid_area": null,
            "grid_auto_columns": null,
            "grid_auto_flow": null,
            "grid_auto_rows": null,
            "grid_column": null,
            "grid_gap": null,
            "grid_row": null,
            "grid_template_areas": null,
            "grid_template_columns": null,
            "grid_template_rows": null,
            "height": null,
            "justify_content": null,
            "justify_items": null,
            "left": null,
            "margin": null,
            "max_height": null,
            "max_width": null,
            "min_height": null,
            "min_width": null,
            "object_fit": null,
            "object_position": null,
            "order": null,
            "overflow": null,
            "overflow_x": null,
            "overflow_y": null,
            "padding": null,
            "right": null,
            "top": null,
            "visibility": null,
            "width": null
          }
        },
        "70fc03cb1fa7454581654061af706a08": {
          "model_module": "@jupyter-widgets/base",
          "model_name": "LayoutModel",
          "model_module_version": "1.2.0",
          "state": {
            "_model_module": "@jupyter-widgets/base",
            "_model_module_version": "1.2.0",
            "_model_name": "LayoutModel",
            "_view_count": null,
            "_view_module": "@jupyter-widgets/base",
            "_view_module_version": "1.2.0",
            "_view_name": "LayoutView",
            "align_content": null,
            "align_items": null,
            "align_self": null,
            "border": null,
            "bottom": null,
            "display": null,
            "flex": null,
            "flex_flow": null,
            "grid_area": null,
            "grid_auto_columns": null,
            "grid_auto_flow": null,
            "grid_auto_rows": null,
            "grid_column": null,
            "grid_gap": null,
            "grid_row": null,
            "grid_template_areas": null,
            "grid_template_columns": null,
            "grid_template_rows": null,
            "height": null,
            "justify_content": null,
            "justify_items": null,
            "left": null,
            "margin": null,
            "max_height": null,
            "max_width": null,
            "min_height": null,
            "min_width": null,
            "object_fit": null,
            "object_position": null,
            "order": null,
            "overflow": null,
            "overflow_x": null,
            "overflow_y": null,
            "padding": null,
            "right": null,
            "top": null,
            "visibility": null,
            "width": null
          }
        },
        "360f1e6674de4695a4b8bf200d61e5e5": {
          "model_module": "@jupyter-widgets/controls",
          "model_name": "DescriptionStyleModel",
          "model_module_version": "1.5.0",
          "state": {
            "_model_module": "@jupyter-widgets/controls",
            "_model_module_version": "1.5.0",
            "_model_name": "DescriptionStyleModel",
            "_view_count": null,
            "_view_module": "@jupyter-widgets/base",
            "_view_module_version": "1.2.0",
            "_view_name": "StyleView",
            "description_width": ""
          }
        },
        "b814443c6ca7433399f1799209e2e2c2": {
          "model_module": "@jupyter-widgets/base",
          "model_name": "LayoutModel",
          "model_module_version": "1.2.0",
          "state": {
            "_model_module": "@jupyter-widgets/base",
            "_model_module_version": "1.2.0",
            "_model_name": "LayoutModel",
            "_view_count": null,
            "_view_module": "@jupyter-widgets/base",
            "_view_module_version": "1.2.0",
            "_view_name": "LayoutView",
            "align_content": null,
            "align_items": null,
            "align_self": null,
            "border": null,
            "bottom": null,
            "display": null,
            "flex": null,
            "flex_flow": null,
            "grid_area": null,
            "grid_auto_columns": null,
            "grid_auto_flow": null,
            "grid_auto_rows": null,
            "grid_column": null,
            "grid_gap": null,
            "grid_row": null,
            "grid_template_areas": null,
            "grid_template_columns": null,
            "grid_template_rows": null,
            "height": null,
            "justify_content": null,
            "justify_items": null,
            "left": null,
            "margin": null,
            "max_height": null,
            "max_width": null,
            "min_height": null,
            "min_width": null,
            "object_fit": null,
            "object_position": null,
            "order": null,
            "overflow": null,
            "overflow_x": null,
            "overflow_y": null,
            "padding": null,
            "right": null,
            "top": null,
            "visibility": null,
            "width": null
          }
        },
        "a8971aaf7ef14feea1bc1111c6b57f6c": {
          "model_module": "@jupyter-widgets/controls",
          "model_name": "ProgressStyleModel",
          "model_module_version": "1.5.0",
          "state": {
            "_model_module": "@jupyter-widgets/controls",
            "_model_module_version": "1.5.0",
            "_model_name": "ProgressStyleModel",
            "_view_count": null,
            "_view_module": "@jupyter-widgets/base",
            "_view_module_version": "1.2.0",
            "_view_name": "StyleView",
            "bar_color": null,
            "description_width": ""
          }
        },
        "525c911a56804d7aa87678b081a4185a": {
          "model_module": "@jupyter-widgets/base",
          "model_name": "LayoutModel",
          "model_module_version": "1.2.0",
          "state": {
            "_model_module": "@jupyter-widgets/base",
            "_model_module_version": "1.2.0",
            "_model_name": "LayoutModel",
            "_view_count": null,
            "_view_module": "@jupyter-widgets/base",
            "_view_module_version": "1.2.0",
            "_view_name": "LayoutView",
            "align_content": null,
            "align_items": null,
            "align_self": null,
            "border": null,
            "bottom": null,
            "display": null,
            "flex": null,
            "flex_flow": null,
            "grid_area": null,
            "grid_auto_columns": null,
            "grid_auto_flow": null,
            "grid_auto_rows": null,
            "grid_column": null,
            "grid_gap": null,
            "grid_row": null,
            "grid_template_areas": null,
            "grid_template_columns": null,
            "grid_template_rows": null,
            "height": null,
            "justify_content": null,
            "justify_items": null,
            "left": null,
            "margin": null,
            "max_height": null,
            "max_width": null,
            "min_height": null,
            "min_width": null,
            "object_fit": null,
            "object_position": null,
            "order": null,
            "overflow": null,
            "overflow_x": null,
            "overflow_y": null,
            "padding": null,
            "right": null,
            "top": null,
            "visibility": null,
            "width": null
          }
        },
        "ff7bec1cd5f34c7eba2721e7c4c81c87": {
          "model_module": "@jupyter-widgets/controls",
          "model_name": "DescriptionStyleModel",
          "model_module_version": "1.5.0",
          "state": {
            "_model_module": "@jupyter-widgets/controls",
            "_model_module_version": "1.5.0",
            "_model_name": "DescriptionStyleModel",
            "_view_count": null,
            "_view_module": "@jupyter-widgets/base",
            "_view_module_version": "1.2.0",
            "_view_name": "StyleView",
            "description_width": ""
          }
        },
        "f7c29c5491f04945b01a4b38a02d74cf": {
          "model_module": "@jupyter-widgets/controls",
          "model_name": "HBoxModel",
          "model_module_version": "1.5.0",
          "state": {
            "_dom_classes": [],
            "_model_module": "@jupyter-widgets/controls",
            "_model_module_version": "1.5.0",
            "_model_name": "HBoxModel",
            "_view_count": null,
            "_view_module": "@jupyter-widgets/controls",
            "_view_module_version": "1.5.0",
            "_view_name": "HBoxView",
            "box_style": "",
            "children": [
              "IPY_MODEL_ef453cb026dc44d48d00ec9b4cbe1d69",
              "IPY_MODEL_6606a690bae4476a8170c44f6f310cb3",
              "IPY_MODEL_c8138eecbb5c4b038179201afc958a1c"
            ],
            "layout": "IPY_MODEL_898646829b5945a0adca47a87fc4524b"
          }
        },
        "ef453cb026dc44d48d00ec9b4cbe1d69": {
          "model_module": "@jupyter-widgets/controls",
          "model_name": "HTMLModel",
          "model_module_version": "1.5.0",
          "state": {
            "_dom_classes": [],
            "_model_module": "@jupyter-widgets/controls",
            "_model_module_version": "1.5.0",
            "_model_name": "HTMLModel",
            "_view_count": null,
            "_view_module": "@jupyter-widgets/controls",
            "_view_module_version": "1.5.0",
            "_view_name": "HTMLView",
            "description": "",
            "description_tooltip": null,
            "layout": "IPY_MODEL_9c01a8ce6add4885905ffda6eaf23c53",
            "placeholder": "​",
            "style": "IPY_MODEL_6160ba7541a447d6a2a963cd05d5abda",
            "value": "Map (num_proc=4):  97%"
          }
        },
        "6606a690bae4476a8170c44f6f310cb3": {
          "model_module": "@jupyter-widgets/controls",
          "model_name": "FloatProgressModel",
          "model_module_version": "1.5.0",
          "state": {
            "_dom_classes": [],
            "_model_module": "@jupyter-widgets/controls",
            "_model_module_version": "1.5.0",
            "_model_name": "FloatProgressModel",
            "_view_count": null,
            "_view_module": "@jupyter-widgets/controls",
            "_view_module_version": "1.5.0",
            "_view_name": "ProgressView",
            "bar_style": "",
            "description": "",
            "description_tooltip": null,
            "layout": "IPY_MODEL_0a6389ba446c419e9e68599c78eb6576",
            "max": 30123,
            "min": 0,
            "orientation": "horizontal",
            "style": "IPY_MODEL_84bbd9ea5c2d4da38c96ae7f8f086efb",
            "value": 30123
          }
        },
        "c8138eecbb5c4b038179201afc958a1c": {
          "model_module": "@jupyter-widgets/controls",
          "model_name": "HTMLModel",
          "model_module_version": "1.5.0",
          "state": {
            "_dom_classes": [],
            "_model_module": "@jupyter-widgets/controls",
            "_model_module_version": "1.5.0",
            "_model_name": "HTMLModel",
            "_view_count": null,
            "_view_module": "@jupyter-widgets/controls",
            "_view_module_version": "1.5.0",
            "_view_name": "HTMLView",
            "description": "",
            "description_tooltip": null,
            "layout": "IPY_MODEL_f123e9a1bfdb416c836fff60b7525a7e",
            "placeholder": "​",
            "style": "IPY_MODEL_c35e5127519d4019a3544e8852bd7e9b",
            "value": " 29255/30123 [00:02&lt;00:00, 11272.06 examples/s]"
          }
        },
        "898646829b5945a0adca47a87fc4524b": {
          "model_module": "@jupyter-widgets/base",
          "model_name": "LayoutModel",
          "model_module_version": "1.2.0",
          "state": {
            "_model_module": "@jupyter-widgets/base",
            "_model_module_version": "1.2.0",
            "_model_name": "LayoutModel",
            "_view_count": null,
            "_view_module": "@jupyter-widgets/base",
            "_view_module_version": "1.2.0",
            "_view_name": "LayoutView",
            "align_content": null,
            "align_items": null,
            "align_self": null,
            "border": null,
            "bottom": null,
            "display": null,
            "flex": null,
            "flex_flow": null,
            "grid_area": null,
            "grid_auto_columns": null,
            "grid_auto_flow": null,
            "grid_auto_rows": null,
            "grid_column": null,
            "grid_gap": null,
            "grid_row": null,
            "grid_template_areas": null,
            "grid_template_columns": null,
            "grid_template_rows": null,
            "height": null,
            "justify_content": null,
            "justify_items": null,
            "left": null,
            "margin": null,
            "max_height": null,
            "max_width": null,
            "min_height": null,
            "min_width": null,
            "object_fit": null,
            "object_position": null,
            "order": null,
            "overflow": null,
            "overflow_x": null,
            "overflow_y": null,
            "padding": null,
            "right": null,
            "top": null,
            "visibility": "hidden",
            "width": null
          }
        },
        "9c01a8ce6add4885905ffda6eaf23c53": {
          "model_module": "@jupyter-widgets/base",
          "model_name": "LayoutModel",
          "model_module_version": "1.2.0",
          "state": {
            "_model_module": "@jupyter-widgets/base",
            "_model_module_version": "1.2.0",
            "_model_name": "LayoutModel",
            "_view_count": null,
            "_view_module": "@jupyter-widgets/base",
            "_view_module_version": "1.2.0",
            "_view_name": "LayoutView",
            "align_content": null,
            "align_items": null,
            "align_self": null,
            "border": null,
            "bottom": null,
            "display": null,
            "flex": null,
            "flex_flow": null,
            "grid_area": null,
            "grid_auto_columns": null,
            "grid_auto_flow": null,
            "grid_auto_rows": null,
            "grid_column": null,
            "grid_gap": null,
            "grid_row": null,
            "grid_template_areas": null,
            "grid_template_columns": null,
            "grid_template_rows": null,
            "height": null,
            "justify_content": null,
            "justify_items": null,
            "left": null,
            "margin": null,
            "max_height": null,
            "max_width": null,
            "min_height": null,
            "min_width": null,
            "object_fit": null,
            "object_position": null,
            "order": null,
            "overflow": null,
            "overflow_x": null,
            "overflow_y": null,
            "padding": null,
            "right": null,
            "top": null,
            "visibility": null,
            "width": null
          }
        },
        "6160ba7541a447d6a2a963cd05d5abda": {
          "model_module": "@jupyter-widgets/controls",
          "model_name": "DescriptionStyleModel",
          "model_module_version": "1.5.0",
          "state": {
            "_model_module": "@jupyter-widgets/controls",
            "_model_module_version": "1.5.0",
            "_model_name": "DescriptionStyleModel",
            "_view_count": null,
            "_view_module": "@jupyter-widgets/base",
            "_view_module_version": "1.2.0",
            "_view_name": "StyleView",
            "description_width": ""
          }
        },
        "0a6389ba446c419e9e68599c78eb6576": {
          "model_module": "@jupyter-widgets/base",
          "model_name": "LayoutModel",
          "model_module_version": "1.2.0",
          "state": {
            "_model_module": "@jupyter-widgets/base",
            "_model_module_version": "1.2.0",
            "_model_name": "LayoutModel",
            "_view_count": null,
            "_view_module": "@jupyter-widgets/base",
            "_view_module_version": "1.2.0",
            "_view_name": "LayoutView",
            "align_content": null,
            "align_items": null,
            "align_self": null,
            "border": null,
            "bottom": null,
            "display": null,
            "flex": null,
            "flex_flow": null,
            "grid_area": null,
            "grid_auto_columns": null,
            "grid_auto_flow": null,
            "grid_auto_rows": null,
            "grid_column": null,
            "grid_gap": null,
            "grid_row": null,
            "grid_template_areas": null,
            "grid_template_columns": null,
            "grid_template_rows": null,
            "height": null,
            "justify_content": null,
            "justify_items": null,
            "left": null,
            "margin": null,
            "max_height": null,
            "max_width": null,
            "min_height": null,
            "min_width": null,
            "object_fit": null,
            "object_position": null,
            "order": null,
            "overflow": null,
            "overflow_x": null,
            "overflow_y": null,
            "padding": null,
            "right": null,
            "top": null,
            "visibility": null,
            "width": null
          }
        },
        "84bbd9ea5c2d4da38c96ae7f8f086efb": {
          "model_module": "@jupyter-widgets/controls",
          "model_name": "ProgressStyleModel",
          "model_module_version": "1.5.0",
          "state": {
            "_model_module": "@jupyter-widgets/controls",
            "_model_module_version": "1.5.0",
            "_model_name": "ProgressStyleModel",
            "_view_count": null,
            "_view_module": "@jupyter-widgets/base",
            "_view_module_version": "1.2.0",
            "_view_name": "StyleView",
            "bar_color": null,
            "description_width": ""
          }
        },
        "f123e9a1bfdb416c836fff60b7525a7e": {
          "model_module": "@jupyter-widgets/base",
          "model_name": "LayoutModel",
          "model_module_version": "1.2.0",
          "state": {
            "_model_module": "@jupyter-widgets/base",
            "_model_module_version": "1.2.0",
            "_model_name": "LayoutModel",
            "_view_count": null,
            "_view_module": "@jupyter-widgets/base",
            "_view_module_version": "1.2.0",
            "_view_name": "LayoutView",
            "align_content": null,
            "align_items": null,
            "align_self": null,
            "border": null,
            "bottom": null,
            "display": null,
            "flex": null,
            "flex_flow": null,
            "grid_area": null,
            "grid_auto_columns": null,
            "grid_auto_flow": null,
            "grid_auto_rows": null,
            "grid_column": null,
            "grid_gap": null,
            "grid_row": null,
            "grid_template_areas": null,
            "grid_template_columns": null,
            "grid_template_rows": null,
            "height": null,
            "justify_content": null,
            "justify_items": null,
            "left": null,
            "margin": null,
            "max_height": null,
            "max_width": null,
            "min_height": null,
            "min_width": null,
            "object_fit": null,
            "object_position": null,
            "order": null,
            "overflow": null,
            "overflow_x": null,
            "overflow_y": null,
            "padding": null,
            "right": null,
            "top": null,
            "visibility": null,
            "width": null
          }
        },
        "c35e5127519d4019a3544e8852bd7e9b": {
          "model_module": "@jupyter-widgets/controls",
          "model_name": "DescriptionStyleModel",
          "model_module_version": "1.5.0",
          "state": {
            "_model_module": "@jupyter-widgets/controls",
            "_model_module_version": "1.5.0",
            "_model_name": "DescriptionStyleModel",
            "_view_count": null,
            "_view_module": "@jupyter-widgets/base",
            "_view_module_version": "1.2.0",
            "_view_name": "StyleView",
            "description_width": ""
          }
        },
        "941daf53c3b5424bb4de2b010beafb68": {
          "model_module": "@jupyter-widgets/controls",
          "model_name": "HBoxModel",
          "model_module_version": "1.5.0",
          "state": {
            "_dom_classes": [],
            "_model_module": "@jupyter-widgets/controls",
            "_model_module_version": "1.5.0",
            "_model_name": "HBoxModel",
            "_view_count": null,
            "_view_module": "@jupyter-widgets/controls",
            "_view_module_version": "1.5.0",
            "_view_name": "HBoxView",
            "box_style": "",
            "children": [
              "IPY_MODEL_33563c235cd34dc48a3e286ad7d26668",
              "IPY_MODEL_3cb27e5a7423456193c1e4da9824f292",
              "IPY_MODEL_e6c10486bb31420db841bc8b7cacadaa"
            ],
            "layout": "IPY_MODEL_6d8d14776de54563bdc9ee5c29965f73"
          }
        },
        "33563c235cd34dc48a3e286ad7d26668": {
          "model_module": "@jupyter-widgets/controls",
          "model_name": "HTMLModel",
          "model_module_version": "1.5.0",
          "state": {
            "_dom_classes": [],
            "_model_module": "@jupyter-widgets/controls",
            "_model_module_version": "1.5.0",
            "_model_name": "HTMLModel",
            "_view_count": null,
            "_view_module": "@jupyter-widgets/controls",
            "_view_module_version": "1.5.0",
            "_view_name": "HTMLView",
            "description": "",
            "description_tooltip": null,
            "layout": "IPY_MODEL_469d9e41ade049c8a5b58bb9ee9dc60a",
            "placeholder": "​",
            "style": "IPY_MODEL_2e7334ab482b46368def2d3415037d2d",
            "value": "Map (num_proc=4):  84%"
          }
        },
        "3cb27e5a7423456193c1e4da9824f292": {
          "model_module": "@jupyter-widgets/controls",
          "model_name": "FloatProgressModel",
          "model_module_version": "1.5.0",
          "state": {
            "_dom_classes": [],
            "_model_module": "@jupyter-widgets/controls",
            "_model_module_version": "1.5.0",
            "_model_name": "FloatProgressModel",
            "_view_count": null,
            "_view_module": "@jupyter-widgets/controls",
            "_view_module_version": "1.5.0",
            "_view_name": "ProgressView",
            "bar_style": "",
            "description": "",
            "description_tooltip": null,
            "layout": "IPY_MODEL_68c68c4a65144563ada7f43b2d3fed2e",
            "max": 3348,
            "min": 0,
            "orientation": "horizontal",
            "style": "IPY_MODEL_8e675a3b83474f2e9c0b5f0740c067cd",
            "value": 3348
          }
        },
        "e6c10486bb31420db841bc8b7cacadaa": {
          "model_module": "@jupyter-widgets/controls",
          "model_name": "HTMLModel",
          "model_module_version": "1.5.0",
          "state": {
            "_dom_classes": [],
            "_model_module": "@jupyter-widgets/controls",
            "_model_module_version": "1.5.0",
            "_model_name": "HTMLModel",
            "_view_count": null,
            "_view_module": "@jupyter-widgets/controls",
            "_view_module_version": "1.5.0",
            "_view_name": "HTMLView",
            "description": "",
            "description_tooltip": null,
            "layout": "IPY_MODEL_7a07fe21ee0f4b258b89f3fb44fde122",
            "placeholder": "​",
            "style": "IPY_MODEL_438a6f9680a741f0a52eb28badf7bf94",
            "value": " 2803/3348 [00:00&lt;00:00, 8511.99 examples/s]"
          }
        },
        "6d8d14776de54563bdc9ee5c29965f73": {
          "model_module": "@jupyter-widgets/base",
          "model_name": "LayoutModel",
          "model_module_version": "1.2.0",
          "state": {
            "_model_module": "@jupyter-widgets/base",
            "_model_module_version": "1.2.0",
            "_model_name": "LayoutModel",
            "_view_count": null,
            "_view_module": "@jupyter-widgets/base",
            "_view_module_version": "1.2.0",
            "_view_name": "LayoutView",
            "align_content": null,
            "align_items": null,
            "align_self": null,
            "border": null,
            "bottom": null,
            "display": null,
            "flex": null,
            "flex_flow": null,
            "grid_area": null,
            "grid_auto_columns": null,
            "grid_auto_flow": null,
            "grid_auto_rows": null,
            "grid_column": null,
            "grid_gap": null,
            "grid_row": null,
            "grid_template_areas": null,
            "grid_template_columns": null,
            "grid_template_rows": null,
            "height": null,
            "justify_content": null,
            "justify_items": null,
            "left": null,
            "margin": null,
            "max_height": null,
            "max_width": null,
            "min_height": null,
            "min_width": null,
            "object_fit": null,
            "object_position": null,
            "order": null,
            "overflow": null,
            "overflow_x": null,
            "overflow_y": null,
            "padding": null,
            "right": null,
            "top": null,
            "visibility": "hidden",
            "width": null
          }
        },
        "469d9e41ade049c8a5b58bb9ee9dc60a": {
          "model_module": "@jupyter-widgets/base",
          "model_name": "LayoutModel",
          "model_module_version": "1.2.0",
          "state": {
            "_model_module": "@jupyter-widgets/base",
            "_model_module_version": "1.2.0",
            "_model_name": "LayoutModel",
            "_view_count": null,
            "_view_module": "@jupyter-widgets/base",
            "_view_module_version": "1.2.0",
            "_view_name": "LayoutView",
            "align_content": null,
            "align_items": null,
            "align_self": null,
            "border": null,
            "bottom": null,
            "display": null,
            "flex": null,
            "flex_flow": null,
            "grid_area": null,
            "grid_auto_columns": null,
            "grid_auto_flow": null,
            "grid_auto_rows": null,
            "grid_column": null,
            "grid_gap": null,
            "grid_row": null,
            "grid_template_areas": null,
            "grid_template_columns": null,
            "grid_template_rows": null,
            "height": null,
            "justify_content": null,
            "justify_items": null,
            "left": null,
            "margin": null,
            "max_height": null,
            "max_width": null,
            "min_height": null,
            "min_width": null,
            "object_fit": null,
            "object_position": null,
            "order": null,
            "overflow": null,
            "overflow_x": null,
            "overflow_y": null,
            "padding": null,
            "right": null,
            "top": null,
            "visibility": null,
            "width": null
          }
        },
        "2e7334ab482b46368def2d3415037d2d": {
          "model_module": "@jupyter-widgets/controls",
          "model_name": "DescriptionStyleModel",
          "model_module_version": "1.5.0",
          "state": {
            "_model_module": "@jupyter-widgets/controls",
            "_model_module_version": "1.5.0",
            "_model_name": "DescriptionStyleModel",
            "_view_count": null,
            "_view_module": "@jupyter-widgets/base",
            "_view_module_version": "1.2.0",
            "_view_name": "StyleView",
            "description_width": ""
          }
        },
        "68c68c4a65144563ada7f43b2d3fed2e": {
          "model_module": "@jupyter-widgets/base",
          "model_name": "LayoutModel",
          "model_module_version": "1.2.0",
          "state": {
            "_model_module": "@jupyter-widgets/base",
            "_model_module_version": "1.2.0",
            "_model_name": "LayoutModel",
            "_view_count": null,
            "_view_module": "@jupyter-widgets/base",
            "_view_module_version": "1.2.0",
            "_view_name": "LayoutView",
            "align_content": null,
            "align_items": null,
            "align_self": null,
            "border": null,
            "bottom": null,
            "display": null,
            "flex": null,
            "flex_flow": null,
            "grid_area": null,
            "grid_auto_columns": null,
            "grid_auto_flow": null,
            "grid_auto_rows": null,
            "grid_column": null,
            "grid_gap": null,
            "grid_row": null,
            "grid_template_areas": null,
            "grid_template_columns": null,
            "grid_template_rows": null,
            "height": null,
            "justify_content": null,
            "justify_items": null,
            "left": null,
            "margin": null,
            "max_height": null,
            "max_width": null,
            "min_height": null,
            "min_width": null,
            "object_fit": null,
            "object_position": null,
            "order": null,
            "overflow": null,
            "overflow_x": null,
            "overflow_y": null,
            "padding": null,
            "right": null,
            "top": null,
            "visibility": null,
            "width": null
          }
        },
        "8e675a3b83474f2e9c0b5f0740c067cd": {
          "model_module": "@jupyter-widgets/controls",
          "model_name": "ProgressStyleModel",
          "model_module_version": "1.5.0",
          "state": {
            "_model_module": "@jupyter-widgets/controls",
            "_model_module_version": "1.5.0",
            "_model_name": "ProgressStyleModel",
            "_view_count": null,
            "_view_module": "@jupyter-widgets/base",
            "_view_module_version": "1.2.0",
            "_view_name": "StyleView",
            "bar_color": null,
            "description_width": ""
          }
        },
        "7a07fe21ee0f4b258b89f3fb44fde122": {
          "model_module": "@jupyter-widgets/base",
          "model_name": "LayoutModel",
          "model_module_version": "1.2.0",
          "state": {
            "_model_module": "@jupyter-widgets/base",
            "_model_module_version": "1.2.0",
            "_model_name": "LayoutModel",
            "_view_count": null,
            "_view_module": "@jupyter-widgets/base",
            "_view_module_version": "1.2.0",
            "_view_name": "LayoutView",
            "align_content": null,
            "align_items": null,
            "align_self": null,
            "border": null,
            "bottom": null,
            "display": null,
            "flex": null,
            "flex_flow": null,
            "grid_area": null,
            "grid_auto_columns": null,
            "grid_auto_flow": null,
            "grid_auto_rows": null,
            "grid_column": null,
            "grid_gap": null,
            "grid_row": null,
            "grid_template_areas": null,
            "grid_template_columns": null,
            "grid_template_rows": null,
            "height": null,
            "justify_content": null,
            "justify_items": null,
            "left": null,
            "margin": null,
            "max_height": null,
            "max_width": null,
            "min_height": null,
            "min_width": null,
            "object_fit": null,
            "object_position": null,
            "order": null,
            "overflow": null,
            "overflow_x": null,
            "overflow_y": null,
            "padding": null,
            "right": null,
            "top": null,
            "visibility": null,
            "width": null
          }
        },
        "438a6f9680a741f0a52eb28badf7bf94": {
          "model_module": "@jupyter-widgets/controls",
          "model_name": "DescriptionStyleModel",
          "model_module_version": "1.5.0",
          "state": {
            "_model_module": "@jupyter-widgets/controls",
            "_model_module_version": "1.5.0",
            "_model_name": "DescriptionStyleModel",
            "_view_count": null,
            "_view_module": "@jupyter-widgets/base",
            "_view_module_version": "1.2.0",
            "_view_name": "StyleView",
            "description_width": ""
          }
        },
        "216e9b516a404ec4b5bd005984a648ca": {
          "model_module": "@jupyter-widgets/controls",
          "model_name": "HBoxModel",
          "model_module_version": "1.5.0",
          "state": {
            "_dom_classes": [],
            "_model_module": "@jupyter-widgets/controls",
            "_model_module_version": "1.5.0",
            "_model_name": "HBoxModel",
            "_view_count": null,
            "_view_module": "@jupyter-widgets/controls",
            "_view_module_version": "1.5.0",
            "_view_name": "HBoxView",
            "box_style": "",
            "children": [
              "IPY_MODEL_8f55239377c24cf1b838baa8f770ece5",
              "IPY_MODEL_f1a92e6781754101946f00f1b0ca5aff",
              "IPY_MODEL_0634df33304b4b3eb3023ee02e1858b4"
            ],
            "layout": "IPY_MODEL_84790d58656a4a65ab41093baff0931b"
          }
        },
        "8f55239377c24cf1b838baa8f770ece5": {
          "model_module": "@jupyter-widgets/controls",
          "model_name": "HTMLModel",
          "model_module_version": "1.5.0",
          "state": {
            "_dom_classes": [],
            "_model_module": "@jupyter-widgets/controls",
            "_model_module_version": "1.5.0",
            "_model_name": "HTMLModel",
            "_view_count": null,
            "_view_module": "@jupyter-widgets/controls",
            "_view_module_version": "1.5.0",
            "_view_name": "HTMLView",
            "description": "",
            "description_tooltip": null,
            "layout": "IPY_MODEL_a5437d36b605409fbe84a5bcc7a5acb4",
            "placeholder": "​",
            "style": "IPY_MODEL_57c13b0099c8412084a7090151a6534c",
            "value": "Map (num_proc=2): 100%"
          }
        },
        "f1a92e6781754101946f00f1b0ca5aff": {
          "model_module": "@jupyter-widgets/controls",
          "model_name": "FloatProgressModel",
          "model_module_version": "1.5.0",
          "state": {
            "_dom_classes": [],
            "_model_module": "@jupyter-widgets/controls",
            "_model_module_version": "1.5.0",
            "_model_name": "FloatProgressModel",
            "_view_count": null,
            "_view_module": "@jupyter-widgets/controls",
            "_view_module_version": "1.5.0",
            "_view_name": "ProgressView",
            "bar_style": "",
            "description": "",
            "description_tooltip": null,
            "layout": "IPY_MODEL_d6cbe1e70aa246b0a79551049dc6eb17",
            "max": 30123,
            "min": 0,
            "orientation": "horizontal",
            "style": "IPY_MODEL_971da474d0314ad78ba965f5d436db7f",
            "value": 30123
          }
        },
        "0634df33304b4b3eb3023ee02e1858b4": {
          "model_module": "@jupyter-widgets/controls",
          "model_name": "HTMLModel",
          "model_module_version": "1.5.0",
          "state": {
            "_dom_classes": [],
            "_model_module": "@jupyter-widgets/controls",
            "_model_module_version": "1.5.0",
            "_model_name": "HTMLModel",
            "_view_count": null,
            "_view_module": "@jupyter-widgets/controls",
            "_view_module_version": "1.5.0",
            "_view_name": "HTMLView",
            "description": "",
            "description_tooltip": null,
            "layout": "IPY_MODEL_0a2247ada76c42779db9b6b4460df263",
            "placeholder": "​",
            "style": "IPY_MODEL_4a201da2402c46268b7e2776740d599c",
            "value": " 30062/30123 [00:04&lt;00:00, 4731.39 examples/s]"
          }
        },
        "84790d58656a4a65ab41093baff0931b": {
          "model_module": "@jupyter-widgets/base",
          "model_name": "LayoutModel",
          "model_module_version": "1.2.0",
          "state": {
            "_model_module": "@jupyter-widgets/base",
            "_model_module_version": "1.2.0",
            "_model_name": "LayoutModel",
            "_view_count": null,
            "_view_module": "@jupyter-widgets/base",
            "_view_module_version": "1.2.0",
            "_view_name": "LayoutView",
            "align_content": null,
            "align_items": null,
            "align_self": null,
            "border": null,
            "bottom": null,
            "display": null,
            "flex": null,
            "flex_flow": null,
            "grid_area": null,
            "grid_auto_columns": null,
            "grid_auto_flow": null,
            "grid_auto_rows": null,
            "grid_column": null,
            "grid_gap": null,
            "grid_row": null,
            "grid_template_areas": null,
            "grid_template_columns": null,
            "grid_template_rows": null,
            "height": null,
            "justify_content": null,
            "justify_items": null,
            "left": null,
            "margin": null,
            "max_height": null,
            "max_width": null,
            "min_height": null,
            "min_width": null,
            "object_fit": null,
            "object_position": null,
            "order": null,
            "overflow": null,
            "overflow_x": null,
            "overflow_y": null,
            "padding": null,
            "right": null,
            "top": null,
            "visibility": "hidden",
            "width": null
          }
        },
        "a5437d36b605409fbe84a5bcc7a5acb4": {
          "model_module": "@jupyter-widgets/base",
          "model_name": "LayoutModel",
          "model_module_version": "1.2.0",
          "state": {
            "_model_module": "@jupyter-widgets/base",
            "_model_module_version": "1.2.0",
            "_model_name": "LayoutModel",
            "_view_count": null,
            "_view_module": "@jupyter-widgets/base",
            "_view_module_version": "1.2.0",
            "_view_name": "LayoutView",
            "align_content": null,
            "align_items": null,
            "align_self": null,
            "border": null,
            "bottom": null,
            "display": null,
            "flex": null,
            "flex_flow": null,
            "grid_area": null,
            "grid_auto_columns": null,
            "grid_auto_flow": null,
            "grid_auto_rows": null,
            "grid_column": null,
            "grid_gap": null,
            "grid_row": null,
            "grid_template_areas": null,
            "grid_template_columns": null,
            "grid_template_rows": null,
            "height": null,
            "justify_content": null,
            "justify_items": null,
            "left": null,
            "margin": null,
            "max_height": null,
            "max_width": null,
            "min_height": null,
            "min_width": null,
            "object_fit": null,
            "object_position": null,
            "order": null,
            "overflow": null,
            "overflow_x": null,
            "overflow_y": null,
            "padding": null,
            "right": null,
            "top": null,
            "visibility": null,
            "width": null
          }
        },
        "57c13b0099c8412084a7090151a6534c": {
          "model_module": "@jupyter-widgets/controls",
          "model_name": "DescriptionStyleModel",
          "model_module_version": "1.5.0",
          "state": {
            "_model_module": "@jupyter-widgets/controls",
            "_model_module_version": "1.5.0",
            "_model_name": "DescriptionStyleModel",
            "_view_count": null,
            "_view_module": "@jupyter-widgets/base",
            "_view_module_version": "1.2.0",
            "_view_name": "StyleView",
            "description_width": ""
          }
        },
        "d6cbe1e70aa246b0a79551049dc6eb17": {
          "model_module": "@jupyter-widgets/base",
          "model_name": "LayoutModel",
          "model_module_version": "1.2.0",
          "state": {
            "_model_module": "@jupyter-widgets/base",
            "_model_module_version": "1.2.0",
            "_model_name": "LayoutModel",
            "_view_count": null,
            "_view_module": "@jupyter-widgets/base",
            "_view_module_version": "1.2.0",
            "_view_name": "LayoutView",
            "align_content": null,
            "align_items": null,
            "align_self": null,
            "border": null,
            "bottom": null,
            "display": null,
            "flex": null,
            "flex_flow": null,
            "grid_area": null,
            "grid_auto_columns": null,
            "grid_auto_flow": null,
            "grid_auto_rows": null,
            "grid_column": null,
            "grid_gap": null,
            "grid_row": null,
            "grid_template_areas": null,
            "grid_template_columns": null,
            "grid_template_rows": null,
            "height": null,
            "justify_content": null,
            "justify_items": null,
            "left": null,
            "margin": null,
            "max_height": null,
            "max_width": null,
            "min_height": null,
            "min_width": null,
            "object_fit": null,
            "object_position": null,
            "order": null,
            "overflow": null,
            "overflow_x": null,
            "overflow_y": null,
            "padding": null,
            "right": null,
            "top": null,
            "visibility": null,
            "width": null
          }
        },
        "971da474d0314ad78ba965f5d436db7f": {
          "model_module": "@jupyter-widgets/controls",
          "model_name": "ProgressStyleModel",
          "model_module_version": "1.5.0",
          "state": {
            "_model_module": "@jupyter-widgets/controls",
            "_model_module_version": "1.5.0",
            "_model_name": "ProgressStyleModel",
            "_view_count": null,
            "_view_module": "@jupyter-widgets/base",
            "_view_module_version": "1.2.0",
            "_view_name": "StyleView",
            "bar_color": null,
            "description_width": ""
          }
        },
        "0a2247ada76c42779db9b6b4460df263": {
          "model_module": "@jupyter-widgets/base",
          "model_name": "LayoutModel",
          "model_module_version": "1.2.0",
          "state": {
            "_model_module": "@jupyter-widgets/base",
            "_model_module_version": "1.2.0",
            "_model_name": "LayoutModel",
            "_view_count": null,
            "_view_module": "@jupyter-widgets/base",
            "_view_module_version": "1.2.0",
            "_view_name": "LayoutView",
            "align_content": null,
            "align_items": null,
            "align_self": null,
            "border": null,
            "bottom": null,
            "display": null,
            "flex": null,
            "flex_flow": null,
            "grid_area": null,
            "grid_auto_columns": null,
            "grid_auto_flow": null,
            "grid_auto_rows": null,
            "grid_column": null,
            "grid_gap": null,
            "grid_row": null,
            "grid_template_areas": null,
            "grid_template_columns": null,
            "grid_template_rows": null,
            "height": null,
            "justify_content": null,
            "justify_items": null,
            "left": null,
            "margin": null,
            "max_height": null,
            "max_width": null,
            "min_height": null,
            "min_width": null,
            "object_fit": null,
            "object_position": null,
            "order": null,
            "overflow": null,
            "overflow_x": null,
            "overflow_y": null,
            "padding": null,
            "right": null,
            "top": null,
            "visibility": null,
            "width": null
          }
        },
        "4a201da2402c46268b7e2776740d599c": {
          "model_module": "@jupyter-widgets/controls",
          "model_name": "DescriptionStyleModel",
          "model_module_version": "1.5.0",
          "state": {
            "_model_module": "@jupyter-widgets/controls",
            "_model_module_version": "1.5.0",
            "_model_name": "DescriptionStyleModel",
            "_view_count": null,
            "_view_module": "@jupyter-widgets/base",
            "_view_module_version": "1.2.0",
            "_view_name": "StyleView",
            "description_width": ""
          }
        },
        "5d0549b79d6044d3bdb9202336b68141": {
          "model_module": "@jupyter-widgets/controls",
          "model_name": "HBoxModel",
          "model_module_version": "1.5.0",
          "state": {
            "_dom_classes": [],
            "_model_module": "@jupyter-widgets/controls",
            "_model_module_version": "1.5.0",
            "_model_name": "HBoxModel",
            "_view_count": null,
            "_view_module": "@jupyter-widgets/controls",
            "_view_module_version": "1.5.0",
            "_view_name": "HBoxView",
            "box_style": "",
            "children": [
              "IPY_MODEL_4f3b3e712c7f40c59128c7c33b323b60",
              "IPY_MODEL_4f03f386da1a4617b0e94fab1362131c",
              "IPY_MODEL_e232d661c6f04f72a178ce9e999b9564"
            ],
            "layout": "IPY_MODEL_fa2cb3df1f5243e6b17e9b25bdd96fbf"
          }
        },
        "4f3b3e712c7f40c59128c7c33b323b60": {
          "model_module": "@jupyter-widgets/controls",
          "model_name": "HTMLModel",
          "model_module_version": "1.5.0",
          "state": {
            "_dom_classes": [],
            "_model_module": "@jupyter-widgets/controls",
            "_model_module_version": "1.5.0",
            "_model_name": "HTMLModel",
            "_view_count": null,
            "_view_module": "@jupyter-widgets/controls",
            "_view_module_version": "1.5.0",
            "_view_name": "HTMLView",
            "description": "",
            "description_tooltip": null,
            "layout": "IPY_MODEL_248efcc84b9c415ea8f527cb6ef765d7",
            "placeholder": "​",
            "style": "IPY_MODEL_757dac2b5b0b4d37a59039b46d1e8557",
            "value": "Map (num_proc=2):  80%"
          }
        },
        "4f03f386da1a4617b0e94fab1362131c": {
          "model_module": "@jupyter-widgets/controls",
          "model_name": "FloatProgressModel",
          "model_module_version": "1.5.0",
          "state": {
            "_dom_classes": [],
            "_model_module": "@jupyter-widgets/controls",
            "_model_module_version": "1.5.0",
            "_model_name": "FloatProgressModel",
            "_view_count": null,
            "_view_module": "@jupyter-widgets/controls",
            "_view_module_version": "1.5.0",
            "_view_name": "ProgressView",
            "bar_style": "",
            "description": "",
            "description_tooltip": null,
            "layout": "IPY_MODEL_1280d2f71823451a955ac39493a1d934",
            "max": 3348,
            "min": 0,
            "orientation": "horizontal",
            "style": "IPY_MODEL_261949db79ed47d08024223fab48bb08",
            "value": 3348
          }
        },
        "e232d661c6f04f72a178ce9e999b9564": {
          "model_module": "@jupyter-widgets/controls",
          "model_name": "HTMLModel",
          "model_module_version": "1.5.0",
          "state": {
            "_dom_classes": [],
            "_model_module": "@jupyter-widgets/controls",
            "_model_module_version": "1.5.0",
            "_model_name": "HTMLModel",
            "_view_count": null,
            "_view_module": "@jupyter-widgets/controls",
            "_view_module_version": "1.5.0",
            "_view_name": "HTMLView",
            "description": "",
            "description_tooltip": null,
            "layout": "IPY_MODEL_a8add09d44914dfaaac19057142fb015",
            "placeholder": "​",
            "style": "IPY_MODEL_f230d233d9454753b756b1be5632fd97",
            "value": " 2674/3348 [00:01&lt;00:00, 2022.17 examples/s]"
          }
        },
        "fa2cb3df1f5243e6b17e9b25bdd96fbf": {
          "model_module": "@jupyter-widgets/base",
          "model_name": "LayoutModel",
          "model_module_version": "1.2.0",
          "state": {
            "_model_module": "@jupyter-widgets/base",
            "_model_module_version": "1.2.0",
            "_model_name": "LayoutModel",
            "_view_count": null,
            "_view_module": "@jupyter-widgets/base",
            "_view_module_version": "1.2.0",
            "_view_name": "LayoutView",
            "align_content": null,
            "align_items": null,
            "align_self": null,
            "border": null,
            "bottom": null,
            "display": null,
            "flex": null,
            "flex_flow": null,
            "grid_area": null,
            "grid_auto_columns": null,
            "grid_auto_flow": null,
            "grid_auto_rows": null,
            "grid_column": null,
            "grid_gap": null,
            "grid_row": null,
            "grid_template_areas": null,
            "grid_template_columns": null,
            "grid_template_rows": null,
            "height": null,
            "justify_content": null,
            "justify_items": null,
            "left": null,
            "margin": null,
            "max_height": null,
            "max_width": null,
            "min_height": null,
            "min_width": null,
            "object_fit": null,
            "object_position": null,
            "order": null,
            "overflow": null,
            "overflow_x": null,
            "overflow_y": null,
            "padding": null,
            "right": null,
            "top": null,
            "visibility": "hidden",
            "width": null
          }
        },
        "248efcc84b9c415ea8f527cb6ef765d7": {
          "model_module": "@jupyter-widgets/base",
          "model_name": "LayoutModel",
          "model_module_version": "1.2.0",
          "state": {
            "_model_module": "@jupyter-widgets/base",
            "_model_module_version": "1.2.0",
            "_model_name": "LayoutModel",
            "_view_count": null,
            "_view_module": "@jupyter-widgets/base",
            "_view_module_version": "1.2.0",
            "_view_name": "LayoutView",
            "align_content": null,
            "align_items": null,
            "align_self": null,
            "border": null,
            "bottom": null,
            "display": null,
            "flex": null,
            "flex_flow": null,
            "grid_area": null,
            "grid_auto_columns": null,
            "grid_auto_flow": null,
            "grid_auto_rows": null,
            "grid_column": null,
            "grid_gap": null,
            "grid_row": null,
            "grid_template_areas": null,
            "grid_template_columns": null,
            "grid_template_rows": null,
            "height": null,
            "justify_content": null,
            "justify_items": null,
            "left": null,
            "margin": null,
            "max_height": null,
            "max_width": null,
            "min_height": null,
            "min_width": null,
            "object_fit": null,
            "object_position": null,
            "order": null,
            "overflow": null,
            "overflow_x": null,
            "overflow_y": null,
            "padding": null,
            "right": null,
            "top": null,
            "visibility": null,
            "width": null
          }
        },
        "757dac2b5b0b4d37a59039b46d1e8557": {
          "model_module": "@jupyter-widgets/controls",
          "model_name": "DescriptionStyleModel",
          "model_module_version": "1.5.0",
          "state": {
            "_model_module": "@jupyter-widgets/controls",
            "_model_module_version": "1.5.0",
            "_model_name": "DescriptionStyleModel",
            "_view_count": null,
            "_view_module": "@jupyter-widgets/base",
            "_view_module_version": "1.2.0",
            "_view_name": "StyleView",
            "description_width": ""
          }
        },
        "1280d2f71823451a955ac39493a1d934": {
          "model_module": "@jupyter-widgets/base",
          "model_name": "LayoutModel",
          "model_module_version": "1.2.0",
          "state": {
            "_model_module": "@jupyter-widgets/base",
            "_model_module_version": "1.2.0",
            "_model_name": "LayoutModel",
            "_view_count": null,
            "_view_module": "@jupyter-widgets/base",
            "_view_module_version": "1.2.0",
            "_view_name": "LayoutView",
            "align_content": null,
            "align_items": null,
            "align_self": null,
            "border": null,
            "bottom": null,
            "display": null,
            "flex": null,
            "flex_flow": null,
            "grid_area": null,
            "grid_auto_columns": null,
            "grid_auto_flow": null,
            "grid_auto_rows": null,
            "grid_column": null,
            "grid_gap": null,
            "grid_row": null,
            "grid_template_areas": null,
            "grid_template_columns": null,
            "grid_template_rows": null,
            "height": null,
            "justify_content": null,
            "justify_items": null,
            "left": null,
            "margin": null,
            "max_height": null,
            "max_width": null,
            "min_height": null,
            "min_width": null,
            "object_fit": null,
            "object_position": null,
            "order": null,
            "overflow": null,
            "overflow_x": null,
            "overflow_y": null,
            "padding": null,
            "right": null,
            "top": null,
            "visibility": null,
            "width": null
          }
        },
        "261949db79ed47d08024223fab48bb08": {
          "model_module": "@jupyter-widgets/controls",
          "model_name": "ProgressStyleModel",
          "model_module_version": "1.5.0",
          "state": {
            "_model_module": "@jupyter-widgets/controls",
            "_model_module_version": "1.5.0",
            "_model_name": "ProgressStyleModel",
            "_view_count": null,
            "_view_module": "@jupyter-widgets/base",
            "_view_module_version": "1.2.0",
            "_view_name": "StyleView",
            "bar_color": null,
            "description_width": ""
          }
        },
        "a8add09d44914dfaaac19057142fb015": {
          "model_module": "@jupyter-widgets/base",
          "model_name": "LayoutModel",
          "model_module_version": "1.2.0",
          "state": {
            "_model_module": "@jupyter-widgets/base",
            "_model_module_version": "1.2.0",
            "_model_name": "LayoutModel",
            "_view_count": null,
            "_view_module": "@jupyter-widgets/base",
            "_view_module_version": "1.2.0",
            "_view_name": "LayoutView",
            "align_content": null,
            "align_items": null,
            "align_self": null,
            "border": null,
            "bottom": null,
            "display": null,
            "flex": null,
            "flex_flow": null,
            "grid_area": null,
            "grid_auto_columns": null,
            "grid_auto_flow": null,
            "grid_auto_rows": null,
            "grid_column": null,
            "grid_gap": null,
            "grid_row": null,
            "grid_template_areas": null,
            "grid_template_columns": null,
            "grid_template_rows": null,
            "height": null,
            "justify_content": null,
            "justify_items": null,
            "left": null,
            "margin": null,
            "max_height": null,
            "max_width": null,
            "min_height": null,
            "min_width": null,
            "object_fit": null,
            "object_position": null,
            "order": null,
            "overflow": null,
            "overflow_x": null,
            "overflow_y": null,
            "padding": null,
            "right": null,
            "top": null,
            "visibility": null,
            "width": null
          }
        },
        "f230d233d9454753b756b1be5632fd97": {
          "model_module": "@jupyter-widgets/controls",
          "model_name": "DescriptionStyleModel",
          "model_module_version": "1.5.0",
          "state": {
            "_model_module": "@jupyter-widgets/controls",
            "_model_module_version": "1.5.0",
            "_model_name": "DescriptionStyleModel",
            "_view_count": null,
            "_view_module": "@jupyter-widgets/base",
            "_view_module_version": "1.2.0",
            "_view_name": "StyleView",
            "description_width": ""
          }
        }
      }
    }
  },
  "nbformat": 4,
  "nbformat_minor": 0
}