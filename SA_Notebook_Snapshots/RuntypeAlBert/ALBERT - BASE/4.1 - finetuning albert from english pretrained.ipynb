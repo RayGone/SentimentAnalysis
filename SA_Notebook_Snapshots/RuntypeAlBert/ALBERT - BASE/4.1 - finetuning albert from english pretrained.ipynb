{
  "metadata": {
    "kernelspec": {
      "display_name": "Python 3",
      "name": "python3"
    },
    "language_info": {
      "name": "python",
      "version": "3.10.10",
      "mimetype": "text/x-python",
      "codemirror_mode": {
        "name": "ipython",
        "version": 3
      },
      "pygments_lexer": "ipython3",
      "nbconvert_exporter": "python",
      "file_extension": ".py"
    },
    "colab": {
      "provenance": [],
      "gpuType": "T4"
    },
    "accelerator": "GPU",
    "widgets": {
      "application/vnd.jupyter.widget-state+json": {
        "4665bd8605a04b4cb042c3d43cc022eb": {
          "model_module": "@jupyter-widgets/controls",
          "model_name": "HBoxModel",
          "model_module_version": "1.5.0",
          "state": {
            "_dom_classes": [],
            "_model_module": "@jupyter-widgets/controls",
            "_model_module_version": "1.5.0",
            "_model_name": "HBoxModel",
            "_view_count": null,
            "_view_module": "@jupyter-widgets/controls",
            "_view_module_version": "1.5.0",
            "_view_name": "HBoxView",
            "box_style": "",
            "children": [
              "IPY_MODEL_5835e000ae0b4637bdce421c358d98e7",
              "IPY_MODEL_46919d65d9a4405ea415c29dae902ae5",
              "IPY_MODEL_e346536561df4ed5b008f1658f96db5f"
            ],
            "layout": "IPY_MODEL_d236d049665647e0bb6199585bb6aa56"
          }
        },
        "5835e000ae0b4637bdce421c358d98e7": {
          "model_module": "@jupyter-widgets/controls",
          "model_name": "HTMLModel",
          "model_module_version": "1.5.0",
          "state": {
            "_dom_classes": [],
            "_model_module": "@jupyter-widgets/controls",
            "_model_module_version": "1.5.0",
            "_model_name": "HTMLModel",
            "_view_count": null,
            "_view_module": "@jupyter-widgets/controls",
            "_view_module_version": "1.5.0",
            "_view_name": "HTMLView",
            "description": "",
            "description_tooltip": null,
            "layout": "IPY_MODEL_601ec070204a4ed785f2e48ae1becc57",
            "placeholder": "​",
            "style": "IPY_MODEL_756c48417fca4fc49eed678c0f2b5a8d",
            "value": "100%"
          }
        },
        "46919d65d9a4405ea415c29dae902ae5": {
          "model_module": "@jupyter-widgets/controls",
          "model_name": "FloatProgressModel",
          "model_module_version": "1.5.0",
          "state": {
            "_dom_classes": [],
            "_model_module": "@jupyter-widgets/controls",
            "_model_module_version": "1.5.0",
            "_model_name": "FloatProgressModel",
            "_view_count": null,
            "_view_module": "@jupyter-widgets/controls",
            "_view_module_version": "1.5.0",
            "_view_name": "ProgressView",
            "bar_style": "success",
            "description": "",
            "description_tooltip": null,
            "layout": "IPY_MODEL_c26e02fadb62446d967e7d8084124d24",
            "max": 1,
            "min": 0,
            "orientation": "horizontal",
            "style": "IPY_MODEL_d7abccd0395c4fc4ad5bae42113ba34a",
            "value": 1
          }
        },
        "e346536561df4ed5b008f1658f96db5f": {
          "model_module": "@jupyter-widgets/controls",
          "model_name": "HTMLModel",
          "model_module_version": "1.5.0",
          "state": {
            "_dom_classes": [],
            "_model_module": "@jupyter-widgets/controls",
            "_model_module_version": "1.5.0",
            "_model_name": "HTMLModel",
            "_view_count": null,
            "_view_module": "@jupyter-widgets/controls",
            "_view_module_version": "1.5.0",
            "_view_name": "HTMLView",
            "description": "",
            "description_tooltip": null,
            "layout": "IPY_MODEL_f66b0f438a6742718ec7e77ee08eb28d",
            "placeholder": "​",
            "style": "IPY_MODEL_5c9f701070334df08920ea6d53a59d5e",
            "value": " 1/1 [00:00&lt;00:00, 36.66it/s]"
          }
        },
        "d236d049665647e0bb6199585bb6aa56": {
          "model_module": "@jupyter-widgets/base",
          "model_name": "LayoutModel",
          "model_module_version": "1.2.0",
          "state": {
            "_model_module": "@jupyter-widgets/base",
            "_model_module_version": "1.2.0",
            "_model_name": "LayoutModel",
            "_view_count": null,
            "_view_module": "@jupyter-widgets/base",
            "_view_module_version": "1.2.0",
            "_view_name": "LayoutView",
            "align_content": null,
            "align_items": null,
            "align_self": null,
            "border": null,
            "bottom": null,
            "display": null,
            "flex": null,
            "flex_flow": null,
            "grid_area": null,
            "grid_auto_columns": null,
            "grid_auto_flow": null,
            "grid_auto_rows": null,
            "grid_column": null,
            "grid_gap": null,
            "grid_row": null,
            "grid_template_areas": null,
            "grid_template_columns": null,
            "grid_template_rows": null,
            "height": null,
            "justify_content": null,
            "justify_items": null,
            "left": null,
            "margin": null,
            "max_height": null,
            "max_width": null,
            "min_height": null,
            "min_width": null,
            "object_fit": null,
            "object_position": null,
            "order": null,
            "overflow": null,
            "overflow_x": null,
            "overflow_y": null,
            "padding": null,
            "right": null,
            "top": null,
            "visibility": null,
            "width": null
          }
        },
        "601ec070204a4ed785f2e48ae1becc57": {
          "model_module": "@jupyter-widgets/base",
          "model_name": "LayoutModel",
          "model_module_version": "1.2.0",
          "state": {
            "_model_module": "@jupyter-widgets/base",
            "_model_module_version": "1.2.0",
            "_model_name": "LayoutModel",
            "_view_count": null,
            "_view_module": "@jupyter-widgets/base",
            "_view_module_version": "1.2.0",
            "_view_name": "LayoutView",
            "align_content": null,
            "align_items": null,
            "align_self": null,
            "border": null,
            "bottom": null,
            "display": null,
            "flex": null,
            "flex_flow": null,
            "grid_area": null,
            "grid_auto_columns": null,
            "grid_auto_flow": null,
            "grid_auto_rows": null,
            "grid_column": null,
            "grid_gap": null,
            "grid_row": null,
            "grid_template_areas": null,
            "grid_template_columns": null,
            "grid_template_rows": null,
            "height": null,
            "justify_content": null,
            "justify_items": null,
            "left": null,
            "margin": null,
            "max_height": null,
            "max_width": null,
            "min_height": null,
            "min_width": null,
            "object_fit": null,
            "object_position": null,
            "order": null,
            "overflow": null,
            "overflow_x": null,
            "overflow_y": null,
            "padding": null,
            "right": null,
            "top": null,
            "visibility": null,
            "width": null
          }
        },
        "756c48417fca4fc49eed678c0f2b5a8d": {
          "model_module": "@jupyter-widgets/controls",
          "model_name": "DescriptionStyleModel",
          "model_module_version": "1.5.0",
          "state": {
            "_model_module": "@jupyter-widgets/controls",
            "_model_module_version": "1.5.0",
            "_model_name": "DescriptionStyleModel",
            "_view_count": null,
            "_view_module": "@jupyter-widgets/base",
            "_view_module_version": "1.2.0",
            "_view_name": "StyleView",
            "description_width": ""
          }
        },
        "c26e02fadb62446d967e7d8084124d24": {
          "model_module": "@jupyter-widgets/base",
          "model_name": "LayoutModel",
          "model_module_version": "1.2.0",
          "state": {
            "_model_module": "@jupyter-widgets/base",
            "_model_module_version": "1.2.0",
            "_model_name": "LayoutModel",
            "_view_count": null,
            "_view_module": "@jupyter-widgets/base",
            "_view_module_version": "1.2.0",
            "_view_name": "LayoutView",
            "align_content": null,
            "align_items": null,
            "align_self": null,
            "border": null,
            "bottom": null,
            "display": null,
            "flex": null,
            "flex_flow": null,
            "grid_area": null,
            "grid_auto_columns": null,
            "grid_auto_flow": null,
            "grid_auto_rows": null,
            "grid_column": null,
            "grid_gap": null,
            "grid_row": null,
            "grid_template_areas": null,
            "grid_template_columns": null,
            "grid_template_rows": null,
            "height": null,
            "justify_content": null,
            "justify_items": null,
            "left": null,
            "margin": null,
            "max_height": null,
            "max_width": null,
            "min_height": null,
            "min_width": null,
            "object_fit": null,
            "object_position": null,
            "order": null,
            "overflow": null,
            "overflow_x": null,
            "overflow_y": null,
            "padding": null,
            "right": null,
            "top": null,
            "visibility": null,
            "width": null
          }
        },
        "d7abccd0395c4fc4ad5bae42113ba34a": {
          "model_module": "@jupyter-widgets/controls",
          "model_name": "ProgressStyleModel",
          "model_module_version": "1.5.0",
          "state": {
            "_model_module": "@jupyter-widgets/controls",
            "_model_module_version": "1.5.0",
            "_model_name": "ProgressStyleModel",
            "_view_count": null,
            "_view_module": "@jupyter-widgets/base",
            "_view_module_version": "1.2.0",
            "_view_name": "StyleView",
            "bar_color": null,
            "description_width": ""
          }
        },
        "f66b0f438a6742718ec7e77ee08eb28d": {
          "model_module": "@jupyter-widgets/base",
          "model_name": "LayoutModel",
          "model_module_version": "1.2.0",
          "state": {
            "_model_module": "@jupyter-widgets/base",
            "_model_module_version": "1.2.0",
            "_model_name": "LayoutModel",
            "_view_count": null,
            "_view_module": "@jupyter-widgets/base",
            "_view_module_version": "1.2.0",
            "_view_name": "LayoutView",
            "align_content": null,
            "align_items": null,
            "align_self": null,
            "border": null,
            "bottom": null,
            "display": null,
            "flex": null,
            "flex_flow": null,
            "grid_area": null,
            "grid_auto_columns": null,
            "grid_auto_flow": null,
            "grid_auto_rows": null,
            "grid_column": null,
            "grid_gap": null,
            "grid_row": null,
            "grid_template_areas": null,
            "grid_template_columns": null,
            "grid_template_rows": null,
            "height": null,
            "justify_content": null,
            "justify_items": null,
            "left": null,
            "margin": null,
            "max_height": null,
            "max_width": null,
            "min_height": null,
            "min_width": null,
            "object_fit": null,
            "object_position": null,
            "order": null,
            "overflow": null,
            "overflow_x": null,
            "overflow_y": null,
            "padding": null,
            "right": null,
            "top": null,
            "visibility": null,
            "width": null
          }
        },
        "5c9f701070334df08920ea6d53a59d5e": {
          "model_module": "@jupyter-widgets/controls",
          "model_name": "DescriptionStyleModel",
          "model_module_version": "1.5.0",
          "state": {
            "_model_module": "@jupyter-widgets/controls",
            "_model_module_version": "1.5.0",
            "_model_name": "DescriptionStyleModel",
            "_view_count": null,
            "_view_module": "@jupyter-widgets/base",
            "_view_module_version": "1.2.0",
            "_view_name": "StyleView",
            "description_width": ""
          }
        }
      }
    }
  },
  "nbformat_minor": 0,
  "nbformat": 4,
  "cells": [
    {
      "cell_type": "markdown",
      "source": [
        "# AlBert for Nepali (NepCov19Tweets) Sentiment Analysis.\n",
        "**Sentiment Analysis on NepCov19Tweets Dataset, a collection of tweets in Nepali (Devnagari Script) regarding/during pandemic period.**"
      ],
      "metadata": {
        "id": "TMdzmqkRjH7X"
      }
    },
    {
      "cell_type": "code",
      "source": [
        "!pip install transformers datasets huggingface-hub --quiet"
      ],
      "metadata": {
        "id": "_IvB0m23kDSF"
      },
      "execution_count": 18,
      "outputs": []
    },
    {
      "cell_type": "code",
      "source": [
        "import numpy as np\n",
        "import random\n",
        "import os\n",
        "import tensorflow as tf\n",
        "from transformers import set_seed\n",
        "\n",
        "rand_seed = 99\n",
        "\n",
        "def seed_everything(seed=0):\n",
        "    random.seed(seed)\n",
        "    os.environ['PYTHONHASHSEED'] = str(seed)\n",
        "    np.random.seed(seed)\n",
        "    tf.keras.utils.set_random_seed(seed)\n",
        "    set_seed(seed)\n",
        "    \n",
        "seed_everything(rand_seed)"
      ],
      "metadata": {
        "execution": {
          "iopub.status.busy": "2023-05-31T01:25:55.328578Z",
          "iopub.execute_input": "2023-05-31T01:25:55.328846Z",
          "iopub.status.idle": "2023-05-31T01:26:09.078709Z",
          "shell.execute_reply.started": "2023-05-31T01:25:55.328821Z",
          "shell.execute_reply": "2023-05-31T01:26:09.077583Z"
        },
        "trusted": true,
        "id": "EMmlG5VRjH7Z"
      },
      "execution_count": 19,
      "outputs": []
    },
    {
      "cell_type": "markdown",
      "source": [
        "## Model Selection and Preparation"
      ],
      "metadata": {
        "id": "X7EjkQevjH7b"
      }
    },
    {
      "cell_type": "markdown",
      "source": [
        "### Loading Model\n",
        "**and model hyper-parameter tuning**"
      ],
      "metadata": {
        "id": "I5um4fZLjH7b"
      }
    },
    {
      "cell_type": "code",
      "source": [
        "from transformers import TFAutoModelForSequenceClassification\n",
        "\n",
        "model = TFAutoModelForSequenceClassification.from_pretrained('albert-base-v2',\n",
        "            id2label={0:\"NEUTRAL\",1:\"POSITIVE\",2:\"NEGATIVE\"},\n",
        "            label2id={\"NEUTRAL\":0,\"POSITIVE\":1,\"NEGATIVE\":2})"
      ],
      "metadata": {
        "execution": {
          "iopub.status.busy": "2023-05-31T01:26:09.080741Z",
          "iopub.execute_input": "2023-05-31T01:26:09.081506Z",
          "iopub.status.idle": "2023-05-31T01:26:23.353567Z",
          "shell.execute_reply.started": "2023-05-31T01:26:09.081471Z",
          "shell.execute_reply": "2023-05-31T01:26:23.352721Z"
        },
        "trusted": true,
        "id": "FNFb_zYSjH7b",
        "outputId": "f5577715-5477-468a-baab-2f3114ddebdf",
        "colab": {
          "base_uri": "https://localhost:8080/"
        }
      },
      "execution_count": 20,
      "outputs": [
        {
          "output_type": "stream",
          "name": "stderr",
          "text": [
            "All model checkpoint layers were used when initializing TFAlbertForSequenceClassification.\n",
            "\n",
            "Some layers of TFAlbertForSequenceClassification were not initialized from the model checkpoint at albert-base-v2 and are newly initialized: ['classifier']\n",
            "You should probably TRAIN this model on a down-stream task to be able to use it for predictions and inference.\n"
          ]
        }
      ]
    },
    {
      "cell_type": "code",
      "source": [
        "print(model.summary())\n",
        "model.config"
      ],
      "metadata": {
        "execution": {
          "iopub.status.busy": "2023-05-31T01:26:23.355076Z",
          "iopub.execute_input": "2023-05-31T01:26:23.355399Z",
          "iopub.status.idle": "2023-05-31T01:26:23.384064Z",
          "shell.execute_reply.started": "2023-05-31T01:26:23.355372Z",
          "shell.execute_reply": "2023-05-31T01:26:23.383190Z"
        },
        "trusted": true,
        "id": "IXotgdw0jH7c",
        "outputId": "7ef1d744-a150-412d-a67c-cd3e06baa263",
        "colab": {
          "base_uri": "https://localhost:8080/"
        }
      },
      "execution_count": 21,
      "outputs": [
        {
          "output_type": "stream",
          "name": "stdout",
          "text": [
            "Model: \"tf_albert_for_sequence_classification_1\"\n",
            "_________________________________________________________________\n",
            " Layer (type)                Output Shape              Param #   \n",
            "=================================================================\n",
            " albert (TFAlbertMainLayer)  multiple                  11683584  \n",
            "                                                                 \n",
            " dropout_9 (Dropout)         multiple                  0         \n",
            "                                                                 \n",
            " classifier (Dense)          multiple                  2307      \n",
            "                                                                 \n",
            "=================================================================\n",
            "Total params: 11,685,891\n",
            "Trainable params: 11,685,891\n",
            "Non-trainable params: 0\n",
            "_________________________________________________________________\n",
            "None\n"
          ]
        },
        {
          "output_type": "execute_result",
          "data": {
            "text/plain": [
              "AlbertConfig {\n",
              "  \"_name_or_path\": \"albert-base-v2\",\n",
              "  \"architectures\": [\n",
              "    \"AlbertForMaskedLM\"\n",
              "  ],\n",
              "  \"attention_probs_dropout_prob\": 0,\n",
              "  \"bos_token_id\": 2,\n",
              "  \"classifier_dropout_prob\": 0.1,\n",
              "  \"down_scale_factor\": 1,\n",
              "  \"embedding_size\": 128,\n",
              "  \"eos_token_id\": 3,\n",
              "  \"gap_size\": 0,\n",
              "  \"hidden_act\": \"gelu_new\",\n",
              "  \"hidden_dropout_prob\": 0,\n",
              "  \"hidden_size\": 768,\n",
              "  \"id2label\": {\n",
              "    \"0\": \"NEUTRAL\",\n",
              "    \"1\": \"POSITIVE\",\n",
              "    \"2\": \"NEGATIVE\"\n",
              "  },\n",
              "  \"initializer_range\": 0.02,\n",
              "  \"inner_group_num\": 1,\n",
              "  \"intermediate_size\": 3072,\n",
              "  \"label2id\": {\n",
              "    \"NEGATIVE\": 2,\n",
              "    \"NEUTRAL\": 0,\n",
              "    \"POSITIVE\": 1\n",
              "  },\n",
              "  \"layer_norm_eps\": 1e-12,\n",
              "  \"max_position_embeddings\": 512,\n",
              "  \"model_type\": \"albert\",\n",
              "  \"net_structure_type\": 0,\n",
              "  \"num_attention_heads\": 12,\n",
              "  \"num_hidden_groups\": 1,\n",
              "  \"num_hidden_layers\": 12,\n",
              "  \"num_memory_blocks\": 0,\n",
              "  \"pad_token_id\": 0,\n",
              "  \"position_embedding_type\": \"absolute\",\n",
              "  \"transformers_version\": \"4.29.2\",\n",
              "  \"type_vocab_size\": 2,\n",
              "  \"vocab_size\": 30000\n",
              "}"
            ]
          },
          "metadata": {},
          "execution_count": 21
        }
      ]
    },
    {
      "cell_type": "markdown",
      "source": [
        "### Optimizer Selection and Hyperparameter Tuning"
      ],
      "metadata": {
        "id": "C_PAA_9TjH7c"
      }
    },
    {
      "cell_type": "code",
      "source": [
        "from transformers import create_optimizer, AdamWeightDecay\n",
        "\n",
        "optimizer = AdamWeightDecay(learning_rate=5e-6, weight_decay_rate=0.001)\n",
        "model.compile(optimizer=optimizer)"
      ],
      "metadata": {
        "execution": {
          "iopub.status.busy": "2023-05-31T01:26:23.386462Z",
          "iopub.execute_input": "2023-05-31T01:26:23.387725Z",
          "iopub.status.idle": "2023-05-31T01:26:23.408933Z",
          "shell.execute_reply.started": "2023-05-31T01:26:23.387694Z",
          "shell.execute_reply": "2023-05-31T01:26:23.408116Z"
        },
        "trusted": true,
        "id": "Tc2EYzWXjH7c",
        "outputId": "ba9ae419-7dbe-46f3-a315-849e9ab6cf53",
        "colab": {
          "base_uri": "https://localhost:8080/"
        }
      },
      "execution_count": 22,
      "outputs": [
        {
          "output_type": "stream",
          "name": "stderr",
          "text": [
            "No loss specified in compile() - the model's internal loss computation will be used as the loss. Don't panic - this is a common way to train TensorFlow models in Transformers! To disable this behaviour please pass a loss argument, or explicitly pass `loss=None` if you do not want your model to compute a loss.\n"
          ]
        }
      ]
    },
    {
      "cell_type": "markdown",
      "source": [
        "# Dataset Selection and Prepartion"
      ],
      "metadata": {
        "id": "cN5AVf-7jH7c"
      }
    },
    {
      "cell_type": "markdown",
      "source": [
        "**Loading Dataset**"
      ],
      "metadata": {
        "id": "8sd0EAYhjH7d"
      }
    },
    {
      "cell_type": "code",
      "source": [
        "import datasets\n",
        "\n",
        "data = datasets.load_dataset(\"raygx/NepCov19TweetsPlus\")\n",
        "data = data.shuffle(rand_seed)\n",
        "data = data['train'].train_test_split(test_size=0.2)\n",
        "data = data.rename_columns({\"Sentences\":\"text\",\"Sentiment\":\"labels\"})\n",
        "data"
      ],
      "metadata": {
        "execution": {
          "iopub.status.busy": "2023-05-31T01:26:23.410153Z",
          "iopub.execute_input": "2023-05-31T01:26:23.410831Z",
          "iopub.status.idle": "2023-05-31T01:26:25.551894Z",
          "shell.execute_reply.started": "2023-05-31T01:26:23.410800Z",
          "shell.execute_reply": "2023-05-31T01:26:25.550611Z"
        },
        "trusted": true,
        "id": "rpIfyUb7jH7d",
        "outputId": "a4b04674-a56a-4099-9806-753c0f2d9679",
        "colab": {
          "referenced_widgets": [
            "4665bd8605a04b4cb042c3d43cc022eb",
            "5835e000ae0b4637bdce421c358d98e7",
            "46919d65d9a4405ea415c29dae902ae5",
            "e346536561df4ed5b008f1658f96db5f",
            "d236d049665647e0bb6199585bb6aa56",
            "601ec070204a4ed785f2e48ae1becc57",
            "756c48417fca4fc49eed678c0f2b5a8d",
            "c26e02fadb62446d967e7d8084124d24",
            "d7abccd0395c4fc4ad5bae42113ba34a",
            "f66b0f438a6742718ec7e77ee08eb28d",
            "5c9f701070334df08920ea6d53a59d5e"
          ],
          "base_uri": "https://localhost:8080/",
          "height": 300
        }
      },
      "execution_count": 23,
      "outputs": [
        {
          "output_type": "stream",
          "name": "stderr",
          "text": [
            "WARNING:datasets.builder:Found cached dataset parquet (/root/.cache/huggingface/datasets/raygx___parquet/raygx--NepCov19TweetsPlus-ce0effd6da77cd1f/0.0.0/2a3b91fbd88a2c90d1dbbb32b460cf621d31bd5b05b934492fdef7d8d6f236ec)\n"
          ]
        },
        {
          "output_type": "display_data",
          "data": {
            "text/plain": [
              "  0%|          | 0/1 [00:00<?, ?it/s]"
            ],
            "application/vnd.jupyter.widget-view+json": {
              "version_major": 2,
              "version_minor": 0,
              "model_id": "4665bd8605a04b4cb042c3d43cc022eb"
            }
          },
          "metadata": {}
        },
        {
          "output_type": "stream",
          "name": "stderr",
          "text": [
            "WARNING:datasets.arrow_dataset:Loading cached shuffled indices for dataset at /root/.cache/huggingface/datasets/raygx___parquet/raygx--NepCov19TweetsPlus-ce0effd6da77cd1f/0.0.0/2a3b91fbd88a2c90d1dbbb32b460cf621d31bd5b05b934492fdef7d8d6f236ec/cache-db79877cb71e086f.arrow\n",
            "WARNING:datasets.arrow_dataset:Loading cached split indices for dataset at /root/.cache/huggingface/datasets/raygx___parquet/raygx--NepCov19TweetsPlus-ce0effd6da77cd1f/0.0.0/2a3b91fbd88a2c90d1dbbb32b460cf621d31bd5b05b934492fdef7d8d6f236ec/cache-e3f50723bb93bb12.arrow and /root/.cache/huggingface/datasets/raygx___parquet/raygx--NepCov19TweetsPlus-ce0effd6da77cd1f/0.0.0/2a3b91fbd88a2c90d1dbbb32b460cf621d31bd5b05b934492fdef7d8d6f236ec/cache-c668aeeab7b360f9.arrow\n"
          ]
        },
        {
          "output_type": "execute_result",
          "data": {
            "text/plain": [
              "DatasetDict({\n",
              "    train: Dataset({\n",
              "        features: ['labels', 'text'],\n",
              "        num_rows: 33240\n",
              "    })\n",
              "    test: Dataset({\n",
              "        features: ['labels', 'text'],\n",
              "        num_rows: 8310\n",
              "    })\n",
              "})"
            ]
          },
          "metadata": {},
          "execution_count": 23
        }
      ]
    },
    {
      "cell_type": "markdown",
      "source": [
        "### Label Encoding"
      ],
      "metadata": {
        "id": "7CwaSwX_jH7d"
      }
    },
    {
      "cell_type": "code",
      "source": [
        "%%time\n",
        "def LabelEncoding(x):\n",
        "    if x['labels']==0:\n",
        "        x['labels'] = 0#[1,0,0]\n",
        "    if x['labels']==1:\n",
        "        x['labels'] =  1#[0,1,0]\n",
        "    if x['labels']==-1:\n",
        "        x['labels'] =  2#[0,0,1]\n",
        "    \n",
        "    return x\n",
        "\n",
        "data = data.map(\n",
        "        LabelEncoding,\n",
        "        num_proc=4)\n",
        "\n",
        "data"
      ],
      "metadata": {
        "execution": {
          "iopub.status.busy": "2023-05-31T01:26:25.553706Z",
          "iopub.execute_input": "2023-05-31T01:26:25.554548Z",
          "iopub.status.idle": "2023-05-31T01:26:30.881506Z",
          "shell.execute_reply.started": "2023-05-31T01:26:25.554509Z",
          "shell.execute_reply": "2023-05-31T01:26:30.880485Z"
        },
        "trusted": true,
        "id": "K7eXVCx7jH7d",
        "outputId": "efc0d169-dd2f-401a-8f2a-90ba533f601c",
        "colab": {
          "base_uri": "https://localhost:8080/"
        }
      },
      "execution_count": 24,
      "outputs": [
        {
          "output_type": "stream",
          "name": "stderr",
          "text": [
            "WARNING:datasets.arrow_dataset:Loading cached processed dataset at /root/.cache/huggingface/datasets/raygx___parquet/raygx--NepCov19TweetsPlus-ce0effd6da77cd1f/0.0.0/2a3b91fbd88a2c90d1dbbb32b460cf621d31bd5b05b934492fdef7d8d6f236ec/cache-2d68bbfd178cec84_*_of_00004.arrow\n",
            "WARNING:datasets.arrow_dataset:Loading cached processed dataset at /root/.cache/huggingface/datasets/raygx___parquet/raygx--NepCov19TweetsPlus-ce0effd6da77cd1f/0.0.0/2a3b91fbd88a2c90d1dbbb32b460cf621d31bd5b05b934492fdef7d8d6f236ec/cache-eb0c92e2e531cd7a_*_of_00004.arrow\n"
          ]
        },
        {
          "output_type": "stream",
          "name": "stdout",
          "text": [
            "CPU times: user 24.6 ms, sys: 4.02 ms, total: 28.6 ms\n",
            "Wall time: 29.2 ms\n"
          ]
        },
        {
          "output_type": "execute_result",
          "data": {
            "text/plain": [
              "DatasetDict({\n",
              "    train: Dataset({\n",
              "        features: ['labels', 'text'],\n",
              "        num_rows: 33240\n",
              "    })\n",
              "    test: Dataset({\n",
              "        features: ['labels', 'text'],\n",
              "        num_rows: 8310\n",
              "    })\n",
              "})"
            ]
          },
          "metadata": {},
          "execution_count": 24
        }
      ]
    },
    {
      "cell_type": "markdown",
      "source": [
        "### Tokenization"
      ],
      "metadata": {
        "id": "jIqakNy5jH7e"
      }
    },
    {
      "cell_type": "code",
      "source": [
        "from transformers import AlbertTokenizerFast\n",
        "\n",
        "tokenizer = AlbertTokenizerFast.from_pretrained('raygx/Covid-News-Headline-Generator')"
      ],
      "metadata": {
        "execution": {
          "iopub.status.busy": "2023-05-31T01:26:30.883566Z",
          "iopub.execute_input": "2023-05-31T01:26:30.883958Z",
          "iopub.status.idle": "2023-05-31T01:26:31.897515Z",
          "shell.execute_reply.started": "2023-05-31T01:26:30.883919Z",
          "shell.execute_reply": "2023-05-31T01:26:31.896386Z"
        },
        "trusted": true,
        "id": "9JrrpsvujH7f",
        "outputId": "59dde01d-7408-406a-cb29-bb262aba0cc9",
        "colab": {
          "base_uri": "https://localhost:8080/"
        }
      },
      "execution_count": 25,
      "outputs": [
        {
          "output_type": "stream",
          "name": "stderr",
          "text": [
            "The tokenizer class you load from this checkpoint is not the same type as the class this function is called from. It may result in unexpected tokenization. \n",
            "The tokenizer class you load from this checkpoint is 'PreTrainedTokenizerFast'. \n",
            "The class this function is called from is 'AlbertTokenizerFast'.\n",
            "Special tokens have been added in the vocabulary, make sure the associated word embeddings are fine-tuned or trained.\n"
          ]
        }
      ]
    },
    {
      "cell_type": "code",
      "source": [
        "%%time\n",
        "\n",
        "def preprocess_function(rows):\n",
        "    return globals()['tokenizer'](rows['text'],truncation=True)\n",
        "\n",
        "print(\"Tokenizing the data\")\n",
        "tokenized_inputs = data.map(\n",
        "    preprocess_function,\n",
        "    batched=True,\n",
        "    num_proc=2,\n",
        "    remove_columns=data[\"train\"].column_names,\n",
        ")\n",
        "tokenized_inputs = tokenized_inputs.remove_columns(['token_type_ids'])\n",
        "\n",
        "tokenized_inputs['train'] = tokenized_inputs['train'].add_column(\n",
        "    name=\"labels\",column=data['train']['labels']\n",
        ")\n",
        "tokenized_inputs['test'] = tokenized_inputs['test'].add_column(\n",
        "    name=\"labels\",column=data['test']['labels']\n",
        ")\n",
        "\n",
        "tokenized_inputs"
      ],
      "metadata": {
        "execution": {
          "iopub.status.busy": "2023-05-31T01:26:31.899175Z",
          "iopub.execute_input": "2023-05-31T01:26:31.899527Z",
          "iopub.status.idle": "2023-05-31T01:26:38.493335Z",
          "shell.execute_reply.started": "2023-05-31T01:26:31.899494Z",
          "shell.execute_reply": "2023-05-31T01:26:38.492270Z"
        },
        "trusted": true,
        "id": "yEGXFNEwjH7f",
        "outputId": "5bf9b610-65b6-407b-fdd3-e469d54f1740",
        "colab": {
          "base_uri": "https://localhost:8080/"
        }
      },
      "execution_count": 26,
      "outputs": [
        {
          "output_type": "stream",
          "name": "stderr",
          "text": [
            "WARNING:datasets.arrow_dataset:Loading cached processed dataset at /root/.cache/huggingface/datasets/raygx___parquet/raygx--NepCov19TweetsPlus-ce0effd6da77cd1f/0.0.0/2a3b91fbd88a2c90d1dbbb32b460cf621d31bd5b05b934492fdef7d8d6f236ec/cache-311aa7b19cf4d986_*_of_00002.arrow\n",
            "WARNING:datasets.arrow_dataset:Loading cached processed dataset at /root/.cache/huggingface/datasets/raygx___parquet/raygx--NepCov19TweetsPlus-ce0effd6da77cd1f/0.0.0/2a3b91fbd88a2c90d1dbbb32b460cf621d31bd5b05b934492fdef7d8d6f236ec/cache-2050683714827af6_*_of_00002.arrow\n"
          ]
        },
        {
          "output_type": "stream",
          "name": "stdout",
          "text": [
            "Tokenizing the data\n",
            "CPU times: user 116 ms, sys: 3.98 ms, total: 120 ms\n",
            "Wall time: 124 ms\n"
          ]
        },
        {
          "output_type": "execute_result",
          "data": {
            "text/plain": [
              "DatasetDict({\n",
              "    train: Dataset({\n",
              "        features: ['input_ids', 'attention_mask', 'labels'],\n",
              "        num_rows: 33240\n",
              "    })\n",
              "    test: Dataset({\n",
              "        features: ['input_ids', 'attention_mask', 'labels'],\n",
              "        num_rows: 8310\n",
              "    })\n",
              "})"
            ]
          },
          "metadata": {},
          "execution_count": 26
        }
      ]
    },
    {
      "cell_type": "markdown",
      "source": [
        "### Initializing the Data Collator"
      ],
      "metadata": {
        "id": "2ftWJ3LfjH7f"
      }
    },
    {
      "cell_type": "code",
      "source": [
        "from transformers import DataCollatorWithPadding\n",
        "\n",
        "print(\"Initializing Data Collator\")\n",
        "data_collator = DataCollatorWithPadding(tokenizer=tokenizer, \n",
        "                                        max_length=128,\n",
        "                                        return_tensors=\"tf\")"
      ],
      "metadata": {
        "execution": {
          "iopub.status.busy": "2023-05-31T01:26:38.495311Z",
          "iopub.execute_input": "2023-05-31T01:26:38.495977Z",
          "iopub.status.idle": "2023-05-31T01:26:38.503017Z",
          "shell.execute_reply.started": "2023-05-31T01:26:38.495937Z",
          "shell.execute_reply": "2023-05-31T01:26:38.502024Z"
        },
        "trusted": true,
        "id": "Ya45ewBYjH7f",
        "outputId": "a47b2949-a744-4a18-e89c-1bf06d9fec96",
        "colab": {
          "base_uri": "https://localhost:8080/"
        }
      },
      "execution_count": 27,
      "outputs": [
        {
          "output_type": "stream",
          "name": "stdout",
          "text": [
            "Initializing Data Collator\n"
          ]
        }
      ]
    },
    {
      "cell_type": "code",
      "source": [
        "print(\"Preparing Training and Testing sets to TRAIN the MODEL\")\n",
        "tf_train_set = model.prepare_tf_dataset(\n",
        "    tokenized_inputs[\"train\"],\n",
        "    shuffle=True,\n",
        "    batch_size=16,\n",
        "    collate_fn=data_collator,\n",
        ")\n",
        "\n",
        "tf_test_set = model.prepare_tf_dataset(\n",
        "    tokenized_inputs[\"test\"],\n",
        "    shuffle=False,\n",
        "    batch_size=16,\n",
        "    collate_fn=data_collator,\n",
        ")"
      ],
      "metadata": {
        "execution": {
          "iopub.status.busy": "2023-05-31T01:26:38.507400Z",
          "iopub.execute_input": "2023-05-31T01:26:38.507937Z",
          "iopub.status.idle": "2023-05-31T01:26:38.949433Z",
          "shell.execute_reply.started": "2023-05-31T01:26:38.507911Z",
          "shell.execute_reply": "2023-05-31T01:26:38.948509Z"
        },
        "trusted": true,
        "id": "Q2jUNoG9jH7g",
        "outputId": "d9a2a53d-450e-443a-9397-3000527e5eb0",
        "colab": {
          "base_uri": "https://localhost:8080/"
        }
      },
      "execution_count": 28,
      "outputs": [
        {
          "output_type": "stream",
          "name": "stderr",
          "text": [
            "You're using a AlbertTokenizerFast tokenizer. Please note that with a fast tokenizer, using the `__call__` method is faster than using a method to encode the text followed by a call to the `pad` method to get a padded encoding.\n",
            "/usr/local/lib/python3.10/dist-packages/transformers/tokenization_utils_base.py:2382: UserWarning: `max_length` is ignored when `padding`=`True` and there is no truncation strategy. To pad to max length, use `padding='max_length'`.\n",
            "  warnings.warn(\n"
          ]
        },
        {
          "output_type": "stream",
          "name": "stdout",
          "text": [
            "Preparing Training and Testing sets to TRAIN the MODEL\n"
          ]
        }
      ]
    },
    {
      "cell_type": "markdown",
      "source": [
        "## Training and Evaluation"
      ],
      "metadata": {
        "id": "83dGmfEVjH7g"
      }
    },
    {
      "cell_type": "code",
      "source": [
        "%%time\n",
        "\n",
        "n_epoch = 4\n",
        "\n",
        "print(\"Training the model\")\n",
        "history = model.fit(x=tf_train_set, \n",
        "          validation_data=tf_test_set,\n",
        "          epochs=n_epoch)"
      ],
      "metadata": {
        "execution": {
          "iopub.status.busy": "2023-05-31T01:26:38.950877Z",
          "iopub.execute_input": "2023-05-31T01:26:38.951206Z",
          "iopub.status.idle": "2023-05-31T01:34:18.892831Z",
          "shell.execute_reply.started": "2023-05-31T01:26:38.951173Z",
          "shell.execute_reply": "2023-05-31T01:34:18.891724Z"
        },
        "trusted": true,
        "id": "p3s2w0VGjH7g",
        "outputId": "ff30891e-3409-458a-a9e8-633fc5fdd455",
        "colab": {
          "base_uri": "https://localhost:8080/"
        }
      },
      "execution_count": 29,
      "outputs": [
        {
          "output_type": "stream",
          "name": "stdout",
          "text": [
            "Training the model\n",
            "Epoch 1/4\n",
            "2077/2077 [==============================] - 417s 190ms/step - loss: 0.9286 - val_loss: 0.7834\n",
            "Epoch 2/4\n",
            "2077/2077 [==============================] - 386s 186ms/step - loss: 0.7348 - val_loss: 0.7412\n",
            "Epoch 3/4\n",
            "2077/2077 [==============================] - 386s 186ms/step - loss: 0.6478 - val_loss: 0.6834\n",
            "Epoch 4/4\n",
            "2077/2077 [==============================] - 387s 186ms/step - loss: 0.5620 - val_loss: 0.6788\n",
            "CPU times: user 21min 14s, sys: 1min 19s, total: 22min 33s\n",
            "Wall time: 29min 50s\n"
          ]
        }
      ]
    },
    {
      "cell_type": "markdown",
      "source": [
        "**Loss Graph Visualization**"
      ],
      "metadata": {
        "id": "2C5ICwESjH7g"
      }
    },
    {
      "cell_type": "code",
      "source": [
        "import seaborn\n",
        "\n",
        "seaborn.lineplot(history.history['loss'])\n",
        "seaborn.lineplot(history.history['val_loss'])"
      ],
      "metadata": {
        "execution": {
          "iopub.status.busy": "2023-05-31T01:34:18.894527Z",
          "iopub.execute_input": "2023-05-31T01:34:18.894906Z",
          "iopub.status.idle": "2023-05-31T01:34:19.357528Z",
          "shell.execute_reply.started": "2023-05-31T01:34:18.894871Z",
          "shell.execute_reply": "2023-05-31T01:34:19.356501Z"
        },
        "trusted": true,
        "id": "cn1RHh-4jH7g",
        "outputId": "8506b23d-0bd6-4ab4-87e9-5cbc4d56b381",
        "colab": {
          "base_uri": "https://localhost:8080/",
          "height": 448
        }
      },
      "execution_count": 30,
      "outputs": [
        {
          "output_type": "execute_result",
          "data": {
            "text/plain": [
              "<Axes: >"
            ]
          },
          "metadata": {},
          "execution_count": 30
        },
        {
          "output_type": "display_data",
          "data": {
            "text/plain": [
              "<Figure size 640x480 with 1 Axes>"
            ],
            "image/png": "[encoded data removed]"
          },
          "metadata": {}
        }
      ]
    },
    {
      "cell_type": "markdown",
      "source": [
        "### Evaluation"
      ],
      "metadata": {
        "id": "B6N2jLxXjH7g"
      }
    },
    {
      "cell_type": "code",
      "source": [
        "%%time\n",
        "from transformers import pipeline, TextClassificationPipeline\n",
        "\n",
        "print(\"Getting Test Prediction\")\n",
        "pipe = pipeline('sentiment-analysis',model=model,tokenizer=tokenizer,device=1)\n",
        "prediction = pipe(data['test']['text'])\n",
        "pred_labels = [model.config.label2id[x['label']] for x in prediction]\n",
        "\n",
        "actual_labels = data['test']['labels']"
      ],
      "metadata": {
        "execution": {
          "iopub.status.busy": "2023-05-31T02:02:54.362768Z",
          "iopub.execute_input": "2023-05-31T02:02:54.363841Z",
          "iopub.status.idle": "2023-05-31T02:02:54.538393Z",
          "shell.execute_reply.started": "2023-05-31T02:02:54.363804Z",
          "shell.execute_reply": "2023-05-31T02:02:54.537466Z"
        },
        "trusted": true,
        "id": "taFXoL6ljH7g",
        "outputId": "3729d82b-8a4c-4db9-f073-1b1aab74651b",
        "colab": {
          "base_uri": "https://localhost:8080/"
        }
      },
      "execution_count": 31,
      "outputs": [
        {
          "output_type": "stream",
          "name": "stdout",
          "text": [
            "Getting Test Prediction\n",
            "CPU times: user 29min 9s, sys: 6.58 s, total: 29min 15s\n",
            "Wall time: 29min 28s\n"
          ]
        }
      ]
    },
    {
      "cell_type": "markdown",
      "source": [
        "**Computing F1-Score, Precision, Recall and Accuracy of the Model**"
      ],
      "metadata": {
        "id": "Gd8rE5tbjH7h"
      }
    },
    {
      "cell_type": "code",
      "source": [
        "from sklearn.metrics import f1_score, precision_score, recall_score, accuracy_score\n",
        "\n",
        "print(\"F1-Score\",f1_score(actual_labels,pred_labels,average='weighted'))\n",
        "print(\"Precision-Score\",precision_score(actual_labels,pred_labels,average='weighted'))\n",
        "print(\"Recall-Score\",recall_score(actual_labels,pred_labels,average='weighted'))\n",
        "print(\"accuracy_Score\",accuracy_score(actual_labels,pred_labels))"
      ],
      "metadata": {
        "execution": {
          "iopub.status.busy": "2023-05-31T01:34:22.221654Z",
          "iopub.execute_input": "2023-05-31T01:34:22.222025Z",
          "iopub.status.idle": "2023-05-31T01:34:22.415226Z",
          "shell.execute_reply.started": "2023-05-31T01:34:22.221990Z",
          "shell.execute_reply": "2023-05-31T01:34:22.413754Z"
        },
        "trusted": true,
        "id": "TmqQpBcHjH7h",
        "outputId": "33bb39b5-e23a-4cd6-97aa-6db162b30218",
        "colab": {
          "base_uri": "https://localhost:8080/"
        }
      },
      "execution_count": 32,
      "outputs": [
        {
          "output_type": "stream",
          "name": "stdout",
          "text": [
            "F1-Score 0.7026398594889529\n",
            "Precision-Score 0.711315229376247\n",
            "Recall-Score 0.7016847172081829\n",
            "accuracy_Score 0.7016847172081829\n"
          ]
        }
      ]
    },
    {
      "cell_type": "code",
      "source": [
        "from sklearn.metrics import ConfusionMatrixDisplay\n",
        "import matplotlib.pyplot as plt\n",
        "\n",
        "cmd = ConfusionMatrixDisplay(tf.math.confusion_matrix(actual_labels,pred_labels,num_classes=3).numpy())\n",
        "cmd.plot()"
      ],
      "metadata": {
        "execution": {
          "iopub.status.busy": "2023-05-31T01:34:22.416703Z",
          "iopub.status.idle": "2023-05-31T01:34:22.417251Z",
          "shell.execute_reply.started": "2023-05-31T01:34:22.416974Z",
          "shell.execute_reply": "2023-05-31T01:34:22.417000Z"
        },
        "trusted": true,
        "id": "RoMD7q7FjH7h",
        "colab": {
          "base_uri": "https://localhost:8080/",
          "height": 467
        },
        "outputId": "b188ad66-dcd4-4c7c-be73-ae7e385df12f"
      },
      "execution_count": 33,
      "outputs": [
        {
          "output_type": "execute_result",
          "data": {
            "text/plain": [
              "<sklearn.metrics._plot.confusion_matrix.ConfusionMatrixDisplay at 0x7f5798838c10>"
            ]
          },
          "metadata": {},
          "execution_count": 33
        },
        {
          "output_type": "display_data",
          "data": {
            "text/plain": [
              "<Figure size 640x480 with 2 Axes>"
            ],
            "image/png": "[encoded data removed]"
          },
          "metadata": {}
        }
      ]
    },
    {
      "cell_type": "code",
      "source": [],
      "metadata": {
        "id": "1hKpkIj0kMXo"
      },
      "execution_count": 33,
      "outputs": []
    }
  ]
}