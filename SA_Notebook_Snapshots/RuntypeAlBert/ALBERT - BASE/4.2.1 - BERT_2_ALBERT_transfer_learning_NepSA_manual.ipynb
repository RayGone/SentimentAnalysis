{
  "metadata": {
    "kernelspec": {
      "display_name": "Python 3",
      "name": "python3"
    },
    "language_info": {
      "name": "python",
      "version": "3.10.10",
      "mimetype": "text/x-python",
      "codemirror_mode": {
        "name": "ipython",
        "version": 3
      },
      "pygments_lexer": "ipython3",
      "nbconvert_exporter": "python",
      "file_extension": ".py"
    },
    "colab": {
      "provenance": [],
      "gpuType": "T4"
    },
    "accelerator": "GPU",
    "widgets": {
      "application/vnd.jupyter.widget-state+json": {
        "ce86cd3d6aab4e84bf098385fb85426b": {
          "model_module": "@jupyter-widgets/controls",
          "model_name": "HBoxModel",
          "model_module_version": "1.5.0",
          "state": {
            "_dom_classes": [],
            "_model_module": "@jupyter-widgets/controls",
            "_model_module_version": "1.5.0",
            "_model_name": "HBoxModel",
            "_view_count": null,
            "_view_module": "@jupyter-widgets/controls",
            "_view_module_version": "1.5.0",
            "_view_name": "HBoxView",
            "box_style": "",
            "children": [
              "IPY_MODEL_935e10bc1cd4478fb8ce65f4cd3e1f76",
              "IPY_MODEL_29355ecd49f440e9a3f298e61d44a727",
              "IPY_MODEL_0cd17b16724641b8b139a97607627fcf"
            ],
            "layout": "IPY_MODEL_16e34b47cfc04d15bacf0e80a02b8f90"
          }
        },
        "935e10bc1cd4478fb8ce65f4cd3e1f76": {
          "model_module": "@jupyter-widgets/controls",
          "model_name": "HTMLModel",
          "model_module_version": "1.5.0",
          "state": {
            "_dom_classes": [],
            "_model_module": "@jupyter-widgets/controls",
            "_model_module_version": "1.5.0",
            "_model_name": "HTMLModel",
            "_view_count": null,
            "_view_module": "@jupyter-widgets/controls",
            "_view_module_version": "1.5.0",
            "_view_name": "HTMLView",
            "description": "",
            "description_tooltip": null,
            "layout": "IPY_MODEL_b78c65f714f242bea54894869ac6bccf",
            "placeholder": "​",
            "style": "IPY_MODEL_aa66b6fac51a4d9ebf2f18d60479c055",
            "value": "Downloading (…)lve/main/config.json: 100%"
          }
        },
        "29355ecd49f440e9a3f298e61d44a727": {
          "model_module": "@jupyter-widgets/controls",
          "model_name": "FloatProgressModel",
          "model_module_version": "1.5.0",
          "state": {
            "_dom_classes": [],
            "_model_module": "@jupyter-widgets/controls",
            "_model_module_version": "1.5.0",
            "_model_name": "FloatProgressModel",
            "_view_count": null,
            "_view_module": "@jupyter-widgets/controls",
            "_view_module_version": "1.5.0",
            "_view_name": "ProgressView",
            "bar_style": "success",
            "description": "",
            "description_tooltip": null,
            "layout": "IPY_MODEL_e4ebf56ad25141e397518961fcc608cc",
            "max": 684,
            "min": 0,
            "orientation": "horizontal",
            "style": "IPY_MODEL_ee73fcdb4f0440b9b6445515bcee4a33",
            "value": 684
          }
        },
        "0cd17b16724641b8b139a97607627fcf": {
          "model_module": "@jupyter-widgets/controls",
          "model_name": "HTMLModel",
          "model_module_version": "1.5.0",
          "state": {
            "_dom_classes": [],
            "_model_module": "@jupyter-widgets/controls",
            "_model_module_version": "1.5.0",
            "_model_name": "HTMLModel",
            "_view_count": null,
            "_view_module": "@jupyter-widgets/controls",
            "_view_module_version": "1.5.0",
            "_view_name": "HTMLView",
            "description": "",
            "description_tooltip": null,
            "layout": "IPY_MODEL_a9290135e1d34a848a0fd6a9e02af628",
            "placeholder": "​",
            "style": "IPY_MODEL_4a566ec4d8ca4619b3b85760ac09d141",
            "value": " 684/684 [00:00&lt;00:00, 42.3kB/s]"
          }
        },
        "16e34b47cfc04d15bacf0e80a02b8f90": {
          "model_module": "@jupyter-widgets/base",
          "model_name": "LayoutModel",
          "model_module_version": "1.2.0",
          "state": {
            "_model_module": "@jupyter-widgets/base",
            "_model_module_version": "1.2.0",
            "_model_name": "LayoutModel",
            "_view_count": null,
            "_view_module": "@jupyter-widgets/base",
            "_view_module_version": "1.2.0",
            "_view_name": "LayoutView",
            "align_content": null,
            "align_items": null,
            "align_self": null,
            "border": null,
            "bottom": null,
            "display": null,
            "flex": null,
            "flex_flow": null,
            "grid_area": null,
            "grid_auto_columns": null,
            "grid_auto_flow": null,
            "grid_auto_rows": null,
            "grid_column": null,
            "grid_gap": null,
            "grid_row": null,
            "grid_template_areas": null,
            "grid_template_columns": null,
            "grid_template_rows": null,
            "height": null,
            "justify_content": null,
            "justify_items": null,
            "left": null,
            "margin": null,
            "max_height": null,
            "max_width": null,
            "min_height": null,
            "min_width": null,
            "object_fit": null,
            "object_position": null,
            "order": null,
            "overflow": null,
            "overflow_x": null,
            "overflow_y": null,
            "padding": null,
            "right": null,
            "top": null,
            "visibility": null,
            "width": null
          }
        },
        "b78c65f714f242bea54894869ac6bccf": {
          "model_module": "@jupyter-widgets/base",
          "model_name": "LayoutModel",
          "model_module_version": "1.2.0",
          "state": {
            "_model_module": "@jupyter-widgets/base",
            "_model_module_version": "1.2.0",
            "_model_name": "LayoutModel",
            "_view_count": null,
            "_view_module": "@jupyter-widgets/base",
            "_view_module_version": "1.2.0",
            "_view_name": "LayoutView",
            "align_content": null,
            "align_items": null,
            "align_self": null,
            "border": null,
            "bottom": null,
            "display": null,
            "flex": null,
            "flex_flow": null,
            "grid_area": null,
            "grid_auto_columns": null,
            "grid_auto_flow": null,
            "grid_auto_rows": null,
            "grid_column": null,
            "grid_gap": null,
            "grid_row": null,
            "grid_template_areas": null,
            "grid_template_columns": null,
            "grid_template_rows": null,
            "height": null,
            "justify_content": null,
            "justify_items": null,
            "left": null,
            "margin": null,
            "max_height": null,
            "max_width": null,
            "min_height": null,
            "min_width": null,
            "object_fit": null,
            "object_position": null,
            "order": null,
            "overflow": null,
            "overflow_x": null,
            "overflow_y": null,
            "padding": null,
            "right": null,
            "top": null,
            "visibility": null,
            "width": null
          }
        },
        "aa66b6fac51a4d9ebf2f18d60479c055": {
          "model_module": "@jupyter-widgets/controls",
          "model_name": "DescriptionStyleModel",
          "model_module_version": "1.5.0",
          "state": {
            "_model_module": "@jupyter-widgets/controls",
            "_model_module_version": "1.5.0",
            "_model_name": "DescriptionStyleModel",
            "_view_count": null,
            "_view_module": "@jupyter-widgets/base",
            "_view_module_version": "1.2.0",
            "_view_name": "StyleView",
            "description_width": ""
          }
        },
        "e4ebf56ad25141e397518961fcc608cc": {
          "model_module": "@jupyter-widgets/base",
          "model_name": "LayoutModel",
          "model_module_version": "1.2.0",
          "state": {
            "_model_module": "@jupyter-widgets/base",
            "_model_module_version": "1.2.0",
            "_model_name": "LayoutModel",
            "_view_count": null,
            "_view_module": "@jupyter-widgets/base",
            "_view_module_version": "1.2.0",
            "_view_name": "LayoutView",
            "align_content": null,
            "align_items": null,
            "align_self": null,
            "border": null,
            "bottom": null,
            "display": null,
            "flex": null,
            "flex_flow": null,
            "grid_area": null,
            "grid_auto_columns": null,
            "grid_auto_flow": null,
            "grid_auto_rows": null,
            "grid_column": null,
            "grid_gap": null,
            "grid_row": null,
            "grid_template_areas": null,
            "grid_template_columns": null,
            "grid_template_rows": null,
            "height": null,
            "justify_content": null,
            "justify_items": null,
            "left": null,
            "margin": null,
            "max_height": null,
            "max_width": null,
            "min_height": null,
            "min_width": null,
            "object_fit": null,
            "object_position": null,
            "order": null,
            "overflow": null,
            "overflow_x": null,
            "overflow_y": null,
            "padding": null,
            "right": null,
            "top": null,
            "visibility": null,
            "width": null
          }
        },
        "ee73fcdb4f0440b9b6445515bcee4a33": {
          "model_module": "@jupyter-widgets/controls",
          "model_name": "ProgressStyleModel",
          "model_module_version": "1.5.0",
          "state": {
            "_model_module": "@jupyter-widgets/controls",
            "_model_module_version": "1.5.0",
            "_model_name": "ProgressStyleModel",
            "_view_count": null,
            "_view_module": "@jupyter-widgets/base",
            "_view_module_version": "1.2.0",
            "_view_name": "StyleView",
            "bar_color": null,
            "description_width": ""
          }
        },
        "a9290135e1d34a848a0fd6a9e02af628": {
          "model_module": "@jupyter-widgets/base",
          "model_name": "LayoutModel",
          "model_module_version": "1.2.0",
          "state": {
            "_model_module": "@jupyter-widgets/base",
            "_model_module_version": "1.2.0",
            "_model_name": "LayoutModel",
            "_view_count": null,
            "_view_module": "@jupyter-widgets/base",
            "_view_module_version": "1.2.0",
            "_view_name": "LayoutView",
            "align_content": null,
            "align_items": null,
            "align_self": null,
            "border": null,
            "bottom": null,
            "display": null,
            "flex": null,
            "flex_flow": null,
            "grid_area": null,
            "grid_auto_columns": null,
            "grid_auto_flow": null,
            "grid_auto_rows": null,
            "grid_column": null,
            "grid_gap": null,
            "grid_row": null,
            "grid_template_areas": null,
            "grid_template_columns": null,
            "grid_template_rows": null,
            "height": null,
            "justify_content": null,
            "justify_items": null,
            "left": null,
            "margin": null,
            "max_height": null,
            "max_width": null,
            "min_height": null,
            "min_width": null,
            "object_fit": null,
            "object_position": null,
            "order": null,
            "overflow": null,
            "overflow_x": null,
            "overflow_y": null,
            "padding": null,
            "right": null,
            "top": null,
            "visibility": null,
            "width": null
          }
        },
        "4a566ec4d8ca4619b3b85760ac09d141": {
          "model_module": "@jupyter-widgets/controls",
          "model_name": "DescriptionStyleModel",
          "model_module_version": "1.5.0",
          "state": {
            "_model_module": "@jupyter-widgets/controls",
            "_model_module_version": "1.5.0",
            "_model_name": "DescriptionStyleModel",
            "_view_count": null,
            "_view_module": "@jupyter-widgets/base",
            "_view_module_version": "1.2.0",
            "_view_name": "StyleView",
            "description_width": ""
          }
        },
        "c3cfc08a72864379adda3d193a152734": {
          "model_module": "@jupyter-widgets/controls",
          "model_name": "HBoxModel",
          "model_module_version": "1.5.0",
          "state": {
            "_dom_classes": [],
            "_model_module": "@jupyter-widgets/controls",
            "_model_module_version": "1.5.0",
            "_model_name": "HBoxModel",
            "_view_count": null,
            "_view_module": "@jupyter-widgets/controls",
            "_view_module_version": "1.5.0",
            "_view_name": "HBoxView",
            "box_style": "",
            "children": [
              "IPY_MODEL_707afaf7bfaa44ae823d1bf2ce86c12e",
              "IPY_MODEL_e747271504e0422fa027d99e6c1a3a19",
              "IPY_MODEL_1ebf2af0cbcd4525b5ba64d5197e1a8f"
            ],
            "layout": "IPY_MODEL_d87530266c0a4edab77ceb9ca2b53a2f"
          }
        },
        "707afaf7bfaa44ae823d1bf2ce86c12e": {
          "model_module": "@jupyter-widgets/controls",
          "model_name": "HTMLModel",
          "model_module_version": "1.5.0",
          "state": {
            "_dom_classes": [],
            "_model_module": "@jupyter-widgets/controls",
            "_model_module_version": "1.5.0",
            "_model_name": "HTMLModel",
            "_view_count": null,
            "_view_module": "@jupyter-widgets/controls",
            "_view_module_version": "1.5.0",
            "_view_name": "HTMLView",
            "description": "",
            "description_tooltip": null,
            "layout": "IPY_MODEL_c00515bda9ef444fa2b18406c9ae9c48",
            "placeholder": "​",
            "style": "IPY_MODEL_6d5e2462281f4911b6dd38919bc5f8f7",
            "value": "Downloading tf_model.h5: 100%"
          }
        },
        "e747271504e0422fa027d99e6c1a3a19": {
          "model_module": "@jupyter-widgets/controls",
          "model_name": "FloatProgressModel",
          "model_module_version": "1.5.0",
          "state": {
            "_dom_classes": [],
            "_model_module": "@jupyter-widgets/controls",
            "_model_module_version": "1.5.0",
            "_model_name": "FloatProgressModel",
            "_view_count": null,
            "_view_module": "@jupyter-widgets/controls",
            "_view_module_version": "1.5.0",
            "_view_name": "ProgressView",
            "bar_style": "success",
            "description": "",
            "description_tooltip": null,
            "layout": "IPY_MODEL_d7882b18fcdc4247b8346931f3c7d52d",
            "max": 63048440,
            "min": 0,
            "orientation": "horizontal",
            "style": "IPY_MODEL_269d6b1298564609bc817218cd3b40ce",
            "value": 63048440
          }
        },
        "1ebf2af0cbcd4525b5ba64d5197e1a8f": {
          "model_module": "@jupyter-widgets/controls",
          "model_name": "HTMLModel",
          "model_module_version": "1.5.0",
          "state": {
            "_dom_classes": [],
            "_model_module": "@jupyter-widgets/controls",
            "_model_module_version": "1.5.0",
            "_model_name": "HTMLModel",
            "_view_count": null,
            "_view_module": "@jupyter-widgets/controls",
            "_view_module_version": "1.5.0",
            "_view_name": "HTMLView",
            "description": "",
            "description_tooltip": null,
            "layout": "IPY_MODEL_7b8e1bca5ed74fd2b9e9d7958b222aa2",
            "placeholder": "​",
            "style": "IPY_MODEL_36df53ac91d342c4a6fdd4ac3d5548da",
            "value": " 63.0M/63.0M [00:02&lt;00:00, 38.1MB/s]"
          }
        },
        "d87530266c0a4edab77ceb9ca2b53a2f": {
          "model_module": "@jupyter-widgets/base",
          "model_name": "LayoutModel",
          "model_module_version": "1.2.0",
          "state": {
            "_model_module": "@jupyter-widgets/base",
            "_model_module_version": "1.2.0",
            "_model_name": "LayoutModel",
            "_view_count": null,
            "_view_module": "@jupyter-widgets/base",
            "_view_module_version": "1.2.0",
            "_view_name": "LayoutView",
            "align_content": null,
            "align_items": null,
            "align_self": null,
            "border": null,
            "bottom": null,
            "display": null,
            "flex": null,
            "flex_flow": null,
            "grid_area": null,
            "grid_auto_columns": null,
            "grid_auto_flow": null,
            "grid_auto_rows": null,
            "grid_column": null,
            "grid_gap": null,
            "grid_row": null,
            "grid_template_areas": null,
            "grid_template_columns": null,
            "grid_template_rows": null,
            "height": null,
            "justify_content": null,
            "justify_items": null,
            "left": null,
            "margin": null,
            "max_height": null,
            "max_width": null,
            "min_height": null,
            "min_width": null,
            "object_fit": null,
            "object_position": null,
            "order": null,
            "overflow": null,
            "overflow_x": null,
            "overflow_y": null,
            "padding": null,
            "right": null,
            "top": null,
            "visibility": null,
            "width": null
          }
        },
        "c00515bda9ef444fa2b18406c9ae9c48": {
          "model_module": "@jupyter-widgets/base",
          "model_name": "LayoutModel",
          "model_module_version": "1.2.0",
          "state": {
            "_model_module": "@jupyter-widgets/base",
            "_model_module_version": "1.2.0",
            "_model_name": "LayoutModel",
            "_view_count": null,
            "_view_module": "@jupyter-widgets/base",
            "_view_module_version": "1.2.0",
            "_view_name": "LayoutView",
            "align_content": null,
            "align_items": null,
            "align_self": null,
            "border": null,
            "bottom": null,
            "display": null,
            "flex": null,
            "flex_flow": null,
            "grid_area": null,
            "grid_auto_columns": null,
            "grid_auto_flow": null,
            "grid_auto_rows": null,
            "grid_column": null,
            "grid_gap": null,
            "grid_row": null,
            "grid_template_areas": null,
            "grid_template_columns": null,
            "grid_template_rows": null,
            "height": null,
            "justify_content": null,
            "justify_items": null,
            "left": null,
            "margin": null,
            "max_height": null,
            "max_width": null,
            "min_height": null,
            "min_width": null,
            "object_fit": null,
            "object_position": null,
            "order": null,
            "overflow": null,
            "overflow_x": null,
            "overflow_y": null,
            "padding": null,
            "right": null,
            "top": null,
            "visibility": null,
            "width": null
          }
        },
        "6d5e2462281f4911b6dd38919bc5f8f7": {
          "model_module": "@jupyter-widgets/controls",
          "model_name": "DescriptionStyleModel",
          "model_module_version": "1.5.0",
          "state": {
            "_model_module": "@jupyter-widgets/controls",
            "_model_module_version": "1.5.0",
            "_model_name": "DescriptionStyleModel",
            "_view_count": null,
            "_view_module": "@jupyter-widgets/base",
            "_view_module_version": "1.2.0",
            "_view_name": "StyleView",
            "description_width": ""
          }
        },
        "d7882b18fcdc4247b8346931f3c7d52d": {
          "model_module": "@jupyter-widgets/base",
          "model_name": "LayoutModel",
          "model_module_version": "1.2.0",
          "state": {
            "_model_module": "@jupyter-widgets/base",
            "_model_module_version": "1.2.0",
            "_model_name": "LayoutModel",
            "_view_count": null,
            "_view_module": "@jupyter-widgets/base",
            "_view_module_version": "1.2.0",
            "_view_name": "LayoutView",
            "align_content": null,
            "align_items": null,
            "align_self": null,
            "border": null,
            "bottom": null,
            "display": null,
            "flex": null,
            "flex_flow": null,
            "grid_area": null,
            "grid_auto_columns": null,
            "grid_auto_flow": null,
            "grid_auto_rows": null,
            "grid_column": null,
            "grid_gap": null,
            "grid_row": null,
            "grid_template_areas": null,
            "grid_template_columns": null,
            "grid_template_rows": null,
            "height": null,
            "justify_content": null,
            "justify_items": null,
            "left": null,
            "margin": null,
            "max_height": null,
            "max_width": null,
            "min_height": null,
            "min_width": null,
            "object_fit": null,
            "object_position": null,
            "order": null,
            "overflow": null,
            "overflow_x": null,
            "overflow_y": null,
            "padding": null,
            "right": null,
            "top": null,
            "visibility": null,
            "width": null
          }
        },
        "269d6b1298564609bc817218cd3b40ce": {
          "model_module": "@jupyter-widgets/controls",
          "model_name": "ProgressStyleModel",
          "model_module_version": "1.5.0",
          "state": {
            "_model_module": "@jupyter-widgets/controls",
            "_model_module_version": "1.5.0",
            "_model_name": "ProgressStyleModel",
            "_view_count": null,
            "_view_module": "@jupyter-widgets/base",
            "_view_module_version": "1.2.0",
            "_view_name": "StyleView",
            "bar_color": null,
            "description_width": ""
          }
        },
        "7b8e1bca5ed74fd2b9e9d7958b222aa2": {
          "model_module": "@jupyter-widgets/base",
          "model_name": "LayoutModel",
          "model_module_version": "1.2.0",
          "state": {
            "_model_module": "@jupyter-widgets/base",
            "_model_module_version": "1.2.0",
            "_model_name": "LayoutModel",
            "_view_count": null,
            "_view_module": "@jupyter-widgets/base",
            "_view_module_version": "1.2.0",
            "_view_name": "LayoutView",
            "align_content": null,
            "align_items": null,
            "align_self": null,
            "border": null,
            "bottom": null,
            "display": null,
            "flex": null,
            "flex_flow": null,
            "grid_area": null,
            "grid_auto_columns": null,
            "grid_auto_flow": null,
            "grid_auto_rows": null,
            "grid_column": null,
            "grid_gap": null,
            "grid_row": null,
            "grid_template_areas": null,
            "grid_template_columns": null,
            "grid_template_rows": null,
            "height": null,
            "justify_content": null,
            "justify_items": null,
            "left": null,
            "margin": null,
            "max_height": null,
            "max_width": null,
            "min_height": null,
            "min_width": null,
            "object_fit": null,
            "object_position": null,
            "order": null,
            "overflow": null,
            "overflow_x": null,
            "overflow_y": null,
            "padding": null,
            "right": null,
            "top": null,
            "visibility": null,
            "width": null
          }
        },
        "36df53ac91d342c4a6fdd4ac3d5548da": {
          "model_module": "@jupyter-widgets/controls",
          "model_name": "DescriptionStyleModel",
          "model_module_version": "1.5.0",
          "state": {
            "_model_module": "@jupyter-widgets/controls",
            "_model_module_version": "1.5.0",
            "_model_name": "DescriptionStyleModel",
            "_view_count": null,
            "_view_module": "@jupyter-widgets/base",
            "_view_module_version": "1.2.0",
            "_view_name": "StyleView",
            "description_width": ""
          }
        },
        "e14c3c430ff14825893bc705c30d9ec4": {
          "model_module": "@jupyter-widgets/controls",
          "model_name": "HBoxModel",
          "model_module_version": "1.5.0",
          "state": {
            "_dom_classes": [],
            "_model_module": "@jupyter-widgets/controls",
            "_model_module_version": "1.5.0",
            "_model_name": "HBoxModel",
            "_view_count": null,
            "_view_module": "@jupyter-widgets/controls",
            "_view_module_version": "1.5.0",
            "_view_name": "HBoxView",
            "box_style": "",
            "children": [
              "IPY_MODEL_9c4aca0132354d9a841210bd9c7edd9f",
              "IPY_MODEL_d267a01aea8042769db542c13816f887",
              "IPY_MODEL_14f82d13dcd049e3b15d0b2c08a3ea10"
            ],
            "layout": "IPY_MODEL_1b873d5bea3f465e98f1f52bf0a66c19"
          }
        },
        "9c4aca0132354d9a841210bd9c7edd9f": {
          "model_module": "@jupyter-widgets/controls",
          "model_name": "HTMLModel",
          "model_module_version": "1.5.0",
          "state": {
            "_dom_classes": [],
            "_model_module": "@jupyter-widgets/controls",
            "_model_module_version": "1.5.0",
            "_model_name": "HTMLModel",
            "_view_count": null,
            "_view_module": "@jupyter-widgets/controls",
            "_view_module_version": "1.5.0",
            "_view_name": "HTMLView",
            "description": "",
            "description_tooltip": null,
            "layout": "IPY_MODEL_076015f5a520418cb54c2f02e5f5ab9a",
            "placeholder": "​",
            "style": "IPY_MODEL_f941eb5d4b7e4cfb8e73fa6e8cb46612",
            "value": "100%"
          }
        },
        "d267a01aea8042769db542c13816f887": {
          "model_module": "@jupyter-widgets/controls",
          "model_name": "FloatProgressModel",
          "model_module_version": "1.5.0",
          "state": {
            "_dom_classes": [],
            "_model_module": "@jupyter-widgets/controls",
            "_model_module_version": "1.5.0",
            "_model_name": "FloatProgressModel",
            "_view_count": null,
            "_view_module": "@jupyter-widgets/controls",
            "_view_module_version": "1.5.0",
            "_view_name": "ProgressView",
            "bar_style": "success",
            "description": "",
            "description_tooltip": null,
            "layout": "IPY_MODEL_4df1e4feaa5c4c0aaa5f2c5d9c738556",
            "max": 1,
            "min": 0,
            "orientation": "horizontal",
            "style": "IPY_MODEL_21a1136ccc604d479ea16a6aa297ed4e",
            "value": 1
          }
        },
        "14f82d13dcd049e3b15d0b2c08a3ea10": {
          "model_module": "@jupyter-widgets/controls",
          "model_name": "HTMLModel",
          "model_module_version": "1.5.0",
          "state": {
            "_dom_classes": [],
            "_model_module": "@jupyter-widgets/controls",
            "_model_module_version": "1.5.0",
            "_model_name": "HTMLModel",
            "_view_count": null,
            "_view_module": "@jupyter-widgets/controls",
            "_view_module_version": "1.5.0",
            "_view_name": "HTMLView",
            "description": "",
            "description_tooltip": null,
            "layout": "IPY_MODEL_c915a399edf6464aad303d91f5cfb20f",
            "placeholder": "​",
            "style": "IPY_MODEL_b9a210a33cd740e59e94dede80806c78",
            "value": " 1/1 [00:00&lt;00:00, 50.95it/s]"
          }
        },
        "1b873d5bea3f465e98f1f52bf0a66c19": {
          "model_module": "@jupyter-widgets/base",
          "model_name": "LayoutModel",
          "model_module_version": "1.2.0",
          "state": {
            "_model_module": "@jupyter-widgets/base",
            "_model_module_version": "1.2.0",
            "_model_name": "LayoutModel",
            "_view_count": null,
            "_view_module": "@jupyter-widgets/base",
            "_view_module_version": "1.2.0",
            "_view_name": "LayoutView",
            "align_content": null,
            "align_items": null,
            "align_self": null,
            "border": null,
            "bottom": null,
            "display": null,
            "flex": null,
            "flex_flow": null,
            "grid_area": null,
            "grid_auto_columns": null,
            "grid_auto_flow": null,
            "grid_auto_rows": null,
            "grid_column": null,
            "grid_gap": null,
            "grid_row": null,
            "grid_template_areas": null,
            "grid_template_columns": null,
            "grid_template_rows": null,
            "height": null,
            "justify_content": null,
            "justify_items": null,
            "left": null,
            "margin": null,
            "max_height": null,
            "max_width": null,
            "min_height": null,
            "min_width": null,
            "object_fit": null,
            "object_position": null,
            "order": null,
            "overflow": null,
            "overflow_x": null,
            "overflow_y": null,
            "padding": null,
            "right": null,
            "top": null,
            "visibility": null,
            "width": null
          }
        },
        "076015f5a520418cb54c2f02e5f5ab9a": {
          "model_module": "@jupyter-widgets/base",
          "model_name": "LayoutModel",
          "model_module_version": "1.2.0",
          "state": {
            "_model_module": "@jupyter-widgets/base",
            "_model_module_version": "1.2.0",
            "_model_name": "LayoutModel",
            "_view_count": null,
            "_view_module": "@jupyter-widgets/base",
            "_view_module_version": "1.2.0",
            "_view_name": "LayoutView",
            "align_content": null,
            "align_items": null,
            "align_self": null,
            "border": null,
            "bottom": null,
            "display": null,
            "flex": null,
            "flex_flow": null,
            "grid_area": null,
            "grid_auto_columns": null,
            "grid_auto_flow": null,
            "grid_auto_rows": null,
            "grid_column": null,
            "grid_gap": null,
            "grid_row": null,
            "grid_template_areas": null,
            "grid_template_columns": null,
            "grid_template_rows": null,
            "height": null,
            "justify_content": null,
            "justify_items": null,
            "left": null,
            "margin": null,
            "max_height": null,
            "max_width": null,
            "min_height": null,
            "min_width": null,
            "object_fit": null,
            "object_position": null,
            "order": null,
            "overflow": null,
            "overflow_x": null,
            "overflow_y": null,
            "padding": null,
            "right": null,
            "top": null,
            "visibility": null,
            "width": null
          }
        },
        "f941eb5d4b7e4cfb8e73fa6e8cb46612": {
          "model_module": "@jupyter-widgets/controls",
          "model_name": "DescriptionStyleModel",
          "model_module_version": "1.5.0",
          "state": {
            "_model_module": "@jupyter-widgets/controls",
            "_model_module_version": "1.5.0",
            "_model_name": "DescriptionStyleModel",
            "_view_count": null,
            "_view_module": "@jupyter-widgets/base",
            "_view_module_version": "1.2.0",
            "_view_name": "StyleView",
            "description_width": ""
          }
        },
        "4df1e4feaa5c4c0aaa5f2c5d9c738556": {
          "model_module": "@jupyter-widgets/base",
          "model_name": "LayoutModel",
          "model_module_version": "1.2.0",
          "state": {
            "_model_module": "@jupyter-widgets/base",
            "_model_module_version": "1.2.0",
            "_model_name": "LayoutModel",
            "_view_count": null,
            "_view_module": "@jupyter-widgets/base",
            "_view_module_version": "1.2.0",
            "_view_name": "LayoutView",
            "align_content": null,
            "align_items": null,
            "align_self": null,
            "border": null,
            "bottom": null,
            "display": null,
            "flex": null,
            "flex_flow": null,
            "grid_area": null,
            "grid_auto_columns": null,
            "grid_auto_flow": null,
            "grid_auto_rows": null,
            "grid_column": null,
            "grid_gap": null,
            "grid_row": null,
            "grid_template_areas": null,
            "grid_template_columns": null,
            "grid_template_rows": null,
            "height": null,
            "justify_content": null,
            "justify_items": null,
            "left": null,
            "margin": null,
            "max_height": null,
            "max_width": null,
            "min_height": null,
            "min_width": null,
            "object_fit": null,
            "object_position": null,
            "order": null,
            "overflow": null,
            "overflow_x": null,
            "overflow_y": null,
            "padding": null,
            "right": null,
            "top": null,
            "visibility": null,
            "width": null
          }
        },
        "21a1136ccc604d479ea16a6aa297ed4e": {
          "model_module": "@jupyter-widgets/controls",
          "model_name": "ProgressStyleModel",
          "model_module_version": "1.5.0",
          "state": {
            "_model_module": "@jupyter-widgets/controls",
            "_model_module_version": "1.5.0",
            "_model_name": "ProgressStyleModel",
            "_view_count": null,
            "_view_module": "@jupyter-widgets/base",
            "_view_module_version": "1.2.0",
            "_view_name": "StyleView",
            "bar_color": null,
            "description_width": ""
          }
        },
        "c915a399edf6464aad303d91f5cfb20f": {
          "model_module": "@jupyter-widgets/base",
          "model_name": "LayoutModel",
          "model_module_version": "1.2.0",
          "state": {
            "_model_module": "@jupyter-widgets/base",
            "_model_module_version": "1.2.0",
            "_model_name": "LayoutModel",
            "_view_count": null,
            "_view_module": "@jupyter-widgets/base",
            "_view_module_version": "1.2.0",
            "_view_name": "LayoutView",
            "align_content": null,
            "align_items": null,
            "align_self": null,
            "border": null,
            "bottom": null,
            "display": null,
            "flex": null,
            "flex_flow": null,
            "grid_area": null,
            "grid_auto_columns": null,
            "grid_auto_flow": null,
            "grid_auto_rows": null,
            "grid_column": null,
            "grid_gap": null,
            "grid_row": null,
            "grid_template_areas": null,
            "grid_template_columns": null,
            "grid_template_rows": null,
            "height": null,
            "justify_content": null,
            "justify_items": null,
            "left": null,
            "margin": null,
            "max_height": null,
            "max_width": null,
            "min_height": null,
            "min_width": null,
            "object_fit": null,
            "object_position": null,
            "order": null,
            "overflow": null,
            "overflow_x": null,
            "overflow_y": null,
            "padding": null,
            "right": null,
            "top": null,
            "visibility": null,
            "width": null
          }
        },
        "b9a210a33cd740e59e94dede80806c78": {
          "model_module": "@jupyter-widgets/controls",
          "model_name": "DescriptionStyleModel",
          "model_module_version": "1.5.0",
          "state": {
            "_model_module": "@jupyter-widgets/controls",
            "_model_module_version": "1.5.0",
            "_model_name": "DescriptionStyleModel",
            "_view_count": null,
            "_view_module": "@jupyter-widgets/base",
            "_view_module_version": "1.2.0",
            "_view_name": "StyleView",
            "description_width": ""
          }
        }
      }
    }
  },
  "nbformat_minor": 0,
  "nbformat": 4,
  "cells": [
    {
      "cell_type": "markdown",
      "source": [
        "# AlBert for Nepali (NepCov19Tweets) Sentiment Analysis.\n",
        "**Sentiment Analysis on NepCov19Tweets Dataset, a collection of tweets in Nepali (Devnagari Script) regarding/during pandemic period.**"
      ],
      "metadata": {
        "id": "UCqiWD9DV0pQ"
      }
    },
    {
      "cell_type": "code",
      "source": [
        "!pip install transformers datasets --quiet"
      ],
      "metadata": {
        "id": "Y11x1apAWLPR"
      },
      "execution_count": 27,
      "outputs": []
    },
    {
      "cell_type": "code",
      "source": [
        "import numpy as np\n",
        "import random\n",
        "import os\n",
        "import tensorflow as tf\n",
        "from transformers import set_seed\n",
        "\n",
        "rand_seed = 99\n",
        "\n",
        "def seed_everything(seed=0):\n",
        "    random.seed(seed)\n",
        "    os.environ['PYTHONHASHSEED'] = str(seed)\n",
        "    np.random.seed(seed)\n",
        "    tf.keras.utils.set_random_seed(seed)\n",
        "    set_seed(seed)\n",
        "    \n",
        "seed_everything(rand_seed)"
      ],
      "metadata": {
        "execution": {
          "iopub.status.busy": "2023-05-31T05:42:55.259472Z",
          "iopub.execute_input": "2023-05-31T05:42:55.260258Z",
          "iopub.status.idle": "2023-05-31T05:43:08.443028Z",
          "shell.execute_reply.started": "2023-05-31T05:42:55.260216Z",
          "shell.execute_reply": "2023-05-31T05:43:08.442194Z"
        },
        "trusted": true,
        "id": "o151y2KeV0pS"
      },
      "execution_count": 28,
      "outputs": []
    },
    {
      "cell_type": "markdown",
      "source": [
        "## Model Selection and Preparation"
      ],
      "metadata": {
        "id": "StIvonhTV0pU"
      }
    },
    {
      "cell_type": "markdown",
      "source": [
        "### Loading Model\n",
        "**and model hyper-parameter tuning**"
      ],
      "metadata": {
        "id": "wHdoXtmjV0pV"
      }
    },
    {
      "cell_type": "code",
      "source": [
        "# from transformers import TFAlbertForSequenceClassification \n",
        "\n",
        "# model = TFAlbertForSequenceClassification.from_pretrained('Shushant/nepaliBERT', from_pt=True,\n",
        "#             id2label={0:\"NEUTRAL\",1:\"POSITIVE\",2:\"NEGATIVE\"},\n",
        "#             label2id={\"NEUTRAL\":0,\"POSITIVE\":1,\"NEGATIVE\":2})"
      ],
      "metadata": {
        "id": "fn4F5KXluDjb"
      },
      "execution_count": 29,
      "outputs": []
    },
    {
      "cell_type": "code",
      "source": [
        "## Manual Transfer of BERT to ALBERT\n",
        "from transformers import TFAutoModelForSequenceClassification\n",
        "\n",
        "model = TFAutoModelForSequenceClassification.from_pretrained('albert-base-v2',\n",
        "            id2label={0:\"NEUTRAL\",1:\"POSITIVE\",2:\"NEGATIVE\"},\n",
        "            label2id={\"NEUTRAL\":0,\"POSITIVE\":1,\"NEGATIVE\":2})\n",
        "\n",
        "bert_model = TFAutoModelForSequenceClassification.from_pretrained('Shushant/nepaliBERT',from_pt=True)\n",
        "\n",
        "transfer_weights = bert_model.bert.get_weights()[:25]\n",
        "albert_weights = np.array(model.albert.get_weights())\n",
        "for i in range(25):\n",
        "    transfer_weights[i] = np.resize(transfer_weights[i],albert_weights[i].shape)\n",
        "    \n",
        "### Transfer Learning From BERT to AlBert\n",
        "model.albert.set_weights(transfer_weights)"
      ],
      "metadata": {
        "execution": {
          "iopub.status.busy": "2023-05-31T05:43:08.445345Z",
          "iopub.execute_input": "2023-05-31T05:43:08.446264Z",
          "iopub.status.idle": "2023-05-31T05:43:13.790213Z",
          "shell.execute_reply.started": "2023-05-31T05:43:08.446218Z",
          "shell.execute_reply": "2023-05-31T05:43:13.789184Z"
        },
        "trusted": true,
        "id": "MZ_qzUN3V0pV",
        "colab": {
          "base_uri": "https://localhost:8080/",
          "height": 296,
          "referenced_widgets": [
            "ce86cd3d6aab4e84bf098385fb85426b",
            "935e10bc1cd4478fb8ce65f4cd3e1f76",
            "29355ecd49f440e9a3f298e61d44a727",
            "0cd17b16724641b8b139a97607627fcf",
            "16e34b47cfc04d15bacf0e80a02b8f90",
            "b78c65f714f242bea54894869ac6bccf",
            "aa66b6fac51a4d9ebf2f18d60479c055",
            "e4ebf56ad25141e397518961fcc608cc",
            "ee73fcdb4f0440b9b6445515bcee4a33",
            "a9290135e1d34a848a0fd6a9e02af628",
            "4a566ec4d8ca4619b3b85760ac09d141",
            "c3cfc08a72864379adda3d193a152734",
            "707afaf7bfaa44ae823d1bf2ce86c12e",
            "e747271504e0422fa027d99e6c1a3a19",
            "1ebf2af0cbcd4525b5ba64d5197e1a8f",
            "d87530266c0a4edab77ceb9ca2b53a2f",
            "c00515bda9ef444fa2b18406c9ae9c48",
            "6d5e2462281f4911b6dd38919bc5f8f7",
            "d7882b18fcdc4247b8346931f3c7d52d",
            "269d6b1298564609bc817218cd3b40ce",
            "7b8e1bca5ed74fd2b9e9d7958b222aa2",
            "36df53ac91d342c4a6fdd4ac3d5548da"
          ]
        },
        "outputId": "8f7d50ac-9a49-4605-c21a-08edb8e10734"
      },
      "execution_count": 30,
      "outputs": [
        {
          "output_type": "display_data",
          "data": {
            "text/plain": [
              "Downloading (…)lve/main/config.json:   0%|          | 0.00/684 [00:00<?, ?B/s]"
            ],
            "application/vnd.jupyter.widget-view+json": {
              "version_major": 2,
              "version_minor": 0,
              "model_id": "ce86cd3d6aab4e84bf098385fb85426b"
            }
          },
          "metadata": {}
        },
        {
          "output_type": "display_data",
          "data": {
            "text/plain": [
              "Downloading tf_model.h5:   0%|          | 0.00/63.0M [00:00<?, ?B/s]"
            ],
            "application/vnd.jupyter.widget-view+json": {
              "version_major": 2,
              "version_minor": 0,
              "model_id": "c3cfc08a72864379adda3d193a152734"
            }
          },
          "metadata": {}
        },
        {
          "output_type": "stream",
          "name": "stderr",
          "text": [
            "All model checkpoint layers were used when initializing TFAlbertForSequenceClassification.\n",
            "\n",
            "Some layers of TFAlbertForSequenceClassification were not initialized from the model checkpoint at albert-base-v2 and are newly initialized: ['classifier']\n",
            "You should probably TRAIN this model on a down-stream task to be able to use it for predictions and inference.\n",
            "Some weights of the PyTorch model were not used when initializing the TF 2.0 model TFBertForSequenceClassification: ['bert.embeddings.position_ids']\n",
            "- This IS expected if you are initializing TFBertForSequenceClassification from a PyTorch model trained on another task or with another architecture (e.g. initializing a TFBertForSequenceClassification model from a BertForPreTraining model).\n",
            "- This IS NOT expected if you are initializing TFBertForSequenceClassification from a PyTorch model that you expect to be exactly identical (e.g. initializing a TFBertForSequenceClassification model from a BertForSequenceClassification model).\n",
            "Some weights or buffers of the TF 2.0 model TFBertForSequenceClassification were not initialized from the PyTorch model and are newly initialized: ['bert.pooler.dense.weight', 'bert.pooler.dense.bias', 'classifier.weight', 'classifier.bias']\n",
            "You should probably TRAIN this model on a down-stream task to be able to use it for predictions and inference.\n",
            "<ipython-input-30-d4f247b05d65>:11: VisibleDeprecationWarning: Creating an ndarray from ragged nested sequences (which is a list-or-tuple of lists-or-tuples-or ndarrays with different lengths or shapes) is deprecated. If you meant to do this, you must specify 'dtype=object' when creating the ndarray.\n",
            "  albert_weights = np.array(model.albert.get_weights())\n"
          ]
        }
      ]
    },
    {
      "cell_type": "code",
      "source": [
        "from transformers import AlbertTokenizerFast\n",
        "\n",
        "tokenizer = AlbertTokenizerFast.from_pretrained('raygx/Covid-News-Headline-Generator')\n",
        "\n",
        "model.resize_token_embeddings(len(tokenizer))"
      ],
      "metadata": {
        "execution": {
          "iopub.status.busy": "2023-05-31T05:43:32.173420Z",
          "iopub.execute_input": "2023-05-31T05:43:32.174612Z",
          "iopub.status.idle": "2023-05-31T05:43:32.846338Z",
          "shell.execute_reply.started": "2023-05-31T05:43:32.174567Z",
          "shell.execute_reply": "2023-05-31T05:43:32.844973Z"
        },
        "trusted": true,
        "id": "nNoJUA5OV0pb",
        "colab": {
          "base_uri": "https://localhost:8080/"
        },
        "outputId": "acb8b7e3-724a-40a0-8800-71c0ab016913"
      },
      "execution_count": 31,
      "outputs": [
        {
          "output_type": "stream",
          "name": "stderr",
          "text": [
            "The tokenizer class you load from this checkpoint is not the same type as the class this function is called from. It may result in unexpected tokenization. \n",
            "The tokenizer class you load from this checkpoint is 'PreTrainedTokenizerFast'. \n",
            "The class this function is called from is 'AlbertTokenizerFast'.\n",
            "Special tokens have been added in the vocabulary, make sure the associated word embeddings are fine-tuned or trained.\n"
          ]
        },
        {
          "output_type": "execute_result",
          "data": {
            "text/plain": [
              "<transformers.models.albert.modeling_tf_albert.TFAlbertEmbeddings at 0x7f5bc60640d0>"
            ]
          },
          "metadata": {},
          "execution_count": 31
        }
      ]
    },
    {
      "cell_type": "code",
      "source": [
        "print(model.summary())\n",
        "model.config"
      ],
      "metadata": {
        "execution": {
          "iopub.status.busy": "2023-05-31T05:43:26.344022Z",
          "iopub.execute_input": "2023-05-31T05:43:26.344840Z",
          "iopub.status.idle": "2023-05-31T05:43:26.377435Z",
          "shell.execute_reply.started": "2023-05-31T05:43:26.344807Z",
          "shell.execute_reply": "2023-05-31T05:43:26.376138Z"
        },
        "trusted": true,
        "id": "9xNq9vQYV0pW",
        "colab": {
          "base_uri": "https://localhost:8080/"
        },
        "outputId": "0fe067a4-0a56-4f5a-ea00-b29acbd7f3a0"
      },
      "execution_count": 32,
      "outputs": [
        {
          "output_type": "stream",
          "name": "stdout",
          "text": [
            "Model: \"tf_albert_for_sequence_classification_1\"\n",
            "_________________________________________________________________\n",
            " Layer (type)                Output Shape              Param #   \n",
            "=================================================================\n",
            " albert (TFAlbertMainLayer)  multiple                  11683712  \n",
            "                                                                 \n",
            " dropout_9 (Dropout)         multiple                  0         \n",
            "                                                                 \n",
            " classifier (Dense)          multiple                  2307      \n",
            "                                                                 \n",
            "=================================================================\n",
            "Total params: 11,686,019\n",
            "Trainable params: 11,686,019\n",
            "Non-trainable params: 0\n",
            "_________________________________________________________________\n",
            "None\n"
          ]
        },
        {
          "output_type": "execute_result",
          "data": {
            "text/plain": [
              "AlbertConfig {\n",
              "  \"_name_or_path\": \"albert-base-v2\",\n",
              "  \"architectures\": [\n",
              "    \"AlbertForMaskedLM\"\n",
              "  ],\n",
              "  \"attention_probs_dropout_prob\": 0,\n",
              "  \"bos_token_id\": 2,\n",
              "  \"classifier_dropout_prob\": 0.1,\n",
              "  \"down_scale_factor\": 1,\n",
              "  \"embedding_size\": 128,\n",
              "  \"eos_token_id\": 3,\n",
              "  \"gap_size\": 0,\n",
              "  \"hidden_act\": \"gelu_new\",\n",
              "  \"hidden_dropout_prob\": 0,\n",
              "  \"hidden_size\": 768,\n",
              "  \"id2label\": {\n",
              "    \"0\": \"NEUTRAL\",\n",
              "    \"1\": \"POSITIVE\",\n",
              "    \"2\": \"NEGATIVE\"\n",
              "  },\n",
              "  \"initializer_range\": 0.02,\n",
              "  \"inner_group_num\": 1,\n",
              "  \"intermediate_size\": 3072,\n",
              "  \"label2id\": {\n",
              "    \"NEGATIVE\": 2,\n",
              "    \"NEUTRAL\": 0,\n",
              "    \"POSITIVE\": 1\n",
              "  },\n",
              "  \"layer_norm_eps\": 1e-12,\n",
              "  \"max_position_embeddings\": 512,\n",
              "  \"model_type\": \"albert\",\n",
              "  \"net_structure_type\": 0,\n",
              "  \"num_attention_heads\": 12,\n",
              "  \"num_hidden_groups\": 1,\n",
              "  \"num_hidden_layers\": 12,\n",
              "  \"num_memory_blocks\": 0,\n",
              "  \"pad_token_id\": 0,\n",
              "  \"position_embedding_type\": \"absolute\",\n",
              "  \"transformers_version\": \"4.29.2\",\n",
              "  \"type_vocab_size\": 2,\n",
              "  \"vocab_size\": 30001\n",
              "}"
            ]
          },
          "metadata": {},
          "execution_count": 32
        }
      ]
    },
    {
      "cell_type": "markdown",
      "source": [
        "### Optimizer Selection and Hyperparameter Tuning"
      ],
      "metadata": {
        "id": "6Bp1-QusV0pW"
      }
    },
    {
      "cell_type": "code",
      "source": [
        "from transformers import create_optimizer, AdamWeightDecay\n",
        "\n",
        "optimizer = AdamWeightDecay(learning_rate=9e-6, weight_decay_rate=0.001)\n",
        "model.compile(optimizer=optimizer)"
      ],
      "metadata": {
        "execution": {
          "iopub.status.busy": "2023-05-31T05:43:26.379219Z",
          "iopub.execute_input": "2023-05-31T05:43:26.379725Z",
          "iopub.status.idle": "2023-05-31T05:43:26.413826Z",
          "shell.execute_reply.started": "2023-05-31T05:43:26.379687Z",
          "shell.execute_reply": "2023-05-31T05:43:26.411129Z"
        },
        "trusted": true,
        "id": "ro6UZkcPV0pX",
        "colab": {
          "base_uri": "https://localhost:8080/"
        },
        "outputId": "09995f8b-a798-43e7-9ed3-a8ef6b84d45a"
      },
      "execution_count": 33,
      "outputs": [
        {
          "output_type": "stream",
          "name": "stderr",
          "text": [
            "No loss specified in compile() - the model's internal loss computation will be used as the loss. Don't panic - this is a common way to train TensorFlow models in Transformers! To disable this behaviour please pass a loss argument, or explicitly pass `loss=None` if you do not want your model to compute a loss.\n"
          ]
        }
      ]
    },
    {
      "cell_type": "markdown",
      "source": [
        "# Dataset Selection and Prepartion"
      ],
      "metadata": {
        "id": "4eU13MHJV0pY"
      }
    },
    {
      "cell_type": "markdown",
      "source": [
        "**Loading Dataset**"
      ],
      "metadata": {
        "id": "KqKlD9-iV0pY"
      }
    },
    {
      "cell_type": "code",
      "source": [
        "import datasets\n",
        "\n",
        "data = datasets.load_dataset(\"raygx/NepCov19TweetsPlus\")\n",
        "data = data.shuffle(rand_seed)\n",
        "data = data['train'].train_test_split(test_size=0.2)\n",
        "data = data.rename_columns({\"Sentences\":\"text\",\"Sentiment\":\"labels\"})\n",
        "data"
      ],
      "metadata": {
        "execution": {
          "iopub.status.busy": "2023-05-31T05:43:26.415140Z",
          "iopub.execute_input": "2023-05-31T05:43:26.415608Z",
          "iopub.status.idle": "2023-05-31T05:43:29.155445Z",
          "shell.execute_reply.started": "2023-05-31T05:43:26.415567Z",
          "shell.execute_reply": "2023-05-31T05:43:29.154415Z"
        },
        "trusted": true,
        "id": "o31qhHZgV0pZ",
        "colab": {
          "base_uri": "https://localhost:8080/",
          "height": 300,
          "referenced_widgets": [
            "e14c3c430ff14825893bc705c30d9ec4",
            "9c4aca0132354d9a841210bd9c7edd9f",
            "d267a01aea8042769db542c13816f887",
            "14f82d13dcd049e3b15d0b2c08a3ea10",
            "1b873d5bea3f465e98f1f52bf0a66c19",
            "076015f5a520418cb54c2f02e5f5ab9a",
            "f941eb5d4b7e4cfb8e73fa6e8cb46612",
            "4df1e4feaa5c4c0aaa5f2c5d9c738556",
            "21a1136ccc604d479ea16a6aa297ed4e",
            "c915a399edf6464aad303d91f5cfb20f",
            "b9a210a33cd740e59e94dede80806c78"
          ]
        },
        "outputId": "fd3f041e-df88-4737-dc38-f04acf8afd38"
      },
      "execution_count": 34,
      "outputs": [
        {
          "output_type": "stream",
          "name": "stderr",
          "text": [
            "WARNING:datasets.builder:Found cached dataset parquet (/root/.cache/huggingface/datasets/raygx___parquet/raygx--NepCov19TweetsPlus-ce0effd6da77cd1f/0.0.0/2a3b91fbd88a2c90d1dbbb32b460cf621d31bd5b05b934492fdef7d8d6f236ec)\n"
          ]
        },
        {
          "output_type": "display_data",
          "data": {
            "text/plain": [
              "  0%|          | 0/1 [00:00<?, ?it/s]"
            ],
            "application/vnd.jupyter.widget-view+json": {
              "version_major": 2,
              "version_minor": 0,
              "model_id": "e14c3c430ff14825893bc705c30d9ec4"
            }
          },
          "metadata": {}
        },
        {
          "output_type": "stream",
          "name": "stderr",
          "text": [
            "WARNING:datasets.arrow_dataset:Loading cached shuffled indices for dataset at /root/.cache/huggingface/datasets/raygx___parquet/raygx--NepCov19TweetsPlus-ce0effd6da77cd1f/0.0.0/2a3b91fbd88a2c90d1dbbb32b460cf621d31bd5b05b934492fdef7d8d6f236ec/cache-db79877cb71e086f.arrow\n",
            "WARNING:datasets.arrow_dataset:Loading cached split indices for dataset at /root/.cache/huggingface/datasets/raygx___parquet/raygx--NepCov19TweetsPlus-ce0effd6da77cd1f/0.0.0/2a3b91fbd88a2c90d1dbbb32b460cf621d31bd5b05b934492fdef7d8d6f236ec/cache-e3f50723bb93bb12.arrow and /root/.cache/huggingface/datasets/raygx___parquet/raygx--NepCov19TweetsPlus-ce0effd6da77cd1f/0.0.0/2a3b91fbd88a2c90d1dbbb32b460cf621d31bd5b05b934492fdef7d8d6f236ec/cache-c668aeeab7b360f9.arrow\n"
          ]
        },
        {
          "output_type": "execute_result",
          "data": {
            "text/plain": [
              "DatasetDict({\n",
              "    train: Dataset({\n",
              "        features: ['labels', 'text'],\n",
              "        num_rows: 33240\n",
              "    })\n",
              "    test: Dataset({\n",
              "        features: ['labels', 'text'],\n",
              "        num_rows: 8310\n",
              "    })\n",
              "})"
            ]
          },
          "metadata": {},
          "execution_count": 34
        }
      ]
    },
    {
      "cell_type": "markdown",
      "source": [
        "### Label Encoding"
      ],
      "metadata": {
        "id": "IyS4iopqV0pa"
      }
    },
    {
      "cell_type": "code",
      "source": [
        "%%time\n",
        "def LabelEncoding(x):\n",
        "    if x['labels']==0:\n",
        "        x['labels'] = 0#[1,0,0]\n",
        "    if x['labels']==1:\n",
        "        x['labels'] =  1#[0,1,0]\n",
        "    if x['labels']==-1:\n",
        "        x['labels'] =  2#[0,0,1]\n",
        "    \n",
        "    return x\n",
        "\n",
        "data = data.map(\n",
        "        LabelEncoding,\n",
        "        num_proc=4)\n",
        "\n",
        "data"
      ],
      "metadata": {
        "execution": {
          "iopub.status.busy": "2023-05-31T05:43:29.156779Z",
          "iopub.execute_input": "2023-05-31T05:43:29.157536Z",
          "iopub.status.idle": "2023-05-31T05:43:32.171476Z",
          "shell.execute_reply.started": "2023-05-31T05:43:29.157503Z",
          "shell.execute_reply": "2023-05-31T05:43:32.170194Z"
        },
        "trusted": true,
        "id": "QblVxj2pV0pa",
        "colab": {
          "base_uri": "https://localhost:8080/"
        },
        "outputId": "107016a7-f281-4fee-a1e2-992453fc8233"
      },
      "execution_count": 35,
      "outputs": [
        {
          "output_type": "stream",
          "name": "stderr",
          "text": [
            "WARNING:datasets.arrow_dataset:Loading cached processed dataset at /root/.cache/huggingface/datasets/raygx___parquet/raygx--NepCov19TweetsPlus-ce0effd6da77cd1f/0.0.0/2a3b91fbd88a2c90d1dbbb32b460cf621d31bd5b05b934492fdef7d8d6f236ec/cache-2d68bbfd178cec84_*_of_00004.arrow\n",
            "WARNING:datasets.arrow_dataset:Loading cached processed dataset at /root/.cache/huggingface/datasets/raygx___parquet/raygx--NepCov19TweetsPlus-ce0effd6da77cd1f/0.0.0/2a3b91fbd88a2c90d1dbbb32b460cf621d31bd5b05b934492fdef7d8d6f236ec/cache-eb0c92e2e531cd7a_*_of_00004.arrow\n"
          ]
        },
        {
          "output_type": "stream",
          "name": "stdout",
          "text": [
            "CPU times: user 30.6 ms, sys: 998 µs, total: 31.6 ms\n",
            "Wall time: 33 ms\n"
          ]
        },
        {
          "output_type": "execute_result",
          "data": {
            "text/plain": [
              "DatasetDict({\n",
              "    train: Dataset({\n",
              "        features: ['labels', 'text'],\n",
              "        num_rows: 33240\n",
              "    })\n",
              "    test: Dataset({\n",
              "        features: ['labels', 'text'],\n",
              "        num_rows: 8310\n",
              "    })\n",
              "})"
            ]
          },
          "metadata": {},
          "execution_count": 35
        }
      ]
    },
    {
      "cell_type": "markdown",
      "source": [
        "### Tokenization"
      ],
      "metadata": {
        "id": "OzoSlqsNV0pb"
      }
    },
    {
      "cell_type": "code",
      "source": [
        "%%time\n",
        "\n",
        "def preprocess_function(rows):\n",
        "    return globals()['tokenizer'](rows['text'],truncation=True)\n",
        "\n",
        "print(\"Tokenizing the data\")\n",
        "tokenized_inputs = data.map(\n",
        "    preprocess_function,\n",
        "    batched=True,\n",
        "    num_proc=2,\n",
        "    remove_columns=data[\"train\"].column_names,\n",
        ")\n",
        "tokenized_inputs = tokenized_inputs.remove_columns(['token_type_ids'])\n",
        "\n",
        "tokenized_inputs['train'] = tokenized_inputs['train'].add_column(\n",
        "    name=\"labels\",column=data['train']['labels']\n",
        ")\n",
        "tokenized_inputs['test'] = tokenized_inputs['test'].add_column(\n",
        "    name=\"labels\",column=data['test']['labels']\n",
        ")\n",
        "\n",
        "tokenized_inputs"
      ],
      "metadata": {
        "execution": {
          "iopub.status.busy": "2023-05-31T05:43:32.850486Z",
          "iopub.execute_input": "2023-05-31T05:43:32.850837Z",
          "iopub.status.idle": "2023-05-31T05:43:38.056539Z",
          "shell.execute_reply.started": "2023-05-31T05:43:32.850808Z",
          "shell.execute_reply": "2023-05-31T05:43:38.055311Z"
        },
        "trusted": true,
        "id": "mucKfQq5V0pb",
        "colab": {
          "base_uri": "https://localhost:8080/"
        },
        "outputId": "5fe6affd-d3ae-44b8-d419-e84e9b73ebd5"
      },
      "execution_count": 36,
      "outputs": [
        {
          "output_type": "stream",
          "name": "stderr",
          "text": [
            "WARNING:datasets.arrow_dataset:Loading cached processed dataset at /root/.cache/huggingface/datasets/raygx___parquet/raygx--NepCov19TweetsPlus-ce0effd6da77cd1f/0.0.0/2a3b91fbd88a2c90d1dbbb32b460cf621d31bd5b05b934492fdef7d8d6f236ec/cache-311aa7b19cf4d986_*_of_00002.arrow\n",
            "WARNING:datasets.arrow_dataset:Loading cached processed dataset at /root/.cache/huggingface/datasets/raygx___parquet/raygx--NepCov19TweetsPlus-ce0effd6da77cd1f/0.0.0/2a3b91fbd88a2c90d1dbbb32b460cf621d31bd5b05b934492fdef7d8d6f236ec/cache-2050683714827af6_*_of_00002.arrow\n"
          ]
        },
        {
          "output_type": "stream",
          "name": "stdout",
          "text": [
            "Tokenizing the data\n",
            "CPU times: user 127 ms, sys: 1.99 ms, total: 129 ms\n",
            "Wall time: 129 ms\n"
          ]
        },
        {
          "output_type": "execute_result",
          "data": {
            "text/plain": [
              "DatasetDict({\n",
              "    train: Dataset({\n",
              "        features: ['input_ids', 'attention_mask', 'labels'],\n",
              "        num_rows: 33240\n",
              "    })\n",
              "    test: Dataset({\n",
              "        features: ['input_ids', 'attention_mask', 'labels'],\n",
              "        num_rows: 8310\n",
              "    })\n",
              "})"
            ]
          },
          "metadata": {},
          "execution_count": 36
        }
      ]
    },
    {
      "cell_type": "markdown",
      "source": [
        "### Initializing the Data Collator"
      ],
      "metadata": {
        "id": "KDm-aERbV0pb"
      }
    },
    {
      "cell_type": "code",
      "source": [
        "from transformers import DataCollatorWithPadding\n",
        "\n",
        "print(\"Initializing Data Collator\")\n",
        "data_collator = DataCollatorWithPadding(tokenizer=tokenizer, \n",
        "                                        max_length=128,\n",
        "                                        return_tensors=\"tf\")"
      ],
      "metadata": {
        "execution": {
          "iopub.status.busy": "2023-05-31T05:43:38.058922Z",
          "iopub.execute_input": "2023-05-31T05:43:38.059396Z",
          "iopub.status.idle": "2023-05-31T05:43:38.066391Z",
          "shell.execute_reply.started": "2023-05-31T05:43:38.059350Z",
          "shell.execute_reply": "2023-05-31T05:43:38.065113Z"
        },
        "trusted": true,
        "id": "_z9O4S4wV0pb",
        "colab": {
          "base_uri": "https://localhost:8080/"
        },
        "outputId": "73be8f4f-186e-487e-b677-3ace2056f8c1"
      },
      "execution_count": 37,
      "outputs": [
        {
          "output_type": "stream",
          "name": "stdout",
          "text": [
            "Initializing Data Collator\n"
          ]
        }
      ]
    },
    {
      "cell_type": "code",
      "source": [
        "print(\"Preparing Training and Testing sets to TRAIN the MODEL\")\n",
        "tf_train_set = model.prepare_tf_dataset(\n",
        "    tokenized_inputs[\"train\"],\n",
        "    shuffle=True,\n",
        "    batch_size=16,\n",
        "    collate_fn=data_collator,\n",
        ")\n",
        "\n",
        "tf_test_set = model.prepare_tf_dataset(\n",
        "    tokenized_inputs[\"test\"],\n",
        "    shuffle=False,\n",
        "    batch_size=16,\n",
        "    collate_fn=data_collator,\n",
        ")"
      ],
      "metadata": {
        "execution": {
          "iopub.status.busy": "2023-05-31T05:43:38.068079Z",
          "iopub.execute_input": "2023-05-31T05:43:38.068507Z",
          "iopub.status.idle": "2023-05-31T05:43:38.619589Z",
          "shell.execute_reply.started": "2023-05-31T05:43:38.068470Z",
          "shell.execute_reply": "2023-05-31T05:43:38.618444Z"
        },
        "trusted": true,
        "id": "SfHJ3EDjV0pc",
        "colab": {
          "base_uri": "https://localhost:8080/"
        },
        "outputId": "86e6f6ff-6adc-4916-b260-a07b73064dd2"
      },
      "execution_count": 38,
      "outputs": [
        {
          "output_type": "stream",
          "name": "stderr",
          "text": [
            "You're using a AlbertTokenizerFast tokenizer. Please note that with a fast tokenizer, using the `__call__` method is faster than using a method to encode the text followed by a call to the `pad` method to get a padded encoding.\n",
            "/usr/local/lib/python3.10/dist-packages/transformers/tokenization_utils_base.py:2382: UserWarning: `max_length` is ignored when `padding`=`True` and there is no truncation strategy. To pad to max length, use `padding='max_length'`.\n",
            "  warnings.warn(\n"
          ]
        },
        {
          "output_type": "stream",
          "name": "stdout",
          "text": [
            "Preparing Training and Testing sets to TRAIN the MODEL\n"
          ]
        }
      ]
    },
    {
      "cell_type": "markdown",
      "source": [
        "## Training and Evaluation"
      ],
      "metadata": {
        "id": "cMDqTCyCV0pc"
      }
    },
    {
      "cell_type": "code",
      "source": [
        "%%time\n",
        "\n",
        "n_epoch = 5\n",
        "\n",
        "print(\"Training the model\")\n",
        "history = model.fit(x=tf_train_set, \n",
        "          validation_data=tf_test_set,\n",
        "          epochs=n_epoch)\n",
        "print(history.history)"
      ],
      "metadata": {
        "execution": {
          "iopub.status.busy": "2023-05-31T05:43:38.621237Z",
          "iopub.execute_input": "2023-05-31T05:43:38.621587Z"
        },
        "trusted": true,
        "id": "qLYdkjgKV0pc",
        "colab": {
          "base_uri": "https://localhost:8080/"
        },
        "outputId": "bba4e483-4186-4f1d-cd3c-c4aa00da4a8b"
      },
      "execution_count": 39,
      "outputs": [
        {
          "output_type": "stream",
          "name": "stdout",
          "text": [
            "Training the model\n",
            "Epoch 1/5\n",
            "2077/2077 [==============================] - 403s 184ms/step - loss: 1.0972 - val_loss: 1.0967\n",
            "Epoch 2/5\n",
            "2077/2077 [==============================] - 374s 180ms/step - loss: 1.0970 - val_loss: 1.0971\n",
            "Epoch 3/5\n",
            "2077/2077 [==============================] - 372s 179ms/step - loss: 1.0971 - val_loss: 1.0972\n",
            "Epoch 4/5\n",
            "2077/2077 [==============================] - 373s 180ms/step - loss: 1.0971 - val_loss: 1.0967\n",
            "Epoch 5/5\n",
            "2077/2077 [==============================] - 380s 183ms/step - loss: 1.0969 - val_loss: 1.0974\n",
            "{'loss': [1.097208023071289, 1.0969549417495728, 1.0970748662948608, 1.0970985889434814, 1.0968507528305054], 'val_loss': [1.0967183113098145, 1.097143530845642, 1.0971683263778687, 1.0966846942901611, 1.097369909286499]}\n",
            "CPU times: user 25min 16s, sys: 1min 37s, total: 26min 54s\n",
            "Wall time: 32min\n"
          ]
        }
      ]
    },
    {
      "cell_type": "markdown",
      "source": [
        "**Loss Graph Visualization**"
      ],
      "metadata": {
        "id": "HoQ2eRvgV0pc"
      }
    },
    {
      "cell_type": "code",
      "source": [
        "import seaborn\n",
        "\n",
        "seaborn.lineplot(history.history['loss'])\n",
        "seaborn.lineplot(history.history['val_loss'])"
      ],
      "metadata": {
        "trusted": true,
        "id": "WX091KtaV0pd",
        "colab": {
          "base_uri": "https://localhost:8080/",
          "height": 451
        },
        "outputId": "3073f1f1-a4c9-4a6b-972f-639b0dc94ae0"
      },
      "execution_count": 40,
      "outputs": [
        {
          "output_type": "execute_result",
          "data": {
            "text/plain": [
              "<Axes: >"
            ]
          },
          "metadata": {},
          "execution_count": 40
        },
        {
          "output_type": "display_data",
          "data": {
            "text/plain": [
              "<Figure size 640x480 with 1 Axes>"
            ],
            "image/png": "[encoded data removed]"
          },
          "metadata": {}
        }
      ]
    },
    {
      "cell_type": "markdown",
      "source": [
        "### Evaluation"
      ],
      "metadata": {
        "id": "qkqRpOcAV0pd"
      }
    },
    {
      "cell_type": "code",
      "source": [
        "# print(\"Training the model\")\n",
        "# history = model.fit(x=tf_train_set, \n",
        "#           validation_data=tf_test_set,\n",
        "#           epochs=1)"
      ],
      "metadata": {
        "id": "GJICcncvj5CC"
      },
      "execution_count": 41,
      "outputs": []
    },
    {
      "cell_type": "code",
      "source": [
        "# print(\"Training the model\")\n",
        "# history = model.fit(x=tf_train_set, \n",
        "#           validation_data=tf_test_set,\n",
        "#           epochs=1)"
      ],
      "metadata": {
        "id": "FwUGTMfvsBwM"
      },
      "execution_count": 42,
      "outputs": []
    },
    {
      "cell_type": "code",
      "source": [
        "%%time\n",
        "from transformers import pipeline, TextClassificationPipeline\n",
        "\n",
        "print(\"Getting Test Prediction\")\n",
        "pipe = pipeline('sentiment-analysis',model=model,tokenizer=tokenizer,device=1)\n",
        "prediction = pipe(data['test']['text'])\n",
        "pred_labels = [model.config.label2id[x['label']] for x in prediction]\n",
        "\n",
        "actual_labels = data['test']['labels']"
      ],
      "metadata": {
        "trusted": true,
        "id": "pgYrPFp6V0pd",
        "colab": {
          "base_uri": "https://localhost:8080/"
        },
        "outputId": "b44dbcbd-71ec-44f0-b29e-7841bfb65e41"
      },
      "execution_count": 43,
      "outputs": [
        {
          "output_type": "stream",
          "name": "stdout",
          "text": [
            "Getting Test Prediction\n",
            "CPU times: user 26min 59s, sys: 5.61 s, total: 27min 5s\n",
            "Wall time: 27min 7s\n"
          ]
        }
      ]
    },
    {
      "cell_type": "markdown",
      "source": [
        "**Computing F1-Score, Precision, Recall and Accuracy of the Model**"
      ],
      "metadata": {
        "id": "dipiYQ-BV0pd"
      }
    },
    {
      "cell_type": "code",
      "source": [
        "from sklearn.metrics import f1_score, precision_score, recall_score, accuracy_score\n",
        "\n",
        "print(\"F1-Score\",f1_score(actual_labels,pred_labels,average='weighted'))\n",
        "print(\"Precision-Score\",precision_score(actual_labels,pred_labels,average='weighted'))\n",
        "print(\"Recall-Score\",recall_score(actual_labels,pred_labels,average='weighted'))\n",
        "print(\"accuracy_Score\",accuracy_score(actual_labels,pred_labels))"
      ],
      "metadata": {
        "trusted": true,
        "id": "-bI-QgtRV0pe",
        "colab": {
          "base_uri": "https://localhost:8080/"
        },
        "outputId": "3290710f-4727-4429-f3e0-7672f40ca589"
      },
      "execution_count": 44,
      "outputs": [
        {
          "output_type": "stream",
          "name": "stdout",
          "text": [
            "F1-Score 0.1932925381957703\n",
            "Precision-Score 0.1317227008186098\n",
            "Recall-Score 0.36293622141997595\n",
            "accuracy_Score 0.36293622141997595\n"
          ]
        },
        {
          "output_type": "stream",
          "name": "stderr",
          "text": [
            "/usr/local/lib/python3.10/dist-packages/sklearn/metrics/_classification.py:1344: UndefinedMetricWarning: Precision is ill-defined and being set to 0.0 in labels with no predicted samples. Use `zero_division` parameter to control this behavior.\n",
            "  _warn_prf(average, modifier, msg_start, len(result))\n"
          ]
        }
      ]
    },
    {
      "cell_type": "code",
      "source": [
        "from sklearn.metrics import ConfusionMatrixDisplay\n",
        "import matplotlib.pyplot as plt\n",
        "\n",
        "cmd = ConfusionMatrixDisplay(tf.math.confusion_matrix(actual_labels,pred_labels,num_classes=3).numpy())\n",
        "cmd.plot()"
      ],
      "metadata": {
        "trusted": true,
        "id": "m-_cmtjIV0pf",
        "colab": {
          "base_uri": "https://localhost:8080/",
          "height": 471
        },
        "outputId": "80f7ee9c-b253-4d76-a29d-7c8dff0b18b6"
      },
      "execution_count": 45,
      "outputs": [
        {
          "output_type": "execute_result",
          "data": {
            "text/plain": [
              "<sklearn.metrics._plot.confusion_matrix.ConfusionMatrixDisplay at 0x7f595c81f550>"
            ]
          },
          "metadata": {},
          "execution_count": 45
        },
        {
          "output_type": "display_data",
          "data": {
            "text/plain": [
              "<Figure size 640x480 with 2 Axes>"
            ],
            "image/png": "[encoded data removed]"
          },
          "metadata": {}
        }
      ]
    },
    {
      "cell_type": "code",
      "source": [],
      "metadata": {
        "id": "dcKaA5cPWQ6T"
      },
      "execution_count": 45,
      "outputs": []
    }
  ]
}