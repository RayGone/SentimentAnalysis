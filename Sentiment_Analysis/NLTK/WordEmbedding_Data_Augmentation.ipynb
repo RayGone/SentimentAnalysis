{
 "cells": [
  {
   "attachments": {},
   "cell_type": "markdown",
   "metadata": {},
   "source": [
    "## Augment Libraries\n",
    "- https://github.com/makcedward/nlpaug  [This one we use]\n",
    "- https://github.com/dsfsi/textaugment\n",
    "- TextAttack (couldn't install this on my machine)\n",
    "- sentence-transformer https://www.sbert.net/examples/applications/clustering/README.html"
   ]
  },
  {
   "cell_type": "code",
   "execution_count": 7,
   "metadata": {},
   "outputs": [],
   "source": [
    "import nlpaug.augmenter.word as word"
   ]
  },
  {
   "cell_type": "code",
   "execution_count": 9,
   "metadata": {},
   "outputs": [
    {
     "ename": "TypeError",
     "evalue": "Augmenter.augment() missing 1 required positional argument: 'data'",
     "output_type": "error",
     "traceback": [
      "\u001b[1;31m---------------------------------------------------------------------------\u001b[0m",
      "\u001b[1;31mTypeError\u001b[0m                                 Traceback (most recent call last)",
      "Cell \u001b[1;32mIn[9], line 1\u001b[0m\n\u001b[1;32m----> 1\u001b[0m word\u001b[39m.\u001b[39;49mAugmenter\u001b[39m.\u001b[39;49maugment(\u001b[39m\"\u001b[39;49m\u001b[39mदेशभर थप ७६ जनामा कोरोना संक्रमण पुष्टि भएको छ\u001b[39;49m\u001b[39m\"\u001b[39;49m)\n",
      "\u001b[1;31mTypeError\u001b[0m: Augmenter.augment() missing 1 required positional argument: 'data'"
     ]
    }
   ],
   "source": [
    "word.Augmenter.augment(\"देशभर थप ७६ जनामा कोरोना संक्रमण पुष्टि भएको छ\")"
   ]
  },
  {
   "cell_type": "code",
   "execution_count": null,
   "metadata": {},
   "outputs": [],
   "source": []
  }
 ],
 "metadata": {
  "kernelspec": {
   "display_name": "Python 3",
   "language": "python",
   "name": "python3"
  },
  "language_info": {
   "codemirror_mode": {
    "name": "ipython",
    "version": 3
   },
   "file_extension": ".py",
   "mimetype": "text/x-python",
   "name": "python",
   "nbconvert_exporter": "python",
   "pygments_lexer": "ipython3",
   "version": "3.10.11"
  },
  "orig_nbformat": 4
 },
 "nbformat": 4,
 "nbformat_minor": 2
}
