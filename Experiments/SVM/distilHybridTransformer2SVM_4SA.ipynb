{
  "metadata": {
    "kernelspec": {
      "language": "python",
      "display_name": "Python 3",
      "name": "python3"
    },
    "language_info": {
      "name": "python",
      "version": "3.10.12",
      "mimetype": "text/x-python",
      "codemirror_mode": {
        "name": "ipython",
        "version": 3
      },
      "pygments_lexer": "ipython3",
      "nbconvert_exporter": "python",
      "file_extension": ".py"
    },
    "colab": {
      "provenance": [],
      "include_colab_link": true
    }
  },
  "nbformat_minor": 0,
  "nbformat": 4,
  "cells": [
    {
      "cell_type": "markdown",
      "metadata": {
        "id": "view-in-github",
        "colab_type": "text"
      },
      "source": [
        "<a href=\"https://colab.research.google.com/github/RayGone/SentimentAnalysis/blob/phase2/Experiments/distilHybridTransformer2SVM_4SA.ipynb\" target=\"_parent\"><img src=\"https://colab.research.google.com/assets/colab-badge.svg\" alt=\"Open In Colab\"/></a>"
      ]
    },
    {
      "cell_type": "code",
      "source": [
        "!pip install transformers tokenizers datasets huggingface_hub --quiet\n",
        "\n",
        "import numpy as np\n",
        "import random\n",
        "import os\n",
        "import tensorflow as tf\n",
        "from transformers import set_seed\n",
        "\n",
        "rand_seed = 9\n",
        "\n",
        "def seed_everything(seed=0):\n",
        "    random.seed(seed) # random\n",
        "    os.environ['PYTHONHASHSEED'] = str(seed) # python enviroment\n",
        "    np.random.seed(seed) # numpy\n",
        "    tf.keras.utils.set_random_seed(seed) # tensorflow\n",
        "    tf.random.set_seed(seed) # tensorflow\n",
        "    set_seed(seed) # hugging_face transformer\n",
        "\n",
        "seed_everything(rand_seed)"
      ],
      "metadata": {
        "id": "FaeuKCXwLTTv",
        "execution": {
          "iopub.status.busy": "2023-08-13T05:51:45.575685Z",
          "iopub.execute_input": "2023-08-13T05:51:45.576758Z",
          "iopub.status.idle": "2023-08-13T05:51:57.759219Z",
          "shell.execute_reply.started": "2023-08-13T05:51:45.576719Z",
          "shell.execute_reply": "2023-08-13T05:51:57.757901Z"
        },
        "trusted": true
      },
      "execution_count": null,
      "outputs": []
    },
    {
      "cell_type": "code",
      "source": [
        "from transformers import PreTrainedTokenizerFast, BertTokenizerFast, TFAutoModel\n",
        "import datasets\n",
        "\n",
        "gptModel = 'raygx/distilGPT-NepSA' ## Fine-tuned Model ## 'raygx/Nepali-GPT2-CausalLM' ## Pre-Trained LM ##\n",
        "gptTokenizer = PreTrainedTokenizerFast.from_pretrained(gptModel,padding_side='left')\n",
        "gptModel = TFAutoModel.from_pretrained(gptModel)\n",
        "\n",
        "bertModel = 'raygx/distilBERT-NepSA' ## Fine-tuned Model for SA ## 'raygx/BertClassifier4NepaliNews' ## Fine-tuned Model for NewsClassification ## 'Shushant/nepaliBERT' ## Pre-Trained LM ##\n",
        "bertTokenizer = BertTokenizerFast.from_pretrained(bertModel)\n",
        "try:\n",
        "    bertModel = TFAutoModel.from_pretrained(bertModel)#,revision='3d8fa5f1a60104bad4592461a0237b85b9c8756c')\n",
        "except:\n",
        "    bertModel = TFAutoModel.from_pretrained(bertModel,from_pt=True)\n",
        "\n",
        "gptModel.config, bertModel.config"
      ],
      "metadata": {
        "id": "MpQvy09eLrDP",
        "outputId": "029308aa-132c-46e6-f1f9-5bb57cea6d95",
        "execution": {
          "iopub.status.busy": "2023-08-13T05:51:57.761855Z",
          "iopub.execute_input": "2023-08-13T05:51:57.762253Z",
          "iopub.status.idle": "2023-08-13T05:52:15.560204Z",
          "shell.execute_reply.started": "2023-08-13T05:51:57.762213Z",
          "shell.execute_reply": "2023-08-13T05:52:15.559206Z"
        },
        "trusted": true,
        "colab": {
          "referenced_widgets": [
            "10d7955759974d09af7b83f6c818ba7b",
            "50484521166949819caf73f8a1b6012c",
            "b8e01068ded740ceaf088846fe83e87e",
            "3a3b81f4eb4d42a68db62c7830a67dff",
            "bd8f3f25050f4742b85025395ac6915c",
            "04f425f2133c42d2807479e5804bb5db",
            "c1da58592b4a4931a7c366b4a5860cff",
            "37df62cbf2474b4db45490a74a964b27",
            "9bd407be1aca4b63a44a6a7cdc0b81fb",
            "5460b5401d9048d99f51949fc8841104"
          ]
        }
      },
      "execution_count": null,
      "outputs": [
        {
          "output_type": "display_data",
          "data": {
            "text/plain": "Downloading (…)okenizer_config.json:   0%|          | 0.00/172 [00:00<?, ?B/s]",
            "application/vnd.jupyter.widget-view+json": {
              "version_major": 2,
              "version_minor": 0,
              "model_id": "10d7955759974d09af7b83f6c818ba7b"
            }
          },
          "metadata": {}
        },
        {
          "output_type": "display_data",
          "data": {
            "text/plain": "Downloading (…)/main/tokenizer.json:   0%|          | 0.00/3.34M [00:00<?, ?B/s]",
            "application/vnd.jupyter.widget-view+json": {
              "version_major": 2,
              "version_minor": 0,
              "model_id": "50484521166949819caf73f8a1b6012c"
            }
          },
          "metadata": {}
        },
        {
          "output_type": "display_data",
          "data": {
            "text/plain": "Downloading (…)cial_tokens_map.json:   0%|          | 0.00/75.0 [00:00<?, ?B/s]",
            "application/vnd.jupyter.widget-view+json": {
              "version_major": 2,
              "version_minor": 0,
              "model_id": "b8e01068ded740ceaf088846fe83e87e"
            }
          },
          "metadata": {}
        },
        {
          "output_type": "display_data",
          "data": {
            "text/plain": "Downloading (…)lve/main/config.json:   0%|          | 0.00/1.10k [00:00<?, ?B/s]",
            "application/vnd.jupyter.widget-view+json": {
              "version_major": 2,
              "version_minor": 0,
              "model_id": "3a3b81f4eb4d42a68db62c7830a67dff"
            }
          },
          "metadata": {}
        },
        {
          "output_type": "display_data",
          "data": {
            "text/plain": "Downloading tf_model.h5:   0%|          | 0.00/327M [00:00<?, ?B/s]",
            "application/vnd.jupyter.widget-view+json": {
              "version_major": 2,
              "version_minor": 0,
              "model_id": "bd8f3f25050f4742b85025395ac6915c"
            }
          },
          "metadata": {}
        },
        {
          "name": "stderr",
          "text": "Some layers from the model checkpoint at raygx/distilGPT-NepSA were not used when initializing TFGPT2Model: ['score']\n- This IS expected if you are initializing TFGPT2Model from the checkpoint of a model trained on another task or with another architecture (e.g. initializing a BertForSequenceClassification model from a BertForPreTraining model).\n- This IS NOT expected if you are initializing TFGPT2Model from the checkpoint of a model that you expect to be exactly identical (initializing a BertForSequenceClassification model from a BertForSequenceClassification model).\nAll the layers of TFGPT2Model were initialized from the model checkpoint at raygx/distilGPT-NepSA.\nIf your task is similar to the task the model of the checkpoint was trained on, you can already use TFGPT2Model for predictions without further training.\n",
          "output_type": "stream"
        },
        {
          "output_type": "display_data",
          "data": {
            "text/plain": "Downloading (…)okenizer_config.json:   0%|          | 0.00/186 [00:00<?, ?B/s]",
            "application/vnd.jupyter.widget-view+json": {
              "version_major": 2,
              "version_minor": 0,
              "model_id": "04f425f2133c42d2807479e5804bb5db"
            }
          },
          "metadata": {}
        },
        {
          "output_type": "display_data",
          "data": {
            "text/plain": "Downloading (…)/main/tokenizer.json:   0%|          | 0.00/1.67M [00:00<?, ?B/s]",
            "application/vnd.jupyter.widget-view+json": {
              "version_major": 2,
              "version_minor": 0,
              "model_id": "c1da58592b4a4931a7c366b4a5860cff"
            }
          },
          "metadata": {}
        },
        {
          "output_type": "display_data",
          "data": {
            "text/plain": "Downloading (…)cial_tokens_map.json:   0%|          | 0.00/125 [00:00<?, ?B/s]",
            "application/vnd.jupyter.widget-view+json": {
              "version_major": 2,
              "version_minor": 0,
              "model_id": "37df62cbf2474b4db45490a74a964b27"
            }
          },
          "metadata": {}
        },
        {
          "name": "stderr",
          "text": "The tokenizer class you load from this checkpoint is not the same type as the class this function is called from. It may result in unexpected tokenization. \nThe tokenizer class you load from this checkpoint is 'PreTrainedTokenizerFast'. \nThe class this function is called from is 'BertTokenizerFast'.\n",
          "output_type": "stream"
        },
        {
          "output_type": "display_data",
          "data": {
            "text/plain": "Downloading (…)lve/main/config.json:   0%|          | 0.00/738 [00:00<?, ?B/s]",
            "application/vnd.jupyter.widget-view+json": {
              "version_major": 2,
              "version_minor": 0,
              "model_id": "9bd407be1aca4b63a44a6a7cdc0b81fb"
            }
          },
          "metadata": {}
        },
        {
          "output_type": "display_data",
          "data": {
            "text/plain": "Downloading tf_model.h5:   0%|          | 0.00/328M [00:00<?, ?B/s]",
            "application/vnd.jupyter.widget-view+json": {
              "version_major": 2,
              "version_minor": 0,
              "model_id": "5460b5401d9048d99f51949fc8841104"
            }
          },
          "metadata": {}
        },
        {
          "name": "stderr",
          "text": "Some layers from the model checkpoint at raygx/distilBERT-NepSA were not used when initializing TFDistilBertModel: ['dropout_39', 'classifier', 'pre_classifier']\n- This IS expected if you are initializing TFDistilBertModel from the checkpoint of a model trained on another task or with another architecture (e.g. initializing a BertForSequenceClassification model from a BertForPreTraining model).\n- This IS NOT expected if you are initializing TFDistilBertModel from the checkpoint of a model that you expect to be exactly identical (initializing a BertForSequenceClassification model from a BertForSequenceClassification model).\nAll the layers of TFDistilBertModel were initialized from the model checkpoint at raygx/distilBERT-NepSA.\nIf your task is similar to the task the model of the checkpoint was trained on, you can already use TFDistilBertModel for predictions without further training.\n",
          "output_type": "stream"
        },
        {
          "execution_count": 9,
          "output_type": "execute_result",
          "data": {
            "text/plain": "(GPT2Config {\n   \"_name_or_path\": \"raygx/distilGPT-NepSA\",\n   \"_num_labels\": 1,\n   \"activation_function\": \"gelu_new\",\n   \"architectures\": [\n     \"GPT2ForSequenceClassification\"\n   ],\n   \"attn_pdrop\": 0.1,\n   \"bos_token_id\": 1,\n   \"embd_pdrop\": 0.1,\n   \"eos_token_id\": 2,\n   \"id2label\": {\n     \"0\": \"NEUTRAL\",\n     \"1\": \"POSITIVE\",\n     \"2\": \"NEGATIVE\"\n   },\n   \"initializer_range\": 0.02,\n   \"label2id\": {\n     \"NEGATIVE\": 2,\n     \"NEUTRAL\": 0,\n     \"POSITIVE\": 1\n   },\n   \"layer_norm_epsilon\": 1e-05,\n   \"model_type\": \"gpt2\",\n   \"n_ctx\": 1024,\n   \"n_embd\": 768,\n   \"n_head\": 6,\n   \"n_inner\": null,\n   \"n_layer\": 6,\n   \"n_positions\": 1024,\n   \"pad_token_id\": 3,\n   \"reorder_and_upcast_attn\": false,\n   \"resid_pdrop\": 0.1,\n   \"scale_attn_by_inverse_layer_idx\": false,\n   \"scale_attn_weights\": true,\n   \"summary_activation\": null,\n   \"summary_first_dropout\": 0.1,\n   \"summary_proj_to_labels\": true,\n   \"summary_type\": \"cls_index\",\n   \"summary_use_proj\": true,\n   \"task_specific_params\": {\n     \"text-generation\": {\n       \"do_sample\": true,\n       \"max_length\": 50\n     }\n   },\n   \"transformers_version\": \"4.30.2\",\n   \"use_cache\": true,\n   \"vocab_size\": 50000\n },\n DistilBertConfig {\n   \"_name_or_path\": \"raygx/distilBERT-NepSA\",\n   \"activation\": \"gelu\",\n   \"architectures\": [\n     \"DistilBertForSequenceClassification\"\n   ],\n   \"attention_dropout\": 0.1,\n   \"bos_token_id\": 1,\n   \"dim\": 768,\n   \"dropout\": 0.1,\n   \"eos_token_id\": 2,\n   \"hidden_dim\": 3072,\n   \"id2label\": {\n     \"0\": \"NEUTRAL\",\n     \"1\": \"POSITIVE\",\n     \"2\": \"NEGATIVE\"\n   },\n   \"initializer_range\": 0.02,\n   \"label2id\": {\n     \"NEGATIVE\": 2,\n     \"NEUTRAL\": 0,\n     \"POSITIVE\": 1\n   },\n   \"max_position_embeddings\": 512,\n   \"model_type\": \"distilbert\",\n   \"n_heads\": 12,\n   \"n_layers\": 6,\n   \"pad_token_id\": 2,\n   \"qa_dropout\": 0.1,\n   \"seq_classif_dropout\": 0.2,\n   \"sinusoidal_pos_embds\": false,\n   \"tie_weights_\": true,\n   \"transformers_version\": \"4.30.2\",\n   \"vocab_size\": 50000\n })"
          },
          "metadata": {}
        }
      ]
    },
    {
      "cell_type": "code",
      "source": [
        "print(\"#######################Using NepCov19Tweets#########################\")\n",
        "data = datasets.load_dataset(\"raygx/NepCov19TweetsPlus\")\n",
        "\n",
        "data = data.rename_columns({\"Sentiment\":\"label\",\"Sentences\":\"text\"})\n",
        "data"
      ],
      "metadata": {
        "id": "a_QC_q19L1Ou",
        "outputId": "39c4ed3f-98e5-486f-acfd-e930514250e1",
        "execution": {
          "iopub.status.busy": "2023-08-13T05:52:15.561697Z",
          "iopub.execute_input": "2023-08-13T05:52:15.562047Z",
          "iopub.status.idle": "2023-08-13T05:52:16.261443Z",
          "shell.execute_reply.started": "2023-08-13T05:52:15.562012Z",
          "shell.execute_reply": "2023-08-13T05:52:16.260282Z"
        },
        "trusted": true,
        "colab": {
          "referenced_widgets": [
            "56f48931b89442f8a580d7d104679f62"
          ]
        }
      },
      "execution_count": null,
      "outputs": [
        {
          "name": "stdout",
          "text": "#######################Using NepCov19Tweets#########################\n",
          "output_type": "stream"
        },
        {
          "output_type": "display_data",
          "data": {
            "text/plain": "  0%|          | 0/1 [00:00<?, ?it/s]",
            "application/vnd.jupyter.widget-view+json": {
              "version_major": 2,
              "version_minor": 0,
              "model_id": "56f48931b89442f8a580d7d104679f62"
            }
          },
          "metadata": {}
        },
        {
          "execution_count": 10,
          "output_type": "execute_result",
          "data": {
            "text/plain": "DatasetDict({\n    train: Dataset({\n        features: ['label', 'text'],\n        num_rows: 41541\n    })\n})"
          },
          "metadata": {}
        }
      ]
    },
    {
      "cell_type": "code",
      "source": [
        "data = data.shuffle(rand_seed)\n",
        "data = data['train'].train_test_split(test_size=0.2)\n",
        "data"
      ],
      "metadata": {
        "id": "d7uej8sIMibs",
        "outputId": "5f066f74-ea37-48e1-dd1d-3f6aa85919aa",
        "execution": {
          "iopub.status.busy": "2023-08-13T05:52:16.264198Z",
          "iopub.execute_input": "2023-08-13T05:52:16.265214Z",
          "iopub.status.idle": "2023-08-13T05:52:16.281519Z",
          "shell.execute_reply.started": "2023-08-13T05:52:16.265178Z",
          "shell.execute_reply": "2023-08-13T05:52:16.280417Z"
        },
        "trusted": true
      },
      "execution_count": null,
      "outputs": [
        {
          "execution_count": 11,
          "output_type": "execute_result",
          "data": {
            "text/plain": "DatasetDict({\n    train: Dataset({\n        features: ['label', 'text'],\n        num_rows: 33232\n    })\n    test: Dataset({\n        features: ['label', 'text'],\n        num_rows: 8309\n    })\n})"
          },
          "metadata": {}
        }
      ]
    },
    {
      "cell_type": "code",
      "source": [
        "def prepareLabels(row):\n",
        "    if row['label'] == -1:\n",
        "        row['label'] = 2\n",
        "\n",
        "    return row\n",
        "\n",
        "data = data.map(\n",
        "        prepareLabels,\n",
        "        num_proc=4)\n",
        "\n",
        "data"
      ],
      "metadata": {
        "id": "mJgrJxkxMlGE",
        "outputId": "8135fd01-c616-40d7-cb61-9230c797d6c5",
        "execution": {
          "iopub.status.busy": "2023-08-13T05:52:16.283045Z",
          "iopub.execute_input": "2023-08-13T05:52:16.284667Z",
          "iopub.status.idle": "2023-08-13T05:52:23.910605Z",
          "shell.execute_reply.started": "2023-08-13T05:52:16.284602Z",
          "shell.execute_reply": "2023-08-13T05:52:23.909567Z"
        },
        "trusted": true,
        "colab": {
          "referenced_widgets": [
            "9a81fa0d67cf4033b10afcfe24dbe16d",
            "85feb85d9fcc49f59a8cce328c51c960",
            "096e79c69786446cba46d0ef5770e1e4",
            "7369331d6375456192cae53a3500d669",
            "cebb89b5872c4c10925a69fa89d12179",
            "d981101a87a843cf9717e417a0b3ed9a",
            "2b7e37b1bbd2463c8e4e97ecf2ea329a",
            "ad0949b957b14f239dd70ed72def6f44"
          ]
        }
      },
      "execution_count": null,
      "outputs": [
        {
          "name": "stdout",
          "text": "     ",
          "output_type": "stream"
        },
        {
          "output_type": "display_data",
          "data": {
            "text/plain": "#0:   0%|          | 0/8308 [00:00<?, ?ex/s]",
            "application/vnd.jupyter.widget-view+json": {
              "version_major": 2,
              "version_minor": 0,
              "model_id": "9a81fa0d67cf4033b10afcfe24dbe16d"
            }
          },
          "metadata": {}
        },
        {
          "name": "stdout",
          "text": "   ",
          "output_type": "stream"
        },
        {
          "output_type": "display_data",
          "data": {
            "text/plain": "#1:   0%|          | 0/8308 [00:00<?, ?ex/s]",
            "application/vnd.jupyter.widget-view+json": {
              "version_major": 2,
              "version_minor": 0,
              "model_id": "85feb85d9fcc49f59a8cce328c51c960"
            }
          },
          "metadata": {}
        },
        {
          "output_type": "display_data",
          "data": {
            "text/plain": "#3:   0%|          | 0/8308 [00:00<?, ?ex/s]",
            "application/vnd.jupyter.widget-view+json": {
              "version_major": 2,
              "version_minor": 0,
              "model_id": "096e79c69786446cba46d0ef5770e1e4"
            }
          },
          "metadata": {}
        },
        {
          "output_type": "display_data",
          "data": {
            "text/plain": "#2:   0%|          | 0/8308 [00:00<?, ?ex/s]",
            "application/vnd.jupyter.widget-view+json": {
              "version_major": 2,
              "version_minor": 0,
              "model_id": "7369331d6375456192cae53a3500d669"
            }
          },
          "metadata": {}
        },
        {
          "name": "stdout",
          "text": "        ",
          "output_type": "stream"
        },
        {
          "output_type": "display_data",
          "data": {
            "text/plain": "#0:   0%|          | 0/2078 [00:00<?, ?ex/s]",
            "application/vnd.jupyter.widget-view+json": {
              "version_major": 2,
              "version_minor": 0,
              "model_id": "cebb89b5872c4c10925a69fa89d12179"
            }
          },
          "metadata": {}
        },
        {
          "output_type": "display_data",
          "data": {
            "text/plain": "#2:   0%|          | 0/2077 [00:00<?, ?ex/s]",
            "application/vnd.jupyter.widget-view+json": {
              "version_major": 2,
              "version_minor": 0,
              "model_id": "d981101a87a843cf9717e417a0b3ed9a"
            }
          },
          "metadata": {}
        },
        {
          "output_type": "display_data",
          "data": {
            "text/plain": "#1:   0%|          | 0/2077 [00:00<?, ?ex/s]",
            "application/vnd.jupyter.widget-view+json": {
              "version_major": 2,
              "version_minor": 0,
              "model_id": "2b7e37b1bbd2463c8e4e97ecf2ea329a"
            }
          },
          "metadata": {}
        },
        {
          "output_type": "display_data",
          "data": {
            "text/plain": "#3:   0%|          | 0/2077 [00:00<?, ?ex/s]",
            "application/vnd.jupyter.widget-view+json": {
              "version_major": 2,
              "version_minor": 0,
              "model_id": "ad0949b957b14f239dd70ed72def6f44"
            }
          },
          "metadata": {}
        },
        {
          "execution_count": 12,
          "output_type": "execute_result",
          "data": {
            "text/plain": "DatasetDict({\n    train: Dataset({\n        features: ['label', 'text'],\n        num_rows: 33232\n    })\n    test: Dataset({\n        features: ['label', 'text'],\n        num_rows: 8309\n    })\n})"
          },
          "metadata": {}
        }
      ]
    },
    {
      "cell_type": "code",
      "source": [
        "import tensorflow as tf\n",
        "\n",
        "class GPTEmbedding(tf.keras.layers.Layer):\n",
        "    def __init__(self, model,tokenizer, max_token_len=128,padding='max_length', trailing_context=4,truncation=True):\n",
        "        super().__init__()\n",
        "        self.embedding = model\n",
        "        self.tokenizer = tokenizer\n",
        "        self.tokenizer.padding_side = 'left'\n",
        "        self.max_token = max_token_len\n",
        "        self.padding = padding\n",
        "        self.truncation = truncation\n",
        "        self.trailing_context = trailing_context\n",
        "        self.trainable=False\n",
        "\n",
        "    def call(self, x):\n",
        "        embeddings = self.embedding(\n",
        "                      self.tokenizer(x,padding=self.padding,truncation=self.truncation,max_length=self.max_token,return_tensors='tf')\n",
        "                    )[0][:,-self.trailing_context:,:]\n",
        "\n",
        "        return tf.reduce_logsumexp(embeddings,axis=1)\n",
        "\n",
        "class BERTEmbedding(tf.keras.layers.Layer):\n",
        "    def __init__(self, model,tokenizer, max_token_len=128,padding='max_length',truncation=True):\n",
        "        super().__init__()\n",
        "        self.embedding = model\n",
        "        self.tokenizer = tokenizer\n",
        "        self.max_token = max_token_len\n",
        "        self.padding = padding\n",
        "        self.truncation = truncation\n",
        "        self.trainable=False\n",
        "\n",
        "    def call(self, x):\n",
        "        x = self.embedding(self.tokenizer(x,padding=self.padding,truncation=self.truncation,max_length=self.max_token,return_tensors='tf'))\n",
        "        return x['last_hidden_state'][:,-1,:]"
      ],
      "metadata": {
        "id": "Yv5O9WfxMnYk",
        "execution": {
          "iopub.status.busy": "2023-08-13T05:57:23.999443Z",
          "iopub.execute_input": "2023-08-13T05:57:23.999843Z",
          "iopub.status.idle": "2023-08-13T05:57:24.012603Z",
          "shell.execute_reply.started": "2023-08-13T05:57:23.999802Z",
          "shell.execute_reply": "2023-08-13T05:57:24.011668Z"
        },
        "trusted": true
      },
      "execution_count": null,
      "outputs": []
    },
    {
      "cell_type": "markdown",
      "source": [
        "### Preparing Training Data"
      ],
      "metadata": {
        "id": "Kmi-4OkVQwgf"
      }
    },
    {
      "cell_type": "code",
      "source": [
        "from tqdm.auto import tqdm\n",
        "\n",
        "gptEmbd = GPTEmbedding(model=gptModel,tokenizer=gptTokenizer,trailing_context=1,max_token_len=100)\n",
        "bertEmbd = BERTEmbedding(model=bertModel,tokenizer=bertTokenizer,max_token_len=100)\n",
        "\n",
        "X = None\n",
        "batch = 32\n",
        "for i in tqdm(range(0,data['train'].num_rows,batch)):\n",
        "    feat1 = bertEmbd(data['train'][i:i+batch]['text'])\n",
        "    feat2 = gptEmbd(data['train'][i:i+batch]['text'])\n",
        "\n",
        "    feat = tf.concat((feat1,feat2),1)\n",
        "    if i==0:\n",
        "        X = feat\n",
        "    else:\n",
        "        X = np.concatenate([X,feat],axis=0)\n",
        "\n",
        "X.shape"
      ],
      "metadata": {
        "id": "WTj-yYe8RN3r",
        "outputId": "e9c9be56-05b1-48d7-93d6-1dda61090c6b",
        "execution": {
          "iopub.status.busy": "2023-08-13T05:57:24.960283Z",
          "iopub.execute_input": "2023-08-13T05:57:24.960639Z",
          "iopub.status.idle": "2023-08-13T06:01:39.775163Z",
          "shell.execute_reply.started": "2023-08-13T05:57:24.960610Z",
          "shell.execute_reply": "2023-08-13T06:01:39.774149Z"
        },
        "trusted": true,
        "colab": {
          "referenced_widgets": [
            "585384c2ff2f482babf518cb1f7ddfb9"
          ]
        }
      },
      "execution_count": null,
      "outputs": [
        {
          "output_type": "display_data",
          "data": {
            "text/plain": "  0%|          | 0/1039 [00:00<?, ?it/s]",
            "application/vnd.jupyter.widget-view+json": {
              "version_major": 2,
              "version_minor": 0,
              "model_id": "585384c2ff2f482babf518cb1f7ddfb9"
            }
          },
          "metadata": {}
        },
        {
          "execution_count": 24,
          "output_type": "execute_result",
          "data": {
            "text/plain": "(33232, 1536)"
          },
          "metadata": {}
        }
      ]
    },
    {
      "cell_type": "code",
      "source": [
        "### Attention Visualization\n",
        "# import seaborn as sns\n",
        "\n",
        "# output = bertModel(bertTokenizer(data['train'][:1]['text'],return_tensors='tf'),output_attentions=True)\n",
        "# print(output.keys())\n",
        "# print(output['attentions'][1].shape)\n",
        "\n",
        "### output['attentions'][nLayer][nBatch][nHead]\n",
        "# sns.heatmap(output['attentions'][-2][0][-6])"
      ],
      "metadata": {
        "id": "S6RsWVKOc8Co",
        "execution": {
          "iopub.status.busy": "2023-08-13T06:13:45.997267Z",
          "iopub.execute_input": "2023-08-13T06:13:45.997659Z",
          "iopub.status.idle": "2023-08-13T06:13:46.002554Z",
          "shell.execute_reply.started": "2023-08-13T06:13:45.997628Z",
          "shell.execute_reply": "2023-08-13T06:13:46.001592Z"
        },
        "trusted": true
      },
      "execution_count": null,
      "outputs": []
    },
    {
      "cell_type": "markdown",
      "source": [
        "## Training"
      ],
      "metadata": {
        "id": "Ki6PsivcQuSs"
      }
    },
    {
      "cell_type": "code",
      "source": [
        "%%time\n",
        "from sklearn import svm\n",
        "\n",
        "y = data['train']['label']\n",
        "clf = svm.SVC()  ## default 'rbf'\n",
        "clf.fit(X, y)\n",
        "clf.classes_"
      ],
      "metadata": {
        "id": "Zx7FmyriNCqV",
        "outputId": "10e74c10-2134-430d-e021-23c864d5dcf3",
        "execution": {
          "iopub.status.busy": "2023-08-13T06:13:46.460728Z",
          "iopub.execute_input": "2023-08-13T06:13:46.461866Z",
          "iopub.status.idle": "2023-08-13T06:22:46.242740Z",
          "shell.execute_reply.started": "2023-08-13T06:13:46.461819Z",
          "shell.execute_reply": "2023-08-13T06:22:46.241683Z"
        },
        "trusted": true
      },
      "execution_count": null,
      "outputs": [
        {
          "name": "stdout",
          "text": "CPU times: user 8min 57s, sys: 756 ms, total: 8min 58s\nWall time: 8min 59s\n",
          "output_type": "stream"
        },
        {
          "execution_count": 26,
          "output_type": "execute_result",
          "data": {
            "text/plain": "array([0, 1, 2])"
          },
          "metadata": {}
        }
      ]
    },
    {
      "cell_type": "markdown",
      "source": [
        "### Preparing Test Data"
      ],
      "metadata": {
        "id": "oHPqbA4yQqvy"
      }
    },
    {
      "cell_type": "code",
      "source": [
        "testX = None\n",
        "for i in tqdm(range(0,data['test'].num_rows,batch)):\n",
        "    feat1 = bertEmbd(data['test'][i:i+batch]['text'])\n",
        "    feat2 = gptEmbd(data['test'][i:i+batch]['text'])\n",
        "\n",
        "    feat = tf.concat([feat1,feat2],1)\n",
        "    if i==0:\n",
        "        testX = feat\n",
        "    else:\n",
        "        testX = np.concatenate([testX,feat],axis=0)\n",
        "\n",
        "testX.shape"
      ],
      "metadata": {
        "id": "VFxMYayRMfjR",
        "outputId": "65c31170-31dd-4ff6-b87a-3ce1f7de72c9",
        "execution": {
          "iopub.status.busy": "2023-08-13T06:22:46.244944Z",
          "iopub.execute_input": "2023-08-13T06:22:46.245583Z",
          "iopub.status.idle": "2023-08-13T06:23:42.080648Z",
          "shell.execute_reply.started": "2023-08-13T06:22:46.245544Z",
          "shell.execute_reply": "2023-08-13T06:23:42.079648Z"
        },
        "trusted": true,
        "colab": {
          "referenced_widgets": [
            "e69bc18cb932416aacdd6f3aa9ad622e"
          ]
        }
      },
      "execution_count": null,
      "outputs": [
        {
          "output_type": "display_data",
          "data": {
            "text/plain": "  0%|          | 0/260 [00:00<?, ?it/s]",
            "application/vnd.jupyter.widget-view+json": {
              "version_major": 2,
              "version_minor": 0,
              "model_id": "e69bc18cb932416aacdd6f3aa9ad622e"
            }
          },
          "metadata": {}
        },
        {
          "execution_count": 27,
          "output_type": "execute_result",
          "data": {
            "text/plain": "(8309, 1536)"
          },
          "metadata": {}
        }
      ]
    },
    {
      "cell_type": "markdown",
      "source": [
        "## Evaluation"
      ],
      "metadata": {
        "id": "m-8COYkGQjSd"
      }
    },
    {
      "cell_type": "code",
      "source": [
        "%%time\n",
        "predictions = clf.predict(testX)"
      ],
      "metadata": {
        "id": "1lOihVaLOMga",
        "outputId": "3849d102-81d8-47e0-aa7f-0d34c446e4ef",
        "execution": {
          "iopub.status.busy": "2023-08-13T06:23:42.082349Z",
          "iopub.execute_input": "2023-08-13T06:23:42.083042Z",
          "iopub.status.idle": "2023-08-13T06:26:14.673622Z",
          "shell.execute_reply.started": "2023-08-13T06:23:42.083005Z",
          "shell.execute_reply": "2023-08-13T06:26:14.672587Z"
        },
        "trusted": true
      },
      "execution_count": null,
      "outputs": [
        {
          "name": "stdout",
          "text": "CPU times: user 2min 32s, sys: 160 ms, total: 2min 32s\nWall time: 2min 32s\n",
          "output_type": "stream"
        }
      ]
    },
    {
      "cell_type": "code",
      "source": [
        "from sklearn.metrics import f1_score, precision_score, recall_score, accuracy_score\n",
        "\n",
        "y = data['test']['label']\n",
        "print(\"F1-Score\",f1_score(np.array(y),predictions,average='weighted'))\n",
        "print(\"Precision-Score\",precision_score(np.array(y),predictions,average='weighted'))\n",
        "print(\"Recall-Score\",recall_score(np.array(y),predictions,average='weighted'))\n",
        "print(\"accuracy_Score\",accuracy_score(np.array(y),predictions))"
      ],
      "metadata": {
        "id": "ETr9BMVGO2RL",
        "outputId": "313b9ae2-a450-47d5-d68b-e799c7b6a58c",
        "execution": {
          "iopub.status.busy": "2023-08-13T06:26:14.675936Z",
          "iopub.execute_input": "2023-08-13T06:26:14.676578Z",
          "iopub.status.idle": "2023-08-13T06:26:14.711457Z",
          "shell.execute_reply.started": "2023-08-13T06:26:14.676539Z",
          "shell.execute_reply": "2023-08-13T06:26:14.710433Z"
        },
        "trusted": true
      },
      "execution_count": null,
      "outputs": [
        {
          "name": "stdout",
          "text": "F1-Score 0.8409293497047481\nPrecision-Score 0.8451888709642775\nRecall-Score 0.8408954146106631\naccuracy_Score 0.8408954146106631\n",
          "output_type": "stream"
        }
      ]
    },
    {
      "cell_type": "code",
      "source": [
        "from sklearn.metrics import ConfusionMatrixDisplay\n",
        "import matplotlib.pyplot as plt\n",
        "\n",
        "cmd = ConfusionMatrixDisplay(tf.math.confusion_matrix(np.array(y),predictions,num_classes=3).numpy())\n",
        "cmd.plot()"
      ],
      "metadata": {
        "id": "8Rdi-tw9PMkF",
        "outputId": "c3a2a0cd-880f-4242-da82-fc41a24f4282",
        "execution": {
          "iopub.status.busy": "2023-08-13T06:26:14.713926Z",
          "iopub.execute_input": "2023-08-13T06:26:14.714496Z",
          "iopub.status.idle": "2023-08-13T06:26:15.070686Z",
          "shell.execute_reply.started": "2023-08-13T06:26:14.714460Z",
          "shell.execute_reply": "2023-08-13T06:26:15.069712Z"
        },
        "trusted": true
      },
      "execution_count": null,
      "outputs": [
        {
          "execution_count": 30,
          "output_type": "execute_result",
          "data": {
            "text/plain": "<sklearn.metrics._plot.confusion_matrix.ConfusionMatrixDisplay at 0x7b4f5ff6e680>"
          },
          "metadata": {}
        },
        {
          "output_type": "display_data",
          "data": {
            "text/plain": "<Figure size 640x480 with 2 Axes>",
            "image/png": "[encoded data removed]"
          },
          "metadata": {}
        }
      ]
    },
    {
      "cell_type": "code",
      "source": [],
      "metadata": {
        "id": "Xr_FE8hLQiZw"
      },
      "execution_count": null,
      "outputs": []
    }
  ]
}