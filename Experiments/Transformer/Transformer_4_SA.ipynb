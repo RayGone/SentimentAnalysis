{
  "nbformat": 4,
  "nbformat_minor": 0,
  "metadata": {
    "colab": {
      "provenance": [],
      "gpuType": "T4",
      "include_colab_link": true
    },
    "kernelspec": {
      "name": "python3",
      "display_name": "Python 3"
    },
    "language_info": {
      "name": "python"
    },
    "widgets": {
      "application/vnd.jupyter.widget-state+json": {
        "c247640e66a54d499d7eed252e6b25fa": {
          "model_module": "@jupyter-widgets/controls",
          "model_name": "HBoxModel",
          "model_module_version": "1.5.0",
          "state": {
            "_dom_classes": [],
            "_model_module": "@jupyter-widgets/controls",
            "_model_module_version": "1.5.0",
            "_model_name": "HBoxModel",
            "_view_count": null,
            "_view_module": "@jupyter-widgets/controls",
            "_view_module_version": "1.5.0",
            "_view_name": "HBoxView",
            "box_style": "",
            "children": [
              "IPY_MODEL_1b35fb6d619849b385aa4d7c8996e3d8",
              "IPY_MODEL_af288682b04a48fa8e71284a6dcca2eb",
              "IPY_MODEL_57e78dd6d684477690b4b222b1ab69db"
            ],
            "layout": "IPY_MODEL_9531c2ebbf124545af2a4a7c452b6ed5"
          }
        },
        "1b35fb6d619849b385aa4d7c8996e3d8": {
          "model_module": "@jupyter-widgets/controls",
          "model_name": "HTMLModel",
          "model_module_version": "1.5.0",
          "state": {
            "_dom_classes": [],
            "_model_module": "@jupyter-widgets/controls",
            "_model_module_version": "1.5.0",
            "_model_name": "HTMLModel",
            "_view_count": null,
            "_view_module": "@jupyter-widgets/controls",
            "_view_module_version": "1.5.0",
            "_view_name": "HTMLView",
            "description": "",
            "description_tooltip": null,
            "layout": "IPY_MODEL_92778612cb55472992e6de228653f643",
            "placeholder": "​",
            "style": "IPY_MODEL_ed7ff22e0c7040bd83727d2933d0e548",
            "value": "100%"
          }
        },
        "af288682b04a48fa8e71284a6dcca2eb": {
          "model_module": "@jupyter-widgets/controls",
          "model_name": "FloatProgressModel",
          "model_module_version": "1.5.0",
          "state": {
            "_dom_classes": [],
            "_model_module": "@jupyter-widgets/controls",
            "_model_module_version": "1.5.0",
            "_model_name": "FloatProgressModel",
            "_view_count": null,
            "_view_module": "@jupyter-widgets/controls",
            "_view_module_version": "1.5.0",
            "_view_name": "ProgressView",
            "bar_style": "success",
            "description": "",
            "description_tooltip": null,
            "layout": "IPY_MODEL_ae5be40dd64d4d809df9ee71f64a33d5",
            "max": 1,
            "min": 0,
            "orientation": "horizontal",
            "style": "IPY_MODEL_7d8681bd74644b28b13a49141754d98d",
            "value": 1
          }
        },
        "57e78dd6d684477690b4b222b1ab69db": {
          "model_module": "@jupyter-widgets/controls",
          "model_name": "HTMLModel",
          "model_module_version": "1.5.0",
          "state": {
            "_dom_classes": [],
            "_model_module": "@jupyter-widgets/controls",
            "_model_module_version": "1.5.0",
            "_model_name": "HTMLModel",
            "_view_count": null,
            "_view_module": "@jupyter-widgets/controls",
            "_view_module_version": "1.5.0",
            "_view_name": "HTMLView",
            "description": "",
            "description_tooltip": null,
            "layout": "IPY_MODEL_526329e37945470695e1d7e15609dcac",
            "placeholder": "​",
            "style": "IPY_MODEL_4efe10cad48f488ba0fc563cd3d8f420",
            "value": " 1/1 [00:00&lt;00:00, 35.67it/s]"
          }
        },
        "9531c2ebbf124545af2a4a7c452b6ed5": {
          "model_module": "@jupyter-widgets/base",
          "model_name": "LayoutModel",
          "model_module_version": "1.2.0",
          "state": {
            "_model_module": "@jupyter-widgets/base",
            "_model_module_version": "1.2.0",
            "_model_name": "LayoutModel",
            "_view_count": null,
            "_view_module": "@jupyter-widgets/base",
            "_view_module_version": "1.2.0",
            "_view_name": "LayoutView",
            "align_content": null,
            "align_items": null,
            "align_self": null,
            "border": null,
            "bottom": null,
            "display": null,
            "flex": null,
            "flex_flow": null,
            "grid_area": null,
            "grid_auto_columns": null,
            "grid_auto_flow": null,
            "grid_auto_rows": null,
            "grid_column": null,
            "grid_gap": null,
            "grid_row": null,
            "grid_template_areas": null,
            "grid_template_columns": null,
            "grid_template_rows": null,
            "height": null,
            "justify_content": null,
            "justify_items": null,
            "left": null,
            "margin": null,
            "max_height": null,
            "max_width": null,
            "min_height": null,
            "min_width": null,
            "object_fit": null,
            "object_position": null,
            "order": null,
            "overflow": null,
            "overflow_x": null,
            "overflow_y": null,
            "padding": null,
            "right": null,
            "top": null,
            "visibility": null,
            "width": null
          }
        },
        "92778612cb55472992e6de228653f643": {
          "model_module": "@jupyter-widgets/base",
          "model_name": "LayoutModel",
          "model_module_version": "1.2.0",
          "state": {
            "_model_module": "@jupyter-widgets/base",
            "_model_module_version": "1.2.0",
            "_model_name": "LayoutModel",
            "_view_count": null,
            "_view_module": "@jupyter-widgets/base",
            "_view_module_version": "1.2.0",
            "_view_name": "LayoutView",
            "align_content": null,
            "align_items": null,
            "align_self": null,
            "border": null,
            "bottom": null,
            "display": null,
            "flex": null,
            "flex_flow": null,
            "grid_area": null,
            "grid_auto_columns": null,
            "grid_auto_flow": null,
            "grid_auto_rows": null,
            "grid_column": null,
            "grid_gap": null,
            "grid_row": null,
            "grid_template_areas": null,
            "grid_template_columns": null,
            "grid_template_rows": null,
            "height": null,
            "justify_content": null,
            "justify_items": null,
            "left": null,
            "margin": null,
            "max_height": null,
            "max_width": null,
            "min_height": null,
            "min_width": null,
            "object_fit": null,
            "object_position": null,
            "order": null,
            "overflow": null,
            "overflow_x": null,
            "overflow_y": null,
            "padding": null,
            "right": null,
            "top": null,
            "visibility": null,
            "width": null
          }
        },
        "ed7ff22e0c7040bd83727d2933d0e548": {
          "model_module": "@jupyter-widgets/controls",
          "model_name": "DescriptionStyleModel",
          "model_module_version": "1.5.0",
          "state": {
            "_model_module": "@jupyter-widgets/controls",
            "_model_module_version": "1.5.0",
            "_model_name": "DescriptionStyleModel",
            "_view_count": null,
            "_view_module": "@jupyter-widgets/base",
            "_view_module_version": "1.2.0",
            "_view_name": "StyleView",
            "description_width": ""
          }
        },
        "ae5be40dd64d4d809df9ee71f64a33d5": {
          "model_module": "@jupyter-widgets/base",
          "model_name": "LayoutModel",
          "model_module_version": "1.2.0",
          "state": {
            "_model_module": "@jupyter-widgets/base",
            "_model_module_version": "1.2.0",
            "_model_name": "LayoutModel",
            "_view_count": null,
            "_view_module": "@jupyter-widgets/base",
            "_view_module_version": "1.2.0",
            "_view_name": "LayoutView",
            "align_content": null,
            "align_items": null,
            "align_self": null,
            "border": null,
            "bottom": null,
            "display": null,
            "flex": null,
            "flex_flow": null,
            "grid_area": null,
            "grid_auto_columns": null,
            "grid_auto_flow": null,
            "grid_auto_rows": null,
            "grid_column": null,
            "grid_gap": null,
            "grid_row": null,
            "grid_template_areas": null,
            "grid_template_columns": null,
            "grid_template_rows": null,
            "height": null,
            "justify_content": null,
            "justify_items": null,
            "left": null,
            "margin": null,
            "max_height": null,
            "max_width": null,
            "min_height": null,
            "min_width": null,
            "object_fit": null,
            "object_position": null,
            "order": null,
            "overflow": null,
            "overflow_x": null,
            "overflow_y": null,
            "padding": null,
            "right": null,
            "top": null,
            "visibility": null,
            "width": null
          }
        },
        "7d8681bd74644b28b13a49141754d98d": {
          "model_module": "@jupyter-widgets/controls",
          "model_name": "ProgressStyleModel",
          "model_module_version": "1.5.0",
          "state": {
            "_model_module": "@jupyter-widgets/controls",
            "_model_module_version": "1.5.0",
            "_model_name": "ProgressStyleModel",
            "_view_count": null,
            "_view_module": "@jupyter-widgets/base",
            "_view_module_version": "1.2.0",
            "_view_name": "StyleView",
            "bar_color": null,
            "description_width": ""
          }
        },
        "526329e37945470695e1d7e15609dcac": {
          "model_module": "@jupyter-widgets/base",
          "model_name": "LayoutModel",
          "model_module_version": "1.2.0",
          "state": {
            "_model_module": "@jupyter-widgets/base",
            "_model_module_version": "1.2.0",
            "_model_name": "LayoutModel",
            "_view_count": null,
            "_view_module": "@jupyter-widgets/base",
            "_view_module_version": "1.2.0",
            "_view_name": "LayoutView",
            "align_content": null,
            "align_items": null,
            "align_self": null,
            "border": null,
            "bottom": null,
            "display": null,
            "flex": null,
            "flex_flow": null,
            "grid_area": null,
            "grid_auto_columns": null,
            "grid_auto_flow": null,
            "grid_auto_rows": null,
            "grid_column": null,
            "grid_gap": null,
            "grid_row": null,
            "grid_template_areas": null,
            "grid_template_columns": null,
            "grid_template_rows": null,
            "height": null,
            "justify_content": null,
            "justify_items": null,
            "left": null,
            "margin": null,
            "max_height": null,
            "max_width": null,
            "min_height": null,
            "min_width": null,
            "object_fit": null,
            "object_position": null,
            "order": null,
            "overflow": null,
            "overflow_x": null,
            "overflow_y": null,
            "padding": null,
            "right": null,
            "top": null,
            "visibility": null,
            "width": null
          }
        },
        "4efe10cad48f488ba0fc563cd3d8f420": {
          "model_module": "@jupyter-widgets/controls",
          "model_name": "DescriptionStyleModel",
          "model_module_version": "1.5.0",
          "state": {
            "_model_module": "@jupyter-widgets/controls",
            "_model_module_version": "1.5.0",
            "_model_name": "DescriptionStyleModel",
            "_view_count": null,
            "_view_module": "@jupyter-widgets/base",
            "_view_module_version": "1.2.0",
            "_view_name": "StyleView",
            "description_width": ""
          }
        }
      }
    },
    "accelerator": "GPU"
  },
  "cells": [
    {
      "cell_type": "markdown",
      "metadata": {
        "id": "view-in-github",
        "colab_type": "text"
      },
      "source": [
        "<a href=\"https://colab.research.google.com/github/RayGone/SentimentAnalysis/blob/phase1/Experiments/Transformer/Transformer_4_SA.ipynb\" target=\"_parent\"><img src=\"https://colab.research.google.com/assets/colab-badge.svg\" alt=\"Open In Colab\"/></a>"
      ]
    },
    {
      "cell_type": "code",
      "source": [
        "# !pip install transformers datasets -q\n",
        "\n",
        "import os\n",
        "import random\n",
        "import numpy as np\n",
        "import pandas as pd\n",
        "import tensorflow as tf\n",
        "import datasets\n",
        "from datasets import load_dataset\n",
        "from transformers import BertTokenizerFast, TFAutoModel\n",
        "from tensorflow.keras.preprocessing.sequence import pad_sequences\n",
        "\n",
        "\n",
        "import gc\n",
        "\n",
        "def seed_everything(seed=0):\n",
        "    random.seed(seed)\n",
        "    os.environ['PYTHONHASHSEED'] = str(seed)\n",
        "    np.random.seed(seed)\n",
        "    tf.keras.utils.set_random_seed(rand_seed)\n",
        "    tf.random.set_seed(seed) # tensorflow\n",
        "\n",
        "rand_seed = 99\n",
        "seed_everything(rand_seed)\n",
        "\n",
        "### -----------\\\\//------------ ###\n",
        "\n",
        "def LabelEncoding(x):\n",
        "    if x == -1:\n",
        "        # return 2\n",
        "        return [0,0,1]\n",
        "    if x == 0:\n",
        "        # return 0\n",
        "        return [1,0,0]\n",
        "    if x == 1:\n",
        "        # return 1\n",
        "        return [0,1,0]\n",
        "\n",
        "nepCov19 = load_dataset(\"raygx/NepCov19TweetsPlus\").shuffle(rand_seed)['train']\n",
        "# nepCov19 = datasets.concatenate_datasets([load_dataset(\"raygx/NepCov19TweetsPlus\").shuffle(rand_seed)['train'],load_dataset('raygx/CORONA_en2np').shuffle(rand_seed)['train']])"
      ],
      "metadata": {
        "colab": {
          "base_uri": "https://localhost:8080/",
          "height": 104,
          "referenced_widgets": [
            "c247640e66a54d499d7eed252e6b25fa",
            "1b35fb6d619849b385aa4d7c8996e3d8",
            "af288682b04a48fa8e71284a6dcca2eb",
            "57e78dd6d684477690b4b222b1ab69db",
            "9531c2ebbf124545af2a4a7c452b6ed5",
            "92778612cb55472992e6de228653f643",
            "ed7ff22e0c7040bd83727d2933d0e548",
            "ae5be40dd64d4d809df9ee71f64a33d5",
            "7d8681bd74644b28b13a49141754d98d",
            "526329e37945470695e1d7e15609dcac",
            "4efe10cad48f488ba0fc563cd3d8f420"
          ]
        },
        "id": "kpOFLNDyEkdK",
        "outputId": "184b5235-2bdd-4fe0-9525-d7580fac4619"
      },
      "execution_count": 65,
      "outputs": [
        {
          "output_type": "stream",
          "name": "stderr",
          "text": [
            "WARNING:datasets.builder:Found cached dataset parquet (/root/.cache/huggingface/datasets/raygx___parquet/raygx--NepCov19TweetsPlus-46f98dd56864ead2/0.0.0/14a00e99c0d15a23649d0db8944380ac81082d4b021f398733dd84f3a6c569a7)\n"
          ]
        },
        {
          "output_type": "display_data",
          "data": {
            "text/plain": [
              "  0%|          | 0/1 [00:00<?, ?it/s]"
            ],
            "application/vnd.jupyter.widget-view+json": {
              "version_major": 2,
              "version_minor": 0,
              "model_id": "c247640e66a54d499d7eed252e6b25fa"
            }
          },
          "metadata": {}
        },
        {
          "output_type": "stream",
          "name": "stderr",
          "text": [
            "WARNING:datasets.arrow_dataset:Loading cached shuffled indices for dataset at /root/.cache/huggingface/datasets/raygx___parquet/raygx--NepCov19TweetsPlus-46f98dd56864ead2/0.0.0/14a00e99c0d15a23649d0db8944380ac81082d4b021f398733dd84f3a6c569a7/cache-64a92749676d7ff7.arrow\n"
          ]
        }
      ]
    },
    {
      "cell_type": "code",
      "source": [
        "# nepCov19 = datasets.concatenate_datasets([nepCov19.filter(lambda x: x['Sentiment']==-1).select(range(12000)), nepCov19.filter(lambda x: x['Sentiment']==0).select(range(12000)), nepCov19.filter(lambda x: x['Sentiment']==1).select(range(12000))])\n",
        "nepCov19"
      ],
      "metadata": {
        "colab": {
          "base_uri": "https://localhost:8080/"
        },
        "id": "Ie2Xzhxv9rVs",
        "outputId": "eba6b556-1791-4c7b-8e63-b0b81c086c23"
      },
      "execution_count": 66,
      "outputs": [
        {
          "output_type": "execute_result",
          "data": {
            "text/plain": [
              "Dataset({\n",
              "    features: ['Sentiment', 'Sentences'],\n",
              "    num_rows: 41541\n",
              "})"
            ]
          },
          "metadata": {},
          "execution_count": 66
        }
      ]
    },
    {
      "cell_type": "code",
      "source": [
        "max_len = 128\n",
        "tokenizer = BertTokenizerFast.from_pretrained(\"Shushant/nepaliBERT\")\n",
        "print(\"Vocab Size\",len(tokenizer))\n",
        "\n",
        "nepCov19 = nepCov19.shuffle(rand_seed).train_test_split(test_size=0.2)\n",
        "print(\"Dataset\",nepCov19)\n",
        "train_input = pad_sequences(\n",
        "                        tokenizer(\n",
        "                            nepCov19['train']['Sentences']\n",
        "                            ).input_ids,\n",
        "                        maxlen = max_len,\n",
        "                        padding='post',\n",
        "                        value=tokenizer.pad_token_id\n",
        "                    )\n",
        "train_labels = [LabelEncoding(x) for x in nepCov19['train']['Sentiment']]\n",
        "\n",
        "test_input = pad_sequences(\n",
        "                        tokenizer(\n",
        "                            nepCov19['test']['Sentences']\n",
        "                            ).input_ids,\n",
        "                        maxlen = max_len,\n",
        "                        padding='post',\n",
        "                        value=tokenizer.pad_token_id\n",
        "                    )\n",
        "test_labels = [LabelEncoding(x) for x in nepCov19['test']['Sentiment']]\n"
      ],
      "metadata": {
        "colab": {
          "base_uri": "https://localhost:8080/"
        },
        "id": "teetxmBAgxlU",
        "outputId": "be5624d1-5594-4e18-f8da-7ab057567f50"
      },
      "execution_count": 67,
      "outputs": [
        {
          "output_type": "stream",
          "name": "stderr",
          "text": [
            "WARNING:datasets.arrow_dataset:Loading cached shuffled indices for dataset at /root/.cache/huggingface/datasets/raygx___parquet/raygx--NepCov19TweetsPlus-46f98dd56864ead2/0.0.0/14a00e99c0d15a23649d0db8944380ac81082d4b021f398733dd84f3a6c569a7/cache-ae96ad59b110543a.arrow\n",
            "WARNING:datasets.arrow_dataset:Loading cached split indices for dataset at /root/.cache/huggingface/datasets/raygx___parquet/raygx--NepCov19TweetsPlus-46f98dd56864ead2/0.0.0/14a00e99c0d15a23649d0db8944380ac81082d4b021f398733dd84f3a6c569a7/cache-046006bd8213c726.arrow and /root/.cache/huggingface/datasets/raygx___parquet/raygx--NepCov19TweetsPlus-46f98dd56864ead2/0.0.0/14a00e99c0d15a23649d0db8944380ac81082d4b021f398733dd84f3a6c569a7/cache-cde23e1797479bcb.arrow\n"
          ]
        },
        {
          "output_type": "stream",
          "name": "stdout",
          "text": [
            "Vocab Size 30522\n",
            "Dataset DatasetDict({\n",
            "    train: Dataset({\n",
            "        features: ['Sentiment', 'Sentences'],\n",
            "        num_rows: 33232\n",
            "    })\n",
            "    test: Dataset({\n",
            "        features: ['Sentiment', 'Sentences'],\n",
            "        num_rows: 8309\n",
            "    })\n",
            "})\n"
          ]
        }
      ]
    },
    {
      "cell_type": "code",
      "source": [
        "hf_model = TFAutoModel.from_pretrained('Shushant/nepaliBERT',from_pt=True)\n",
        "hf_model.bert.embeddings.get_weights()[0]"
      ],
      "metadata": {
        "colab": {
          "base_uri": "https://localhost:8080/"
        },
        "id": "_MvG2Ma8Ut2S",
        "outputId": "2dd2e448-e69e-431f-c089-d7fbefc4c0fa"
      },
      "execution_count": 68,
      "outputs": [
        {
          "output_type": "stream",
          "name": "stderr",
          "text": [
            "Some weights of the PyTorch model were not used when initializing the TF 2.0 model TFBertModel: ['cls.predictions.decoder.bias', 'cls.predictions.bias', 'cls.predictions.transform.dense.bias', 'bert.embeddings.position_ids', 'cls.predictions.transform.dense.weight', 'cls.predictions.transform.LayerNorm.weight', 'cls.predictions.transform.LayerNorm.bias', 'cls.predictions.decoder.weight']\n",
            "- This IS expected if you are initializing TFBertModel from a PyTorch model trained on another task or with another architecture (e.g. initializing a TFBertForSequenceClassification model from a BertForPreTraining model).\n",
            "- This IS NOT expected if you are initializing TFBertModel from a PyTorch model that you expect to be exactly identical (e.g. initializing a TFBertForSequenceClassification model from a BertForSequenceClassification model).\n",
            "Some weights or buffers of the TF 2.0 model TFBertModel were not initialized from the PyTorch model and are newly initialized: ['bert.pooler.dense.weight', 'bert.pooler.dense.bias']\n",
            "You should probably TRAIN this model on a down-stream task to be able to use it for predictions and inference.\n"
          ]
        },
        {
          "output_type": "execute_result",
          "data": {
            "text/plain": [
              "array([[-1.0126330e-02,  6.0940760e-01, -1.2932321e-02, ...,\n",
              "        -4.0139150e-02, -3.8403878e-01, -1.5108096e-02],\n",
              "       [ 1.6540168e-02,  5.3137284e-02, -7.6477025e-03, ...,\n",
              "         2.9101238e-02, -7.0671774e-02,  4.2947892e-02],\n",
              "       [ 7.9220347e-03,  1.0469845e-01,  3.1660851e-02, ...,\n",
              "         3.2496277e-02, -4.0235545e-02, -4.1500717e-02],\n",
              "       ...,\n",
              "       [ 1.4784136e-02,  2.4127005e-01,  6.6819601e-03, ...,\n",
              "         1.9043359e-04, -2.3841731e-01, -2.8261753e-02],\n",
              "       [ 6.4263128e-02,  2.5852656e-01,  3.3777559e-03, ...,\n",
              "        -1.1481761e-02, -2.8464749e-01,  2.9687393e-02],\n",
              "       [-2.9865343e-03,  2.5343245e-01,  2.3266962e-02, ...,\n",
              "         1.4173536e-02, -2.7037045e-01, -4.7388423e-02]], dtype=float32)"
            ]
          },
          "metadata": {},
          "execution_count": 68
        }
      ]
    },
    {
      "cell_type": "code",
      "execution_count": 69,
      "metadata": {
        "id": "Jz86p40LiqFJ"
      },
      "outputs": [],
      "source": [
        "import numpy as np\n",
        "import tensorflow as tf\n",
        "from tensorflow.python.ops.numpy_ops import np_config\n",
        "np_config.enable_numpy_behavior()\n",
        "\n",
        "'''\n",
        "    merge: 'interleave' or 'concat' or 'add' or None : defaults: 'interleave'\n",
        "        -> when 'concat' combines [sin,sin,...,cos,cos,...]\n",
        "        -> when 'interleave' combines [sin,cos,sin,cos......]\n",
        "        -> when 'add' it adds 'interleave' and 'concat'\n",
        "'''\n",
        "def PositionalEncoding(seq_length=2048,feature_depth=512,merge='interleave'):\n",
        "      depth = feature_depth/2\n",
        "      length = seq_length\n",
        "\n",
        "      positions = np.arange(length)[:, np.newaxis]      # (seq, 1)\n",
        "      depths = np.arange(depth)[np.newaxis, :]/depth    # (1, depth)\n",
        "\n",
        "      angle_rates = 1 / (10000**depths)                 # (1, depth)\n",
        "      angle_rads = positions * angle_rates + 0.0001     # (pos, depth)\n",
        "\n",
        "      sin = np.sin(angle_rads)\n",
        "      cos = np.cos(angle_rads)\n",
        "      pos_encoding = np.concatenate([sin, cos], axis=-1)\n",
        "\n",
        "      ipos_encoding = np.zeros(pos_encoding.shape)\n",
        "      ipos_encoding[:, ::2] = sin\n",
        "      ipos_encoding[:, 1::2] = cos\n",
        "      if merge=='concat':\n",
        "            return tf.cast(pos_encoding, dtype=tf.float32)\n",
        "            print(\"Concatanation\",str(pos_encoding[:2]),pos_encoding.shape)\n",
        "      elif merge=='add':\n",
        "            return tf.cast((pos_encoding+ipos_encoding)/2, dtype=tf.float32)\n",
        "      else:\n",
        "            return tf.cast(ipos_encoding, dtype=tf.float32)\n",
        "            print(\"Interleaving\",str(ipos_encoding[:2]),ipos_encoding.shape)\n",
        "\n",
        "class PositionalEmbedding(tf.keras.layers.Layer):\n",
        "  def __init__(self, vocab_size, d_model, context_length=2048,pos_enc_merge='add'):\n",
        "    super().__init__()\n",
        "    self._name='PosEmbd'\n",
        "    self.d_model = d_model\n",
        "    self.embedding = tf.keras.layers.Embedding(vocab_size, d_model,\n",
        "                                               embeddings_initializer=tf.keras.initializers.Constant(hf_model.bert.embeddings.get_weights()[0][:,:d_model]),\n",
        "                                               mask_zero=True)\n",
        "    self.pos_encoding = PositionalEncoding(seq_length=context_length, feature_depth=d_model,merge=pos_enc_merge)\n",
        "\n",
        "  def compute_mask(self, *args, **kwargs):\n",
        "    return self.embedding.compute_mask(*args, **kwargs)\n",
        "\n",
        "  def call(self, x):\n",
        "    length = tf.shape(x)[1]\n",
        "    x = self.embedding(x)\n",
        "    # This factor sets the relative scale of the embedding and positonal_encoding.\n",
        "    x *= tf.math.sqrt(tf.cast(self.d_model, tf.float32))\n",
        "    x = x + self.pos_encoding[tf.newaxis, :length, :]\n",
        "    return x\n"
      ]
    },
    {
      "cell_type": "code",
      "source": [
        "##------------\n",
        "##------Attention----------------\n",
        "##----------------------\n",
        "\n",
        "class BaseAttention(tf.keras.layers.Layer):\n",
        "  def __init__(self, **kwargs):\n",
        "    super().__init__()\n",
        "    self.mha = tf.keras.layers.MultiHeadAttention(**kwargs)\n",
        "    self.layernorm = tf.keras.layers.LayerNormalization()\n",
        "    self.add = tf.keras.layers.Add()\n",
        "\n",
        "  def build(self,input_shape):\n",
        "    self.mha._build_from_signature(tf.TensorShape(input_shape),tf.TensorShape(input_shape),tf.TensorShape(input_shape))\n",
        "\n",
        "class GlobalSelfAttention(BaseAttention):\n",
        "  def call(self, x):\n",
        "    attn_output = self.mha(\n",
        "        query=x,\n",
        "        value=x,\n",
        "        key=x)\n",
        "\n",
        "    self.attention_output = attn_output\n",
        "    x = self.add([x, attn_output])\n",
        "    x = self.layernorm(x)\n",
        "    return x\n",
        "\n",
        "class LocalizedSelfAttention(BaseAttention):\n",
        "  def __init__(self, num_window=8,**kwargs):\n",
        "    super().__init__(**kwargs)\n",
        "    self._name='Local_Self_Attention'\n",
        "    self.num_window = num_window\n",
        "    self.reshape_orig_layer = None\n",
        "    self.reshape_window_layer = None\n",
        "    self.concat_layer = tf.keras.layers.Concatenate(axis=1)\n",
        "\n",
        "  def call(self, x):\n",
        "    self.attention_output = self.concat_layer([\n",
        "      self.mha(key=t,query=t,value=t)\n",
        "      for t in tf.split(x,num_or_size_splits=self.num_window,axis=1)\n",
        "    ])\n",
        "    x = self.add([x, self.attention_output])\n",
        "    x = self.layernorm(x)\n",
        "    return x\n"
      ],
      "metadata": {
        "id": "SFdh7Xrgi3Y3"
      },
      "execution_count": 70,
      "outputs": []
    },
    {
      "cell_type": "code",
      "source": [
        "class FeedForward(tf.keras.layers.Layer):\n",
        "  def __init__(self, d_model, dff, dropout_rate=0.1):\n",
        "    super().__init__()\n",
        "    self.seq = tf.keras.Sequential([\n",
        "      tf.keras.layers.Dense(dff, activation='relu'),\n",
        "      tf.keras.layers.Dense(d_model),\n",
        "      tf.keras.layers.Dropout(dropout_rate)\n",
        "    ])\n",
        "    self.add = tf.keras.layers.Add()\n",
        "    self.layer_norm = tf.keras.layers.LayerNormalization()\n",
        "\n",
        "  def call(self, x):\n",
        "    x = self.add([x, self.seq(x)])\n",
        "    x = self.layer_norm(x)\n",
        "    return x"
      ],
      "metadata": {
        "id": "cTIp8n4ZjWK9"
      },
      "execution_count": 71,
      "outputs": []
    },
    {
      "cell_type": "code",
      "source": [
        "##-------\n",
        "##------Encoder----------------\n",
        "##----------------------\n",
        "\n",
        "class LSA_EncoderLayer(tf.keras.layers.Layer):\n",
        "  def __init__(self,*, d_model,num_window, dff, num_heads=2,dropout_rate=0.1):\n",
        "    super().__init__()\n",
        "\n",
        "    self._name='Local_Self_Attention_Encoder'\n",
        "    self.self_attention = LocalizedSelfAttention(\n",
        "        num_window=num_window,\n",
        "        num_heads=num_heads,\n",
        "        key_dim=d_model,\n",
        "        dropout=dropout_rate)\n",
        "\n",
        "    self.ffn = FeedForward(d_model, dff)\n",
        "\n",
        "  def call(self, x):\n",
        "    x = self.self_attention(x)\n",
        "    x = self.ffn(x)\n",
        "    return x\n",
        "\n",
        "class GSA_EncoderLayer(tf.keras.layers.Layer):\n",
        "  def __init__(self,*, d_model, num_heads, dff, dropout_rate=0.1):\n",
        "    super().__init__()\n",
        "\n",
        "    self._name='Global_Self_Attention_Encoder'\n",
        "    self.self_attention = GlobalSelfAttention(\n",
        "        num_heads=num_heads,\n",
        "        key_dim=d_model,\n",
        "        dropout=dropout_rate)\n",
        "\n",
        "    self.ffn = FeedForward(d_model, dff)\n",
        "\n",
        "  def call(self, x):\n",
        "    x = self.self_attention(x)\n",
        "    x = self.ffn(x)\n",
        "    return x\n",
        "\n",
        "\"\"\"_summary_\n",
        "\n",
        "  attn_stack_type: defines how to arrange LSA and GSA; defaults to 'add' [(LSA+GSA),...];\n",
        "                    another option is 'stack': one after another [GSA,LSA,.....,GSA+LSA]\n",
        "\"\"\"\n",
        "class Encoder(tf.keras.layers.Layer):\n",
        "  def __init__(self, *, num_layers, d_model, GSA_num_heads,LSA_num_window,LSA_num_heads,dff,attn_stack_type='add', dropout_rate=0.1):\n",
        "    super().__init__()\n",
        "\n",
        "    self.d_model = d_model\n",
        "    self.num_layers = num_layers if num_layers else 1\n",
        "    self.attn_stack_type = attn_stack_type ##By Default Add\n",
        "    if self.attn_stack_type not in ['add','stack']:\n",
        "      self.attn_stack_type = 'add'\n",
        "\n",
        "    self.lsa_enc_layers = [\n",
        "                            LSA_EncoderLayer(d_model=d_model,\n",
        "                                num_window=LSA_num_window,\n",
        "                                num_heads=LSA_num_heads,\n",
        "                                dff=dff,\n",
        "                                dropout_rate=dropout_rate)\n",
        "                            for _ in range(num_layers)\n",
        "                        ]\n",
        "    self.gsa_enc_layers = [\n",
        "                            GSA_EncoderLayer(d_model=d_model,\n",
        "                                num_heads=GSA_num_heads,\n",
        "                                dff=dff,\n",
        "                                dropout_rate=dropout_rate)\n",
        "                            for _ in range(num_layers)\n",
        "                        ]\n",
        "\n",
        "    self.dropout = tf.keras.layers.Dropout(dropout_rate)\n",
        "\n",
        "    if self.attn_stack_type == 'add':\n",
        "      self.add = tf.keras.layers.Add()\n",
        "      self.layer_norm = tf.keras.layers.LayerNormalization()\n",
        "\n",
        "  def call(self, x):\n",
        "    if self.attn_stack_type == 'add':\n",
        "      for i in range(self.num_layers):\n",
        "          x = self.layer_norm(self.add([self.lsa_enc_layers[i](x),self.gsa_enc_layers[i](x)]))\n",
        "\n",
        "    if self.attn_stack_type == 'stack':\n",
        "      for i in range(self.num_layers):\n",
        "        x = self.lsa_enc_layers[i](\n",
        "              self.gsa_enc_layers[i](x)\n",
        "            )\n",
        "\n",
        "    return self.dropout(x)\n",
        "\n"
      ],
      "metadata": {
        "id": "50ogdJGoAlGz"
      },
      "execution_count": 72,
      "outputs": []
    },
    {
      "cell_type": "code",
      "source": [
        "class Transformer(tf.keras.models.Model):\n",
        "  def __init__(self, *, num_layers, d_model, GSA_num_heads,LSA_num_window,LSA_num_heads,\n",
        "               dff, vocab_size,num_class=2,attn_stack_type='add', dropout_rate=0.1):\n",
        "    super().__init__()\n",
        "    self._name = 'Fusion'\n",
        "    if not dff:\n",
        "      dff = d_model * 2 ## default value for dff\n",
        "\n",
        "    self.d_model = d_model\n",
        "    self.num_layers = num_layers if num_layers else 1\n",
        "\n",
        "    self.pos_embedding = PositionalEmbedding(vocab_size=vocab_size, d_model=d_model)\n",
        "\n",
        "    self.encoder = Encoder(num_layers=num_layers,d_model=d_model,GSA_num_heads=GSA_num_heads,\n",
        "                           LSA_num_window=LSA_num_window,LSA_num_heads=LSA_num_heads,\n",
        "                           dff=dff,attn_stack_type=attn_stack_type,dropout_rate=dropout_rate)\n",
        "\n",
        "    self.out = tf.keras.layers.Dense(d_model,activation='gelu',name='feature')\n",
        "    self.head = tf.keras.layers.Dense(num_class,activation='softmax',name='classification_head')\n",
        "\n",
        "  def call(self, x):\n",
        "    # `x` is token-IDs shape: (batch, seq_len)\n",
        "    x = self.pos_embedding(x)  # Shape `(batch_size, seq_len, d_model)`.\n",
        "    x = self.encoder(x) # Shape `(batch_size, seq_len, d_model)`.\n",
        "    self.last_hidden_state = self.out(x)\n",
        "    self.pooled_state = tf.reduce_logsumexp(x,axis=1) * 0.1 # Shape `(batch_size, d_model)`.\n",
        "    return self.head(self.pooled_state)  # Shape `(batch_size, num_class)`."
      ],
      "metadata": {
        "id": "95F3nqEzA8zv"
      },
      "execution_count": 73,
      "outputs": []
    },
    {
      "cell_type": "code",
      "source": [
        "model = Transformer(num_layers=2,d_model=384,GSA_num_heads=8,\n",
        "                    LSA_num_heads=4,LSA_num_window=4,dff=512,\n",
        "                    vocab_size=len(tokenizer),num_class=3, attn_stack_type='stack')\n",
        "model.compile(\n",
        "    optimizer=tf.keras.optimizers.Adam(learning_rate=0.00001,weight_decay=0.001),\n",
        "    loss='categorical_crossentropy',\n",
        "    metrics=['acc'])\n",
        "\n",
        "dummy = np.ones((32,max_len))\n",
        "model(dummy) ## building the model\n",
        "model.summary()"
      ],
      "metadata": {
        "colab": {
          "base_uri": "https://localhost:8080/"
        },
        "id": "fRWCejH-4dHl",
        "outputId": "ec2880ba-4343-41c9-8c8c-6e8cf9971210"
      },
      "execution_count": 74,
      "outputs": [
        {
          "output_type": "stream",
          "name": "stdout",
          "text": [
            "Model: \"Fusion\"\n",
            "_________________________________________________________________\n",
            " Layer (type)                Output Shape              Param #   \n",
            "=================================================================\n",
            " PosEmbd (PositionalEmbeddin  multiple                 11720448  \n",
            " g)                                                              \n",
            "                                                                 \n",
            " encoder_7 (Encoder)         multiple                  15767552  \n",
            "                                                                 \n",
            " feature (Dense)             multiple                  147840    \n",
            "                                                                 \n",
            " classification_head (Dense)  multiple                 1155      \n",
            "                                                                 \n",
            "=================================================================\n",
            "Total params: 27,636,995\n",
            "Trainable params: 27,636,995\n",
            "Non-trainable params: 0\n",
            "_________________________________________________________________\n"
          ]
        }
      ]
    },
    {
      "cell_type": "code",
      "source": [
        "history = model.fit(tf.constant(train_input),\n",
        "        tf.constant(train_labels),\n",
        "        epochs=30,batch_size=32,\n",
        "        validation_data=[tf.constant(test_input),tf.constant(test_labels)],\n",
        "        callbacks=[tf.keras.callbacks.EarlyStopping(\n",
        "                            monitor='val_acc', patience=3,\n",
        "                            verbose=1, mode='max',\n",
        "                            restore_best_weights=True)\n",
        "                        ])"
      ],
      "metadata": {
        "colab": {
          "base_uri": "https://localhost:8080/"
        },
        "id": "wUAcF-Z0C7yW",
        "outputId": "bc8d7146-45be-48b8-9ee7-fe6b437c7622"
      },
      "execution_count": 75,
      "outputs": [
        {
          "output_type": "stream",
          "name": "stdout",
          "text": [
            "Epoch 1/30\n"
          ]
        },
        {
          "output_type": "stream",
          "name": "stderr",
          "text": [
            "WARNING:tensorflow:Gradients do not exist for variables ['Fusion/feature/kernel:0', 'Fusion/feature/bias:0'] when minimizing the loss. If you're using `model.compile()`, did you forget to provide a `loss` argument?\n",
            "WARNING:tensorflow:Gradients do not exist for variables ['Fusion/feature/kernel:0', 'Fusion/feature/bias:0'] when minimizing the loss. If you're using `model.compile()`, did you forget to provide a `loss` argument?\n",
            "WARNING:tensorflow:Gradients do not exist for variables ['Fusion/feature/kernel:0', 'Fusion/feature/bias:0'] when minimizing the loss. If you're using `model.compile()`, did you forget to provide a `loss` argument?\n",
            "WARNING:tensorflow:Gradients do not exist for variables ['Fusion/feature/kernel:0', 'Fusion/feature/bias:0'] when minimizing the loss. If you're using `model.compile()`, did you forget to provide a `loss` argument?\n"
          ]
        },
        {
          "output_type": "stream",
          "name": "stdout",
          "text": [
            "1039/1039 [==============================] - 233s 209ms/step - loss: 0.9107 - acc: 0.5599 - val_loss: 0.7002 - val_acc: 0.7072\n",
            "Epoch 2/30\n",
            "1039/1039 [==============================] - 198s 190ms/step - loss: 0.6446 - acc: 0.7335 - val_loss: 0.6525 - val_acc: 0.7233\n",
            "Epoch 3/30\n",
            "1039/1039 [==============================] - 200s 193ms/step - loss: 0.5915 - acc: 0.7614 - val_loss: 0.6601 - val_acc: 0.7260\n",
            "Epoch 4/30\n",
            "1039/1039 [==============================] - 201s 193ms/step - loss: 0.5578 - acc: 0.7781 - val_loss: 0.6241 - val_acc: 0.7385\n",
            "Epoch 5/30\n",
            "1039/1039 [==============================] - 195s 188ms/step - loss: 0.5322 - acc: 0.7919 - val_loss: 0.6382 - val_acc: 0.7410\n",
            "Epoch 6/30\n",
            "1039/1039 [==============================] - 195s 187ms/step - loss: 0.5077 - acc: 0.8036 - val_loss: 0.6345 - val_acc: 0.7440\n",
            "Epoch 7/30\n",
            "1039/1039 [==============================] - 200s 192ms/step - loss: 0.4879 - acc: 0.8143 - val_loss: 0.6440 - val_acc: 0.7452\n",
            "Epoch 8/30\n",
            "1039/1039 [==============================] - 194s 187ms/step - loss: 0.4686 - acc: 0.8226 - val_loss: 0.6535 - val_acc: 0.7375\n",
            "Epoch 9/30\n",
            "1039/1039 [==============================] - 195s 187ms/step - loss: 0.4518 - acc: 0.8318 - val_loss: 0.6601 - val_acc: 0.7437\n",
            "Epoch 10/30\n",
            "1039/1039 [==============================] - ETA: 0s - loss: 0.4341 - acc: 0.8409Restoring model weights from the end of the best epoch: 7.\n",
            "1039/1039 [==============================] - 200s 193ms/step - loss: 0.4341 - acc: 0.8409 - val_loss: 0.6561 - val_acc: 0.7447\n",
            "Epoch 10: early stopping\n"
          ]
        }
      ]
    },
    {
      "cell_type": "code",
      "source": [
        "####-----------------------------------------\n",
        "## ---------------Prediction------------------\n",
        "####-----------------------------------------\n",
        "\n",
        "pred_labels = [np.argmax(x) for x in\n",
        "            model.predict(\n",
        "                x=tf.constant(test_input)\n",
        "            )\n",
        "    ]\n",
        "\n",
        "from sklearn.metrics import f1_score, precision_score, recall_score, accuracy_score\n",
        "eval_labels = [np.argmax(x) for x in test_labels]\n"
      ],
      "metadata": {
        "id": "KsfVLZ4ykyQY",
        "colab": {
          "base_uri": "https://localhost:8080/"
        },
        "outputId": "3d9dae3d-f194-4607-f4d6-3f809d5c59c4"
      },
      "execution_count": 76,
      "outputs": [
        {
          "output_type": "stream",
          "name": "stdout",
          "text": [
            "260/260 [==============================] - 17s 60ms/step\n"
          ]
        }
      ]
    },
    {
      "cell_type": "code",
      "source": [
        "print(\"F1-Score\",f1_score(eval_labels,pred_labels,average='weighted'))\n",
        "print(\"Precision-Score\",precision_score(eval_labels,pred_labels,average='weighted'))\n",
        "print(\"Recall-Score\",recall_score(eval_labels,pred_labels,average='weighted'))\n",
        "print(\"Accuracy-Score\",accuracy_score(eval_labels,pred_labels))\n",
        "\n",
        "from sklearn.metrics import ConfusionMatrixDisplay\n",
        "import matplotlib.pyplot as plt\n",
        "\n",
        "confusion_matrix = tf.math.confusion_matrix(eval_labels,pred_labels,num_classes=3)\n",
        "print(confusion_matrix)\n",
        "cmd = ConfusionMatrixDisplay(confusion_matrix.numpy())\n",
        "cmd.plot()\n",
        "# plt.show()\n",
        "\n",
        "print(\"True Labels Onlys\",tf.math.confusion_matrix(eval_labels,eval_labels,num_classes=3))"
      ],
      "metadata": {
        "id": "SMF0w-QEEDWJ",
        "colab": {
          "base_uri": "https://localhost:8080/",
          "height": 657
        },
        "outputId": "e0fa193c-0a2c-416a-955b-23f1f8028091"
      },
      "execution_count": 77,
      "outputs": [
        {
          "output_type": "stream",
          "name": "stdout",
          "text": [
            "F1-Score 0.7457144403873651\n",
            "Precision-Score 0.7598409760607578\n",
            "Recall-Score 0.7452160308099651\n",
            "Accuracy-Score 0.7452160308099651\n",
            "tf.Tensor(\n",
            "[[1733  488  408]\n",
            " [ 135 2304  557]\n",
            " [  97  432 2155]], shape=(3, 3), dtype=int32)\n",
            "True Labels Onlys tf.Tensor(\n",
            "[[2629    0    0]\n",
            " [   0 2996    0]\n",
            " [   0    0 2684]], shape=(3, 3), dtype=int32)\n"
          ]
        },
        {
          "output_type": "display_data",
          "data": {
            "text/plain": [
              "<Figure size 640x480 with 2 Axes>"
            ],
            "image/png": "[encoded data removed]"
          },
          "metadata": {}
        }
      ]
    },
    {
      "cell_type": "markdown",
      "source": [
        "## Attention Visualization"
      ],
      "metadata": {
        "id": "AuK-czirc3dg"
      }
    },
    {
      "cell_type": "code",
      "source": [
        "text = 'विश्वमा महामारीको रुपमा फैलिरहेको कोरोना भाइरस(कोभिड–१९) को बारेमा विभिन्न भ्रामक समाचारहरु आइरहेका छन्'\n",
        "tokenizer(text)"
      ],
      "metadata": {
        "id": "2jgYa3bMKi8S"
      },
      "execution_count": 77,
      "outputs": []
    },
    {
      "cell_type": "code",
      "source": [],
      "metadata": {
        "id": "thsV_tJrdXq8"
      },
      "execution_count": null,
      "outputs": []
    }
  ]
}