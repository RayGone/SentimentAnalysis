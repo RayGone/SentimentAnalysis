{
  "nbformat": 4,
  "nbformat_minor": 0,
  "metadata": {
    "colab": {
      "provenance": [],
      "gpuType": "T4",
      "include_colab_link": true
    },
    "kernelspec": {
      "name": "python3",
      "display_name": "Python 3"
    },
    "language_info": {
      "name": "python"
    },
    "widgets": {
      "application/vnd.jupyter.widget-state+json": {
        "e2b83188c87243e7a5f7217da1a802e1": {
          "model_module": "@jupyter-widgets/controls",
          "model_name": "HBoxModel",
          "model_module_version": "1.5.0",
          "state": {
            "_dom_classes": [],
            "_model_module": "@jupyter-widgets/controls",
            "_model_module_version": "1.5.0",
            "_model_name": "HBoxModel",
            "_view_count": null,
            "_view_module": "@jupyter-widgets/controls",
            "_view_module_version": "1.5.0",
            "_view_name": "HBoxView",
            "box_style": "",
            "children": [
              "IPY_MODEL_dc21ddd101f345d99f0e99dcf25178b1",
              "IPY_MODEL_dea15bc5d5d746e788b17d1b5015d3f2",
              "IPY_MODEL_9864edd35dd6459a9d73a0731b7f8846"
            ],
            "layout": "IPY_MODEL_d13ab25d55a3475fae7101ac01d908bf"
          }
        },
        "dc21ddd101f345d99f0e99dcf25178b1": {
          "model_module": "@jupyter-widgets/controls",
          "model_name": "HTMLModel",
          "model_module_version": "1.5.0",
          "state": {
            "_dom_classes": [],
            "_model_module": "@jupyter-widgets/controls",
            "_model_module_version": "1.5.0",
            "_model_name": "HTMLModel",
            "_view_count": null,
            "_view_module": "@jupyter-widgets/controls",
            "_view_module_version": "1.5.0",
            "_view_name": "HTMLView",
            "description": "",
            "description_tooltip": null,
            "layout": "IPY_MODEL_5bdd1495579449539daf388dcca8aca1",
            "placeholder": "​",
            "style": "IPY_MODEL_c40d97575539457ca387dc7b44b6c20e",
            "value": "100%"
          }
        },
        "dea15bc5d5d746e788b17d1b5015d3f2": {
          "model_module": "@jupyter-widgets/controls",
          "model_name": "FloatProgressModel",
          "model_module_version": "1.5.0",
          "state": {
            "_dom_classes": [],
            "_model_module": "@jupyter-widgets/controls",
            "_model_module_version": "1.5.0",
            "_model_name": "FloatProgressModel",
            "_view_count": null,
            "_view_module": "@jupyter-widgets/controls",
            "_view_module_version": "1.5.0",
            "_view_name": "ProgressView",
            "bar_style": "success",
            "description": "",
            "description_tooltip": null,
            "layout": "IPY_MODEL_d63dd1cd04524b1192e0e47213edb49a",
            "max": 1,
            "min": 0,
            "orientation": "horizontal",
            "style": "IPY_MODEL_44c6517f593f46babe6c8198fabf180d",
            "value": 1
          }
        },
        "9864edd35dd6459a9d73a0731b7f8846": {
          "model_module": "@jupyter-widgets/controls",
          "model_name": "HTMLModel",
          "model_module_version": "1.5.0",
          "state": {
            "_dom_classes": [],
            "_model_module": "@jupyter-widgets/controls",
            "_model_module_version": "1.5.0",
            "_model_name": "HTMLModel",
            "_view_count": null,
            "_view_module": "@jupyter-widgets/controls",
            "_view_module_version": "1.5.0",
            "_view_name": "HTMLView",
            "description": "",
            "description_tooltip": null,
            "layout": "IPY_MODEL_a325af7371ff419097329c22e3d46c5d",
            "placeholder": "​",
            "style": "IPY_MODEL_142f8bd7f241483ca8168de739cf34e7",
            "value": " 1/1 [00:00&lt;00:00, 48.85it/s]"
          }
        },
        "d13ab25d55a3475fae7101ac01d908bf": {
          "model_module": "@jupyter-widgets/base",
          "model_name": "LayoutModel",
          "model_module_version": "1.2.0",
          "state": {
            "_model_module": "@jupyter-widgets/base",
            "_model_module_version": "1.2.0",
            "_model_name": "LayoutModel",
            "_view_count": null,
            "_view_module": "@jupyter-widgets/base",
            "_view_module_version": "1.2.0",
            "_view_name": "LayoutView",
            "align_content": null,
            "align_items": null,
            "align_self": null,
            "border": null,
            "bottom": null,
            "display": null,
            "flex": null,
            "flex_flow": null,
            "grid_area": null,
            "grid_auto_columns": null,
            "grid_auto_flow": null,
            "grid_auto_rows": null,
            "grid_column": null,
            "grid_gap": null,
            "grid_row": null,
            "grid_template_areas": null,
            "grid_template_columns": null,
            "grid_template_rows": null,
            "height": null,
            "justify_content": null,
            "justify_items": null,
            "left": null,
            "margin": null,
            "max_height": null,
            "max_width": null,
            "min_height": null,
            "min_width": null,
            "object_fit": null,
            "object_position": null,
            "order": null,
            "overflow": null,
            "overflow_x": null,
            "overflow_y": null,
            "padding": null,
            "right": null,
            "top": null,
            "visibility": null,
            "width": null
          }
        },
        "5bdd1495579449539daf388dcca8aca1": {
          "model_module": "@jupyter-widgets/base",
          "model_name": "LayoutModel",
          "model_module_version": "1.2.0",
          "state": {
            "_model_module": "@jupyter-widgets/base",
            "_model_module_version": "1.2.0",
            "_model_name": "LayoutModel",
            "_view_count": null,
            "_view_module": "@jupyter-widgets/base",
            "_view_module_version": "1.2.0",
            "_view_name": "LayoutView",
            "align_content": null,
            "align_items": null,
            "align_self": null,
            "border": null,
            "bottom": null,
            "display": null,
            "flex": null,
            "flex_flow": null,
            "grid_area": null,
            "grid_auto_columns": null,
            "grid_auto_flow": null,
            "grid_auto_rows": null,
            "grid_column": null,
            "grid_gap": null,
            "grid_row": null,
            "grid_template_areas": null,
            "grid_template_columns": null,
            "grid_template_rows": null,
            "height": null,
            "justify_content": null,
            "justify_items": null,
            "left": null,
            "margin": null,
            "max_height": null,
            "max_width": null,
            "min_height": null,
            "min_width": null,
            "object_fit": null,
            "object_position": null,
            "order": null,
            "overflow": null,
            "overflow_x": null,
            "overflow_y": null,
            "padding": null,
            "right": null,
            "top": null,
            "visibility": null,
            "width": null
          }
        },
        "c40d97575539457ca387dc7b44b6c20e": {
          "model_module": "@jupyter-widgets/controls",
          "model_name": "DescriptionStyleModel",
          "model_module_version": "1.5.0",
          "state": {
            "_model_module": "@jupyter-widgets/controls",
            "_model_module_version": "1.5.0",
            "_model_name": "DescriptionStyleModel",
            "_view_count": null,
            "_view_module": "@jupyter-widgets/base",
            "_view_module_version": "1.2.0",
            "_view_name": "StyleView",
            "description_width": ""
          }
        },
        "d63dd1cd04524b1192e0e47213edb49a": {
          "model_module": "@jupyter-widgets/base",
          "model_name": "LayoutModel",
          "model_module_version": "1.2.0",
          "state": {
            "_model_module": "@jupyter-widgets/base",
            "_model_module_version": "1.2.0",
            "_model_name": "LayoutModel",
            "_view_count": null,
            "_view_module": "@jupyter-widgets/base",
            "_view_module_version": "1.2.0",
            "_view_name": "LayoutView",
            "align_content": null,
            "align_items": null,
            "align_self": null,
            "border": null,
            "bottom": null,
            "display": null,
            "flex": null,
            "flex_flow": null,
            "grid_area": null,
            "grid_auto_columns": null,
            "grid_auto_flow": null,
            "grid_auto_rows": null,
            "grid_column": null,
            "grid_gap": null,
            "grid_row": null,
            "grid_template_areas": null,
            "grid_template_columns": null,
            "grid_template_rows": null,
            "height": null,
            "justify_content": null,
            "justify_items": null,
            "left": null,
            "margin": null,
            "max_height": null,
            "max_width": null,
            "min_height": null,
            "min_width": null,
            "object_fit": null,
            "object_position": null,
            "order": null,
            "overflow": null,
            "overflow_x": null,
            "overflow_y": null,
            "padding": null,
            "right": null,
            "top": null,
            "visibility": null,
            "width": null
          }
        },
        "44c6517f593f46babe6c8198fabf180d": {
          "model_module": "@jupyter-widgets/controls",
          "model_name": "ProgressStyleModel",
          "model_module_version": "1.5.0",
          "state": {
            "_model_module": "@jupyter-widgets/controls",
            "_model_module_version": "1.5.0",
            "_model_name": "ProgressStyleModel",
            "_view_count": null,
            "_view_module": "@jupyter-widgets/base",
            "_view_module_version": "1.2.0",
            "_view_name": "StyleView",
            "bar_color": null,
            "description_width": ""
          }
        },
        "a325af7371ff419097329c22e3d46c5d": {
          "model_module": "@jupyter-widgets/base",
          "model_name": "LayoutModel",
          "model_module_version": "1.2.0",
          "state": {
            "_model_module": "@jupyter-widgets/base",
            "_model_module_version": "1.2.0",
            "_model_name": "LayoutModel",
            "_view_count": null,
            "_view_module": "@jupyter-widgets/base",
            "_view_module_version": "1.2.0",
            "_view_name": "LayoutView",
            "align_content": null,
            "align_items": null,
            "align_self": null,
            "border": null,
            "bottom": null,
            "display": null,
            "flex": null,
            "flex_flow": null,
            "grid_area": null,
            "grid_auto_columns": null,
            "grid_auto_flow": null,
            "grid_auto_rows": null,
            "grid_column": null,
            "grid_gap": null,
            "grid_row": null,
            "grid_template_areas": null,
            "grid_template_columns": null,
            "grid_template_rows": null,
            "height": null,
            "justify_content": null,
            "justify_items": null,
            "left": null,
            "margin": null,
            "max_height": null,
            "max_width": null,
            "min_height": null,
            "min_width": null,
            "object_fit": null,
            "object_position": null,
            "order": null,
            "overflow": null,
            "overflow_x": null,
            "overflow_y": null,
            "padding": null,
            "right": null,
            "top": null,
            "visibility": null,
            "width": null
          }
        },
        "142f8bd7f241483ca8168de739cf34e7": {
          "model_module": "@jupyter-widgets/controls",
          "model_name": "DescriptionStyleModel",
          "model_module_version": "1.5.0",
          "state": {
            "_model_module": "@jupyter-widgets/controls",
            "_model_module_version": "1.5.0",
            "_model_name": "DescriptionStyleModel",
            "_view_count": null,
            "_view_module": "@jupyter-widgets/base",
            "_view_module_version": "1.2.0",
            "_view_name": "StyleView",
            "description_width": ""
          }
        }
      }
    },
    "accelerator": "GPU"
  },
  "cells": [
    {
      "cell_type": "markdown",
      "metadata": {
        "id": "view-in-github",
        "colab_type": "text"
      },
      "source": [
        "<a href=\"https://colab.research.google.com/github/RayGone/SentimentAnalysis/blob/phase1/Experiments/Transformer/Transformer_4_SA.ipynb\" target=\"_parent\"><img src=\"https://colab.research.google.com/assets/colab-badge.svg\" alt=\"Open In Colab\"/></a>"
      ]
    },
    {
      "cell_type": "code",
      "source": [
        "!pip install transformers datasets -q\n",
        "\n",
        "import os\n",
        "import random\n",
        "import numpy as np\n",
        "import pandas as pd\n",
        "import tensorflow as tf\n",
        "import datasets\n",
        "from datasets import load_dataset\n",
        "from transformers import BertTokenizerFast, TFAutoModel\n",
        "from tensorflow.keras.preprocessing.sequence import pad_sequences\n",
        "\n",
        "\n",
        "import gc\n",
        "\n",
        "def seed_everything(seed=0):\n",
        "    random.seed(seed)\n",
        "    os.environ['PYTHONHASHSEED'] = str(seed)\n",
        "    np.random.seed(seed)\n",
        "    tf.keras.utils.set_random_seed(rand_seed)\n",
        "    tf.random.set_seed(seed) # tensorflow\n",
        "\n",
        "rand_seed = 99\n",
        "seed_everything(rand_seed)\n",
        "\n",
        "### -----------\\\\//------------ ###\n",
        "\n",
        "def LabelEncoding(x):\n",
        "    if x == -1:\n",
        "        # return 2\n",
        "        return [0,0,1]\n",
        "    if x == 0:\n",
        "        # return 0\n",
        "        return [1,0,0]\n",
        "    if x == 1:\n",
        "        # return 1\n",
        "        return [0,1,0]\n",
        "\n",
        "nepCov19 = load_dataset(\"raygx/NepCov19TweetsPlus\").shuffle(rand_seed)['train']\n",
        "# nepCov19 = datasets.concatenate_datasets([load_dataset(\"raygx/NepCov19TweetsPlus\").shuffle(rand_seed)['train'],load_dataset('raygx/CORONA_en2np').shuffle(rand_seed)['train']])"
      ],
      "metadata": {
        "colab": {
          "base_uri": "https://localhost:8080/",
          "height": 104,
          "referenced_widgets": [
            "e2b83188c87243e7a5f7217da1a802e1",
            "dc21ddd101f345d99f0e99dcf25178b1",
            "dea15bc5d5d746e788b17d1b5015d3f2",
            "9864edd35dd6459a9d73a0731b7f8846",
            "d13ab25d55a3475fae7101ac01d908bf",
            "5bdd1495579449539daf388dcca8aca1",
            "c40d97575539457ca387dc7b44b6c20e",
            "d63dd1cd04524b1192e0e47213edb49a",
            "44c6517f593f46babe6c8198fabf180d",
            "a325af7371ff419097329c22e3d46c5d",
            "142f8bd7f241483ca8168de739cf34e7"
          ]
        },
        "id": "kpOFLNDyEkdK",
        "outputId": "b702e137-851d-4666-fb5b-d748f5eecada"
      },
      "execution_count": 38,
      "outputs": [
        {
          "output_type": "stream",
          "name": "stderr",
          "text": [
            "WARNING:datasets.builder:Found cached dataset parquet (/root/.cache/huggingface/datasets/raygx___parquet/raygx--NepCov19TweetsPlus-46f98dd56864ead2/0.0.0/14a00e99c0d15a23649d0db8944380ac81082d4b021f398733dd84f3a6c569a7)\n"
          ]
        },
        {
          "output_type": "display_data",
          "data": {
            "text/plain": [
              "  0%|          | 0/1 [00:00<?, ?it/s]"
            ],
            "application/vnd.jupyter.widget-view+json": {
              "version_major": 2,
              "version_minor": 0,
              "model_id": "e2b83188c87243e7a5f7217da1a802e1"
            }
          },
          "metadata": {}
        },
        {
          "output_type": "stream",
          "name": "stderr",
          "text": [
            "WARNING:datasets.arrow_dataset:Loading cached shuffled indices for dataset at /root/.cache/huggingface/datasets/raygx___parquet/raygx--NepCov19TweetsPlus-46f98dd56864ead2/0.0.0/14a00e99c0d15a23649d0db8944380ac81082d4b021f398733dd84f3a6c569a7/cache-64a92749676d7ff7.arrow\n"
          ]
        }
      ]
    },
    {
      "cell_type": "code",
      "source": [
        "# nepCov19 = datasets.concatenate_datasets([nepCov19.filter(lambda x: x['Sentiment']==-1).select(range(12000)), nepCov19.filter(lambda x: x['Sentiment']==0).select(range(12000)), nepCov19.filter(lambda x: x['Sentiment']==1).select(range(12000))])\n",
        "nepCov19"
      ],
      "metadata": {
        "colab": {
          "base_uri": "https://localhost:8080/"
        },
        "id": "Ie2Xzhxv9rVs",
        "outputId": "4e42b081-dc91-4552-fbb6-ff1f0d70c662"
      },
      "execution_count": 39,
      "outputs": [
        {
          "output_type": "execute_result",
          "data": {
            "text/plain": [
              "Dataset({\n",
              "    features: ['Sentiment', 'Sentences'],\n",
              "    num_rows: 41541\n",
              "})"
            ]
          },
          "metadata": {},
          "execution_count": 39
        }
      ]
    },
    {
      "cell_type": "code",
      "source": [
        "max_len = 128\n",
        "tokenizer = BertTokenizerFast.from_pretrained(\"Shushant/nepaliBERT\")\n",
        "print(\"Vocab Size\",len(tokenizer))\n",
        "\n",
        "nepCov19 = nepCov19.shuffle(rand_seed).train_test_split(test_size=0.2)\n",
        "print(\"Dataset\",nepCov19)\n",
        "train_input = pad_sequences(\n",
        "                        tokenizer(\n",
        "                            nepCov19['train']['Sentences']\n",
        "                            ).input_ids,\n",
        "                        maxlen = max_len,\n",
        "                        padding='post',\n",
        "                        value=tokenizer.pad_token_id\n",
        "                    )\n",
        "train_labels = [LabelEncoding(x) for x in nepCov19['train']['Sentiment']]\n",
        "\n",
        "test_input = pad_sequences(\n",
        "                        tokenizer(\n",
        "                            nepCov19['test']['Sentences']\n",
        "                            ).input_ids,\n",
        "                        maxlen = max_len,\n",
        "                        padding='post',\n",
        "                        value=tokenizer.pad_token_id\n",
        "                    )\n",
        "test_labels = [LabelEncoding(x) for x in nepCov19['test']['Sentiment']]\n"
      ],
      "metadata": {
        "colab": {
          "base_uri": "https://localhost:8080/"
        },
        "id": "teetxmBAgxlU",
        "outputId": "c1f2dc4f-f66f-4a8b-bebc-26bd81b963cd"
      },
      "execution_count": 40,
      "outputs": [
        {
          "output_type": "stream",
          "name": "stdout",
          "text": [
            "Vocab Size 30522\n",
            "Dataset DatasetDict({\n",
            "    train: Dataset({\n",
            "        features: ['Sentiment', 'Sentences'],\n",
            "        num_rows: 33232\n",
            "    })\n",
            "    test: Dataset({\n",
            "        features: ['Sentiment', 'Sentences'],\n",
            "        num_rows: 8309\n",
            "    })\n",
            "})\n"
          ]
        }
      ]
    },
    {
      "cell_type": "code",
      "source": [
        "hf_model = TFAutoModel.from_pretrained('Shushant/nepaliBERT',from_pt=True)\n",
        "hf_model.bert.embeddings.get_weights()[0]"
      ],
      "metadata": {
        "colab": {
          "base_uri": "https://localhost:8080/"
        },
        "id": "_MvG2Ma8Ut2S",
        "outputId": "37ddda42-96cd-45a1-d662-4f73084cf1d7"
      },
      "execution_count": 41,
      "outputs": [
        {
          "output_type": "stream",
          "name": "stderr",
          "text": [
            "Some weights of the PyTorch model were not used when initializing the TF 2.0 model TFBertModel: ['cls.predictions.decoder.bias', 'cls.predictions.bias', 'cls.predictions.transform.dense.bias', 'bert.embeddings.position_ids', 'cls.predictions.transform.dense.weight', 'cls.predictions.transform.LayerNorm.weight', 'cls.predictions.transform.LayerNorm.bias', 'cls.predictions.decoder.weight']\n",
            "- This IS expected if you are initializing TFBertModel from a PyTorch model trained on another task or with another architecture (e.g. initializing a TFBertForSequenceClassification model from a BertForPreTraining model).\n",
            "- This IS NOT expected if you are initializing TFBertModel from a PyTorch model that you expect to be exactly identical (e.g. initializing a TFBertForSequenceClassification model from a BertForSequenceClassification model).\n",
            "Some weights or buffers of the TF 2.0 model TFBertModel were not initialized from the PyTorch model and are newly initialized: ['bert.pooler.dense.weight', 'bert.pooler.dense.bias']\n",
            "You should probably TRAIN this model on a down-stream task to be able to use it for predictions and inference.\n"
          ]
        },
        {
          "output_type": "execute_result",
          "data": {
            "text/plain": [
              "array([[-1.0126330e-02,  6.0940760e-01, -1.2932321e-02, ...,\n",
              "        -4.0139150e-02, -3.8403878e-01, -1.5108096e-02],\n",
              "       [ 1.6540168e-02,  5.3137284e-02, -7.6477025e-03, ...,\n",
              "         2.9101238e-02, -7.0671774e-02,  4.2947892e-02],\n",
              "       [ 7.9220347e-03,  1.0469845e-01,  3.1660851e-02, ...,\n",
              "         3.2496277e-02, -4.0235545e-02, -4.1500717e-02],\n",
              "       ...,\n",
              "       [ 1.4784136e-02,  2.4127005e-01,  6.6819601e-03, ...,\n",
              "         1.9043359e-04, -2.3841731e-01, -2.8261753e-02],\n",
              "       [ 6.4263128e-02,  2.5852656e-01,  3.3777559e-03, ...,\n",
              "        -1.1481761e-02, -2.8464749e-01,  2.9687393e-02],\n",
              "       [-2.9865343e-03,  2.5343245e-01,  2.3266962e-02, ...,\n",
              "         1.4173536e-02, -2.7037045e-01, -4.7388423e-02]], dtype=float32)"
            ]
          },
          "metadata": {},
          "execution_count": 41
        }
      ]
    },
    {
      "cell_type": "code",
      "execution_count": 42,
      "metadata": {
        "id": "Jz86p40LiqFJ"
      },
      "outputs": [],
      "source": [
        "import numpy as np\n",
        "import tensorflow as tf\n",
        "from tensorflow.python.ops.numpy_ops import np_config\n",
        "np_config.enable_numpy_behavior()\n",
        "\n",
        "'''\n",
        "    merge: 'interleave' or 'concat' or 'add' or None : defaults: 'interleave'\n",
        "        -> when 'concat' combines [sin,sin,...,cos,cos,...]\n",
        "        -> when 'interleave' combines [sin,cos,sin,cos......]\n",
        "        -> when 'add' it adds 'interleave' and 'concat'\n",
        "'''\n",
        "def PositionalEncoding(seq_length=2048,feature_depth=512,merge='interleave'):\n",
        "      depth = feature_depth/2\n",
        "      length = seq_length\n",
        "\n",
        "      positions = np.arange(length)[:, np.newaxis]      # (seq, 1)\n",
        "      depths = np.arange(depth)[np.newaxis, :]/depth    # (1, depth)\n",
        "\n",
        "      angle_rates = 1 / (10000**depths)                 # (1, depth)\n",
        "      angle_rads = positions * angle_rates + 0.0001     # (pos, depth)\n",
        "\n",
        "      sin = np.sin(angle_rads)\n",
        "      cos = np.cos(angle_rads)\n",
        "      pos_encoding = np.concatenate([sin, cos], axis=-1)\n",
        "\n",
        "      ipos_encoding = np.zeros(pos_encoding.shape)\n",
        "      ipos_encoding[:, ::2] = sin\n",
        "      ipos_encoding[:, 1::2] = cos\n",
        "      if merge=='concat':\n",
        "            return tf.cast(pos_encoding, dtype=tf.float32)\n",
        "            print(\"Concatanation\",str(pos_encoding[:2]),pos_encoding.shape)\n",
        "      elif merge=='add':\n",
        "            return tf.cast((pos_encoding+ipos_encoding)/2, dtype=tf.float32)\n",
        "      else:\n",
        "            return tf.cast(ipos_encoding, dtype=tf.float32)\n",
        "            print(\"Interleaving\",str(ipos_encoding[:2]),ipos_encoding.shape)\n",
        "\n",
        "class PositionalEmbedding(tf.keras.layers.Layer):\n",
        "  def __init__(self, vocab_size, d_model, context_length=2048,pos_enc_merge='add'):\n",
        "    super().__init__()\n",
        "    self._name='PosEmbd'\n",
        "    self.d_model = d_model\n",
        "    self.embedding = tf.keras.layers.Embedding(vocab_size, d_model,\n",
        "                                               #embeddings_initializer=tf.keras.initializers.Constant(hf_model.bert.embeddings.get_weights()[0][:,:d_model]),\n",
        "                                               mask_zero=True)\n",
        "    self.pos_encoding = PositionalEncoding(seq_length=context_length, feature_depth=d_model,merge=pos_enc_merge)\n",
        "\n",
        "  def compute_mask(self, *args, **kwargs):\n",
        "    return self.embedding.compute_mask(*args, **kwargs)\n",
        "\n",
        "  def call(self, x):\n",
        "    length = tf.shape(x)[1]\n",
        "    x = self.embedding(x)\n",
        "    # This factor sets the relative scale of the embedding and positonal_encoding.\n",
        "    x *= tf.math.sqrt(tf.cast(self.d_model, tf.float32))\n",
        "    x = x + self.pos_encoding[tf.newaxis, :length, :]\n",
        "    return x\n"
      ]
    },
    {
      "cell_type": "code",
      "source": [
        "##------------\n",
        "##------Attention----------------\n",
        "##----------------------\n",
        "\n",
        "class BaseAttention(tf.keras.layers.Layer):\n",
        "  def __init__(self, **kwargs):\n",
        "    super().__init__()\n",
        "    self.mha = tf.keras.layers.MultiHeadAttention(**kwargs)\n",
        "    self.layernorm = tf.keras.layers.LayerNormalization()\n",
        "    self.add = tf.keras.layers.Add()\n",
        "\n",
        "  def build(self,input_shape):\n",
        "    self.mha._build_from_signature(tf.TensorShape(input_shape),tf.TensorShape(input_shape),tf.TensorShape(input_shape))\n",
        "\n",
        "class GlobalSelfAttention(BaseAttention):\n",
        "  def call(self, x):\n",
        "    attn_output = self.mha(\n",
        "        query=x,\n",
        "        value=x,\n",
        "        key=x)\n",
        "\n",
        "    self.attention_output = attn_output\n",
        "    x = self.add([x, attn_output])\n",
        "    x = self.layernorm(x)\n",
        "    return x\n",
        "\n",
        "class LocalizedSelfAttention(BaseAttention):\n",
        "  def __init__(self, num_window=8,**kwargs):\n",
        "    super().__init__(**kwargs)\n",
        "    self._name='Local_Self_Attention'\n",
        "    self.num_window = num_window\n",
        "    self.reshape_orig_layer = None\n",
        "    self.reshape_window_layer = None\n",
        "    self.concat_layer = tf.keras.layers.Concatenate(axis=1)\n",
        "\n",
        "  def call(self, x):\n",
        "    self.attention_output = self.concat_layer([\n",
        "      self.mha(key=t,query=t,value=t)\n",
        "      for t in tf.split(x,num_or_size_splits=self.num_window,axis=1)\n",
        "    ])\n",
        "    x = self.add([x, self.attention_output])\n",
        "    x = self.layernorm(x)\n",
        "    return x\n"
      ],
      "metadata": {
        "id": "SFdh7Xrgi3Y3"
      },
      "execution_count": 43,
      "outputs": []
    },
    {
      "cell_type": "code",
      "source": [
        "class FeedForward(tf.keras.layers.Layer):\n",
        "  def __init__(self, d_model, dff, dropout_rate=0.1):\n",
        "    super().__init__()\n",
        "    self.seq = tf.keras.Sequential([\n",
        "      tf.keras.layers.Dense(dff, activation='relu'),\n",
        "      tf.keras.layers.Dense(d_model),\n",
        "      tf.keras.layers.Dropout(dropout_rate)\n",
        "    ])\n",
        "    self.add = tf.keras.layers.Add()\n",
        "    self.layer_norm = tf.keras.layers.LayerNormalization()\n",
        "\n",
        "  def call(self, x):\n",
        "    x = self.add([x, self.seq(x)])\n",
        "    x = self.layer_norm(x)\n",
        "    return x"
      ],
      "metadata": {
        "id": "cTIp8n4ZjWK9"
      },
      "execution_count": 44,
      "outputs": []
    },
    {
      "cell_type": "code",
      "source": [
        "##-------\n",
        "##------Encoder----------------\n",
        "##----------------------\n",
        "\n",
        "class LSA_EncoderLayer(tf.keras.layers.Layer):\n",
        "  def __init__(self,*, d_model,num_window, dff, num_heads=2,dropout_rate=0.1):\n",
        "    super().__init__()\n",
        "\n",
        "    self._name='Local_Self_Attention_Encoder'\n",
        "    self.self_attention = LocalizedSelfAttention(\n",
        "        num_window=num_window,\n",
        "        num_heads=num_heads,\n",
        "        key_dim=d_model,\n",
        "        dropout=dropout_rate)\n",
        "\n",
        "    self.ffn = FeedForward(d_model, dff)\n",
        "\n",
        "  def call(self, x):\n",
        "    x = self.self_attention(x)\n",
        "    x = self.ffn(x)\n",
        "    return x\n",
        "\n",
        "class GSA_EncoderLayer(tf.keras.layers.Layer):\n",
        "  def __init__(self,*, d_model, num_heads, dff, dropout_rate=0.1):\n",
        "    super().__init__()\n",
        "\n",
        "    self._name='Global_Self_Attention_Encoder'\n",
        "    self.self_attention = GlobalSelfAttention(\n",
        "        num_heads=num_heads,\n",
        "        key_dim=d_model,\n",
        "        dropout=dropout_rate)\n",
        "\n",
        "    self.ffn = FeedForward(d_model, dff)\n",
        "\n",
        "  def call(self, x):\n",
        "    x = self.self_attention(x)\n",
        "    x = self.ffn(x)\n",
        "    return x\n",
        "\n",
        "\"\"\"_summary_\n",
        "\n",
        "  attn_stack_type: defines how to arrange LSA and GSA; defaults to 'add' [(LSA+GSA),...];\n",
        "                    another option is 'stack': one after another [GSA,LSA,.....,GSA+LSA]\n",
        "\"\"\"\n",
        "class Encoder(tf.keras.layers.Layer):\n",
        "  def __init__(self, *, num_layers, d_model, GSA_num_heads,LSA_num_window,LSA_num_heads,dff,attn_stack_type='add', dropout_rate=0.1):\n",
        "    super().__init__()\n",
        "\n",
        "    self.d_model = d_model\n",
        "    self.num_layers = num_layers if num_layers else 1\n",
        "    self.attn_stack_type = attn_stack_type ##By Default Add\n",
        "    if self.attn_stack_type not in ['add','stack']:\n",
        "      self.attn_stack_type = 'add'\n",
        "\n",
        "    self.lsa_enc_layers = [\n",
        "                            LSA_EncoderLayer(d_model=d_model,\n",
        "                                num_window=LSA_num_window,\n",
        "                                num_heads=LSA_num_heads,\n",
        "                                dff=dff,\n",
        "                                dropout_rate=dropout_rate)\n",
        "                            for _ in range(num_layers)\n",
        "                        ]\n",
        "    self.gsa_enc_layers = [\n",
        "                            GSA_EncoderLayer(d_model=d_model,\n",
        "                                num_heads=GSA_num_heads,\n",
        "                                dff=dff,\n",
        "                                dropout_rate=dropout_rate)\n",
        "                            for _ in range(num_layers)\n",
        "                        ]\n",
        "\n",
        "    self.dropout = tf.keras.layers.Dropout(dropout_rate)\n",
        "\n",
        "    if self.attn_stack_type == 'add':\n",
        "      self.add = tf.keras.layers.Add()\n",
        "      self.layer_norm = tf.keras.layers.LayerNormalization()\n",
        "\n",
        "  def call(self, x):\n",
        "    if self.attn_stack_type == 'add':\n",
        "      for i in range(self.num_layers):\n",
        "          x = self.layer_norm(self.add([self.lsa_enc_layers[i](x),self.gsa_enc_layers[i](x)]))\n",
        "\n",
        "    if self.attn_stack_type == 'stack':\n",
        "      for i in range(self.num_layers):\n",
        "        x = self.lsa_enc_layers[i](\n",
        "              self.gsa_enc_layers[i](x)\n",
        "            )\n",
        "\n",
        "    return self.dropout(x)\n",
        "\n"
      ],
      "metadata": {
        "id": "50ogdJGoAlGz"
      },
      "execution_count": 45,
      "outputs": []
    },
    {
      "cell_type": "code",
      "source": [
        "class Transformer(tf.keras.models.Model):\n",
        "  def __init__(self, *, num_layers, d_model, GSA_num_heads,LSA_num_window,LSA_num_heads,\n",
        "               dff, vocab_size,num_class=2,attn_stack_type='add', dropout_rate=0.1):\n",
        "    super().__init__()\n",
        "    self._name = 'Fusion'\n",
        "    if not dff:\n",
        "      dff = d_model * 2 ## default value for dff\n",
        "\n",
        "    self.d_model = d_model\n",
        "    self.num_layers = num_layers if num_layers else 1\n",
        "\n",
        "    self.pos_embedding = PositionalEmbedding(vocab_size=vocab_size, d_model=d_model)\n",
        "\n",
        "    self.encoder = Encoder(num_layers=num_layers,d_model=d_model,GSA_num_heads=GSA_num_heads,\n",
        "                           LSA_num_window=LSA_num_window,LSA_num_heads=LSA_num_heads,\n",
        "                           dff=dff,attn_stack_type=attn_stack_type,dropout_rate=dropout_rate)\n",
        "\n",
        "    self.out = tf.keras.layers.Dense(d_model,activation='gelu',name='feature')\n",
        "    self.head = tf.keras.layers.Dense(num_class,activation='softmax',name='classification_head')\n",
        "\n",
        "  def call(self, x):\n",
        "    # `x` is token-IDs shape: (batch, seq_len)\n",
        "    x = self.pos_embedding(x)  # Shape `(batch_size, seq_len, d_model)`.\n",
        "    x = self.encoder(x) # Shape `(batch_size, seq_len, d_model)`.\n",
        "    self.last_hidden_state = self.out(x)\n",
        "    self.pooled_state = tf.reduce_logsumexp(x,axis=1) * 0.1 # Shape `(batch_size, d_model)`.\n",
        "    return self.head(self.pooled_state)  # Shape `(batch_size, num_class)`."
      ],
      "metadata": {
        "id": "95F3nqEzA8zv"
      },
      "execution_count": 46,
      "outputs": []
    },
    {
      "cell_type": "code",
      "source": [
        "model = Transformer(num_layers=2,d_model=384,GSA_num_heads=4,\n",
        "                    LSA_num_heads=2,LSA_num_window=4,dff=512,\n",
        "                    vocab_size=len(tokenizer),num_class=3, attn_stack_type='stack')\n",
        "model.compile(\n",
        "    optimizer=tf.keras.optimizers.Adam(learning_rate=0.00001,weight_decay=0.001),\n",
        "    loss='categorical_crossentropy',\n",
        "    metrics=['acc'])\n",
        "\n",
        "dummy = np.ones((32,max_len))\n",
        "model(dummy) ## building the model\n",
        "model.summary()"
      ],
      "metadata": {
        "colab": {
          "base_uri": "https://localhost:8080/"
        },
        "id": "fRWCejH-4dHl",
        "outputId": "107b709c-8c7d-4313-e5c6-423a5b87789a"
      },
      "execution_count": 47,
      "outputs": [
        {
          "output_type": "stream",
          "name": "stdout",
          "text": [
            "Model: \"Fusion\"\n",
            "_________________________________________________________________\n",
            " Layer (type)                Output Shape              Param #   \n",
            "=================================================================\n",
            " PosEmbd (PositionalEmbeddin  multiple                 11720448  \n",
            " g)                                                              \n",
            "                                                                 \n",
            " encoder_5 (Encoder)         multiple                  8675840   \n",
            "                                                                 \n",
            " feature (Dense)             multiple                  147840    \n",
            "                                                                 \n",
            " classification_head (Dense)  multiple                 1155      \n",
            "                                                                 \n",
            "=================================================================\n",
            "Total params: 20,545,283\n",
            "Trainable params: 20,545,283\n",
            "Non-trainable params: 0\n",
            "_________________________________________________________________\n"
          ]
        }
      ]
    },
    {
      "cell_type": "code",
      "source": [
        "history = model.fit(tf.constant(train_input),\n",
        "        tf.constant(train_labels),\n",
        "        epochs=30,batch_size=32,\n",
        "        validation_data=[tf.constant(test_input),tf.constant(test_labels)],\n",
        "        callbacks=[tf.keras.callbacks.EarlyStopping(\n",
        "                            monitor='val_acc', patience=3,\n",
        "                            verbose=1, mode='max',\n",
        "                            restore_best_weights=True)\n",
        "                        ])"
      ],
      "metadata": {
        "colab": {
          "base_uri": "https://localhost:8080/"
        },
        "id": "wUAcF-Z0C7yW",
        "outputId": "d0ef0783-17f6-47c8-a63a-91e9621e65d4"
      },
      "execution_count": 48,
      "outputs": [
        {
          "output_type": "stream",
          "name": "stdout",
          "text": [
            "Epoch 1/30\n"
          ]
        },
        {
          "output_type": "stream",
          "name": "stderr",
          "text": [
            "WARNING:tensorflow:Gradients do not exist for variables ['Fusion/feature/kernel:0', 'Fusion/feature/bias:0'] when minimizing the loss. If you're using `model.compile()`, did you forget to provide a `loss` argument?\n",
            "WARNING:tensorflow:Gradients do not exist for variables ['Fusion/feature/kernel:0', 'Fusion/feature/bias:0'] when minimizing the loss. If you're using `model.compile()`, did you forget to provide a `loss` argument?\n",
            "WARNING:tensorflow:Gradients do not exist for variables ['Fusion/feature/kernel:0', 'Fusion/feature/bias:0'] when minimizing the loss. If you're using `model.compile()`, did you forget to provide a `loss` argument?\n",
            "WARNING:tensorflow:Gradients do not exist for variables ['Fusion/feature/kernel:0', 'Fusion/feature/bias:0'] when minimizing the loss. If you're using `model.compile()`, did you forget to provide a `loss` argument?\n"
          ]
        },
        {
          "output_type": "stream",
          "name": "stdout",
          "text": [
            "1039/1039 [==============================] - 181s 142ms/step - loss: 0.9575 - acc: 0.5230 - val_loss: 0.7462 - val_acc: 0.6795\n",
            "Epoch 2/30\n",
            "1039/1039 [==============================] - 122s 117ms/step - loss: 0.6862 - acc: 0.7091 - val_loss: 0.6781 - val_acc: 0.7139\n",
            "Epoch 3/30\n",
            "1039/1039 [==============================] - 119s 114ms/step - loss: 0.6300 - acc: 0.7383 - val_loss: 0.6671 - val_acc: 0.7142\n",
            "Epoch 4/30\n",
            "1039/1039 [==============================] - 119s 115ms/step - loss: 0.5923 - acc: 0.7598 - val_loss: 0.6415 - val_acc: 0.7329\n",
            "Epoch 5/30\n",
            "1039/1039 [==============================] - 118s 114ms/step - loss: 0.5634 - acc: 0.7764 - val_loss: 0.6477 - val_acc: 0.7311\n",
            "Epoch 6/30\n",
            "1039/1039 [==============================] - 118s 114ms/step - loss: 0.5393 - acc: 0.7898 - val_loss: 0.6261 - val_acc: 0.7459\n",
            "Epoch 7/30\n",
            "1039/1039 [==============================] - 117s 113ms/step - loss: 0.5176 - acc: 0.7979 - val_loss: 0.6428 - val_acc: 0.7382\n",
            "Epoch 8/30\n",
            "1039/1039 [==============================] - 118s 113ms/step - loss: 0.4984 - acc: 0.8095 - val_loss: 0.6586 - val_acc: 0.7225\n",
            "Epoch 9/30\n",
            "1039/1039 [==============================] - ETA: 0s - loss: 0.4806 - acc: 0.8205Restoring model weights from the end of the best epoch: 6.\n",
            "1039/1039 [==============================] - 118s 114ms/step - loss: 0.4806 - acc: 0.8205 - val_loss: 0.6340 - val_acc: 0.7428\n",
            "Epoch 9: early stopping\n"
          ]
        }
      ]
    },
    {
      "cell_type": "code",
      "source": [
        "####-----------------------------------------\n",
        "## ---------------Prediction------------------\n",
        "####-----------------------------------------\n",
        "\n",
        "pred_labels = [np.argmax(x) for x in\n",
        "            model.predict(\n",
        "                x=tf.constant(test_input)\n",
        "            )\n",
        "    ]\n",
        "\n",
        "from sklearn.metrics import f1_score, precision_score, recall_score, accuracy_score\n",
        "eval_labels = [np.argmax(x) for x in test_labels]\n"
      ],
      "metadata": {
        "id": "KsfVLZ4ykyQY",
        "colab": {
          "base_uri": "https://localhost:8080/"
        },
        "outputId": "1bb64349-2bf1-4bb5-e594-5938b4957889"
      },
      "execution_count": 49,
      "outputs": [
        {
          "output_type": "stream",
          "name": "stdout",
          "text": [
            "******Evaluations***********\n",
            "260/260 [==============================] - 11s 37ms/step\n"
          ]
        }
      ]
    },
    {
      "cell_type": "code",
      "source": [
        "print(\"F1-Score\",f1_score(eval_labels,pred_labels,average='weighted'))\n",
        "print(\"Precision-Score\",precision_score(eval_labels,pred_labels,average='weighted'))\n",
        "print(\"Recall-Score\",recall_score(eval_labels,pred_labels,average='weighted'))\n",
        "print(\"Accuracy-Score\",accuracy_score(eval_labels,pred_labels))\n",
        "\n",
        "from sklearn.metrics import ConfusionMatrixDisplay\n",
        "import matplotlib.pyplot as plt\n",
        "\n",
        "confusion_matrix = tf.math.confusion_matrix(eval_labels,pred_labels,num_classes=3)\n",
        "print(confusion_matrix)\n",
        "cmd = ConfusionMatrixDisplay(confusion_matrix.numpy())\n",
        "cmd.plot()\n",
        "# plt.show()\n",
        "\n",
        "print(\"True Labels Onlys\",tf.math.confusion_matrix(eval_labels,eval_labels,num_classes=3))"
      ],
      "metadata": {
        "id": "SMF0w-QEEDWJ",
        "colab": {
          "base_uri": "https://localhost:8080/",
          "height": 663
        },
        "outputId": "8f2a3022-c70b-4039-de94-ea2c68f915bf"
      },
      "execution_count": 51,
      "outputs": [
        {
          "output_type": "stream",
          "name": "stdout",
          "text": [
            "F1-Score 0.7463287977172178\n",
            "Precision-Score 0.7537897405182482\n",
            "Recall-Score 0.7459381393669515\n",
            "Accuracy-Score 0.7459381393669515\n",
            "tf.Tensor(\n",
            "[[1809  448  372]\n",
            " [ 199 2250  547]\n",
            " [ 142  403 2139]], shape=(3, 3), dtype=int32)\n",
            "True Labels Onlys tf.Tensor(\n",
            "[[2629    0    0]\n",
            " [   0 2996    0]\n",
            " [   0    0 2684]], shape=(3, 3), dtype=int32)\n"
          ]
        },
        {
          "output_type": "display_data",
          "data": {
            "text/plain": [
              "<Figure size 640x480 with 2 Axes>"
            ],
            "image/png": "[encoded data removed]"
          },
          "metadata": {}
        }
      ]
    },
    {
      "cell_type": "code",
      "source": [],
      "metadata": {
        "id": "2jgYa3bMKi8S"
      },
      "execution_count": null,
      "outputs": []
    }
  ]
}