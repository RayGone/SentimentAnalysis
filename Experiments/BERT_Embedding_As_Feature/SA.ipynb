{
  "nbformat": 4,
  "nbformat_minor": 0,
  "metadata": {
    "colab": {
      "provenance": [],
      "gpuType": "T4",
      "include_colab_link": true
    },
    "kernelspec": {
      "name": "python3",
      "display_name": "Python 3"
    },
    "language_info": {
      "name": "python"
    },
    "widgets": {
      "application/vnd.jupyter.widget-state+json": {
        "51309c9b04e74ffaaee88c2ebed7e21f": {
          "model_module": "@jupyter-widgets/controls",
          "model_name": "HBoxModel",
          "model_module_version": "1.5.0",
          "state": {
            "_dom_classes": [],
            "_model_module": "@jupyter-widgets/controls",
            "_model_module_version": "1.5.0",
            "_model_name": "HBoxModel",
            "_view_count": null,
            "_view_module": "@jupyter-widgets/controls",
            "_view_module_version": "1.5.0",
            "_view_name": "HBoxView",
            "box_style": "",
            "children": [
              "IPY_MODEL_81e91f08594847039df10084443cf916",
              "IPY_MODEL_e5b3047f69ba42a2ba37e723e7078bdf",
              "IPY_MODEL_301ba5bc42b44cadbf30dbded3a06ee3"
            ],
            "layout": "IPY_MODEL_91d48085d46448c5a04aef6c10142ac3"
          }
        },
        "81e91f08594847039df10084443cf916": {
          "model_module": "@jupyter-widgets/controls",
          "model_name": "HTMLModel",
          "model_module_version": "1.5.0",
          "state": {
            "_dom_classes": [],
            "_model_module": "@jupyter-widgets/controls",
            "_model_module_version": "1.5.0",
            "_model_name": "HTMLModel",
            "_view_count": null,
            "_view_module": "@jupyter-widgets/controls",
            "_view_module_version": "1.5.0",
            "_view_name": "HTMLView",
            "description": "",
            "description_tooltip": null,
            "layout": "IPY_MODEL_0e44854ef7dc43dba2fe22066492b432",
            "placeholder": "​",
            "style": "IPY_MODEL_2a39049a10b94a91a754089d7e986aeb",
            "value": "100%"
          }
        },
        "e5b3047f69ba42a2ba37e723e7078bdf": {
          "model_module": "@jupyter-widgets/controls",
          "model_name": "FloatProgressModel",
          "model_module_version": "1.5.0",
          "state": {
            "_dom_classes": [],
            "_model_module": "@jupyter-widgets/controls",
            "_model_module_version": "1.5.0",
            "_model_name": "FloatProgressModel",
            "_view_count": null,
            "_view_module": "@jupyter-widgets/controls",
            "_view_module_version": "1.5.0",
            "_view_name": "ProgressView",
            "bar_style": "success",
            "description": "",
            "description_tooltip": null,
            "layout": "IPY_MODEL_4e41a79aab634a97ad63927eca720c3a",
            "max": 1,
            "min": 0,
            "orientation": "horizontal",
            "style": "IPY_MODEL_3c1150b959e14baa8e8d6fd0ff55bf74",
            "value": 1
          }
        },
        "301ba5bc42b44cadbf30dbded3a06ee3": {
          "model_module": "@jupyter-widgets/controls",
          "model_name": "HTMLModel",
          "model_module_version": "1.5.0",
          "state": {
            "_dom_classes": [],
            "_model_module": "@jupyter-widgets/controls",
            "_model_module_version": "1.5.0",
            "_model_name": "HTMLModel",
            "_view_count": null,
            "_view_module": "@jupyter-widgets/controls",
            "_view_module_version": "1.5.0",
            "_view_name": "HTMLView",
            "description": "",
            "description_tooltip": null,
            "layout": "IPY_MODEL_636fb1060c02410b99bca8aa33c4cbd4",
            "placeholder": "​",
            "style": "IPY_MODEL_6706d84b723a484182386f98f05a4ca9",
            "value": " 1/1 [00:00&lt;00:00, 41.51it/s]"
          }
        },
        "91d48085d46448c5a04aef6c10142ac3": {
          "model_module": "@jupyter-widgets/base",
          "model_name": "LayoutModel",
          "model_module_version": "1.2.0",
          "state": {
            "_model_module": "@jupyter-widgets/base",
            "_model_module_version": "1.2.0",
            "_model_name": "LayoutModel",
            "_view_count": null,
            "_view_module": "@jupyter-widgets/base",
            "_view_module_version": "1.2.0",
            "_view_name": "LayoutView",
            "align_content": null,
            "align_items": null,
            "align_self": null,
            "border": null,
            "bottom": null,
            "display": null,
            "flex": null,
            "flex_flow": null,
            "grid_area": null,
            "grid_auto_columns": null,
            "grid_auto_flow": null,
            "grid_auto_rows": null,
            "grid_column": null,
            "grid_gap": null,
            "grid_row": null,
            "grid_template_areas": null,
            "grid_template_columns": null,
            "grid_template_rows": null,
            "height": null,
            "justify_content": null,
            "justify_items": null,
            "left": null,
            "margin": null,
            "max_height": null,
            "max_width": null,
            "min_height": null,
            "min_width": null,
            "object_fit": null,
            "object_position": null,
            "order": null,
            "overflow": null,
            "overflow_x": null,
            "overflow_y": null,
            "padding": null,
            "right": null,
            "top": null,
            "visibility": null,
            "width": null
          }
        },
        "0e44854ef7dc43dba2fe22066492b432": {
          "model_module": "@jupyter-widgets/base",
          "model_name": "LayoutModel",
          "model_module_version": "1.2.0",
          "state": {
            "_model_module": "@jupyter-widgets/base",
            "_model_module_version": "1.2.0",
            "_model_name": "LayoutModel",
            "_view_count": null,
            "_view_module": "@jupyter-widgets/base",
            "_view_module_version": "1.2.0",
            "_view_name": "LayoutView",
            "align_content": null,
            "align_items": null,
            "align_self": null,
            "border": null,
            "bottom": null,
            "display": null,
            "flex": null,
            "flex_flow": null,
            "grid_area": null,
            "grid_auto_columns": null,
            "grid_auto_flow": null,
            "grid_auto_rows": null,
            "grid_column": null,
            "grid_gap": null,
            "grid_row": null,
            "grid_template_areas": null,
            "grid_template_columns": null,
            "grid_template_rows": null,
            "height": null,
            "justify_content": null,
            "justify_items": null,
            "left": null,
            "margin": null,
            "max_height": null,
            "max_width": null,
            "min_height": null,
            "min_width": null,
            "object_fit": null,
            "object_position": null,
            "order": null,
            "overflow": null,
            "overflow_x": null,
            "overflow_y": null,
            "padding": null,
            "right": null,
            "top": null,
            "visibility": null,
            "width": null
          }
        },
        "2a39049a10b94a91a754089d7e986aeb": {
          "model_module": "@jupyter-widgets/controls",
          "model_name": "DescriptionStyleModel",
          "model_module_version": "1.5.0",
          "state": {
            "_model_module": "@jupyter-widgets/controls",
            "_model_module_version": "1.5.0",
            "_model_name": "DescriptionStyleModel",
            "_view_count": null,
            "_view_module": "@jupyter-widgets/base",
            "_view_module_version": "1.2.0",
            "_view_name": "StyleView",
            "description_width": ""
          }
        },
        "4e41a79aab634a97ad63927eca720c3a": {
          "model_module": "@jupyter-widgets/base",
          "model_name": "LayoutModel",
          "model_module_version": "1.2.0",
          "state": {
            "_model_module": "@jupyter-widgets/base",
            "_model_module_version": "1.2.0",
            "_model_name": "LayoutModel",
            "_view_count": null,
            "_view_module": "@jupyter-widgets/base",
            "_view_module_version": "1.2.0",
            "_view_name": "LayoutView",
            "align_content": null,
            "align_items": null,
            "align_self": null,
            "border": null,
            "bottom": null,
            "display": null,
            "flex": null,
            "flex_flow": null,
            "grid_area": null,
            "grid_auto_columns": null,
            "grid_auto_flow": null,
            "grid_auto_rows": null,
            "grid_column": null,
            "grid_gap": null,
            "grid_row": null,
            "grid_template_areas": null,
            "grid_template_columns": null,
            "grid_template_rows": null,
            "height": null,
            "justify_content": null,
            "justify_items": null,
            "left": null,
            "margin": null,
            "max_height": null,
            "max_width": null,
            "min_height": null,
            "min_width": null,
            "object_fit": null,
            "object_position": null,
            "order": null,
            "overflow": null,
            "overflow_x": null,
            "overflow_y": null,
            "padding": null,
            "right": null,
            "top": null,
            "visibility": null,
            "width": null
          }
        },
        "3c1150b959e14baa8e8d6fd0ff55bf74": {
          "model_module": "@jupyter-widgets/controls",
          "model_name": "ProgressStyleModel",
          "model_module_version": "1.5.0",
          "state": {
            "_model_module": "@jupyter-widgets/controls",
            "_model_module_version": "1.5.0",
            "_model_name": "ProgressStyleModel",
            "_view_count": null,
            "_view_module": "@jupyter-widgets/base",
            "_view_module_version": "1.2.0",
            "_view_name": "StyleView",
            "bar_color": null,
            "description_width": ""
          }
        },
        "636fb1060c02410b99bca8aa33c4cbd4": {
          "model_module": "@jupyter-widgets/base",
          "model_name": "LayoutModel",
          "model_module_version": "1.2.0",
          "state": {
            "_model_module": "@jupyter-widgets/base",
            "_model_module_version": "1.2.0",
            "_model_name": "LayoutModel",
            "_view_count": null,
            "_view_module": "@jupyter-widgets/base",
            "_view_module_version": "1.2.0",
            "_view_name": "LayoutView",
            "align_content": null,
            "align_items": null,
            "align_self": null,
            "border": null,
            "bottom": null,
            "display": null,
            "flex": null,
            "flex_flow": null,
            "grid_area": null,
            "grid_auto_columns": null,
            "grid_auto_flow": null,
            "grid_auto_rows": null,
            "grid_column": null,
            "grid_gap": null,
            "grid_row": null,
            "grid_template_areas": null,
            "grid_template_columns": null,
            "grid_template_rows": null,
            "height": null,
            "justify_content": null,
            "justify_items": null,
            "left": null,
            "margin": null,
            "max_height": null,
            "max_width": null,
            "min_height": null,
            "min_width": null,
            "object_fit": null,
            "object_position": null,
            "order": null,
            "overflow": null,
            "overflow_x": null,
            "overflow_y": null,
            "padding": null,
            "right": null,
            "top": null,
            "visibility": null,
            "width": null
          }
        },
        "6706d84b723a484182386f98f05a4ca9": {
          "model_module": "@jupyter-widgets/controls",
          "model_name": "DescriptionStyleModel",
          "model_module_version": "1.5.0",
          "state": {
            "_model_module": "@jupyter-widgets/controls",
            "_model_module_version": "1.5.0",
            "_model_name": "DescriptionStyleModel",
            "_view_count": null,
            "_view_module": "@jupyter-widgets/base",
            "_view_module_version": "1.2.0",
            "_view_name": "StyleView",
            "description_width": ""
          }
        },
        "39020dc4c0e64572ae0726e9d4b78341": {
          "model_module": "@jupyter-widgets/controls",
          "model_name": "HBoxModel",
          "model_module_version": "1.5.0",
          "state": {
            "_dom_classes": [],
            "_model_module": "@jupyter-widgets/controls",
            "_model_module_version": "1.5.0",
            "_model_name": "HBoxModel",
            "_view_count": null,
            "_view_module": "@jupyter-widgets/controls",
            "_view_module_version": "1.5.0",
            "_view_name": "HBoxView",
            "box_style": "",
            "children": [
              "IPY_MODEL_ed2725faabb4433baae4beb84abddfba",
              "IPY_MODEL_2ea52860e5624840ab3dcb617cc0e008",
              "IPY_MODEL_e77a17d3c9174ab0b0731e5f1c4baafc"
            ],
            "layout": "IPY_MODEL_2e5d5789935f4386b2e5831e480ef6f1"
          }
        },
        "ed2725faabb4433baae4beb84abddfba": {
          "model_module": "@jupyter-widgets/controls",
          "model_name": "HTMLModel",
          "model_module_version": "1.5.0",
          "state": {
            "_dom_classes": [],
            "_model_module": "@jupyter-widgets/controls",
            "_model_module_version": "1.5.0",
            "_model_name": "HTMLModel",
            "_view_count": null,
            "_view_module": "@jupyter-widgets/controls",
            "_view_module_version": "1.5.0",
            "_view_name": "HTMLView",
            "description": "",
            "description_tooltip": null,
            "layout": "IPY_MODEL_8b522230e7d0476fa11008f9702525b4",
            "placeholder": "​",
            "style": "IPY_MODEL_e53fc61102624d13aec5ff09d0b73bf6",
            "value": "Downloading tf_model.h5: 100%"
          }
        },
        "2ea52860e5624840ab3dcb617cc0e008": {
          "model_module": "@jupyter-widgets/controls",
          "model_name": "FloatProgressModel",
          "model_module_version": "1.5.0",
          "state": {
            "_dom_classes": [],
            "_model_module": "@jupyter-widgets/controls",
            "_model_module_version": "1.5.0",
            "_model_name": "FloatProgressModel",
            "_view_count": null,
            "_view_module": "@jupyter-widgets/controls",
            "_view_module_version": "1.5.0",
            "_view_name": "ProgressView",
            "bar_style": "success",
            "description": "",
            "description_tooltip": null,
            "layout": "IPY_MODEL_55e91eaf7c454bceb475a2c454918348",
            "max": 438226204,
            "min": 0,
            "orientation": "horizontal",
            "style": "IPY_MODEL_c0ed2b1720eb481e9c23c81844fa7d7b",
            "value": 438226204
          }
        },
        "e77a17d3c9174ab0b0731e5f1c4baafc": {
          "model_module": "@jupyter-widgets/controls",
          "model_name": "HTMLModel",
          "model_module_version": "1.5.0",
          "state": {
            "_dom_classes": [],
            "_model_module": "@jupyter-widgets/controls",
            "_model_module_version": "1.5.0",
            "_model_name": "HTMLModel",
            "_view_count": null,
            "_view_module": "@jupyter-widgets/controls",
            "_view_module_version": "1.5.0",
            "_view_name": "HTMLView",
            "description": "",
            "description_tooltip": null,
            "layout": "IPY_MODEL_2444a61f12cf48dd99a089263ba3d193",
            "placeholder": "​",
            "style": "IPY_MODEL_ca0786d427c049a09589e672e0ab1348",
            "value": " 438M/438M [00:11&lt;00:00, 43.3MB/s]"
          }
        },
        "2e5d5789935f4386b2e5831e480ef6f1": {
          "model_module": "@jupyter-widgets/base",
          "model_name": "LayoutModel",
          "model_module_version": "1.2.0",
          "state": {
            "_model_module": "@jupyter-widgets/base",
            "_model_module_version": "1.2.0",
            "_model_name": "LayoutModel",
            "_view_count": null,
            "_view_module": "@jupyter-widgets/base",
            "_view_module_version": "1.2.0",
            "_view_name": "LayoutView",
            "align_content": null,
            "align_items": null,
            "align_self": null,
            "border": null,
            "bottom": null,
            "display": null,
            "flex": null,
            "flex_flow": null,
            "grid_area": null,
            "grid_auto_columns": null,
            "grid_auto_flow": null,
            "grid_auto_rows": null,
            "grid_column": null,
            "grid_gap": null,
            "grid_row": null,
            "grid_template_areas": null,
            "grid_template_columns": null,
            "grid_template_rows": null,
            "height": null,
            "justify_content": null,
            "justify_items": null,
            "left": null,
            "margin": null,
            "max_height": null,
            "max_width": null,
            "min_height": null,
            "min_width": null,
            "object_fit": null,
            "object_position": null,
            "order": null,
            "overflow": null,
            "overflow_x": null,
            "overflow_y": null,
            "padding": null,
            "right": null,
            "top": null,
            "visibility": null,
            "width": null
          }
        },
        "8b522230e7d0476fa11008f9702525b4": {
          "model_module": "@jupyter-widgets/base",
          "model_name": "LayoutModel",
          "model_module_version": "1.2.0",
          "state": {
            "_model_module": "@jupyter-widgets/base",
            "_model_module_version": "1.2.0",
            "_model_name": "LayoutModel",
            "_view_count": null,
            "_view_module": "@jupyter-widgets/base",
            "_view_module_version": "1.2.0",
            "_view_name": "LayoutView",
            "align_content": null,
            "align_items": null,
            "align_self": null,
            "border": null,
            "bottom": null,
            "display": null,
            "flex": null,
            "flex_flow": null,
            "grid_area": null,
            "grid_auto_columns": null,
            "grid_auto_flow": null,
            "grid_auto_rows": null,
            "grid_column": null,
            "grid_gap": null,
            "grid_row": null,
            "grid_template_areas": null,
            "grid_template_columns": null,
            "grid_template_rows": null,
            "height": null,
            "justify_content": null,
            "justify_items": null,
            "left": null,
            "margin": null,
            "max_height": null,
            "max_width": null,
            "min_height": null,
            "min_width": null,
            "object_fit": null,
            "object_position": null,
            "order": null,
            "overflow": null,
            "overflow_x": null,
            "overflow_y": null,
            "padding": null,
            "right": null,
            "top": null,
            "visibility": null,
            "width": null
          }
        },
        "e53fc61102624d13aec5ff09d0b73bf6": {
          "model_module": "@jupyter-widgets/controls",
          "model_name": "DescriptionStyleModel",
          "model_module_version": "1.5.0",
          "state": {
            "_model_module": "@jupyter-widgets/controls",
            "_model_module_version": "1.5.0",
            "_model_name": "DescriptionStyleModel",
            "_view_count": null,
            "_view_module": "@jupyter-widgets/base",
            "_view_module_version": "1.2.0",
            "_view_name": "StyleView",
            "description_width": ""
          }
        },
        "55e91eaf7c454bceb475a2c454918348": {
          "model_module": "@jupyter-widgets/base",
          "model_name": "LayoutModel",
          "model_module_version": "1.2.0",
          "state": {
            "_model_module": "@jupyter-widgets/base",
            "_model_module_version": "1.2.0",
            "_model_name": "LayoutModel",
            "_view_count": null,
            "_view_module": "@jupyter-widgets/base",
            "_view_module_version": "1.2.0",
            "_view_name": "LayoutView",
            "align_content": null,
            "align_items": null,
            "align_self": null,
            "border": null,
            "bottom": null,
            "display": null,
            "flex": null,
            "flex_flow": null,
            "grid_area": null,
            "grid_auto_columns": null,
            "grid_auto_flow": null,
            "grid_auto_rows": null,
            "grid_column": null,
            "grid_gap": null,
            "grid_row": null,
            "grid_template_areas": null,
            "grid_template_columns": null,
            "grid_template_rows": null,
            "height": null,
            "justify_content": null,
            "justify_items": null,
            "left": null,
            "margin": null,
            "max_height": null,
            "max_width": null,
            "min_height": null,
            "min_width": null,
            "object_fit": null,
            "object_position": null,
            "order": null,
            "overflow": null,
            "overflow_x": null,
            "overflow_y": null,
            "padding": null,
            "right": null,
            "top": null,
            "visibility": null,
            "width": null
          }
        },
        "c0ed2b1720eb481e9c23c81844fa7d7b": {
          "model_module": "@jupyter-widgets/controls",
          "model_name": "ProgressStyleModel",
          "model_module_version": "1.5.0",
          "state": {
            "_model_module": "@jupyter-widgets/controls",
            "_model_module_version": "1.5.0",
            "_model_name": "ProgressStyleModel",
            "_view_count": null,
            "_view_module": "@jupyter-widgets/base",
            "_view_module_version": "1.2.0",
            "_view_name": "StyleView",
            "bar_color": null,
            "description_width": ""
          }
        },
        "2444a61f12cf48dd99a089263ba3d193": {
          "model_module": "@jupyter-widgets/base",
          "model_name": "LayoutModel",
          "model_module_version": "1.2.0",
          "state": {
            "_model_module": "@jupyter-widgets/base",
            "_model_module_version": "1.2.0",
            "_model_name": "LayoutModel",
            "_view_count": null,
            "_view_module": "@jupyter-widgets/base",
            "_view_module_version": "1.2.0",
            "_view_name": "LayoutView",
            "align_content": null,
            "align_items": null,
            "align_self": null,
            "border": null,
            "bottom": null,
            "display": null,
            "flex": null,
            "flex_flow": null,
            "grid_area": null,
            "grid_auto_columns": null,
            "grid_auto_flow": null,
            "grid_auto_rows": null,
            "grid_column": null,
            "grid_gap": null,
            "grid_row": null,
            "grid_template_areas": null,
            "grid_template_columns": null,
            "grid_template_rows": null,
            "height": null,
            "justify_content": null,
            "justify_items": null,
            "left": null,
            "margin": null,
            "max_height": null,
            "max_width": null,
            "min_height": null,
            "min_width": null,
            "object_fit": null,
            "object_position": null,
            "order": null,
            "overflow": null,
            "overflow_x": null,
            "overflow_y": null,
            "padding": null,
            "right": null,
            "top": null,
            "visibility": null,
            "width": null
          }
        },
        "ca0786d427c049a09589e672e0ab1348": {
          "model_module": "@jupyter-widgets/controls",
          "model_name": "DescriptionStyleModel",
          "model_module_version": "1.5.0",
          "state": {
            "_model_module": "@jupyter-widgets/controls",
            "_model_module_version": "1.5.0",
            "_model_name": "DescriptionStyleModel",
            "_view_count": null,
            "_view_module": "@jupyter-widgets/base",
            "_view_module_version": "1.2.0",
            "_view_name": "StyleView",
            "description_width": ""
          }
        }
      }
    },
    "accelerator": "GPU"
  },
  "cells": [
    {
      "cell_type": "markdown",
      "metadata": {
        "id": "view-in-github",
        "colab_type": "text"
      },
      "source": [
        "<a href=\"https://colab.research.google.com/github/RayGone/SentimentAnalysis/blob/main/Experiments/BERT_Embedding_As_Feature/SA.ipynb\" target=\"_parent\"><img src=\"https://colab.research.google.com/assets/colab-badge.svg\" alt=\"Open In Colab\"/></a>"
      ]
    },
    {
      "cell_type": "code",
      "execution_count": 35,
      "metadata": {
        "id": "ENpA5ZZuHxtl"
      },
      "outputs": [],
      "source": [
        "!pip install transformers tokenizers datasets -q"
      ]
    },
    {
      "cell_type": "code",
      "source": [
        "import numpy as np\n",
        "import random\n",
        "import os\n",
        "import tensorflow as tf\n",
        "from transformers import set_seed\n",
        "\n",
        "rand_seed = 9\n",
        "\n",
        "def seed_everything(seed=0):\n",
        "    random.seed(seed) # random\n",
        "    os.environ['PYTHONHASHSEED'] = str(seed) # python enviroment\n",
        "    np.random.seed(seed) # numpy\n",
        "    tf.keras.utils.set_random_seed(seed) # tensorflow\n",
        "    tf.random.set_seed(seed) # tensorflow\n",
        "    set_seed(seed) # hugging_face transformer\n",
        "\n",
        "seed_everything(rand_seed)"
      ],
      "metadata": {
        "id": "bl3JP8Zcl0Ui"
      },
      "execution_count": 36,
      "outputs": []
    },
    {
      "cell_type": "code",
      "source": [
        "import datasets\n",
        "\n",
        "data = datasets.load_dataset(\"raygx/NepCov19TweetsPlus\").rename_columns({\"Sentiment\":\"label\",\"Sentences\":\"text\"}).shuffle(999)['train'].train_test_split(test_size=0.2)\n",
        "data\n"
      ],
      "metadata": {
        "colab": {
          "base_uri": "https://localhost:8080/",
          "height": 300,
          "referenced_widgets": [
            "51309c9b04e74ffaaee88c2ebed7e21f",
            "81e91f08594847039df10084443cf916",
            "e5b3047f69ba42a2ba37e723e7078bdf",
            "301ba5bc42b44cadbf30dbded3a06ee3",
            "91d48085d46448c5a04aef6c10142ac3",
            "0e44854ef7dc43dba2fe22066492b432",
            "2a39049a10b94a91a754089d7e986aeb",
            "4e41a79aab634a97ad63927eca720c3a",
            "3c1150b959e14baa8e8d6fd0ff55bf74",
            "636fb1060c02410b99bca8aa33c4cbd4",
            "6706d84b723a484182386f98f05a4ca9"
          ]
        },
        "id": "3guYVOxyS_jU",
        "outputId": "ddd8c113-d8de-40ed-a14b-e01e34ec4906"
      },
      "execution_count": 37,
      "outputs": [
        {
          "output_type": "stream",
          "name": "stderr",
          "text": [
            "WARNING:datasets.builder:Found cached dataset parquet (/root/.cache/huggingface/datasets/raygx___parquet/raygx--NepCov19TweetsPlus-46f98dd56864ead2/0.0.0/14a00e99c0d15a23649d0db8944380ac81082d4b021f398733dd84f3a6c569a7)\n"
          ]
        },
        {
          "output_type": "display_data",
          "data": {
            "text/plain": [
              "  0%|          | 0/1 [00:00<?, ?it/s]"
            ],
            "application/vnd.jupyter.widget-view+json": {
              "version_major": 2,
              "version_minor": 0,
              "model_id": "51309c9b04e74ffaaee88c2ebed7e21f"
            }
          },
          "metadata": {}
        },
        {
          "output_type": "stream",
          "name": "stderr",
          "text": [
            "WARNING:datasets.arrow_dataset:Loading cached shuffled indices for dataset at /root/.cache/huggingface/datasets/raygx___parquet/raygx--NepCov19TweetsPlus-46f98dd56864ead2/0.0.0/14a00e99c0d15a23649d0db8944380ac81082d4b021f398733dd84f3a6c569a7/cache-d3c20c1d17230434.arrow\n",
            "WARNING:datasets.arrow_dataset:Loading cached split indices for dataset at /root/.cache/huggingface/datasets/raygx___parquet/raygx--NepCov19TweetsPlus-46f98dd56864ead2/0.0.0/14a00e99c0d15a23649d0db8944380ac81082d4b021f398733dd84f3a6c569a7/cache-692249c1324ebb5e.arrow and /root/.cache/huggingface/datasets/raygx___parquet/raygx--NepCov19TweetsPlus-46f98dd56864ead2/0.0.0/14a00e99c0d15a23649d0db8944380ac81082d4b021f398733dd84f3a6c569a7/cache-2a494aade9886661.arrow\n"
          ]
        },
        {
          "output_type": "execute_result",
          "data": {
            "text/plain": [
              "DatasetDict({\n",
              "    train: Dataset({\n",
              "        features: ['label', 'text'],\n",
              "        num_rows: 33232\n",
              "    })\n",
              "    test: Dataset({\n",
              "        features: ['label', 'text'],\n",
              "        num_rows: 8309\n",
              "    })\n",
              "})"
            ]
          },
          "metadata": {},
          "execution_count": 37
        }
      ]
    },
    {
      "cell_type": "code",
      "source": [
        "def LabelEncoding(x):\n",
        "    if x['label']==-1:\n",
        "        x['label'] =  2\n",
        "    return x\n",
        "\n",
        "data = data.map(\n",
        "        LabelEncoding,\n",
        "        num_proc=2)\n",
        "\n",
        "data['train'][:5]"
      ],
      "metadata": {
        "colab": {
          "base_uri": "https://localhost:8080/"
        },
        "id": "YvViXu6sku8N",
        "outputId": "9da3ba1f-4fe7-4ea4-e2fb-e880dd8de102"
      },
      "execution_count": 38,
      "outputs": [
        {
          "output_type": "stream",
          "name": "stderr",
          "text": [
            "WARNING:datasets.arrow_dataset:Loading cached processed dataset at /root/.cache/huggingface/datasets/raygx___parquet/raygx--NepCov19TweetsPlus-46f98dd56864ead2/0.0.0/14a00e99c0d15a23649d0db8944380ac81082d4b021f398733dd84f3a6c569a7/cache-fe4254d6c46c979c_*_of_00002.arrow\n",
            "WARNING:datasets.arrow_dataset:Loading cached processed dataset at /root/.cache/huggingface/datasets/raygx___parquet/raygx--NepCov19TweetsPlus-46f98dd56864ead2/0.0.0/14a00e99c0d15a23649d0db8944380ac81082d4b021f398733dd84f3a6c569a7/cache-8acd842925fdb538_*_of_00002.arrow\n"
          ]
        },
        {
          "output_type": "execute_result",
          "data": {
            "text/plain": [
              "{'label': [0, 0, 0, 0, 1],\n",
              " 'text': ['बालबालिकामा कोभिड का लक्षण देखिएमा के गर्ने सफल नेपाल',\n",
              "  'कोविड र सामान्य चिसोमा के गर्ने र नगर्ने बीच कसरी फरक गर्ने',\n",
              "  'बैठकमा मिलेनियम च्यालेन्ज कर्पोरेशन एमसीसीको बजेट र कोभिडबारे पनि छलफल हुने अर्का स्थायी समिति सदस्य देवेन्द्र पौडेलले जानकारी दिए ।',\n",
              "  'कोभिड –१९ महामारीले नेपालमा बालबालिकाको स्वास्थ्य, सिकाइ र मनोसामाजिक अवस्थालाई असर पारेको\\u200d युनिसेफकाे एक अध्ययनले देखाएको छ\\xa0। \\u200d',\n",
              "  'डब्लूएचओको प्रत्यक्ष निगरानीमा कोरोना परीक्षण कोभिड यसकारण भित्रिएको छैन नेपालमा']}"
            ]
          },
          "metadata": {},
          "execution_count": 38
        }
      ]
    },
    {
      "cell_type": "code",
      "source": [
        "from transformers import TFBertForSequenceClassification, BertTokenizerFast\n",
        "\n",
        "model_id = 'raygx/BERT-NepSA-T2' ## Fine-tuned Model for SA ## 'raygx/BertClassifier4NepaliNews' ## Fine-tuned Model for NewsClassification ## 'Shushant/nepaliBERT' ## Pre-Trained LM ##\n",
        "\n",
        "tokenizer = BertTokenizerFast.from_pretrained(model_id)\n",
        "tokenizer\n",
        "\n",
        "try:\n",
        "  model = TFBertForSequenceClassification.from_pretrained(model_id,\n",
        "              id2label={0:\"NEUTRAL\",1:\"POSITIVE\",2:\"NEGATIVE\"},\n",
        "              label2id={\"NEUTRAL\":0,\"POSITIVE\":1,\"NEGATIVE\":2},ignore_mismatched_sizes=True)\n",
        "except:\n",
        "  model = TFBertForSequenceClassification.from_pretrained(model_id,\n",
        "              id2label={0:\"NEUTRAL\",1:\"POSITIVE\",2:\"NEGATIVE\"},\n",
        "              label2id={\"NEUTRAL\":0,\"POSITIVE\":1,\"NEGATIVE\":2},ignore_mismatched_sizes=True,from_pt=True)\n",
        "\n",
        "model.summary()"
      ],
      "metadata": {
        "colab": {
          "base_uri": "https://localhost:8080/",
          "height": 424,
          "referenced_widgets": [
            "39020dc4c0e64572ae0726e9d4b78341",
            "ed2725faabb4433baae4beb84abddfba",
            "2ea52860e5624840ab3dcb617cc0e008",
            "e77a17d3c9174ab0b0731e5f1c4baafc",
            "2e5d5789935f4386b2e5831e480ef6f1",
            "8b522230e7d0476fa11008f9702525b4",
            "e53fc61102624d13aec5ff09d0b73bf6",
            "55e91eaf7c454bceb475a2c454918348",
            "c0ed2b1720eb481e9c23c81844fa7d7b",
            "2444a61f12cf48dd99a089263ba3d193",
            "ca0786d427c049a09589e672e0ab1348"
          ]
        },
        "id": "1oS3Sj0xTPG1",
        "outputId": "eed7b00a-6292-42be-a4ca-56b69d709e7f"
      },
      "execution_count": 40,
      "outputs": [
        {
          "output_type": "display_data",
          "data": {
            "text/plain": [
              "Downloading tf_model.h5:   0%|          | 0.00/438M [00:00<?, ?B/s]"
            ],
            "application/vnd.jupyter.widget-view+json": {
              "version_major": 2,
              "version_minor": 0,
              "model_id": "39020dc4c0e64572ae0726e9d4b78341"
            }
          },
          "metadata": {}
        },
        {
          "output_type": "stream",
          "name": "stderr",
          "text": [
            "Some layers from the model checkpoint at raygx/BERT-NepSA-T2 were not used when initializing TFBertForSequenceClassification: ['dropout_37']\n",
            "- This IS expected if you are initializing TFBertForSequenceClassification from the checkpoint of a model trained on another task or with another architecture (e.g. initializing a BertForSequenceClassification model from a BertForPreTraining model).\n",
            "- This IS NOT expected if you are initializing TFBertForSequenceClassification from the checkpoint of a model that you expect to be exactly identical (initializing a BertForSequenceClassification model from a BertForSequenceClassification model).\n",
            "All the layers of TFBertForSequenceClassification were initialized from the model checkpoint at raygx/BERT-NepSA-T2.\n",
            "If your task is similar to the task the model of the checkpoint was trained on, you can already use TFBertForSequenceClassification for predictions without further training.\n"
          ]
        },
        {
          "output_type": "stream",
          "name": "stdout",
          "text": [
            "Model: \"tf_bert_for_sequence_classification_1\"\n",
            "_________________________________________________________________\n",
            " Layer (type)                Output Shape              Param #   \n",
            "=================================================================\n",
            " bert (TFBertMainLayer)      multiple                  109482240 \n",
            "                                                                 \n",
            " dropout_77 (Dropout)        multiple                  0         \n",
            "                                                                 \n",
            " classifier (Dense)          multiple                  2307      \n",
            "                                                                 \n",
            "=================================================================\n",
            "Total params: 109,484,547\n",
            "Trainable params: 109,484,547\n",
            "Non-trainable params: 0\n",
            "_________________________________________________________________\n"
          ]
        }
      ]
    },
    {
      "cell_type": "markdown",
      "source": [
        "### Code For Using BERT as Embedding Layer"
      ],
      "metadata": {
        "id": "vVJCh_gMJQ6D"
      }
    },
    {
      "cell_type": "code",
      "source": [
        "import tensorflow as tf\n",
        "\n",
        "class BERTEmbedding(tf.keras.layers.Layer):\n",
        "  def __init__(self, model,tokenizer, max_token_len=128,padding='max_length',truncation=True):\n",
        "    super().__init__()\n",
        "    self.embedding = model\n",
        "    self.tokenizer = tokenizer\n",
        "    self.max_token = max_token_len\n",
        "    self.padding = padding\n",
        "    self.truncation = truncation\n",
        "    self.trainable=False\n",
        "\n",
        "  def call(self, x):\n",
        "    # if x.shape[0] != None:\n",
        "    #   x = [str(i) for i in x]\n",
        "    # else:\n",
        "    #   x = str(x)\n",
        "    return self.embedding(self.tokenizer(x,padding=self.padding,truncation=self.truncation,max_length=self.max_token,return_tensors='tf'))[1]"
      ],
      "metadata": {
        "id": "aoEJNgPgYupi"
      },
      "execution_count": 41,
      "outputs": []
    },
    {
      "cell_type": "code",
      "source": [
        "# model.bert(tokenizer('बैंक तथा वित्तीय संस्थामा देखिएको विश्वासको',padding='max_length',truncation=True,return_tensors='tf',max_length=128))\n",
        "embd = BERTEmbedding(model.bert,tokenizer,max_token_len=100)\n",
        "# embd([\"\",'बैंक तथा वित्तीय संस्थामा देखिएको विश्वासको','बैंक तथा वित्तीय संस्थामा देखिएको विश्वासको'])\n",
        "# embd([\"abcd\"])\n",
        "d_model = embd([\"abcd\",'efgh']).shape[1]\n",
        "d_model"
      ],
      "metadata": {
        "id": "Syuh0Ehlb9dZ",
        "colab": {
          "base_uri": "https://localhost:8080/"
        },
        "outputId": "8035ffe3-3832-4bce-fb53-d42d6e0603f5"
      },
      "execution_count": 42,
      "outputs": [
        {
          "output_type": "execute_result",
          "data": {
            "text/plain": [
              "768"
            ]
          },
          "metadata": {},
          "execution_count": 42
        }
      ]
    },
    {
      "cell_type": "code",
      "source": [
        "class DataGenerator(tf.keras.utils.Sequence):\n",
        "    'Generates data for Keras'\n",
        "    def __init__(self, data,model_dim, batch_size=32,shuffle=True):\n",
        "        'Initialization'\n",
        "        self.batch_size = batch_size\n",
        "        self.data = data\n",
        "        self.embeddings = np.empty((data.num_rows,model_dim))\n",
        "        self.shuffle = shuffle\n",
        "        # self.average = tf.keras.layers.Average()\n",
        "        self.is_first_epoch = True\n",
        "        self.on_epoch_end(is_first_epoch=self.is_first_epoch)\n",
        "\n",
        "    def __len__(self):\n",
        "        'Denotes the number of batches per epoch'\n",
        "        return int(np.ceil(self.data.num_rows / self.batch_size))\n",
        "\n",
        "    def __getitem__(self, index):\n",
        "        'Generate one batch of data'\n",
        "        # Generate indexes of the batch\n",
        "        indexes = self.indexes[index*self.batch_size:(index+1)*self.batch_size]\n",
        "\n",
        "        return self.__data_generation(indexes)\n",
        "\n",
        "    def on_epoch_end(self,is_first_epoch=False):\n",
        "        'Updates indexes after each epoch'\n",
        "        self.indexes = np.arange(self.data.num_rows)\n",
        "        if self.shuffle == True:\n",
        "            np.random.shuffle(self.indexes)\n",
        "\n",
        "        self.is_first_epoch = is_first_epoch\n",
        "\n",
        "\n",
        "    def __data_generation(self, indexes):\n",
        "        'Generates data containing batch_size samples' # X : (n_samples, *dim, n_channels)\n",
        "        # Initialization\n",
        "        chunk = self.data.select(indexes)\n",
        "\n",
        "        if self.is_first_epoch:\n",
        "          X = embd(chunk['text'])\n",
        "          self.embeddings[indexes] = X\n",
        "        else:\n",
        "          X = self.embeddings[indexes]\n",
        "\n",
        "        y = np.array(chunk['label'])\n",
        "        return X,y"
      ],
      "metadata": {
        "id": "tOQjd3m2gSTT"
      },
      "execution_count": 43,
      "outputs": []
    },
    {
      "cell_type": "code",
      "source": [
        "%%time\n",
        "\n",
        "train_features = DataGenerator(data['train'],model_dim=d_model,batch_size=16)\n",
        "test_features = DataGenerator(data['test'],model_dim=d_model,shuffle=False)"
      ],
      "metadata": {
        "id": "DrFR2NeVgXPd",
        "colab": {
          "base_uri": "https://localhost:8080/"
        },
        "outputId": "5c65ea02-eb67-40ce-c11d-ad2208c6bdde"
      },
      "execution_count": 44,
      "outputs": [
        {
          "output_type": "stream",
          "name": "stdout",
          "text": [
            "CPU times: user 910 µs, sys: 0 ns, total: 910 µs\n",
            "Wall time: 921 µs\n"
          ]
        }
      ]
    },
    {
      "cell_type": "markdown",
      "source": [
        "## Model Specification"
      ],
      "metadata": {
        "id": "RJ-sMSYIIpRZ"
      }
    },
    {
      "cell_type": "code",
      "source": [
        "sa_model = tf.keras.models.Sequential([\n",
        "    tf.keras.layers.InputLayer(input_shape=(768)),\n",
        "    tf.keras.layers.Dense(256,activation='relu',name='Dense'),\n",
        "    tf.keras.layers.Dropout(0.1,name='Dropout'),\n",
        "    tf.keras.layers.Dense(3,activation='softmax',name='Activation')\n",
        "])"
      ],
      "metadata": {
        "id": "MHWMP4-WI1FN"
      },
      "execution_count": 45,
      "outputs": []
    },
    {
      "cell_type": "code",
      "source": [
        "sa_model.compile(\n",
        "  optimizer=tf.keras.optimizers.Adam(\n",
        "        learning_rate=5e-5,\n",
        "        weight_decay=0.001\n",
        "      ),\n",
        "  loss='sparse_categorical_crossentropy',\n",
        "  metrics=['acc'])\n",
        "\n",
        "sa_model.summary()"
      ],
      "metadata": {
        "colab": {
          "base_uri": "https://localhost:8080/"
        },
        "id": "R54uaZAhgdNy",
        "outputId": "300c5600-37ff-4b4b-b843-2565be4705c8"
      },
      "execution_count": 46,
      "outputs": [
        {
          "output_type": "stream",
          "name": "stdout",
          "text": [
            "Model: \"sequential_4\"\n",
            "_________________________________________________________________\n",
            " Layer (type)                Output Shape              Param #   \n",
            "=================================================================\n",
            " Dense (Dense)               (None, 256)               196864    \n",
            "                                                                 \n",
            " Dropout (Dropout)           (None, 256)               0         \n",
            "                                                                 \n",
            " Activation (Dense)          (None, 3)                 771       \n",
            "                                                                 \n",
            "=================================================================\n",
            "Total params: 197,635\n",
            "Trainable params: 197,635\n",
            "Non-trainable params: 0\n",
            "_________________________________________________________________\n"
          ]
        }
      ]
    },
    {
      "cell_type": "code",
      "source": [
        "history = sa_model.fit(train_features,\n",
        "        epochs=30,\n",
        "        validation_data=test_features,\n",
        "        callbacks=[tf.keras.callbacks.EarlyStopping(\n",
        "                            monitor='val_acc', patience=3,\n",
        "                            verbose=1, mode='max',\n",
        "                            restore_best_weights=True)\n",
        "                        ])"
      ],
      "metadata": {
        "colab": {
          "base_uri": "https://localhost:8080/"
        },
        "id": "tKa18rGVg7HS",
        "outputId": "52e70b1d-dcd0-4703-e0ee-2cddc94d53ff"
      },
      "execution_count": 47,
      "outputs": [
        {
          "output_type": "stream",
          "name": "stdout",
          "text": [
            "Epoch 1/30\n",
            "2077/2077 [==============================] - 540s 259ms/step - loss: 0.6472 - acc: 0.7253 - val_loss: 0.6136 - val_acc: 0.7429\n",
            "Epoch 2/30\n",
            "2077/2077 [==============================] - 14s 7ms/step - loss: 0.5942 - acc: 0.7524 - val_loss: 0.5954 - val_acc: 0.7502\n",
            "Epoch 3/30\n",
            "2077/2077 [==============================] - 14s 7ms/step - loss: 0.5743 - acc: 0.7631 - val_loss: 0.5828 - val_acc: 0.7569\n",
            "Epoch 4/30\n",
            "2077/2077 [==============================] - 14s 7ms/step - loss: 0.5633 - acc: 0.7677 - val_loss: 0.5758 - val_acc: 0.7592\n",
            "Epoch 5/30\n",
            "2077/2077 [==============================] - 14s 7ms/step - loss: 0.5532 - acc: 0.7749 - val_loss: 0.5696 - val_acc: 0.7604\n",
            "Epoch 6/30\n",
            "2077/2077 [==============================] - 14s 7ms/step - loss: 0.5440 - acc: 0.7762 - val_loss: 0.5678 - val_acc: 0.7640\n",
            "Epoch 7/30\n",
            "2077/2077 [==============================] - 14s 7ms/step - loss: 0.5372 - acc: 0.7789 - val_loss: 0.5638 - val_acc: 0.7657\n",
            "Epoch 8/30\n",
            "2077/2077 [==============================] - 14s 7ms/step - loss: 0.5300 - acc: 0.7839 - val_loss: 0.5595 - val_acc: 0.7656\n",
            "Epoch 9/30\n",
            "2077/2077 [==============================] - 14s 7ms/step - loss: 0.5232 - acc: 0.7879 - val_loss: 0.5579 - val_acc: 0.7659\n",
            "Epoch 10/30\n",
            "2077/2077 [==============================] - 14s 7ms/step - loss: 0.5167 - acc: 0.7885 - val_loss: 0.5584 - val_acc: 0.7687\n",
            "Epoch 11/30\n",
            "2077/2077 [==============================] - 14s 7ms/step - loss: 0.5104 - acc: 0.7930 - val_loss: 0.5512 - val_acc: 0.7728\n",
            "Epoch 12/30\n",
            "2077/2077 [==============================] - 14s 7ms/step - loss: 0.5039 - acc: 0.7958 - val_loss: 0.5546 - val_acc: 0.7717\n",
            "Epoch 13/30\n",
            "2077/2077 [==============================] - 14s 7ms/step - loss: 0.4992 - acc: 0.7987 - val_loss: 0.5483 - val_acc: 0.7747\n",
            "Epoch 14/30\n",
            "2077/2077 [==============================] - 14s 7ms/step - loss: 0.4941 - acc: 0.8004 - val_loss: 0.5467 - val_acc: 0.7758\n",
            "Epoch 15/30\n",
            "2077/2077 [==============================] - 14s 7ms/step - loss: 0.4876 - acc: 0.8051 - val_loss: 0.5464 - val_acc: 0.7743\n",
            "Epoch 16/30\n",
            "2077/2077 [==============================] - 14s 7ms/step - loss: 0.4824 - acc: 0.8063 - val_loss: 0.5450 - val_acc: 0.7752\n",
            "Epoch 17/30\n",
            "2070/2077 [============================>.] - ETA: 0s - loss: 0.4770 - acc: 0.8091Restoring model weights from the end of the best epoch: 14.\n",
            "2077/2077 [==============================] - 14s 7ms/step - loss: 0.4769 - acc: 0.8092 - val_loss: 0.5459 - val_acc: 0.7731\n",
            "Epoch 17: early stopping\n"
          ]
        }
      ]
    },
    {
      "cell_type": "code",
      "source": [
        "import seaborn\n",
        "from matplotlib import pyplot as plt\n",
        "\n",
        "seaborn.lineplot(history.history['loss'])\n",
        "seaborn.lineplot(history.history['val_loss'])\n",
        "plt.title(\"Loss Graph\")\n",
        "plt.show()\n",
        "\n",
        "seaborn.lineplot(history.history['acc'])\n",
        "seaborn.lineplot(history.history['val_acc'])\n",
        "plt.title(\"Accuracy Graph\")"
      ],
      "metadata": {
        "colab": {
          "base_uri": "https://localhost:8080/",
          "height": 905
        },
        "id": "Zqd_ZvHdiOo4",
        "outputId": "bfd4b2a1-f859-4c9e-c3a4-896e1e6e3663"
      },
      "execution_count": 48,
      "outputs": [
        {
          "output_type": "display_data",
          "data": {
            "text/plain": [
              "<Figure size 640x480 with 1 Axes>"
            ],
            "image/png": "[encoded data removed]"
          },
          "metadata": {}
        },
        {
          "output_type": "execute_result",
          "data": {
            "text/plain": [
              "Text(0.5, 1.0, 'Accuracy Graph')"
            ]
          },
          "metadata": {},
          "execution_count": 48
        },
        {
          "output_type": "display_data",
          "data": {
            "text/plain": [
              "<Figure size 640x480 with 1 Axes>"
            ],
            "image/png": "[encoded data removed]"
          },
          "metadata": {}
        }
      ]
    },
    {
      "cell_type": "markdown",
      "source": [
        "## Evaluation Section"
      ],
      "metadata": {
        "id": "4fWYCA95KJO6"
      }
    },
    {
      "cell_type": "code",
      "source": [
        "%%time\n",
        "\n",
        "print(\"Getting Test Prediction\")\n",
        "pred_labels = [np.argmax(x) for x in sa_model.predict(test_features)]\n",
        "actual_labels = data['test']['label']"
      ],
      "metadata": {
        "id": "aVvrWTa1J9jH",
        "colab": {
          "base_uri": "https://localhost:8080/"
        },
        "outputId": "d12183bd-038f-450a-ea07-176ab2617977"
      },
      "execution_count": 49,
      "outputs": [
        {
          "output_type": "stream",
          "name": "stdout",
          "text": [
            "Getting Test Prediction\n",
            "260/260 [==============================] - 1s 5ms/step\n",
            "CPU times: user 1.48 s, sys: 52 ms, total: 1.53 s\n",
            "Wall time: 2.65 s\n"
          ]
        }
      ]
    },
    {
      "cell_type": "code",
      "source": [
        "from sklearn.metrics import f1_score, precision_score, recall_score, accuracy_score\n",
        "\n",
        "print(\"F1-Score\",f1_score(actual_labels,pred_labels,average='weighted'))\n",
        "print(\"Precision-Score\",precision_score(actual_labels,pred_labels,average='weighted'))\n",
        "print(\"Recall-Score\",recall_score(actual_labels,pred_labels,average='weighted'))\n",
        "print(\"accuracy_Score\",accuracy_score(actual_labels,pred_labels))"
      ],
      "metadata": {
        "id": "Ti3xLoxBJ9YH",
        "colab": {
          "base_uri": "https://localhost:8080/"
        },
        "outputId": "a2d38edd-5f48-44c4-9aa0-7e21eac4003a"
      },
      "execution_count": 50,
      "outputs": [
        {
          "output_type": "stream",
          "name": "stdout",
          "text": [
            "F1-Score 0.7755690110910818\n",
            "Precision-Score 0.7756264977533763\n",
            "Recall-Score 0.7757852930557227\n",
            "accuracy_Score 0.7757852930557227\n"
          ]
        }
      ]
    },
    {
      "cell_type": "code",
      "source": [
        "from sklearn.metrics import ConfusionMatrixDisplay\n",
        "import matplotlib.pyplot as plt\n",
        "\n",
        "cmd = ConfusionMatrixDisplay(tf.math.confusion_matrix(actual_labels,pred_labels,num_classes=3).numpy())\n",
        "cmd.plot()"
      ],
      "metadata": {
        "id": "Jrjqkm5uJ9FF",
        "colab": {
          "base_uri": "https://localhost:8080/",
          "height": 467
        },
        "outputId": "680918b7-a535-4fec-ce67-ee5dc4cb19cf"
      },
      "execution_count": 51,
      "outputs": [
        {
          "output_type": "execute_result",
          "data": {
            "text/plain": [
              "<sklearn.metrics._plot.confusion_matrix.ConfusionMatrixDisplay at 0x7fd3464e73d0>"
            ]
          },
          "metadata": {},
          "execution_count": 51
        },
        {
          "output_type": "display_data",
          "data": {
            "text/plain": [
              "<Figure size 640x480 with 2 Axes>"
            ],
            "image/png": "[encoded data removed]"
          },
          "metadata": {}
        }
      ]
    },
    {
      "cell_type": "code",
      "source": [
        ""
      ],
      "metadata": {
        "id": "LkkAQIgXW5TL"
      },
      "execution_count": 51,
      "outputs": []
    }
  ]
}