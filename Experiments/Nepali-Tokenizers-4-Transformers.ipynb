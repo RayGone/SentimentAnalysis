{
 "cells": [
  {
   "cell_type": "markdown",
   "id": "1ebe30d2",
   "metadata": {
    "papermill": {
     "duration": 0.005385,
     "end_time": "2023-05-26T02:36:07.040455",
     "exception": false,
     "start_time": "2023-05-26T02:36:07.035070",
     "status": "completed"
    },
    "tags": []
   },
   "source": [
    "# Training BPE and WordPiece tokenizer for Nepali\n",
    "\n",
    "### Dataset used here is mixture of [Oscar Corpus](https://www.kaggle.com/datasets/hsebarp/oscar-corpus-nepali), [NepCov19Tweets dataset](https://www.kaggle.com/datasets/mathew11111/nepcov19tweets), [Nepali News dataset large](https://www.kaggle.com/datasets/ashokpant/nepali-news-dataset-large), [Nepali News dataset](https://www.kaggle.com/datasets/lotusacharya/nepalinewsdataset), [nepali-wikipedia-articles](https://www.kaggle.com/datasets/disisbig/nepali-wikipedia-articles), [urdu-nepali-parallel-corpus](https://www.kaggle.com/datasets/rtatman/urdunepali-parallel-corpus).\n",
    "> ### I cleaned Oscar corpus (as much as possible) in this [Notebook](https://www.kaggle.com/code/reganmaharjan/cleaning-oscar-nepali-dataset). Corpus is loaded from the output of that notebook.\n",
    "> ### NepCov19Tweets data is loaded from this [Notebook](https://www.kaggle.com/code/reganmaharjan/preprocess-nepcov19tweets). Data is explored and cleaned in that notebook."
   ]
  },
  {
   "cell_type": "code",
   "execution_count": 1,
   "id": "68f389b7",
   "metadata": {
    "_cell_guid": "b1076dfc-b9ad-4769-8c92-a6c4dae69d19",
    "_uuid": "8f2839f25d086af736a60e9eeb907d3b93b6e0e5",
    "execution": {
     "iopub.execute_input": "2023-05-26T02:36:07.052321Z",
     "iopub.status.busy": "2023-05-26T02:36:07.051955Z",
     "iopub.status.idle": "2023-05-26T02:36:08.026815Z",
     "shell.execute_reply": "2023-05-26T02:36:08.025545Z"
    },
    "papermill": {
     "duration": 0.983941,
     "end_time": "2023-05-26T02:36:08.029527",
     "exception": false,
     "start_time": "2023-05-26T02:36:07.045586",
     "status": "completed"
    },
    "tags": []
   },
   "outputs": [
    {
     "name": "stdout",
     "output_type": "stream",
     "text": [
      "/kaggle/input/nepali-corpus-and-tokenizer/NepaliCombinedCorpus.csv\n",
      "/kaggle/input/nepali-corpus-and-tokenizer/NepaliCombinedCorpus/state.json\n",
      "/kaggle/input/nepali-corpus-and-tokenizer/NepaliCombinedCorpus/cache-5c88516ef37922dc.arrow\n",
      "/kaggle/input/nepali-corpus-and-tokenizer/NepaliCombinedCorpus/dataset_info.json\n",
      "/kaggle/input/nepali-corpus-and-tokenizer/NepaliCombinedCorpus/cache-d5f58b6fc0961879.arrow\n",
      "/kaggle/input/nepali-corpus-and-tokenizer/NepaliCombinedCorpus/cache-39791c99b32f9043.arrow\n",
      "/kaggle/input/nepali-corpus-and-tokenizer/NepaliCombinedCorpus/cache-182889154f7c98fe.arrow\n",
      "/kaggle/input/nepali-corpus-and-tokenizer/NepaliCombinedCorpus/cache-2f6e5ab7053b1330.arrow\n",
      "/kaggle/input/nepali-corpus-and-tokenizer/NepaliCombinedCorpus/dataset.arrow\n"
     ]
    }
   ],
   "source": [
    "# This Python 3 environment comes with many helpful analytics libraries installed\n",
    "# It is defined by the kaggle/python Docker image: https://github.com/kaggle/docker-python\n",
    "# For example, here's several helpful packages to load\n",
    "\n",
    "import numpy as np # linear algebra\n",
    "import pandas as pd # data processing, CSV file I/O (e.g. pd.read_csv)\n",
    "import datasets\n",
    "import gc\n",
    "\n",
    "# Input data files are available in the read-only \"../input/\" directory\n",
    "# For example, running this (by clicking run or pressing Shift+Enter) will list all files under the input directory\n",
    "\n",
    "import os\n",
    "for dirname, _, filenames in os.walk('/kaggle/input'):\n",
    "    for filename in filenames:\n",
    "        print(os.path.join(dirname, filename))\n",
    "\n",
    "# You can write up to 20GB to the current directory (/kaggle/working/) that gets preserved as output when you create a version using \"Save & Run All\" \n",
    "# You can also write temporary files to /kaggle/temp/, but they won't be saved outside of the current session"
   ]
  },
  {
   "cell_type": "code",
   "execution_count": 2,
   "id": "5bba6d21",
   "metadata": {
    "execution": {
     "iopub.execute_input": "2023-05-26T02:36:08.041919Z",
     "iopub.status.busy": "2023-05-26T02:36:08.041249Z",
     "iopub.status.idle": "2023-05-26T02:36:13.331558Z",
     "shell.execute_reply": "2023-05-26T02:36:13.330426Z"
    },
    "papermill": {
     "duration": 5.299369,
     "end_time": "2023-05-26T02:36:13.334144",
     "exception": false,
     "start_time": "2023-05-26T02:36:08.034775",
     "status": "completed"
    },
    "tags": []
   },
   "outputs": [
    {
     "data": {
      "text/plain": [
       "Dataset({\n",
       "    features: ['text'],\n",
       "    num_rows: 1672420\n",
       "})"
      ]
     },
     "execution_count": 2,
     "metadata": {},
     "output_type": "execute_result"
    }
   ],
   "source": [
    "data = datasets.Dataset.load_from_disk(\"/kaggle/input/nepali-corpus-and-tokenizer/NepaliCombinedCorpus\")\n",
    "data"
   ]
  },
  {
   "cell_type": "code",
   "execution_count": 3,
   "id": "0072deed",
   "metadata": {
    "execution": {
     "iopub.execute_input": "2023-05-26T02:36:13.347964Z",
     "iopub.status.busy": "2023-05-26T02:36:13.347218Z",
     "iopub.status.idle": "2023-05-26T02:36:13.381608Z",
     "shell.execute_reply": "2023-05-26T02:36:13.380281Z"
    },
    "papermill": {
     "duration": 0.04491,
     "end_time": "2023-05-26T02:36:13.384391",
     "exception": false,
     "start_time": "2023-05-26T02:36:13.339481",
     "status": "completed"
    },
    "tags": []
   },
   "outputs": [
    {
     "name": "stdout",
     "output_type": "stream",
     "text": [
      "{'क': 1, 'का': 2, 'कि': 3, 'की': 4, 'कु': 5, 'कू': 6, 'के': 7, 'कै': 8, 'को': 9, 'कौ': 10, 'क्': 11, 'ख': 12, 'खा': 13, 'खि': 14, 'खी': 15, 'खु': 16, 'खू': 17, 'खे': 18, 'खै': 19, 'खो': 20, 'खौ': 21, 'ख्': 22, 'ग': 23, 'गा': 24, 'गि': 25, 'गी': 26, 'गु': 27, 'गू': 28, 'गे': 29, 'गै': 30, 'गो': 31, 'गौ': 32, 'ग्': 33, 'घ': 34, 'घा': 35, 'घि': 36, 'घी': 37, 'घु': 38, 'घू': 39, 'घे': 40, 'घै': 41, 'घो': 42, 'घौ': 43, 'घ्': 44, 'ङ': 45, 'ङा': 46, 'ङि': 47, 'ङी': 48, 'ङु': 49, 'ङू': 50, 'ङे': 51, 'ङै': 52, 'ङो': 53, 'ङौ': 54, 'ङ्': 55, 'च': 56, 'चा': 57, 'चि': 58, 'ची': 59, 'चु': 60, 'चू': 61, 'चे': 62, 'चै': 63, 'चो': 64, 'चौ': 65, 'च्': 66, 'छ': 67, 'छा': 68, 'छी': 70, 'छु': 71, 'छू': 72, 'छे': 73, 'छै': 74, 'छो': 75, 'छौ': 76, 'छ्': 77, 'ज': 78, 'जा': 79, 'जि': 80, 'जी': 81, 'जु': 82, 'जू': 83, 'जे': 84, 'जै': 85, 'जो': 86, 'जौ': 87, 'ज्': 88, 'झ': 89, 'झा': 90, 'झि': 91, 'झी': 92, 'झु': 93, 'झू': 94, 'झे': 95, 'झै': 96, 'झो': 97, 'झौ': 98, 'झ्': 99, 'ञ': 101, 'ञि': 102, 'ञी': 103, 'ञु': 104, 'ञू': 105, 'ञे': 106, 'ञै': 107, 'ञो': 108, 'ञौ': 109, 'ञ्': 110, 'ट': 111, 'टा': 112, 'टि': 113, 'टी': 114, 'टु': 115, 'टू': 116, 'टे': 117, 'टै': 118, 'टो': 119, 'टौ': 120, 'ट्': 121, 'त': 122, 'ता': 123, 'ति': 124, 'ती': 125, 'तु': 126, 'तू': 127, 'ते': 128, 'तै': 129, 'तो': 130, 'तौ': 131, 'त्': 132, 'ठ': 133, 'ठा': 134, 'ठि': 135, 'ठी': 136, 'ठु': 137, 'ठू': 138, 'ठे': 139, 'ठै': 140, 'ठो': 141, 'ठौ': 142, 'ठ्': 143, 'थ': 144, 'था': 145, 'थि': 146, 'थी': 147, 'थु': 148, 'थू': 149, 'थे': 150, 'थै': 151, 'थो': 152, 'थौ': 153, 'थ्': 154, 'ड': 155, 'डा': 156, 'डि': 157, 'डी': 158, 'डु': 159, 'डू': 160, 'डे': 161, 'डै': 162, 'डो': 163, 'डौ': 164, 'ड्': 165, 'दा': 167, 'दि': 168, 'दी': 169, 'दु': 170, 'दू': 171, 'दे': 172, 'दै': 173, 'दो': 174, 'दौ': 175, 'द्': 176, 'ढ': 177, 'ढा': 178, 'ढि': 179, 'ढी': 180, 'ढु': 181, 'ढू': 182, 'ढे': 183, 'ढै': 184, 'ढो': 185, 'ढौ': 186, 'ढ्': 187, 'ध': 188, 'धा': 189, 'धि': 190, 'धी': 191, 'धु': 192, 'धू': 193, 'धे': 194, 'धै': 195, 'धो': 196, 'धौ': 197, 'ध्': 198, 'न': 209, 'ना': 200, 'नि': 201, 'नी': 202, 'नु': 203, 'नू': 204, 'ने': 205, 'नै': 206, 'नो': 207, 'नौ': 208, 'न्': 210, 'ण': 211, 'णा': 212, 'णि': 213, 'णी': 214, 'णु': 215, 'णू': 216, 'णे': 217, 'णै': 218, 'णो': 219, 'णौ': 220, 'ण्': 221, 'म': 222, 'मा': 223, 'मि': 224, 'मी': 225, 'मु': 226, 'मू': 227, 'मे': 228, 'मै': 229, 'मो': 230, 'मौ': 231, 'म्': 232, 'पा': 234, 'पि': 235, 'पी': 236, 'पु': 237, 'पू': 238, 'पे': 239, 'पाई': 240, 'पो': 241, 'पौ': 242, 'प्': 243, 'फ': 244, 'फा': 245, 'फि': 246, 'फी': 247, 'फु': 248, 'फू': 249, 'फे': 250, 'फै': 251, 'फो': 252, 'फौ': 253, 'फ्': 254, 'बा': 256, 'बि': 257, 'बी': 258, 'बु': 259, 'बू': 260, 'बे': 261, 'बै': 262, 'बो': 263, 'बौ': 264, 'ब्': 265, 'भ': 266, 'भा': 267, 'भि': 268, 'भी': 269, 'भु': 270, 'भू': 271, 'भे': 272, 'भै': 273, 'भो': 274, 'भौ': 275, 'भ्': 276, 'य': 277, 'या': 278, 'यि': 279, 'यी': 280, 'यु': 281, 'यू': 282, 'य्-ए': 283, 'यै': 284, 'यो': 285, 'यौ': 286, 'य्': 287, 'रा': 289, 'रि': 290, 'री': 291, 'रु': 292, 'रू': 293, 'रे': 294, 'रै': 295, 'रो': 296, 'रौ': 297, 'र्': 298, 'ला': 300, 'लि': 301, 'ली': 302, 'लु': 303, 'लू': 304, 'ले': 305, 'लौ': 308, 'लो': 307, 'ल्': 309, 'वा': 311, 'वि': 312, 'वी': 313, 'वु': 314, 'वू': 315, 'वे': 316, 'वै': 317, 'वो': 318, 'वौ': 319, 'व्': 320, 'सा': 322, 'सि': 323, 'सी': 324, 'सु': 325, 'सू': 326, 'से': 327, 'सै': 328, 'सो': 329, 'सौ': 330, 'स्': 331, 'शा': 333, 'शि': 334, 'शी': 335, 'शु': 336, 'शू': 337, 'शे': 338, 'शै': 339, 'शो': 340, 'शौ': 341, 'श्': 342, 'षा': 344, 'षि': 345, 'षी': 346, 'षु': 347, 'षू': 348, 'षे': 349, 'षै': 350, 'षो': 351, 'षौ': 352, 'ष्': 353, 'क्ष': 354, 'क्षा': 355, 'क्षि': 356, 'क्षी': 357, 'क्षु': 358, 'क्षू': 359, 'क्षे': 360, 'क्षै': 361, 'क्षो': 362, 'क्षौ': 363, 'क्ष्': 364, 'त्र': 365, 'त्रा': 366, 'त्रि': 367, 'त्री': 368, 'त्रु': 369, 'त्रू': 370, 'त्रे': 371, 'त्रै': 372, 'त्रो': 373, 'त्रौ': 374, 'त्र्': 375, 'ज्ञ': 376, 'ज्ञा': 377, 'ज्ञि': 378, 'ज्ञी': 379, 'ज्ञु': 380, 'ज्ञू': 381, 'ज्ञे': 382, 'ज्ञै': 383, 'ज्ञो': 384, 'ज्ञौ': 385, 'ज्ञ्': 386, 'त्त': 388, 'त्ति': 389, 'त्ती': 390, 'त्तु': 391, 'त्तू': 392, 'त्ते': 393, 'त्तै': 394, 'त्तो': 395, 'त्तौ': 396, 'त्त्': 397, 'अ': 398, 'आ': 399, 'इ': 400, 'ई': 401, 'उ': 402, 'ऊ': 403, 'ऋ': 404, 'ॠ': 405, 'ॐ': 406, 'ए': 407, 'ऐ': 408, 'ओ': 409, 'औ': 410, 'अ्': 411}\n"
     ]
    },
    {
     "data": {
      "text/plain": [
       "411"
      ]
     },
     "execution_count": 3,
     "metadata": {},
     "output_type": "execute_result"
    }
   ],
   "source": [
    "nepali_alpha = ['क', 'का', 'कि', 'की', 'कु', 'कू', 'के', 'कै', 'को', 'कौ', 'क्', 'ख', 'खा', 'खि', 'खी', 'खु', 'खू', 'खे', 'खै', 'खो', 'खौ', 'ख्', 'ग', 'गा', 'गि', 'गी', 'गु', 'गू', 'गे', 'गै', 'गो', 'गौ', 'ग्', 'घ', 'घा', 'घि', 'घी', 'घु', 'घू', 'घे', 'घै', 'घो', 'घौ', 'घ्', 'ङ', 'ङा', 'ङि', 'ङी', 'ङु', 'ङू', 'ङे', 'ङै', 'ङो', 'ङौ', 'ङ्', 'च', 'चा', 'चि', 'ची', 'चु', 'चू', 'चे', 'चै', 'चो', 'चौ', 'च्', 'छ', 'छा', 'छी', 'छी', 'छु', 'छू', 'छे', 'छै', 'छो', 'छौ', 'छ्', 'ज', 'जा', 'जि', 'जी', 'जु', 'जू', 'जे', 'जै', 'जो', 'जौ', 'ज्', 'झ', 'झा', 'झि', 'झी', 'झु', 'झू', 'झे', 'झै', 'झो', 'झौ', 'झ्', 'ञ', 'ञ', 'ञि', 'ञी', 'ञु', 'ञू', 'ञे', 'ञै', 'ञो', 'ञौ', 'ञ्', 'ट', 'टा', 'टि', 'टी', 'टु', 'टू', 'टे', 'टै', 'टो', 'टौ', 'ट्', 'त', 'ता', 'ति', 'ती', 'तु', 'तू', 'ते', 'तै', 'तो', 'तौ', 'त्', 'ठ', 'ठा', 'ठि', 'ठी', 'ठु', 'ठू', 'ठे', 'ठै', 'ठो', 'ठौ', 'ठ्', 'थ', 'था', 'थि', 'थी', 'थु', 'थू', 'थे', 'थै', 'थो', 'थौ', 'थ्', 'ड', 'डा', 'डि', 'डी', 'डु', 'डू', 'डे', 'डै', 'डो', 'डौ', 'ड्', 'दा', 'दा', 'दि', 'दी', 'दु', 'दू', 'दे', 'दै', 'दो', 'दौ', 'द्', 'ढ', 'ढा', 'ढि', 'ढी', 'ढु', 'ढू', 'ढे', 'ढै', 'ढो', 'ढौ', 'ढ्', 'ध', 'धा', 'धि', 'धी', 'धु', 'धू', 'धे', 'धै', 'धो', 'धौ', 'ध्', 'न', 'ना', 'नि', 'नी', 'नु', 'नू', 'ने', 'नै', 'नो', 'नौ', 'न', 'न्', 'ण', 'णा', 'णि', 'णी', 'णु', 'णू', 'णे', 'णै', 'णो', 'णौ', 'ण्', 'म', 'मा', 'मि', 'मी', 'मु', 'मू', 'मे', 'मै', 'मो', 'मौ', 'म्', 'पा', 'पा', 'पि', 'पी', 'पु', 'पू', 'पे', 'पाई', 'पो', 'पौ', 'प्', 'फ', 'फा', 'फि', 'फी', 'फु', 'फू', 'फे', 'फै', 'फो', 'फौ', 'फ्', 'बा', 'बा', 'बि', 'बी', 'बु', 'बू', 'बे', 'बै', 'बो', 'बौ', 'ब्', 'भ', 'भा', 'भि', 'भी', 'भु', 'भू', 'भे', 'भै', 'भो', 'भौ', 'भ्', 'य', 'या', 'यि', 'यी', 'यु', 'यू', 'य्-ए', 'यै', 'यो', 'यौ', 'य्', 'रा', 'रा', 'रि', 'री', 'रु', 'रू', 'रे', 'रै', 'रो', 'रौ', 'र्', 'ला', 'ला', 'लि', 'ली', 'लु', 'लू', 'ले', 'लौ', 'लो', 'लौ', 'ल्', 'वा', 'वा', 'वि', 'वी', 'वु', 'वू', 'वे', 'वै', 'वो', 'वौ', 'व्', 'सा', 'सा', 'सि', 'सी', 'सु', 'सू', 'से', 'सै', 'सो', 'सौ', 'स्', 'शा', 'शा', 'शि', 'शी', 'शु', 'शू', 'शे', 'शै', 'शो', 'शौ', 'श्', 'षा', 'षा', 'षि', 'षी', 'षु', 'षू', 'षे', 'षै', 'षो', 'षौ', 'ष्', 'क्ष', 'क्षा', 'क्षि', 'क्षी', 'क्षु', 'क्षू', 'क्षे', 'क्षै', 'क्षो', 'क्षौ', 'क्ष्', 'त्र', 'त्रा', 'त्रि', 'त्री', 'त्रु', 'त्रू', 'त्रे', 'त्रै', 'त्रो', 'त्रौ', 'त्र्', 'ज्ञ', 'ज्ञा', 'ज्ञि', 'ज्ञी', 'ज्ञु', 'ज्ञू', 'ज्ञे', 'ज्ञै', 'ज्ञो', 'ज्ञौ', 'ज्ञ्', 'त्त', 'त्त', 'त्ति', 'त्ती', 'त्तु', 'त्तू', 'त्ते', 'त्तै', 'त्तो', 'त्तौ', 'त्त्', 'अ', 'आ', 'इ', 'ई', 'उ', 'ऊ', 'ऋ', 'ॠ', 'ॐ', 'ए', 'ऐ', 'ओ', 'औ', 'अ्']\n",
    "nepali_alpha_tokens = {nepali_alpha[i]:i+1 for i in range(len(nepali_alpha))}\n",
    "print(nepali_alpha_tokens)\n",
    "len(nepali_alpha)"
   ]
  },
  {
   "cell_type": "code",
   "execution_count": 4,
   "id": "8fd782e2",
   "metadata": {
    "execution": {
     "iopub.execute_input": "2023-05-26T02:36:13.398013Z",
     "iopub.status.busy": "2023-05-26T02:36:13.397565Z",
     "iopub.status.idle": "2023-05-26T02:36:13.511856Z",
     "shell.execute_reply": "2023-05-26T02:36:13.510554Z"
    },
    "papermill": {
     "duration": 0.124465,
     "end_time": "2023-05-26T02:36:13.514577",
     "exception": false,
     "start_time": "2023-05-26T02:36:13.390112",
     "status": "completed"
    },
    "tags": []
   },
   "outputs": [
    {
     "data": {
      "text/plain": [
       "'कोरोनाको बढ्दो त्रास बेलायतबाट अमेरिका उड्नु अघि कोभिड को नेगेटिभ रिपोर्ट अनिवार्य! 9896983'"
      ]
     },
     "execution_count": 4,
     "metadata": {},
     "output_type": "execute_result"
    }
   ],
   "source": [
    "from tokenizers import normalizers\n",
    "from tokenizers.normalizers import NFD, Strip,  StripAccents\n",
    "normalizer = normalizers.Sequence([NFD(),Strip()])\n",
    "\n",
    "t = 'कोरोनाको बढ्दो त्रास बेलायतबाट अमेरिका उड्नु अघि कोभिड को नेगेटिभ रिपोर्ट अनिवार्य! 9896983 '\n",
    "normalizer.normalize_str(t)"
   ]
  },
  {
   "cell_type": "code",
   "execution_count": 5,
   "id": "d6e280d7",
   "metadata": {
    "execution": {
     "iopub.execute_input": "2023-05-26T02:36:13.527849Z",
     "iopub.status.busy": "2023-05-26T02:36:13.527445Z",
     "iopub.status.idle": "2023-05-26T02:36:13.552925Z",
     "shell.execute_reply": "2023-05-26T02:36:13.551606Z"
    },
    "papermill": {
     "duration": 0.034867,
     "end_time": "2023-05-26T02:36:13.555401",
     "exception": false,
     "start_time": "2023-05-26T02:36:13.520534",
     "status": "completed"
    },
    "tags": []
   },
   "outputs": [
    {
     "name": "stdout",
     "output_type": "stream",
     "text": [
      "[('कोरोनाको', (0, 8)), ('बढ्दो', (9, 14)), ('त्रास', (15, 20)), ('\"', (21, 22)), ('बेलायतबाट', (22, 31)), ('\"', (31, 32)), ('अमेरिका', (33, 40)), ('उड्नु', (41, 46)), ('अघि', (47, 50)), ('कोभिड', (51, 56)), ('को', (57, 59)), ('नेगेटिभ', (60, 67)), ('रिपोर्ट', (68, 75)), ('अनिवार्य', (76, 84)), ('!', (84, 85)), ('9', (86, 87)), ('8', (87, 88)), ('9', (88, 89)), ('6', (89, 90)), ('9', (90, 91)), ('8', (91, 92)), ('3', (92, 93))]\n"
     ]
    }
   ],
   "source": [
    "from tokenizers import pre_tokenizers\n",
    "from tokenizers.pre_tokenizers import Whitespace, Digits, Punctuation\n",
    "pre_tokenizer = pre_tokenizers.Sequence([Whitespace(),Digits(individual_digits=True), Punctuation()])\n",
    "\n",
    "t = 'कोरोनाको बढ्दो त्रास \"बेलायतबाट\" अमेरिका उड्नु अघि कोभिड को नेगेटिभ रिपोर्ट अनिवार्य! 9896983 '\n",
    "print(pre_tokenizer.pre_tokenize_str(t))"
   ]
  },
  {
   "cell_type": "code",
   "execution_count": 6,
   "id": "45dde20b",
   "metadata": {
    "execution": {
     "iopub.execute_input": "2023-05-26T02:36:13.569038Z",
     "iopub.status.busy": "2023-05-26T02:36:13.568305Z",
     "iopub.status.idle": "2023-05-26T02:40:51.288783Z",
     "shell.execute_reply": "2023-05-26T02:40:51.287110Z"
    },
    "papermill": {
     "duration": 277.730194,
     "end_time": "2023-05-26T02:40:51.291435",
     "exception": false,
     "start_time": "2023-05-26T02:36:13.561241",
     "status": "completed"
    },
    "tags": []
   },
   "outputs": [
    {
     "name": "stdout",
     "output_type": "stream",
     "text": [
      "Training BPE Tokenizer using HuggingFace Library\n",
      "\n",
      "\n",
      "\n",
      "30000\n",
      "CPU times: user 15min 5s, sys: 9.02 s, total: 15min 14s\n",
      "Wall time: 4min 37s\n"
     ]
    }
   ],
   "source": [
    "%%time\n",
    "## Training BPE tokenizer\n",
    "from tokenizers import Tokenizer\n",
    "from tokenizers.models import BPE\n",
    "from tokenizers.decoders import WordPiece as wp_decoder\n",
    "from tokenizers.trainers import BpeTrainer\n",
    "\n",
    "print(\"Training BPE Tokenizer using HuggingFace Library\")\n",
    "bpe_tokenizer = Tokenizer(BPE(unk_token=\"[UNK]\"))\n",
    "bpe_tokenizer.normalizer = normalizer\n",
    "bpe_tokenizer.pre_tokenizer = pre_tokenizer\n",
    "bpe_tokenizer.decoder = wp_decoder() ## Here using wp_decoder because we use \"##\" as continuing_subword_prefix as in WordPiece.\n",
    "\n",
    "\n",
    "def bpe_batch_iterator(dataset,batch_size=1000):\n",
    "    for i in range(0, len(dataset), batch_size):\n",
    "        yield dataset[i : i + batch_size]\n",
    "        \n",
    "bpe_trainer = BpeTrainer(vocab_size=30000,\n",
    "                         show_progress=True,\n",
    "                         special_tokens=[\"[UNK]\", \"[CLS]\", \"[SEP]\", \"[PAD]\", \"[MASK]\"],\n",
    "                         initial_alphabet=nepali_alpha,\n",
    "                         continuing_subword_prefix=\"##\")\n",
    "\n",
    "bpe_tokenizer.train_from_iterator(bpe_batch_iterator(data['text']),bpe_trainer,length=len(data))\n",
    "bpe_tokenizer.save(\"/kaggle/working/Nepali_BPE.tokenizer\")\n",
    "\n",
    "print(bpe_tokenizer.get_vocab_size())\n",
    "# print(bpe_tokenizer.get_vocab(with_added_tokens=True))"
   ]
  },
  {
   "cell_type": "code",
   "execution_count": 7,
   "id": "f6dcc6bf",
   "metadata": {
    "execution": {
     "iopub.execute_input": "2023-05-26T02:40:51.306031Z",
     "iopub.status.busy": "2023-05-26T02:40:51.305612Z",
     "iopub.status.idle": "2023-05-26T02:45:34.459204Z",
     "shell.execute_reply": "2023-05-26T02:45:34.457906Z"
    },
    "papermill": {
     "duration": 283.164311,
     "end_time": "2023-05-26T02:45:34.462327",
     "exception": false,
     "start_time": "2023-05-26T02:40:51.298016",
     "status": "completed"
    },
    "tags": []
   },
   "outputs": [
    {
     "name": "stdout",
     "output_type": "stream",
     "text": [
      "Training WordPiece Tokenizer using HuggingFace Library\n",
      "\n",
      "\n",
      "\n",
      "30000\n",
      "CPU times: user 16min 10s, sys: 7.12 s, total: 16min 17s\n",
      "Wall time: 4min 43s\n"
     ]
    }
   ],
   "source": [
    "%%time\n",
    "## Training WordPiece Tokenizer\n",
    "from tokenizers.models import WordPiece\n",
    "from tokenizers.trainers import WordPieceTrainer\n",
    "\n",
    "print(\"Training WordPiece Tokenizer using HuggingFace Library\")\n",
    "wp_tokenizer = Tokenizer(WordPiece(unk_token=\"[UNK]\"))\n",
    "wp_tokenizer.normalizer = normalizer\n",
    "wp_tokenizer.pre_tokenizer = pre_tokenizer\n",
    "wp_tokenizer.decoder = wp_decoder()\n",
    "\n",
    "wp_trainer = WordPieceTrainer(vocab_size=30000,\n",
    "                              special_tokens=[\"[UNK]\", \"[CLS]\", \"[SEP]\", \"[PAD]\", \"[MASK]\"],\n",
    "                              show_progress=True,\n",
    "                              initial_alphabet=nepali_alpha\n",
    "                             )\n",
    "\n",
    "def wp_batch_iterator(dataset,batch_size=1000):\n",
    "    for i in range(0, len(dataset), batch_size):\n",
    "        yield dataset[i : i + batch_size]\n",
    "        \n",
    "wp_tokenizer.train_from_iterator(wp_batch_iterator(data['text']),wp_trainer,length=len(data))\n",
    "wp_tokenizer.save(\"/kaggle/working/Nepali_Wordpiece.tokenizer\")\n",
    "\n",
    "print(wp_tokenizer.get_vocab_size())\n",
    "# print(wp_tokenizer.get_vocab())"
   ]
  },
  {
   "cell_type": "code",
   "execution_count": 8,
   "id": "83ca3de9",
   "metadata": {
    "execution": {
     "iopub.execute_input": "2023-05-26T02:45:34.478756Z",
     "iopub.status.busy": "2023-05-26T02:45:34.477861Z",
     "iopub.status.idle": "2023-05-26T02:45:50.012074Z",
     "shell.execute_reply": "2023-05-26T02:45:50.010850Z"
    },
    "papermill": {
     "duration": 15.548493,
     "end_time": "2023-05-26T02:45:50.017877",
     "exception": false,
     "start_time": "2023-05-26T02:45:34.469384",
     "status": "completed"
    },
    "tags": []
   },
   "outputs": [
    {
     "name": "stdout",
     "output_type": "stream",
     "text": [
      "['कोभिड', 'को', 'जम्मा', 'पुष्टी', 'भएको', 'संख्या', 'जस', 'मध्ये', 'आज', 'मात्रै', 'जनामा', 'नयाँ', 'पुष्टी', 'भएको', 'छ', 'जस', 'मध्ये', 'उदयपुर', 'जिल्लाका', 'वटा', 'जनै', 'पुरुष', 'र', 'बर्षिय', 'र', 'चितवन', 'जिल्लाको', 'वटा', 'केस', 'पुरुष', 'र', 'बर्षिय']\n",
      "['अ', 'म', 'े', 'र', 'ि', 'क', 'ा', 'म', 'ा', ' ', 'क', 'ो', 'र', 'ो', 'न', 'ा', ' ', 'म', 'ह', 'ा', 'म', 'ा', 'र', 'ी', 'स', 'ँ', 'ग', ' ', 'ल', 'ड', '्', 'न', 'क', 'ा', ' ', 'ल', 'ा', 'ग', 'ि', ' ', 'फ', 'े', 'र', 'ि', ' ', 'क', 'ो', 'भ', 'ि', 'ड', ' ', 'ट', 'ा', 'स', '्', 'क', ' ', 'फ', 'ो', 'र', '्', 'स', ' ', 'ग', 'ठ', 'न']\n",
      "[1, 1, 1, 1, 1, 1, 1, 1, 1, 1, 1, 1, 1, 1, 1, 1, 1, 1, 1, 1, 1, 1, 1, 1, 1, 1, 1, 1, 1, 1, 1, 1]\n",
      "[1568, 355, 2677, 16424, 333, 1575, 862, 2793, 719, 1188, 5869, 722, 16424, 333, 76, 862, 2793, 8136, 3036, 1158, 13408, 1790, 96, 12644, 96, 2663, 1998, 1158, 15763, 1790, 96, 12644]\n"
     ]
    }
   ],
   "source": [
    "tokens = bpe_tokenizer.encode(data['text'][20000])\n",
    "print(tokens.tokens)\n",
    "print([x for x in data['text'][2000]])\n",
    "print(tokens.attention_mask)\n",
    "print(tokens.ids)"
   ]
  },
  {
   "cell_type": "code",
   "execution_count": 9,
   "id": "7de579f1",
   "metadata": {
    "execution": {
     "iopub.execute_input": "2023-05-26T02:45:50.035317Z",
     "iopub.status.busy": "2023-05-26T02:45:50.034915Z",
     "iopub.status.idle": "2023-05-26T02:46:05.680908Z",
     "shell.execute_reply": "2023-05-26T02:46:05.679715Z"
    },
    "papermill": {
     "duration": 15.658409,
     "end_time": "2023-05-26T02:46:05.683316",
     "exception": false,
     "start_time": "2023-05-26T02:45:50.024907",
     "status": "completed"
    },
    "tags": []
   },
   "outputs": [
    {
     "name": "stdout",
     "output_type": "stream",
     "text": [
      "['कोभिड', 'को', 'जम्मा', 'पुष्टी', 'भएको', 'संख्या', 'जस', 'मध्ये', 'आज', 'मात्रै', 'जनामा', 'नयाँ', 'पुष्टी', 'भएको', 'छ', 'जस', 'मध्ये', 'उदयपुर', 'जिल्लाका', 'वटा', 'जनै', 'पुरुष', 'र', 'बर्षिय', 'र', 'चितवन', 'जिल्लाको', 'वटा', 'केस', 'पुरुष', 'र', 'बर्षिय']\n",
      "अमेरिकामा कोरोना महामारीसँग लड्नका लागि फेरि कोभिड टास्क फोर्स गठन\n",
      "[1, 1, 1, 1, 1, 1, 1, 1, 1, 1, 1, 1, 1, 1, 1, 1, 1, 1, 1, 1, 1, 1, 1, 1, 1, 1, 1, 1, 1, 1, 1, 1]\n",
      "[1568, 355, 2677, 16424, 333, 1575, 862, 2793, 719, 1188, 5869, 722, 16424, 333, 76, 862, 2793, 8136, 3036, 1158, 13408, 1790, 96, 12644, 96, 2663, 1998, 1158, 15763, 1790, 96, 12644]\n"
     ]
    }
   ],
   "source": [
    "### test data ids : 100, 1000, 10000, 100000, 1000000\n",
    "tokens = wp_tokenizer.encode(data['text'][20000])\n",
    "print(tokens.tokens)\n",
    "print(data['text'][2000])\n",
    "print(tokens.attention_mask)\n",
    "print(tokens.ids)"
   ]
  },
  {
   "cell_type": "code",
   "execution_count": 10,
   "id": "cfa3b8f0",
   "metadata": {
    "execution": {
     "iopub.execute_input": "2023-05-26T02:46:05.701234Z",
     "iopub.status.busy": "2023-05-26T02:46:05.700839Z",
     "iopub.status.idle": "2023-05-26T02:46:48.192087Z",
     "shell.execute_reply": "2023-05-26T02:46:48.190874Z"
    },
    "papermill": {
     "duration": 42.509874,
     "end_time": "2023-05-26T02:46:48.200824",
     "exception": false,
     "start_time": "2023-05-26T02:46:05.690950",
     "status": "completed"
    },
    "tags": []
   },
   "outputs": [
    {
     "name": "stdout",
     "output_type": "stream",
     "text": [
      "Computing Total distinct words and characters in the whole corpus\n",
      "172\n",
      "CPU times: user 41.9 s, sys: 899 ms, total: 42.8 s\n",
      "Wall time: 42.5 s\n"
     ]
    }
   ],
   "source": [
    "%%time\n",
    "print(\"Computing Total distinct words and characters in the whole corpus\")\n",
    "### Bag of words calculation\n",
    "# bow = set([t[0] for t in pre_tokenizer.pre_tokenize_str(\" \".join(data['text']))])\n",
    "# print(len(bow))\n",
    "\n",
    "## Bag of Characters Calculation\n",
    "boc = set(\"\".join(data['text']))\n",
    "print(len(boc))"
   ]
  },
  {
   "cell_type": "code",
   "execution_count": 11,
   "id": "7e41e1de",
   "metadata": {
    "execution": {
     "iopub.execute_input": "2023-05-26T02:46:48.216782Z",
     "iopub.status.busy": "2023-05-26T02:46:48.216329Z",
     "iopub.status.idle": "2023-05-26T02:46:48.367835Z",
     "shell.execute_reply": "2023-05-26T02:46:48.366687Z"
    },
    "papermill": {
     "duration": 0.162468,
     "end_time": "2023-05-26T02:46:48.370241",
     "exception": false,
     "start_time": "2023-05-26T02:46:48.207773",
     "status": "completed"
    },
    "tags": []
   },
   "outputs": [
    {
     "data": {
      "text/plain": [
       "'  ! \" # $ % & \\' ( ) * + , - . / 0 1 2 3 4 5 6 7 8 9 : ; < = > ? @ [ \\\\ ] ^ _ ` { | } ¢ ʺ ʻ ʼ ˙ ँ ं ः अ आ इ ई उ ऊ ऋ ऌ ऍ ऎ ए ऐ ऑ ऒ ओ औ क ख ग घ ङ च छ ज झ ञ ट ठ ड ढ ण त थ द ध न ऩ प फ ब भ म य र ऱ ल ळ ऴ व श ष स ह ़ ा ि ी ु ू ृ ॄ ॅ ॆ े ै ॉ ॊ ो ौ ् ॐ ॑ ॒ ॓ ॔ क़ ख़ ग़ ज़ ड़ ढ़ फ़ य़ ॠ ॢ ॣ । ॥ ० १ २ ३ ४ ५ ६ ७ ८ ९ ॰ ॲ ॽ ঁ ং ਂ ਸ਼ ਜ਼ ੱ ં ‐ ‑ ‒ ‘ ’ ‚ ‛ “ ” „ ′ ″ 〜 ・'"
      ]
     },
     "execution_count": 11,
     "metadata": {},
     "output_type": "execute_result"
    }
   ],
   "source": [
    "gc.collect()\n",
    "\" \".join(sorted(list(boc)))"
   ]
  },
  {
   "cell_type": "code",
   "execution_count": null,
   "id": "c98c6254",
   "metadata": {
    "papermill": {
     "duration": 0.006861,
     "end_time": "2023-05-26T02:46:48.384621",
     "exception": false,
     "start_time": "2023-05-26T02:46:48.377760",
     "status": "completed"
    },
    "tags": []
   },
   "outputs": [],
   "source": []
  }
 ],
 "metadata": {
  "kernelspec": {
   "display_name": "Python 3",
   "language": "python",
   "name": "python3"
  },
  "language_info": {
   "codemirror_mode": {
    "name": "ipython",
    "version": 3
   },
   "file_extension": ".py",
   "mimetype": "text/x-python",
   "name": "python",
   "nbconvert_exporter": "python",
   "pygments_lexer": "ipython3",
   "version": "3.10.10"
  },
  "papermill": {
   "default_parameters": {},
   "duration": 655.931309,
   "end_time": "2023-05-26T02:46:50.521761",
   "environment_variables": {},
   "exception": null,
   "input_path": "__notebook__.ipynb",
   "output_path": "__notebook__.ipynb",
   "parameters": {},
   "start_time": "2023-05-26T02:35:54.590452",
   "version": "2.4.0"
  }
 },
 "nbformat": 4,
 "nbformat_minor": 5
}
