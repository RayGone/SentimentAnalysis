{
  "nbformat": 4,
  "nbformat_minor": 0,
  "metadata": {
    "colab": {
      "provenance": [],
      "gpuType": "T4",
      "include_colab_link": true
    },
    "kernelspec": {
      "name": "python3",
      "display_name": "Python 3"
    },
    "language_info": {
      "name": "python"
    },
    "accelerator": "GPU",
    "widgets": {
      "application/vnd.jupyter.widget-state+json": {
        "0b775a71343943b88465bfd87c0430f1": {
          "model_module": "@jupyter-widgets/controls",
          "model_name": "HBoxModel",
          "model_module_version": "1.5.0",
          "state": {
            "_dom_classes": [],
            "_model_module": "@jupyter-widgets/controls",
            "_model_module_version": "1.5.0",
            "_model_name": "HBoxModel",
            "_view_count": null,
            "_view_module": "@jupyter-widgets/controls",
            "_view_module_version": "1.5.0",
            "_view_name": "HBoxView",
            "box_style": "",
            "children": [
              "IPY_MODEL_175cccd620234d6ea5f81974e22300a9",
              "IPY_MODEL_d2ad937b17e644a489b47b91b5cba1dd",
              "IPY_MODEL_a41d2830d67d4338b22c0c927d971337"
            ],
            "layout": "IPY_MODEL_c1edeb7c2d264ef39b838169e931c50c"
          }
        },
        "175cccd620234d6ea5f81974e22300a9": {
          "model_module": "@jupyter-widgets/controls",
          "model_name": "HTMLModel",
          "model_module_version": "1.5.0",
          "state": {
            "_dom_classes": [],
            "_model_module": "@jupyter-widgets/controls",
            "_model_module_version": "1.5.0",
            "_model_name": "HTMLModel",
            "_view_count": null,
            "_view_module": "@jupyter-widgets/controls",
            "_view_module_version": "1.5.0",
            "_view_name": "HTMLView",
            "description": "",
            "description_tooltip": null,
            "layout": "IPY_MODEL_d252c92f00374c6587efed8dd0362076",
            "placeholder": "​",
            "style": "IPY_MODEL_0f2df056688a4f6597a0af794baa7159",
            "value": "Downloading tf_model.h5: 100%"
          }
        },
        "d2ad937b17e644a489b47b91b5cba1dd": {
          "model_module": "@jupyter-widgets/controls",
          "model_name": "FloatProgressModel",
          "model_module_version": "1.5.0",
          "state": {
            "_dom_classes": [],
            "_model_module": "@jupyter-widgets/controls",
            "_model_module_version": "1.5.0",
            "_model_name": "FloatProgressModel",
            "_view_count": null,
            "_view_module": "@jupyter-widgets/controls",
            "_view_module_version": "1.5.0",
            "_view_name": "ProgressView",
            "bar_style": "success",
            "description": "",
            "description_tooltip": null,
            "layout": "IPY_MODEL_ffd72857947e48ac8caa0580887a85a4",
            "max": 438226204,
            "min": 0,
            "orientation": "horizontal",
            "style": "IPY_MODEL_6214b261ef3b48658b269170f526a834",
            "value": 438226204
          }
        },
        "a41d2830d67d4338b22c0c927d971337": {
          "model_module": "@jupyter-widgets/controls",
          "model_name": "HTMLModel",
          "model_module_version": "1.5.0",
          "state": {
            "_dom_classes": [],
            "_model_module": "@jupyter-widgets/controls",
            "_model_module_version": "1.5.0",
            "_model_name": "HTMLModel",
            "_view_count": null,
            "_view_module": "@jupyter-widgets/controls",
            "_view_module_version": "1.5.0",
            "_view_name": "HTMLView",
            "description": "",
            "description_tooltip": null,
            "layout": "IPY_MODEL_98ae35d7c38745bea8ba4cd54105eb73",
            "placeholder": "​",
            "style": "IPY_MODEL_b87b059d361648289b5d6cf787d67a12",
            "value": " 438M/438M [00:09&lt;00:00, 40.2MB/s]"
          }
        },
        "c1edeb7c2d264ef39b838169e931c50c": {
          "model_module": "@jupyter-widgets/base",
          "model_name": "LayoutModel",
          "model_module_version": "1.2.0",
          "state": {
            "_model_module": "@jupyter-widgets/base",
            "_model_module_version": "1.2.0",
            "_model_name": "LayoutModel",
            "_view_count": null,
            "_view_module": "@jupyter-widgets/base",
            "_view_module_version": "1.2.0",
            "_view_name": "LayoutView",
            "align_content": null,
            "align_items": null,
            "align_self": null,
            "border": null,
            "bottom": null,
            "display": null,
            "flex": null,
            "flex_flow": null,
            "grid_area": null,
            "grid_auto_columns": null,
            "grid_auto_flow": null,
            "grid_auto_rows": null,
            "grid_column": null,
            "grid_gap": null,
            "grid_row": null,
            "grid_template_areas": null,
            "grid_template_columns": null,
            "grid_template_rows": null,
            "height": null,
            "justify_content": null,
            "justify_items": null,
            "left": null,
            "margin": null,
            "max_height": null,
            "max_width": null,
            "min_height": null,
            "min_width": null,
            "object_fit": null,
            "object_position": null,
            "order": null,
            "overflow": null,
            "overflow_x": null,
            "overflow_y": null,
            "padding": null,
            "right": null,
            "top": null,
            "visibility": null,
            "width": null
          }
        },
        "d252c92f00374c6587efed8dd0362076": {
          "model_module": "@jupyter-widgets/base",
          "model_name": "LayoutModel",
          "model_module_version": "1.2.0",
          "state": {
            "_model_module": "@jupyter-widgets/base",
            "_model_module_version": "1.2.0",
            "_model_name": "LayoutModel",
            "_view_count": null,
            "_view_module": "@jupyter-widgets/base",
            "_view_module_version": "1.2.0",
            "_view_name": "LayoutView",
            "align_content": null,
            "align_items": null,
            "align_self": null,
            "border": null,
            "bottom": null,
            "display": null,
            "flex": null,
            "flex_flow": null,
            "grid_area": null,
            "grid_auto_columns": null,
            "grid_auto_flow": null,
            "grid_auto_rows": null,
            "grid_column": null,
            "grid_gap": null,
            "grid_row": null,
            "grid_template_areas": null,
            "grid_template_columns": null,
            "grid_template_rows": null,
            "height": null,
            "justify_content": null,
            "justify_items": null,
            "left": null,
            "margin": null,
            "max_height": null,
            "max_width": null,
            "min_height": null,
            "min_width": null,
            "object_fit": null,
            "object_position": null,
            "order": null,
            "overflow": null,
            "overflow_x": null,
            "overflow_y": null,
            "padding": null,
            "right": null,
            "top": null,
            "visibility": null,
            "width": null
          }
        },
        "0f2df056688a4f6597a0af794baa7159": {
          "model_module": "@jupyter-widgets/controls",
          "model_name": "DescriptionStyleModel",
          "model_module_version": "1.5.0",
          "state": {
            "_model_module": "@jupyter-widgets/controls",
            "_model_module_version": "1.5.0",
            "_model_name": "DescriptionStyleModel",
            "_view_count": null,
            "_view_module": "@jupyter-widgets/base",
            "_view_module_version": "1.2.0",
            "_view_name": "StyleView",
            "description_width": ""
          }
        },
        "ffd72857947e48ac8caa0580887a85a4": {
          "model_module": "@jupyter-widgets/base",
          "model_name": "LayoutModel",
          "model_module_version": "1.2.0",
          "state": {
            "_model_module": "@jupyter-widgets/base",
            "_model_module_version": "1.2.0",
            "_model_name": "LayoutModel",
            "_view_count": null,
            "_view_module": "@jupyter-widgets/base",
            "_view_module_version": "1.2.0",
            "_view_name": "LayoutView",
            "align_content": null,
            "align_items": null,
            "align_self": null,
            "border": null,
            "bottom": null,
            "display": null,
            "flex": null,
            "flex_flow": null,
            "grid_area": null,
            "grid_auto_columns": null,
            "grid_auto_flow": null,
            "grid_auto_rows": null,
            "grid_column": null,
            "grid_gap": null,
            "grid_row": null,
            "grid_template_areas": null,
            "grid_template_columns": null,
            "grid_template_rows": null,
            "height": null,
            "justify_content": null,
            "justify_items": null,
            "left": null,
            "margin": null,
            "max_height": null,
            "max_width": null,
            "min_height": null,
            "min_width": null,
            "object_fit": null,
            "object_position": null,
            "order": null,
            "overflow": null,
            "overflow_x": null,
            "overflow_y": null,
            "padding": null,
            "right": null,
            "top": null,
            "visibility": null,
            "width": null
          }
        },
        "6214b261ef3b48658b269170f526a834": {
          "model_module": "@jupyter-widgets/controls",
          "model_name": "ProgressStyleModel",
          "model_module_version": "1.5.0",
          "state": {
            "_model_module": "@jupyter-widgets/controls",
            "_model_module_version": "1.5.0",
            "_model_name": "ProgressStyleModel",
            "_view_count": null,
            "_view_module": "@jupyter-widgets/base",
            "_view_module_version": "1.2.0",
            "_view_name": "StyleView",
            "bar_color": null,
            "description_width": ""
          }
        },
        "98ae35d7c38745bea8ba4cd54105eb73": {
          "model_module": "@jupyter-widgets/base",
          "model_name": "LayoutModel",
          "model_module_version": "1.2.0",
          "state": {
            "_model_module": "@jupyter-widgets/base",
            "_model_module_version": "1.2.0",
            "_model_name": "LayoutModel",
            "_view_count": null,
            "_view_module": "@jupyter-widgets/base",
            "_view_module_version": "1.2.0",
            "_view_name": "LayoutView",
            "align_content": null,
            "align_items": null,
            "align_self": null,
            "border": null,
            "bottom": null,
            "display": null,
            "flex": null,
            "flex_flow": null,
            "grid_area": null,
            "grid_auto_columns": null,
            "grid_auto_flow": null,
            "grid_auto_rows": null,
            "grid_column": null,
            "grid_gap": null,
            "grid_row": null,
            "grid_template_areas": null,
            "grid_template_columns": null,
            "grid_template_rows": null,
            "height": null,
            "justify_content": null,
            "justify_items": null,
            "left": null,
            "margin": null,
            "max_height": null,
            "max_width": null,
            "min_height": null,
            "min_width": null,
            "object_fit": null,
            "object_position": null,
            "order": null,
            "overflow": null,
            "overflow_x": null,
            "overflow_y": null,
            "padding": null,
            "right": null,
            "top": null,
            "visibility": null,
            "width": null
          }
        },
        "b87b059d361648289b5d6cf787d67a12": {
          "model_module": "@jupyter-widgets/controls",
          "model_name": "DescriptionStyleModel",
          "model_module_version": "1.5.0",
          "state": {
            "_model_module": "@jupyter-widgets/controls",
            "_model_module_version": "1.5.0",
            "_model_name": "DescriptionStyleModel",
            "_view_count": null,
            "_view_module": "@jupyter-widgets/base",
            "_view_module_version": "1.2.0",
            "_view_name": "StyleView",
            "description_width": ""
          }
        }
      }
    }
  },
  "cells": [
    {
      "cell_type": "markdown",
      "metadata": {
        "id": "view-in-github",
        "colab_type": "text"
      },
      "source": [
        "<a href=\"https://colab.research.google.com/github/RayGone/SentimentAnalysis/blob/phase2/Experiments/Embedding_As_Feature/BERT%26GPT_Embedding_As_Feature_4SA.ipynb\" target=\"_parent\"><img src=\"https://colab.research.google.com/assets/colab-badge.svg\" alt=\"Open In Colab\"/></a>"
      ]
    },
    {
      "cell_type": "code",
      "execution_count": 1,
      "metadata": {
        "id": "bZzHsFXBbOkw"
      },
      "outputs": [],
      "source": [
        "!pip install transformers tokenizers datasets huggingface_hub --quiet\n",
        "\n",
        "import numpy as np\n",
        "import random\n",
        "import os\n",
        "import tensorflow as tf\n",
        "from transformers import set_seed\n",
        "\n",
        "rand_seed = 9\n",
        "\n",
        "def seed_everything(seed=0):\n",
        "    random.seed(seed) # random\n",
        "    os.environ['PYTHONHASHSEED'] = str(seed) # python enviroment\n",
        "    np.random.seed(seed) # numpy\n",
        "    tf.keras.utils.set_random_seed(seed) # tensorflow\n",
        "    tf.random.set_seed(seed) # tensorflow\n",
        "    set_seed(seed) # hugging_face transformer\n",
        "\n",
        "seed_everything(rand_seed)"
      ]
    },
    {
      "cell_type": "markdown",
      "source": [
        "## Loading Transformers"
      ],
      "metadata": {
        "id": "NG05ycyEL3ZA"
      }
    },
    {
      "cell_type": "code",
      "source": [
        "from transformers import PreTrainedTokenizerFast, BertTokenizerFast, TFAutoModel\n",
        "import datasets\n",
        "\n",
        "gptModel = 'raygx/GNePT-NepSA'\n",
        "gptTokenizer = PreTrainedTokenizerFast.from_pretrained(gptModel,padding_side='left')\n",
        "gptModel = TFAutoModel.from_pretrained(gptModel)\n",
        "\n",
        "bertModel = 'raygx/BERT-NepSA-T2'\n",
        "bertTokenizer = BertTokenizerFast.from_pretrained(bertModel)\n",
        "bertModel = TFAutoModel.from_pretrained(bertModel)\n",
        "\n",
        "gptModel.config, bertModel.config"
      ],
      "metadata": {
        "id": "m8vLKWOLq0Bw",
        "colab": {
          "base_uri": "https://localhost:8080/",
          "height": 1000,
          "referenced_widgets": [
            "0b775a71343943b88465bfd87c0430f1",
            "175cccd620234d6ea5f81974e22300a9",
            "d2ad937b17e644a489b47b91b5cba1dd",
            "a41d2830d67d4338b22c0c927d971337",
            "c1edeb7c2d264ef39b838169e931c50c",
            "d252c92f00374c6587efed8dd0362076",
            "0f2df056688a4f6597a0af794baa7159",
            "ffd72857947e48ac8caa0580887a85a4",
            "6214b261ef3b48658b269170f526a834",
            "98ae35d7c38745bea8ba4cd54105eb73",
            "b87b059d361648289b5d6cf787d67a12"
          ]
        },
        "outputId": "74a73f47-207d-4128-b222-2c3e57b1d9b9"
      },
      "execution_count": 2,
      "outputs": [
        {
          "output_type": "stream",
          "name": "stderr",
          "text": [
            "Some layers from the model checkpoint at raygx/GNePT-NepSA were not used when initializing TFGPT2Model: ['score']\n",
            "- This IS expected if you are initializing TFGPT2Model from the checkpoint of a model trained on another task or with another architecture (e.g. initializing a BertForSequenceClassification model from a BertForPreTraining model).\n",
            "- This IS NOT expected if you are initializing TFGPT2Model from the checkpoint of a model that you expect to be exactly identical (initializing a BertForSequenceClassification model from a BertForSequenceClassification model).\n",
            "All the layers of TFGPT2Model were initialized from the model checkpoint at raygx/GNePT-NepSA.\n",
            "If your task is similar to the task the model of the checkpoint was trained on, you can already use TFGPT2Model for predictions without further training.\n"
          ]
        },
        {
          "output_type": "display_data",
          "data": {
            "text/plain": [
              "Downloading tf_model.h5:   0%|          | 0.00/438M [00:00<?, ?B/s]"
            ],
            "application/vnd.jupyter.widget-view+json": {
              "version_major": 2,
              "version_minor": 0,
              "model_id": "0b775a71343943b88465bfd87c0430f1"
            }
          },
          "metadata": {}
        },
        {
          "output_type": "stream",
          "name": "stderr",
          "text": [
            "Some layers from the model checkpoint at raygx/BERT-NepSA-T2 were not used when initializing TFBertModel: ['classifier', 'dropout_37']\n",
            "- This IS expected if you are initializing TFBertModel from the checkpoint of a model trained on another task or with another architecture (e.g. initializing a BertForSequenceClassification model from a BertForPreTraining model).\n",
            "- This IS NOT expected if you are initializing TFBertModel from the checkpoint of a model that you expect to be exactly identical (initializing a BertForSequenceClassification model from a BertForSequenceClassification model).\n",
            "All the layers of TFBertModel were initialized from the model checkpoint at raygx/BERT-NepSA-T2.\n",
            "If your task is similar to the task the model of the checkpoint was trained on, you can already use TFBertModel for predictions without further training.\n"
          ]
        },
        {
          "output_type": "execute_result",
          "data": {
            "text/plain": [
              "(GPT2Config {\n",
              "   \"_name_or_path\": \"raygx/GNePT-NepSA\",\n",
              "   \"activation_function\": \"gelu_new\",\n",
              "   \"architectures\": [\n",
              "     \"GPT2ForSequenceClassification\"\n",
              "   ],\n",
              "   \"attn_pdrop\": 0.1,\n",
              "   \"bos_token_id\": null,\n",
              "   \"embd_pdrop\": 0.1,\n",
              "   \"eos_token_id\": null,\n",
              "   \"id2label\": {\n",
              "     \"0\": \"NEUTRAL\",\n",
              "     \"1\": \"POSITIVE\",\n",
              "     \"2\": \"NEGATIVE\"\n",
              "   },\n",
              "   \"initializer_range\": 0.02,\n",
              "   \"label2id\": {\n",
              "     \"NEGATIVE\": 2,\n",
              "     \"NEUTRAL\": 0,\n",
              "     \"POSITIVE\": 1\n",
              "   },\n",
              "   \"layer_norm_epsilon\": 1e-05,\n",
              "   \"model_type\": \"gpt2\",\n",
              "   \"n_ctx\": 1024,\n",
              "   \"n_embd\": 768,\n",
              "   \"n_head\": 12,\n",
              "   \"n_inner\": null,\n",
              "   \"n_layer\": 12,\n",
              "   \"n_positions\": 1024,\n",
              "   \"pad_token_id\": 3,\n",
              "   \"reorder_and_upcast_attn\": false,\n",
              "   \"resid_pdrop\": 0.1,\n",
              "   \"scale_attn_by_inverse_layer_idx\": false,\n",
              "   \"scale_attn_weights\": true,\n",
              "   \"summary_activation\": null,\n",
              "   \"summary_first_dropout\": 0.1,\n",
              "   \"summary_proj_to_labels\": true,\n",
              "   \"summary_type\": \"cls_index\",\n",
              "   \"summary_use_proj\": true,\n",
              "   \"task_specific_params\": {\n",
              "     \"text-generation\": {\n",
              "       \"do_sample\": true,\n",
              "       \"max_length\": 50\n",
              "     }\n",
              "   },\n",
              "   \"transformers_version\": \"4.32.1\",\n",
              "   \"use_cache\": true,\n",
              "   \"vocab_size\": 50000\n",
              " },\n",
              " BertConfig {\n",
              "   \"_name_or_path\": \"raygx/BERT-NepSA-T2\",\n",
              "   \"architectures\": [\n",
              "     \"BertForSequenceClassification\"\n",
              "   ],\n",
              "   \"attention_probs_dropout_prob\": 0.1,\n",
              "   \"classifier_dropout\": null,\n",
              "   \"hidden_act\": \"gelu\",\n",
              "   \"hidden_dropout_prob\": 0.1,\n",
              "   \"hidden_size\": 768,\n",
              "   \"id2label\": {\n",
              "     \"0\": \"NEUTRAL\",\n",
              "     \"1\": \"POSITIVE\",\n",
              "     \"2\": \"NEGATIVE\"\n",
              "   },\n",
              "   \"initializer_range\": 0.02,\n",
              "   \"intermediate_size\": 3072,\n",
              "   \"label2id\": {\n",
              "     \"NEGATIVE\": 2,\n",
              "     \"NEUTRAL\": 0,\n",
              "     \"POSITIVE\": 1\n",
              "   },\n",
              "   \"layer_norm_eps\": 1e-12,\n",
              "   \"max_position_embeddings\": 512,\n",
              "   \"model_type\": \"bert\",\n",
              "   \"num_attention_heads\": 12,\n",
              "   \"num_hidden_layers\": 12,\n",
              "   \"pad_token_id\": 0,\n",
              "   \"position_embedding_type\": \"absolute\",\n",
              "   \"torch_dtype\": \"float32\",\n",
              "   \"transformers_version\": \"4.32.1\",\n",
              "   \"type_vocab_size\": 2,\n",
              "   \"use_cache\": true,\n",
              "   \"vocab_size\": 30522\n",
              " })"
            ]
          },
          "metadata": {},
          "execution_count": 2
        }
      ]
    },
    {
      "cell_type": "markdown",
      "source": [
        "## Loading Data"
      ],
      "metadata": {
        "id": "gJppNsMYL7u0"
      }
    },
    {
      "cell_type": "code",
      "source": [
        "print(\"#######################Using NepCov19Tweets#########################\")\n",
        "data = datasets.load_dataset(\"raygx/NepCov19TweetsPlus\")\n",
        "\n",
        "data = data.rename_columns({\"Sentiment\":\"label\",\"Sentences\":\"text\"})\n",
        "data"
      ],
      "metadata": {
        "id": "KwnwTdn_53Cv",
        "colab": {
          "base_uri": "https://localhost:8080/"
        },
        "outputId": "8417cbed-0f16-4896-acd6-e441050ce0e4"
      },
      "execution_count": 3,
      "outputs": [
        {
          "output_type": "stream",
          "name": "stdout",
          "text": [
            "#######################Using NepCov19Tweets#########################\n"
          ]
        },
        {
          "output_type": "execute_result",
          "data": {
            "text/plain": [
              "DatasetDict({\n",
              "    train: Dataset({\n",
              "        features: ['label', 'text'],\n",
              "        num_rows: 41541\n",
              "    })\n",
              "})"
            ]
          },
          "metadata": {},
          "execution_count": 3
        }
      ]
    },
    {
      "cell_type": "code",
      "source": [
        "data = data.shuffle(rand_seed)\n",
        "data = data['train'].train_test_split(test_size=0.2)\n",
        "data"
      ],
      "metadata": {
        "id": "qu_hGjt27PnH",
        "colab": {
          "base_uri": "https://localhost:8080/"
        },
        "outputId": "dfd37140-c2df-420b-cb96-1a8dc8e0efc3"
      },
      "execution_count": 4,
      "outputs": [
        {
          "output_type": "execute_result",
          "data": {
            "text/plain": [
              "DatasetDict({\n",
              "    train: Dataset({\n",
              "        features: ['label', 'text'],\n",
              "        num_rows: 33232\n",
              "    })\n",
              "    test: Dataset({\n",
              "        features: ['label', 'text'],\n",
              "        num_rows: 8309\n",
              "    })\n",
              "})"
            ]
          },
          "metadata": {},
          "execution_count": 4
        }
      ]
    },
    {
      "cell_type": "code",
      "source": [
        "def prepareLabels(row):\n",
        "    if row['label'] == -1:\n",
        "        row['label'] = 2\n",
        "\n",
        "    return row\n",
        "\n",
        "data = data.map(\n",
        "        prepareLabels,\n",
        "        num_proc=4)\n",
        "\n",
        "data"
      ],
      "metadata": {
        "id": "HuIlfjXh7UAm",
        "colab": {
          "base_uri": "https://localhost:8080/"
        },
        "outputId": "1e87e1a1-93dc-4be1-877d-e98259040379"
      },
      "execution_count": 5,
      "outputs": [
        {
          "output_type": "execute_result",
          "data": {
            "text/plain": [
              "DatasetDict({\n",
              "    train: Dataset({\n",
              "        features: ['label', 'text'],\n",
              "        num_rows: 33232\n",
              "    })\n",
              "    test: Dataset({\n",
              "        features: ['label', 'text'],\n",
              "        num_rows: 8309\n",
              "    })\n",
              "})"
            ]
          },
          "metadata": {},
          "execution_count": 5
        }
      ]
    },
    {
      "cell_type": "markdown",
      "source": [
        "## Creating Embedding Layer"
      ],
      "metadata": {
        "id": "_tgZPTg2L_e3"
      }
    },
    {
      "cell_type": "code",
      "source": [
        "import tensorflow as tf\n",
        "\n",
        "class GPTEmbedding(tf.keras.layers.Layer):\n",
        "  def __init__(self, model,tokenizer, max_token_len=128,padding='max_length',trailing_context=4,truncation=True):\n",
        "    super().__init__()\n",
        "    self.embedding = model\n",
        "    self.tokenizer = tokenizer\n",
        "    self.tokenizer.padding_side = 'left'\n",
        "    self.max_token = max_token_len\n",
        "    self.padding = padding\n",
        "    self.truncation = truncation\n",
        "    self.trailing_context = trailing_context\n",
        "    self.trainable=False\n",
        "\n",
        "  def call(self, x):\n",
        "    embeddings = self.embedding(\n",
        "                  self.tokenizer(x,padding=self.padding,truncation=self.truncation,max_length=self.max_token,return_tensors='tf')\n",
        "                )[0][:,-self.trailing_context:,:]\n",
        "\n",
        "    return tf.reduce_logsumexp(embeddings,axis=1)\n",
        "\n",
        "class BERTEmbedding(tf.keras.layers.Layer):\n",
        "  def __init__(self, model,tokenizer, max_token_len=128,padding='max_length',truncation=True):\n",
        "    super().__init__()\n",
        "    self.embedding = model\n",
        "    self.tokenizer = tokenizer\n",
        "    self.max_token = max_token_len\n",
        "    self.padding = padding\n",
        "    self.truncation = truncation\n",
        "    self.trainable=False\n",
        "\n",
        "  def call(self, x):\n",
        "    return self.embedding(self.tokenizer(x,padding=self.padding,truncation=self.truncation,max_length=self.max_token,return_tensors='tf'))[1]"
      ],
      "metadata": {
        "id": "YuD-BoyG7ahO"
      },
      "execution_count": 6,
      "outputs": []
    },
    {
      "cell_type": "code",
      "source": [
        "# model.bert(tokenizer('बैंक तथा वित्तीय संस्थामा देखिएको विश्वासको',padding='max_length',truncation=True,return_tensors='tf',max_length=128))\n",
        "gpt_embd = GPTEmbedding(gptModel.transformer,gptTokenizer,max_token_len=100,trailing_context=4)\n",
        "bert_embd = BERTEmbedding(bertModel.bert,bertTokenizer,max_token_len=100)\n",
        "# embd([\"\",'बैंक तथा वित्तीय संस्थामा देखिएको विश्वासको','बैंक तथा वित्तीय संस्थामा देखिएको विश्वासको'])\n",
        "d_model = tf.concat([gpt_embd([\"abcd\",'efgh']),bert_embd([\"abcd\",'efgh'])],axis=1).shape[1]\n",
        "d_model"
      ],
      "metadata": {
        "id": "N5ZLtQza7u0k",
        "colab": {
          "base_uri": "https://localhost:8080/"
        },
        "outputId": "4c1f6f34-011e-4510-e726-16ade6c04844"
      },
      "execution_count": 7,
      "outputs": [
        {
          "output_type": "execute_result",
          "data": {
            "text/plain": [
              "1536"
            ]
          },
          "metadata": {},
          "execution_count": 7
        }
      ]
    },
    {
      "cell_type": "markdown",
      "source": [
        "## Creating Data Generator"
      ],
      "metadata": {
        "id": "2SNKBvuJMIoE"
      }
    },
    {
      "cell_type": "code",
      "source": [
        "class DataGenerator(tf.keras.utils.Sequence):\n",
        "    'Generates data for Keras'\n",
        "    def __init__(self, data,model_dim, batch_size=32,shuffle=True):\n",
        "        'Initialization'\n",
        "        self.batch_size = batch_size\n",
        "        self.data = data\n",
        "        self.embeddings = np.empty((data.num_rows,model_dim))\n",
        "        self.shuffle = shuffle\n",
        "        # self.average = tf.keras.layers.Average()\n",
        "        self.is_first_epoch = True\n",
        "        self.on_epoch_end(is_first_epoch=self.is_first_epoch)\n",
        "\n",
        "    def __len__(self):\n",
        "        'Denotes the number of batches per epoch'\n",
        "        return int(np.ceil(self.data.num_rows / self.batch_size))\n",
        "\n",
        "    def __getitem__(self, index):\n",
        "        'Generate one batch of data'\n",
        "        # Generate indexes of the batch\n",
        "        indexes = self.indexes[index*self.batch_size:(index+1)*self.batch_size]\n",
        "\n",
        "        return self.__data_generation(indexes)\n",
        "\n",
        "    def on_epoch_end(self,is_first_epoch=False):\n",
        "        'Updates indexes after each epoch'\n",
        "        self.indexes = np.arange(self.data.num_rows)\n",
        "        if self.shuffle == True:\n",
        "            np.random.shuffle(self.indexes)\n",
        "\n",
        "        self.is_first_epoch = is_first_epoch\n",
        "\n",
        "\n",
        "    def __data_generation(self, indexes):\n",
        "        'Generates data containing batch_size samples' # X : (n_samples, *dim, n_channels)\n",
        "        # Initialization\n",
        "        chunk = self.data.select(indexes)\n",
        "\n",
        "        if self.is_first_epoch:\n",
        "          X = tf.concat([gpt_embd(chunk['text']), bert_embd(chunk['text'])],axis=1)\n",
        "          self.embeddings[indexes] = X\n",
        "        else:\n",
        "          X = self.embeddings[indexes]\n",
        "\n",
        "        y = np.array(chunk['label'])\n",
        "        return X,y"
      ],
      "metadata": {
        "id": "jkr2xAKg8IXv"
      },
      "execution_count": 8,
      "outputs": []
    },
    {
      "cell_type": "code",
      "source": [
        "%%time\n",
        "\n",
        "train_features = DataGenerator(data['train'],model_dim=d_model,batch_size=32)\n",
        "test_features = DataGenerator(data['test'],model_dim=d_model,shuffle=False)"
      ],
      "metadata": {
        "id": "srP-W6tp8rV-",
        "colab": {
          "base_uri": "https://localhost:8080/"
        },
        "outputId": "7a981b00-4e96-41f2-dc4b-df796877ea96"
      },
      "execution_count": 9,
      "outputs": [
        {
          "output_type": "stream",
          "name": "stdout",
          "text": [
            "CPU times: user 659 µs, sys: 0 ns, total: 659 µs\n",
            "Wall time: 655 µs\n"
          ]
        }
      ]
    },
    {
      "cell_type": "markdown",
      "source": [
        "## Classification Head"
      ],
      "metadata": {
        "id": "2MC_H-PpML5v"
      }
    },
    {
      "cell_type": "code",
      "source": [
        "model = tf.keras.models.Sequential([\n",
        "    tf.keras.layers.InputLayer(input_shape=(d_model)),\n",
        "    tf.keras.layers.Dense(768,activation='relu'),\n",
        "    tf.keras.layers.Dropout(0.1),\n",
        "    tf.keras.layers.Dense(3,activation='softmax')\n",
        "])\n",
        "\n",
        "model.compile(\n",
        "  optimizer=tf.keras.optimizers.Adam(\n",
        "        learning_rate=5e-4,\n",
        "        weight_decay=0.004\n",
        "      ),\n",
        "  loss='sparse_categorical_crossentropy',\n",
        "  metrics=['acc'])\n",
        "\n",
        "model.summary()"
      ],
      "metadata": {
        "id": "PRdJHuhI8x4_",
        "colab": {
          "base_uri": "https://localhost:8080/"
        },
        "outputId": "41dd5bbe-1135-4eec-eec1-d39f7b1adf2b"
      },
      "execution_count": 10,
      "outputs": [
        {
          "output_type": "stream",
          "name": "stdout",
          "text": [
            "Model: \"sequential\"\n",
            "_________________________________________________________________\n",
            " Layer (type)                Output Shape              Param #   \n",
            "=================================================================\n",
            " dense (Dense)               (None, 768)               1180416   \n",
            "                                                                 \n",
            " dropout_74 (Dropout)        (None, 768)               0         \n",
            "                                                                 \n",
            " dense_1 (Dense)             (None, 3)                 2307      \n",
            "                                                                 \n",
            "=================================================================\n",
            "Total params: 1,182,723\n",
            "Trainable params: 1,182,723\n",
            "Non-trainable params: 0\n",
            "_________________________________________________________________\n"
          ]
        }
      ]
    },
    {
      "cell_type": "markdown",
      "source": [
        "## Training Classification"
      ],
      "metadata": {
        "id": "QceKTK20MP_0"
      }
    },
    {
      "cell_type": "code",
      "source": [
        "history = model.fit(train_features,\n",
        "        epochs=100,\n",
        "        validation_data=test_features,\n",
        "        callbacks=[tf.keras.callbacks.EarlyStopping(\n",
        "                            monitor='val_acc', patience=3,\n",
        "                            verbose=1, mode='auto',\n",
        "                            restore_best_weights=True)\n",
        "                        ])"
      ],
      "metadata": {
        "id": "hHaOiPzC-R11",
        "colab": {
          "base_uri": "https://localhost:8080/"
        },
        "outputId": "d33c8b9b-04f5-4c28-8584-943f79ba8e75"
      },
      "execution_count": 11,
      "outputs": [
        {
          "output_type": "stream",
          "name": "stdout",
          "text": [
            "Epoch 1/100\n",
            "1039/1039 [==============================] - 668s 639ms/step - loss: 0.4283 - acc: 0.8402 - val_loss: 0.3908 - val_acc: 0.8526\n",
            "Epoch 2/100\n",
            "1039/1039 [==============================] - 8s 8ms/step - loss: 0.3829 - acc: 0.8503 - val_loss: 0.3815 - val_acc: 0.8500\n",
            "Epoch 3/100\n",
            "1039/1039 [==============================] - 8s 7ms/step - loss: 0.3804 - acc: 0.8508 - val_loss: 0.3866 - val_acc: 0.8518\n",
            "Epoch 4/100\n",
            "1038/1039 [============================>.] - ETA: 0s - loss: 0.3769 - acc: 0.8507Restoring model weights from the end of the best epoch: 1.\n",
            "1039/1039 [==============================] - 9s 9ms/step - loss: 0.3770 - acc: 0.8507 - val_loss: 0.3867 - val_acc: 0.8512\n",
            "Epoch 4: early stopping\n"
          ]
        }
      ]
    },
    {
      "cell_type": "code",
      "source": [
        "import seaborn\n",
        "from matplotlib import pyplot as plt\n",
        "\n",
        "seaborn.lineplot(history.history['loss'])\n",
        "seaborn.lineplot(history.history['val_loss'])\n",
        "plt.title(\"Loss Graph\")\n",
        "plt.show()\n",
        "\n",
        "seaborn.lineplot(history.history['acc'])\n",
        "seaborn.lineplot(history.history['val_acc'])\n",
        "plt.title(\"Accuracy Graph\")"
      ],
      "metadata": {
        "id": "jIR4SrFz-yyD",
        "colab": {
          "base_uri": "https://localhost:8080/",
          "height": 904
        },
        "outputId": "522b7288-9883-4cdc-c1ae-d81c2fef94f9"
      },
      "execution_count": 12,
      "outputs": [
        {
          "output_type": "display_data",
          "data": {
            "text/plain": [
              "<Figure size 640x480 with 1 Axes>"
            ],
            "image/png": "[encoded data removed]"
          },
          "metadata": {}
        },
        {
          "output_type": "execute_result",
          "data": {
            "text/plain": [
              "Text(0.5, 1.0, 'Accuracy Graph')"
            ]
          },
          "metadata": {},
          "execution_count": 12
        },
        {
          "output_type": "display_data",
          "data": {
            "text/plain": [
              "<Figure size 640x480 with 1 Axes>"
            ],
            "image/png": "[encoded data removed]"
          },
          "metadata": {}
        }
      ]
    },
    {
      "cell_type": "markdown",
      "source": [
        "## Model Evaluation"
      ],
      "metadata": {
        "id": "QKWp7t2MMT6j"
      }
    },
    {
      "cell_type": "code",
      "source": [
        "%%time\n",
        "print(\"Getting Test Prediction\")\n",
        "pred_labels = [np.argmax(x) for x in model.predict(test_features)]\n",
        "\n",
        "actual_labels = data['test']['label']"
      ],
      "metadata": {
        "id": "f7YyC_De-ttF",
        "colab": {
          "base_uri": "https://localhost:8080/"
        },
        "outputId": "4ce80cba-87d3-4a06-a388-fbdae70affea"
      },
      "execution_count": 13,
      "outputs": [
        {
          "output_type": "stream",
          "name": "stdout",
          "text": [
            "Getting Test Prediction\n",
            "260/260 [==============================] - 1s 4ms/step\n",
            "CPU times: user 1.38 s, sys: 61.4 ms, total: 1.45 s\n",
            "Wall time: 1.29 s\n"
          ]
        }
      ]
    },
    {
      "cell_type": "code",
      "source": [
        "from sklearn.metrics import f1_score, precision_score, recall_score, accuracy_score\n",
        "\n",
        "print(\"F1-Score\",f1_score(actual_labels,pred_labels,average='weighted'))\n",
        "print(\"Precision-Score\",precision_score(actual_labels,pred_labels,average='weighted'))\n",
        "print(\"Recall-Score\",recall_score(actual_labels,pred_labels,average='weighted'))\n",
        "print(\"accuracy_Score\",accuracy_score(actual_labels,pred_labels))"
      ],
      "metadata": {
        "id": "gAM1On6w-v8i",
        "colab": {
          "base_uri": "https://localhost:8080/"
        },
        "outputId": "461251b5-400b-4c6e-b98d-c3d2e1b4b2ed"
      },
      "execution_count": 14,
      "outputs": [
        {
          "output_type": "stream",
          "name": "stdout",
          "text": [
            "F1-Score 0.8525527331728285\n",
            "Precision-Score 0.854971322812887\n",
            "Recall-Score 0.8525695029486099\n",
            "accuracy_Score 0.8525695029486099\n"
          ]
        }
      ]
    },
    {
      "cell_type": "code",
      "source": [
        "from sklearn.metrics import ConfusionMatrixDisplay\n",
        "import matplotlib.pyplot as plt\n",
        "\n",
        "cmd = ConfusionMatrixDisplay(tf.math.confusion_matrix(actual_labels,pred_labels,num_classes=3).numpy())\n",
        "cmd.plot()"
      ],
      "metadata": {
        "id": "JSea9k73-x2F",
        "colab": {
          "base_uri": "https://localhost:8080/",
          "height": 466
        },
        "outputId": "87329dd2-8dc5-4c23-813e-1354d7843d7f"
      },
      "execution_count": 15,
      "outputs": [
        {
          "output_type": "execute_result",
          "data": {
            "text/plain": [
              "<sklearn.metrics._plot.confusion_matrix.ConfusionMatrixDisplay at 0x78ebdf0fe470>"
            ]
          },
          "metadata": {},
          "execution_count": 15
        },
        {
          "output_type": "display_data",
          "data": {
            "text/plain": [
              "<Figure size 640x480 with 2 Axes>"
            ],
            "image/png": "[encoded data removed]"
          },
          "metadata": {}
        }
      ]
    },
    {
      "cell_type": "code",
      "source": [],
      "metadata": {
        "id": "7o9tIjY2MXJk"
      },
      "execution_count": 15,
      "outputs": []
    }
  ]
}