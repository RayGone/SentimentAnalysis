{
 "cells": [
  {
   "cell_type": "code",
   "execution_count": 11,
   "id": "599bc36e-4d8b-4a4a-ba4d-c3dc91ce7410",
   "metadata": {},
   "outputs": [],
   "source": [
    "import os\n",
    "import random\n",
    "import numpy as np\n",
    "import pandas as pd\n",
    "import tensorflow as tf\n",
    "import datasets\n",
    "from datasets import load_dataset\n",
    "from transformers import PreTrainedTokenizerFast\n",
    "\n",
    "from tensorflow.keras.preprocessing.sequence import pad_sequences\n",
    "from tensorflow.keras.models import Sequential\n",
    "from tensorflow.keras.layers import Flatten,Embedding,Dense,LSTM,Dropout,GRU\n",
    "import gc"
   ]
  },
  {
   "cell_type": "code",
   "execution_count": 28,
   "id": "231c7674-9e55-4a7f-9087-f256430e59e5",
   "metadata": {},
   "outputs": [],
   "source": [
    "rand_seed = 9\n",
    "use_pre_trained_embd_layer = False\n",
    "use_googletrans_aug_data = True\n",
    "save_model = True\n",
    "\n",
    "def seed_everything(seed=0):\n",
    "    random.seed(seed)\n",
    "    os.environ['PYTHONHASHSEED'] = str(seed)\n",
    "    np.random.seed(seed)\n",
    "    tf.keras.utils.set_random_seed(rand_seed)\n",
    "    \n",
    "seed_everything(rand_seed)"
   ]
  },
  {
   "cell_type": "code",
   "execution_count": 29,
   "id": "96050777-693c-449e-bb97-cbb1b1d0b457",
   "metadata": {},
   "outputs": [
    {
     "name": "stderr",
     "output_type": "stream",
     "text": [
      "Found cached dataset parquet (C:/Users/Dell/.cache/huggingface/datasets/raygx___parquet/raygx--NepCov19Tweets-11ff376905985191/0.0.0/2a3b91fbd88a2c90d1dbbb32b460cf621d31bd5b05b934492fdef7d8d6f236ec)\n"
     ]
    },
    {
     "data": {
      "application/vnd.jupyter.widget-view+json": {
       "model_id": "23e437783e07430c83abdef487af976f",
       "version_major": 2,
       "version_minor": 0
      },
      "text/plain": [
       "  0%|          | 0/1 [00:00<?, ?it/s]"
      ]
     },
     "metadata": {},
     "output_type": "display_data"
    },
    {
     "name": "stderr",
     "output_type": "stream",
     "text": [
      "Loading cached shuffled indices for dataset at C:\\Users\\Dell\\.cache\\huggingface\\datasets\\raygx___parquet\\raygx--NepCov19Tweets-11ff376905985191\\0.0.0\\2a3b91fbd88a2c90d1dbbb32b460cf621d31bd5b05b934492fdef7d8d6f236ec\\cache-36e384585e68d3b4.arrow\n",
      "Loading cached processed dataset at C:\\Users\\Dell\\.cache\\huggingface\\datasets\\raygx___parquet\\raygx--NepCov19Tweets-11ff376905985191\\0.0.0\\2a3b91fbd88a2c90d1dbbb32b460cf621d31bd5b05b934492fdef7d8d6f236ec\\cache-2f4ee948a2e009d2.arrow\n"
     ]
    },
    {
     "name": "stdout",
     "output_type": "stream",
     "text": [
      "\n",
      "Adding Data to Neutral class \n",
      "- augmented through googletrans \n",
      "- ne-2-en-2-ne\n",
      "\n"
     ]
    },
    {
     "data": {
      "text/plain": [
       "DatasetDict({\n",
       "    train: Dataset({\n",
       "        features: ['Sentiment', 'Sentences'],\n",
       "        num_rows: 38194\n",
       "    })\n",
       "})"
      ]
     },
     "execution_count": 29,
     "metadata": {},
     "output_type": "execute_result"
    }
   ],
   "source": [
    "nepCov19 = load_dataset(\"raygx/NepCov19Tweets\").shuffle(rand_seed)\n",
    "\n",
    "if use_googletrans_aug_data:\n",
    "    print(\"\\nAdding Data to Neutral class \\n- augmented through googletrans \\n- ne-2-en-2-ne\\n\")\n",
    "    aug_data = pd.read_csv(\"../augment/googletrans_augmented_data.csv\")\n",
    "    aug_data = aug_data.rename(columns={\"Unnamed: 0\":\"Sentiment\",\"ne\":\"Sentences\"})\n",
    "    aug_data['Sentiment'] = np.zeros(aug_data.shape[0],dtype=np.int32)\n",
    "    nepCov19 = datasets.DatasetDict({\n",
    "        'train':datasets.concatenate_datasets([\n",
    "                    nepCov19.filter(lambda x: x['Sentiment']!=0)['train'], # because augdata already contains original as well\n",
    "                    datasets.Dataset.from_pandas(aug_data) \n",
    "                ])     \n",
    "        })  \n",
    "    \n",
    "nepCov19"
   ]
  },
  {
   "cell_type": "code",
   "execution_count": 30,
   "id": "4d419520-fe38-4dbf-87c5-068b6532de49",
   "metadata": {},
   "outputs": [],
   "source": [
    "tokenizer = PreTrainedTokenizerFast.from_pretrained(\"raygx/GPT2-Nepali-Casual-LM\")\n",
    "max_len = 95"
   ]
  },
  {
   "cell_type": "code",
   "execution_count": 36,
   "id": "4c718d8c-256f-4d2c-9251-4de407ab60be",
   "metadata": {},
   "outputs": [
    {
     "name": "stderr",
     "output_type": "stream",
     "text": [
      "Loading cached split indices for dataset at C:\\Users\\Dell\\.cache\\huggingface\\datasets\\raygx___parquet\\raygx--NepCov19Tweets-11ff376905985191\\0.0.0\\2a3b91fbd88a2c90d1dbbb32b460cf621d31bd5b05b934492fdef7d8d6f236ec\\cache-2dd07c9a19407645.arrow and C:\\Users\\Dell\\.cache\\huggingface\\datasets\\raygx___parquet\\raygx--NepCov19Tweets-11ff376905985191\\0.0.0\\2a3b91fbd88a2c90d1dbbb32b460cf621d31bd5b05b934492fdef7d8d6f236ec\\cache-0a25f396b370d8b6.arrow\n"
     ]
    },
    {
     "name": "stdout",
     "output_type": "stream",
     "text": [
      "Dataset DatasetDict({\n",
      "    train: Dataset({\n",
      "        features: ['Sentiment', 'Sentences'],\n",
      "        num_rows: 24444\n",
      "    })\n",
      "    test: Dataset({\n",
      "        features: ['Sentiment', 'Sentences'],\n",
      "        num_rows: 6111\n",
      "    })\n",
      "})\n",
      "Preparing Training Input and Labels\n",
      "Preparing Test Input and Labels\n"
     ]
    }
   ],
   "source": [
    "def LabelEncoding(x):\n",
    "    if x==0:\n",
    "        return [1,0,0]\n",
    "    if x==1:\n",
    "        return [0,1,0]\n",
    "    if x==-1:\n",
    "        return [0,0,1]\n",
    "    \n",
    "    return x\n",
    "\n",
    "nepCov19 = nepCov19['train'].train_test_split(test_size=0.2)\n",
    "print(\"Dataset\",nepCov19)\n",
    "\n",
    "print(\"Preparing Training Input and Labels\")\n",
    "train_input = pad_sequences(\n",
    "                        tokenizer(\n",
    "                            nepCov19['train'].select(range(10000))['Sentences']\n",
    "                            ).input_ids,\n",
    "                        maxlen = max_len,\n",
    "                        padding='post',\n",
    "                        value=tokenizer.pad_token_id\n",
    "                    )\n",
    "train_labels = [LabelEncoding(x) for x in nepCov19['train']['Sentiment']][:10000]\n",
    "\n",
    "print(\"Preparing Test Input and Labels\")\n",
    "test_input = pad_sequences(\n",
    "                        tokenizer(\n",
    "                            nepCov19['test']['Sentences']\n",
    "                            ).input_ids,\n",
    "                        maxlen = max_len,\n",
    "                        padding='post',\n",
    "                        value=tokenizer.pad_token_id\n",
    "                    )\n",
    "test_labels = [LabelEncoding(x) for x in nepCov19['test']['Sentiment']]"
   ]
  },
  {
   "cell_type": "code",
   "execution_count": 37,
   "id": "2fb5b64c-4434-442b-ab9b-dd12ce26f83d",
   "metadata": {},
   "outputs": [
    {
     "data": {
      "text/plain": [
       "<sklearn.metrics._plot.confusion_matrix.ConfusionMatrixDisplay at 0x1ed3be13eb0>"
      ]
     },
     "execution_count": 37,
     "metadata": {},
     "output_type": "execute_result"
    },
    {
     "data": {
      "image/png": "[encoded data removed]",
      "text/plain": [
       "<Figure size 640x480 with 2 Axes>"
      ]
     },
     "metadata": {},
     "output_type": "display_data"
    }
   ],
   "source": [
    "import seaborn as sns\n",
    "from sklearn.metrics import ConfusionMatrixDisplay\n",
    "import matplotlib.pyplot as plt\n",
    "\n",
    "cmd = ConfusionMatrixDisplay(\n",
    "            tf.math.confusion_matrix(\n",
    "                [np.argmax(x) for x in train_labels+test_labels],[np.argmax(x) for x in train_labels+test_labels],num_classes=3\n",
    "            ).numpy(),\n",
    "            display_labels=['Neutral',\"Positive\",\"Negative\"]\n",
    "        )\n",
    "cmd.plot()"
   ]
  },
  {
   "cell_type": "code",
   "execution_count": 38,
   "id": "2c922be5-0c3c-4b0a-a90e-daef6b4ce947",
   "metadata": {},
   "outputs": [],
   "source": [
    "### https://stats.stackexchange.com/questions/181/how-to-choose-the-number-of-hidden-layers-and-nodes-in-a-feedforward-neural-netw/136542#136542\n",
    "n_hidden = int(len(train_labels)/(2*(95 + 3)))"
   ]
  },
  {
   "cell_type": "code",
   "execution_count": 39,
   "id": "7055b930-246b-4a0f-aabe-5e8702f09916",
   "metadata": {},
   "outputs": [
    {
     "name": "stdout",
     "output_type": "stream",
     "text": [
      "WARNING:tensorflow:Layer lstm_9 will not use cuDNN kernels since it doesn't meet the criteria. It will use a generic GPU kernel as fallback when running on GPU.\n",
      "WARNING:tensorflow:Layer lstm_10 will not use cuDNN kernels since it doesn't meet the criteria. It will use a generic GPU kernel as fallback when running on GPU.\n",
      "Model: \"sequential_5\"\n",
      "_________________________________________________________________\n",
      " Layer (type)                Output Shape              Param #   \n",
      "=================================================================\n",
      " embedding_6 (Embedding)     (None, 95, 38)            1900000   \n",
      "                                                                 \n",
      " lstm_9 (LSTM)               (None, 95, 51)            18360     \n",
      "                                                                 \n",
      " dropout_18 (Dropout)        (None, 95, 51)            0         \n",
      "                                                                 \n",
      " lstm_10 (LSTM)              (None, 25)                7700      \n",
      "                                                                 \n",
      " dropout_19 (Dropout)        (None, 25)                0         \n",
      "                                                                 \n",
      " flatten_4 (Flatten)         (None, 25)                0         \n",
      "                                                                 \n",
      " dense_14 (Dense)            (None, 512)               13312     \n",
      "                                                                 \n",
      " dropout_20 (Dropout)        (None, 512)               0         \n",
      "                                                                 \n",
      " dense_15 (Dense)            (None, 128)               65664     \n",
      "                                                                 \n",
      " dropout_21 (Dropout)        (None, 128)               0         \n",
      "                                                                 \n",
      " dense_16 (Dense)            (None, 3)                 387       \n",
      "                                                                 \n",
      "=================================================================\n",
      "Total params: 2,005,423\n",
      "Trainable params: 2,005,423\n",
      "Non-trainable params: 0\n",
      "_________________________________________________________________\n",
      "None\n",
      "Epoch 1/15\n",
      "313/313 [==============================] - 23s 68ms/step - loss: 1.0849 - acc: 0.3924 - precision_5: 0.3756\n",
      "Epoch 2/15\n",
      "313/313 [==============================] - 21s 66ms/step - loss: 1.0828 - acc: 0.3959 - precision_5: 0.3737\n",
      "Epoch 3/15\n",
      "313/313 [==============================] - 21s 68ms/step - loss: 1.0825 - acc: 0.3913 - precision_5: 0.3754\n",
      "Epoch 4/15\n",
      "313/313 [==============================] - 21s 66ms/step - loss: 1.0829 - acc: 0.3944 - precision_5: 0.3754\n",
      "Epoch 5/15\n",
      "313/313 [==============================] - 21s 67ms/step - loss: 1.0828 - acc: 0.3959 - precision_5: 0.3735\n",
      "Epoch 6/15\n",
      "313/313 [==============================] - 20s 65ms/step - loss: 1.0827 - acc: 0.3959 - precision_5: 0.3735\n",
      "Epoch 7/15\n",
      "313/313 [==============================] - 21s 67ms/step - loss: 1.0828 - acc: 0.3959 - precision_5: 0.3741\n",
      "Epoch 8/15\n",
      "313/313 [==============================] - 22s 69ms/step - loss: 1.0827 - acc: 0.3959 - precision_5: 0.3746\n",
      "Epoch 9/15\n",
      "313/313 [==============================] - 21s 68ms/step - loss: 1.0829 - acc: 0.3959 - precision_5: 0.3735\n",
      "Epoch 10/15\n",
      "313/313 [==============================] - 20s 64ms/step - loss: 1.0827 - acc: 0.3959 - precision_5: 0.3739\n",
      "Epoch 11/15\n",
      "313/313 [==============================] - 20s 64ms/step - loss: 1.0827 - acc: 0.3934 - precision_5: 0.3737\n",
      "Epoch 12/15\n",
      "313/313 [==============================] - 20s 65ms/step - loss: 1.0826 - acc: 0.3932 - precision_5: 0.3733\n",
      "Epoch 13/15\n",
      "313/313 [==============================] - 22s 71ms/step - loss: 1.0827 - acc: 0.3945 - precision_5: 0.3759\n",
      "Epoch 14/15\n",
      "313/313 [==============================] - 25s 80ms/step - loss: 1.0825 - acc: 0.3951 - precision_5: 0.3744\n",
      "Epoch 15/15\n",
      "313/313 [==============================] - 19s 62ms/step - loss: 1.0827 - acc: 0.3950 - precision_5: 0.3745\n",
      "Saving the model\n",
      "INFO:tensorflow:Assets written to: E:\\Repositories-Personal\\Crawling news sites for head lines\\Sentiment Analysis\\../saved_models/LSTM_4_SA\\assets\n"
     ]
    }
   ],
   "source": [
    "try:\n",
    "    raise(\"Let's Build New Model\")\n",
    "    print(\"Loading saved model\")\n",
    "    model = tf.keras.models.load_model(\"saved_models/LSTM_4_SA\")\n",
    "    print(model.summary())\n",
    "except:\n",
    "    with tf.device('/device:CPU:0'):#For LSTM CPU works better\n",
    "        embd_layer = Embedding(len(tokenizer), 38, input_length=max_len)\n",
    "        \n",
    "        if use_pre_trained_embd_layer:\n",
    "            print(\"\\n****Using Pre-Trained Embedding Layer****\\n\")\n",
    "            embd_layer = tf.keras.models.load_model(\"../saved_models/Conv_4_SA\").get_layer(index=0)\n",
    "        \n",
    "        model = Sequential()\n",
    "        model.add(embd_layer)\n",
    "        model.add(LSTM(n_hidden,activation='relu',return_sequences=True))\n",
    "        model.add(Dropout(0.3))\n",
    "        model.add(LSTM(int(n_hidden/2),activation='relu'))\n",
    "        model.add(Dropout(0.3))\n",
    "        model.add(Flatten())\n",
    "        model.add(Dense(512,activation='relu'))\n",
    "        model.add(Dropout(0.4))\n",
    "        model.add(Dense(128,activation='relu'))\n",
    "        model.add(Dropout(0.2))\n",
    "        model.add(Dense(3,activation='sigmoid'))\n",
    "        \n",
    "        model.compile(\n",
    "            optimizer=tf.keras.optimizers.Adam(learning_rate=0.01),\n",
    "            loss='categorical_crossentropy',\n",
    "            metrics=['acc',tf.keras.metrics.Precision()])\n",
    "\n",
    "        print(model.summary())\n",
    "        history = model.fit(tf.constant(train_input),\n",
    "                tf.constant(train_labels),\n",
    "                epochs=15)\n",
    "\n",
    "        if save_model:\n",
    "            print(\"Saving the model\")\n",
    "            model.save(os.path.join(os.getcwd(),\"../saved_models/LSTM_4_SA\"))\n",
    "            \n"
   ]
  },
  {
   "cell_type": "code",
   "execution_count": null,
   "id": "259cf7d2-6726-447e-a9aa-7c94191b132f",
   "metadata": {},
   "outputs": [],
   "source": [
    "print(\"l\\n\\n******Evaluations***********\\n\")\n",
    "pred_labels = [np.argmax(x) for x in \n",
    "        tf.nn.softmax(\n",
    "            model.predict(\n",
    "                x=tf.constant(test_input)\n",
    "            )\n",
    "        )\n",
    "    ]\n",
    "\n",
    "from sklearn.metrics import f1_score, precision_score, recall_score, accuracy_score\n",
    "\n",
    "test_labels = [np.argmax(x) for x in test_labels]\n",
    "print(\"F1-Score\",f1_score(test_labels,pred_labels,average='weighted'))\n",
    "print(\"Precision-Score\",precision_score(test_labels,pred_labels,average='weighted'))\n",
    "print(\"Recall-Score\",recall_score(test_labels,pred_labels,average='weighted'))\n",
    "print(\"accuracy_Score\",accuracy_score(test_labels,pred_labels))\n",
    "\n",
    "\n",
    "from sklearn.metrics import ConfusionMatrixDisplay\n",
    "import matplotlib.pyplot as plt\n",
    "\n",
    "confusion_matrix = tf.math.confusion_matrix(test_labels,pred_labels,num_classes=3)\n",
    "print(confusion_matrix)\n",
    "cmd = ConfusionMatrixDisplay(confusion_matrix.numpy(),\n",
    "            display_labels=['Neutral',\"Positive\",\"Negative\"])\n",
    "cmd.plot()\n",
    "# plt.show()\n",
    "print(\"True Labels Onlys\",tf.math.confusion_matrix(test_labels,test_labels,num_classes=3))\n"
   ]
  },
  {
   "cell_type": "code",
   "execution_count": 10,
   "id": "10c7be1d-7399-4ca4-9a83-cbf24a406959",
   "metadata": {},
   "outputs": [
    {
     "data": {
      "text/plain": [
       "'\\n-- Using NepCov19Tweets Dataset As it is --\\n    BEST_RESULT: \\n        F1-Score: 0.7022021185799427\\n        Precision-Score: 0.700344004267401\\n        Recall-Score: 0.7054518297236744\\n        accuracy_Score: 0.7054518297236744\\n        confusion matrix:\\n                [[ 366  358  224]\\n                [ 236 2304  432]\\n                [ 217  505 2053]]\\n    HyperParameters:        \\n        rand_seed: 9 ## Seed for model weights and train_test data shuffle\\n        epochs: 5\\n        max_len: 95 ## maximum input length\\n        embedding_size: 380\\n        optimizer: tf.keras.optimizers.Adam(lr=0.000099)\\n        loss: sparse_categorical_crossentropy\\n        Conv1_l1: \\n            units: (32,5)\\n            activation: relu\\n        maxpool_l1: 3\\n        Dense_1: \\n            units: 100 \\n            activation: relu\\n        Dense_2: \\n            units: 3 \\n            activation: softmax\\n'"
      ]
     },
     "execution_count": 10,
     "metadata": {},
     "output_type": "execute_result"
    }
   ],
   "source": [
    "\"\"\"\n",
    "-- Using NepCov19Tweets Dataset As it is --\n",
    "    BEST_RESULT: \n",
    "        F1-Score: 0.7022021185799427\n",
    "        Precision-Score: 0.700344004267401\n",
    "        Recall-Score: 0.7054518297236744\n",
    "        accuracy_Score: 0.7054518297236744\n",
    "        confusion matrix:\n",
    "                [[ 366  358  224]\n",
    "                [ 236 2304  432]\n",
    "                [ 217  505 2053]]\n",
    "    HyperParameters:        \n",
    "        rand_seed: 9 ## Seed for model weights and train_test data shuffle\n",
    "        epochs: 5\n",
    "        max_len: 95 ## maximum input length\n",
    "        embedding_size: 380\n",
    "        optimizer: tf.keras.optimizers.Adam(lr=0.000099)\n",
    "        loss: sparse_categorical_crossentropy\n",
    "        Conv1_l1: \n",
    "            units: (32,5)\n",
    "            activation: relu\n",
    "        maxpool_l1: 3\n",
    "        Dense_1: \n",
    "            units: 100 \n",
    "            activation: relu\n",
    "        Dense_2: \n",
    "            units: 3 \n",
    "            activation: softmax\n",
    "\"\"\"\n",
    "\n"
   ]
  },
  {
   "cell_type": "code",
   "execution_count": null,
   "id": "bba376ae-42ae-4463-a446-5e77bd3e2e54",
   "metadata": {},
   "outputs": [],
   "source": [
    "\"\"\"\n",
    "-- Added Neutral Labeled News Data and Aggregated Data --\n",
    "    BEST_RESULT: \n",
    "        F1-Score: 0.7125462813535781\n",
    "        Precision-Score: 0.7153736474011517\n",
    "        Recall-Score: 0.7106991680046708\n",
    "        accuracy_Score: 0.7106991680046708\n",
    "        confusion matrix:\n",
    "                [[ 586  314  195]\n",
    "                 [ 317 2255  398]\n",
    "                 [ 298  460 2028]]\n",
    "    HyperParameters:        \n",
    "        rand_seed: 9 ## Seed for model weights and train_test data shuffle\n",
    "        epochs: 5\n",
    "        max_len: 95 ## maximum input length\n",
    "        embedding_size: 380\n",
    "        optimizer: tf.keras.optimizers.Adam(lr=0.000099)\n",
    "        loss: sparse_categorical_crossentropy\n",
    "        Conv1_l1: \n",
    "            units: (64,5)\n",
    "            activation: relu\n",
    "        maxpool_l1: 3\n",
    "        Conv1_l2: \n",
    "            units: (32,5)\n",
    "            activation: relu\n",
    "        maxpool_l2: 3\n",
    "        Dense_1: \n",
    "            units: 156 \n",
    "            activation: relu\n",
    "        Dense_2: \n",
    "            units: 3 \n",
    "            activation: softmax\n",
    "\"\"\""
   ]
  }
 ],
 "metadata": {
  "kernelspec": {
   "display_name": "Python 3 (ipykernel)",
   "language": "python",
   "name": "python3"
  },
  "language_info": {
   "codemirror_mode": {
    "name": "ipython",
    "version": 3
   },
   "file_extension": ".py",
   "mimetype": "text/x-python",
   "name": "python",
   "nbconvert_exporter": "python",
   "pygments_lexer": "ipython3",
   "version": "3.9.13"
  }
 },
 "nbformat": 4,
 "nbformat_minor": 5
}
