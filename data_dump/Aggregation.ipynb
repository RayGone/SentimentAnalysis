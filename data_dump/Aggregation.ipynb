{
 "cells": [
  {
   "cell_type": "code",
   "execution_count": 1,
   "id": "16a19770-756d-425a-9f7f-6d54a46c0894",
   "metadata": {},
   "outputs": [],
   "source": [
    "import pandas as pd\n",
    "import os"
   ]
  },
  {
   "cell_type": "code",
   "execution_count": 2,
   "id": "d734832e-02b6-4ba3-8fa6-60fa1df251de",
   "metadata": {},
   "outputs": [
    {
     "data": {
      "text/plain": [
       "['GRU_4_SA_Neutral_Labeled_News.csv', 'LSTM_4_SA_neutral_labeled_news.csv']"
      ]
     },
     "execution_count": 2,
     "metadata": {},
     "output_type": "execute_result"
    }
   ],
   "source": [
    "csv_files = [f for f in os.listdir() if \".csv\" in f]\n",
    "rnn_files = [f for f in csv_files if 'GRU' in f or 'LSTM' in f]\n",
    "rnn_files"
   ]
  },
  {
   "cell_type": "code",
   "execution_count": 3,
   "id": "184549d3-ed01-48ac-8e13-fd65c3a38c2c",
   "metadata": {},
   "outputs": [
    {
     "data": {
      "text/html": [
       "<div>\n",
       "<style scoped>\n",
       "    .dataframe tbody tr th:only-of-type {\n",
       "        vertical-align: middle;\n",
       "    }\n",
       "\n",
       "    .dataframe tbody tr th {\n",
       "        vertical-align: top;\n",
       "    }\n",
       "\n",
       "    .dataframe thead th {\n",
       "        text-align: right;\n",
       "    }\n",
       "</style>\n",
       "<table border=\"1\" class=\"dataframe\">\n",
       "  <thead>\n",
       "    <tr style=\"text-align: right;\">\n",
       "      <th></th>\n",
       "      <th>text</th>\n",
       "      <th>source</th>\n",
       "    </tr>\n",
       "  </thead>\n",
       "  <tbody>\n",
       "    <tr>\n",
       "      <th>0</th>\n",
       "      <td>यदि तपाईं मधुमेहबाट बच्न चिया, कफी आदिमा चिनीक...</td>\n",
       "      <td>ekantipur.csv</td>\n",
       "    </tr>\n",
       "    <tr>\n",
       "      <th>1</th>\n",
       "      <td>युरोपमा गरिएको एउटा अध्ययनले दाँत सफा गर्ने र ...</td>\n",
       "      <td>ekantipur.csv</td>\n",
       "    </tr>\n",
       "    <tr>\n",
       "      <th>2</th>\n",
       "      <td>नेपाली भान्सामा प्रयोग हुने सुगन्धित धनियाँ पा...</td>\n",
       "      <td>ekantipur.csv</td>\n",
       "    </tr>\n",
       "    <tr>\n",
       "      <th>3</th>\n",
       "      <td>अन्य मौसमको तुलनामा जाडोमा चायाले धेरै मानिसला...</td>\n",
       "      <td>ekantipur.csv</td>\n",
       "    </tr>\n",
       "    <tr>\n",
       "      <th>4</th>\n",
       "      <td>विश्व स्वास्थ्य सङ्गठनको आंँकडा अनुसार विश्वका...</td>\n",
       "      <td>ekantipur.csv</td>\n",
       "    </tr>\n",
       "    <tr>\n",
       "      <th>...</th>\n",
       "      <td>...</td>\n",
       "      <td>...</td>\n",
       "    </tr>\n",
       "    <tr>\n",
       "      <th>20982</th>\n",
       "      <td>कोरोनाका कारण विश्वभर ६०० पत्रकारको मृत्यु</td>\n",
       "      <td>ratopati2.csv</td>\n",
       "    </tr>\n",
       "    <tr>\n",
       "      <th>20983</th>\n",
       "      <td>कोरोना बिमा : २५ सयको निवेदन फिर्ता</td>\n",
       "      <td>ratopati2.csv</td>\n",
       "    </tr>\n",
       "    <tr>\n",
       "      <th>20984</th>\n",
       "      <td>कोरोनाको नेगेटिभ रिपोर्ट बिना बेलायतमा ‘नो इन्...</td>\n",
       "      <td>ratopati2.csv</td>\n",
       "    </tr>\n",
       "    <tr>\n",
       "      <th>20985</th>\n",
       "      <td>कोरोना थामिएको छैन, भारतमा बर्ड फ्लूको आतंक</td>\n",
       "      <td>ratopati2.csv</td>\n",
       "    </tr>\n",
       "    <tr>\n",
       "      <th>20986</th>\n",
       "      <td>कोरोनासँगै बर्ड फ्लुुको त्रास, एकै ल्याबमा मान...</td>\n",
       "      <td>ratopati2.csv</td>\n",
       "    </tr>\n",
       "  </tbody>\n",
       "</table>\n",
       "<p>41482 rows × 2 columns</p>\n",
       "</div>"
      ],
      "text/plain": [
       "                                                    text         source\n",
       "0      यदि तपाईं मधुमेहबाट बच्न चिया, कफी आदिमा चिनीक...  ekantipur.csv\n",
       "1      युरोपमा गरिएको एउटा अध्ययनले दाँत सफा गर्ने र ...  ekantipur.csv\n",
       "2      नेपाली भान्सामा प्रयोग हुने सुगन्धित धनियाँ पा...  ekantipur.csv\n",
       "3      अन्य मौसमको तुलनामा जाडोमा चायाले धेरै मानिसला...  ekantipur.csv\n",
       "4      विश्व स्वास्थ्य सङ्गठनको आंँकडा अनुसार विश्वका...  ekantipur.csv\n",
       "...                                                  ...            ...\n",
       "20982         कोरोनाका कारण विश्वभर ६०० पत्रकारको मृत्यु  ratopati2.csv\n",
       "20983                कोरोना बिमा : २५ सयको निवेदन फिर्ता  ratopati2.csv\n",
       "20984  कोरोनाको नेगेटिभ रिपोर्ट बिना बेलायतमा ‘नो इन्...  ratopati2.csv\n",
       "20985        कोरोना थामिएको छैन, भारतमा बर्ड फ्लूको आतंक  ratopati2.csv\n",
       "20986  कोरोनासँगै बर्ड फ्लुुको त्रास, एकै ल्याबमा मान...  ratopati2.csv\n",
       "\n",
       "[41482 rows x 2 columns]"
      ]
     },
     "execution_count": 3,
     "metadata": {},
     "output_type": "execute_result"
    }
   ],
   "source": [
    "data = pd.concat([pd.read_csv(f_csv) for f_csv in rnn_files])[['text','source']]\n",
    "data"
   ]
  },
  {
   "cell_type": "code",
   "execution_count": 4,
   "id": "50de2996-5f46-4cc2-96f8-7253e14ecd7e",
   "metadata": {},
   "outputs": [
    {
     "data": {
      "text/html": [
       "<div>\n",
       "<style scoped>\n",
       "    .dataframe tbody tr th:only-of-type {\n",
       "        vertical-align: middle;\n",
       "    }\n",
       "\n",
       "    .dataframe tbody tr th {\n",
       "        vertical-align: top;\n",
       "    }\n",
       "\n",
       "    .dataframe thead th {\n",
       "        text-align: right;\n",
       "    }\n",
       "</style>\n",
       "<table border=\"1\" class=\"dataframe\">\n",
       "  <thead>\n",
       "    <tr style=\"text-align: right;\">\n",
       "      <th></th>\n",
       "      <th>text</th>\n",
       "      <th>source</th>\n",
       "    </tr>\n",
       "  </thead>\n",
       "  <tbody>\n",
       "    <tr>\n",
       "      <th>0</th>\n",
       "      <td>यदि तपाईं मधुमेहबाट बच्न चिया, कफी आदिमा चिनीक...</td>\n",
       "      <td>ekantipur.csv</td>\n",
       "    </tr>\n",
       "    <tr>\n",
       "      <th>1</th>\n",
       "      <td>युरोपमा गरिएको एउटा अध्ययनले दाँत सफा गर्ने र ...</td>\n",
       "      <td>ekantipur.csv</td>\n",
       "    </tr>\n",
       "    <tr>\n",
       "      <th>2</th>\n",
       "      <td>नेपाली भान्सामा प्रयोग हुने सुगन्धित धनियाँ पा...</td>\n",
       "      <td>ekantipur.csv</td>\n",
       "    </tr>\n",
       "    <tr>\n",
       "      <th>3</th>\n",
       "      <td>अन्य मौसमको तुलनामा जाडोमा चायाले धेरै मानिसला...</td>\n",
       "      <td>ekantipur.csv</td>\n",
       "    </tr>\n",
       "    <tr>\n",
       "      <th>4</th>\n",
       "      <td>विश्व स्वास्थ्य सङ्गठनको आंँकडा अनुसार विश्वका...</td>\n",
       "      <td>ekantipur.csv</td>\n",
       "    </tr>\n",
       "    <tr>\n",
       "      <th>...</th>\n",
       "      <td>...</td>\n",
       "      <td>...</td>\n",
       "    </tr>\n",
       "    <tr>\n",
       "      <th>20981</th>\n",
       "      <td>कोरोनाबाट जोगाउनका लागि थप दुई जीवनरक्षक औषधी ...</td>\n",
       "      <td>ratopati2.csv</td>\n",
       "    </tr>\n",
       "    <tr>\n",
       "      <th>20982</th>\n",
       "      <td>कोरोनाका कारण विश्वभर ६०० पत्रकारको मृत्यु</td>\n",
       "      <td>ratopati2.csv</td>\n",
       "    </tr>\n",
       "    <tr>\n",
       "      <th>20983</th>\n",
       "      <td>कोरोना बिमा : २५ सयको निवेदन फिर्ता</td>\n",
       "      <td>ratopati2.csv</td>\n",
       "    </tr>\n",
       "    <tr>\n",
       "      <th>20985</th>\n",
       "      <td>कोरोना थामिएको छैन, भारतमा बर्ड फ्लूको आतंक</td>\n",
       "      <td>ratopati2.csv</td>\n",
       "    </tr>\n",
       "    <tr>\n",
       "      <th>20986</th>\n",
       "      <td>कोरोनासँगै बर्ड फ्लुुको त्रास, एकै ल्याबमा मान...</td>\n",
       "      <td>ratopati2.csv</td>\n",
       "    </tr>\n",
       "  </tbody>\n",
       "</table>\n",
       "<p>20249 rows × 2 columns</p>\n",
       "</div>"
      ],
      "text/plain": [
       "                                                    text         source\n",
       "0      यदि तपाईं मधुमेहबाट बच्न चिया, कफी आदिमा चिनीक...  ekantipur.csv\n",
       "1      युरोपमा गरिएको एउटा अध्ययनले दाँत सफा गर्ने र ...  ekantipur.csv\n",
       "2      नेपाली भान्सामा प्रयोग हुने सुगन्धित धनियाँ पा...  ekantipur.csv\n",
       "3      अन्य मौसमको तुलनामा जाडोमा चायाले धेरै मानिसला...  ekantipur.csv\n",
       "4      विश्व स्वास्थ्य सङ्गठनको आंँकडा अनुसार विश्वका...  ekantipur.csv\n",
       "...                                                  ...            ...\n",
       "20981  कोरोनाबाट जोगाउनका लागि थप दुई जीवनरक्षक औषधी ...  ratopati2.csv\n",
       "20982         कोरोनाका कारण विश्वभर ६०० पत्रकारको मृत्यु  ratopati2.csv\n",
       "20983                कोरोना बिमा : २५ सयको निवेदन फिर्ता  ratopati2.csv\n",
       "20985        कोरोना थामिएको छैन, भारतमा बर्ड फ्लूको आतंक  ratopati2.csv\n",
       "20986  कोरोनासँगै बर्ड फ्लुुको त्रास, एकै ल्याबमा मान...  ratopati2.csv\n",
       "\n",
       "[20249 rows x 2 columns]"
      ]
     },
     "execution_count": 4,
     "metadata": {},
     "output_type": "execute_result"
    }
   ],
   "source": [
    "rnn_duplicates = data[data.duplicated()]\n",
    "rnn_duplicates"
   ]
  },
  {
   "cell_type": "code",
   "execution_count": 5,
   "id": "f8b915d7-0770-4ead-98f5-4db5181ea0fc",
   "metadata": {},
   "outputs": [
    {
     "data": {
      "text/plain": [
       "['Conv_4_SA_neutral_labeled_news.csv', 'MLP_4_SA_neutral_labeled_news.csv']"
      ]
     },
     "execution_count": 5,
     "metadata": {},
     "output_type": "execute_result"
    }
   ],
   "source": [
    "other_files = [f for f in csv_files if 'Conv' in f or 'MLP' in f]\n",
    "other_files"
   ]
  },
  {
   "cell_type": "code",
   "execution_count": 6,
   "id": "994ee34a-6e76-4265-a1f3-595d2c067361",
   "metadata": {},
   "outputs": [
    {
     "data": {
      "text/html": [
       "<div>\n",
       "<style scoped>\n",
       "    .dataframe tbody tr th:only-of-type {\n",
       "        vertical-align: middle;\n",
       "    }\n",
       "\n",
       "    .dataframe tbody tr th {\n",
       "        vertical-align: top;\n",
       "    }\n",
       "\n",
       "    .dataframe thead th {\n",
       "        text-align: right;\n",
       "    }\n",
       "</style>\n",
       "<table border=\"1\" class=\"dataframe\">\n",
       "  <thead>\n",
       "    <tr style=\"text-align: right;\">\n",
       "      <th></th>\n",
       "      <th>text</th>\n",
       "    </tr>\n",
       "  </thead>\n",
       "  <tbody>\n",
       "    <tr>\n",
       "      <th>0</th>\n",
       "      <td>यदि तपाईं मधुमेहबाट बच्न चिया, कफी आदिमा चिनीक...</td>\n",
       "    </tr>\n",
       "    <tr>\n",
       "      <th>1</th>\n",
       "      <td>युरोपमा गरिएको एउटा अध्ययनले दाँत सफा गर्ने र ...</td>\n",
       "    </tr>\n",
       "    <tr>\n",
       "      <th>2</th>\n",
       "      <td>नेपाली भान्सामा प्रयोग हुने सुगन्धित धनियाँ पा...</td>\n",
       "    </tr>\n",
       "    <tr>\n",
       "      <th>3</th>\n",
       "      <td>अन्य मौसमको तुलनामा जाडोमा चायाले धेरै मानिसला...</td>\n",
       "    </tr>\n",
       "    <tr>\n",
       "      <th>4</th>\n",
       "      <td>विश्व स्वास्थ्य सङ्गठनको आंँकडा अनुसार विश्वका...</td>\n",
       "    </tr>\n",
       "    <tr>\n",
       "      <th>...</th>\n",
       "      <td>...</td>\n",
       "    </tr>\n",
       "    <tr>\n",
       "      <th>10754</th>\n",
       "      <td>कोरोनाका कारण विश्वभर ६०० पत्रकारको मृत्यु</td>\n",
       "    </tr>\n",
       "    <tr>\n",
       "      <th>10755</th>\n",
       "      <td>कोरोना बिमा : २५ सयको निवेदन फिर्ता</td>\n",
       "    </tr>\n",
       "    <tr>\n",
       "      <th>10756</th>\n",
       "      <td>कोरोनाको नेगेटिभ रिपोर्ट बिना बेलायतमा ‘नो इन्...</td>\n",
       "    </tr>\n",
       "    <tr>\n",
       "      <th>10757</th>\n",
       "      <td>कोरोना थामिएको छैन, भारतमा बर्ड फ्लूको आतंक</td>\n",
       "    </tr>\n",
       "    <tr>\n",
       "      <th>10758</th>\n",
       "      <td>कोरोनासँगै बर्ड फ्लुुको त्रास, एकै ल्याबमा मान...</td>\n",
       "    </tr>\n",
       "  </tbody>\n",
       "</table>\n",
       "<p>10083 rows × 1 columns</p>\n",
       "</div>"
      ],
      "text/plain": [
       "                                                    text\n",
       "0      यदि तपाईं मधुमेहबाट बच्न चिया, कफी आदिमा चिनीक...\n",
       "1      युरोपमा गरिएको एउटा अध्ययनले दाँत सफा गर्ने र ...\n",
       "2      नेपाली भान्सामा प्रयोग हुने सुगन्धित धनियाँ पा...\n",
       "3      अन्य मौसमको तुलनामा जाडोमा चायाले धेरै मानिसला...\n",
       "4      विश्व स्वास्थ्य सङ्गठनको आंँकडा अनुसार विश्वका...\n",
       "...                                                  ...\n",
       "10754         कोरोनाका कारण विश्वभर ६०० पत्रकारको मृत्यु\n",
       "10755                कोरोना बिमा : २५ सयको निवेदन फिर्ता\n",
       "10756  कोरोनाको नेगेटिभ रिपोर्ट बिना बेलायतमा ‘नो इन्...\n",
       "10757        कोरोना थामिएको छैन, भारतमा बर्ड फ्लूको आतंक\n",
       "10758  कोरोनासँगै बर्ड फ्लुुको त्रास, एकै ल्याबमा मान...\n",
       "\n",
       "[10083 rows x 1 columns]"
      ]
     },
     "execution_count": 6,
     "metadata": {},
     "output_type": "execute_result"
    }
   ],
   "source": [
    "data = pd.concat([pd.read_csv(f_csv) for f_csv in other_files])[['text']]\n",
    "other_duplicates = data[data.duplicated()]\n",
    "other_duplicates"
   ]
  },
  {
   "cell_type": "code",
   "execution_count": 8,
   "id": "28142e16-bbb5-4fd1-8ab8-b0fa583fa12d",
   "metadata": {},
   "outputs": [
    {
     "data": {
      "text/html": [
       "<div>\n",
       "<style scoped>\n",
       "    .dataframe tbody tr th:only-of-type {\n",
       "        vertical-align: middle;\n",
       "    }\n",
       "\n",
       "    .dataframe tbody tr th {\n",
       "        vertical-align: top;\n",
       "    }\n",
       "\n",
       "    .dataframe thead th {\n",
       "        text-align: right;\n",
       "    }\n",
       "</style>\n",
       "<table border=\"1\" class=\"dataframe\">\n",
       "  <thead>\n",
       "    <tr style=\"text-align: right;\">\n",
       "      <th></th>\n",
       "      <th>text</th>\n",
       "      <th>source</th>\n",
       "    </tr>\n",
       "  </thead>\n",
       "  <tbody>\n",
       "  </tbody>\n",
       "</table>\n",
       "</div>"
      ],
      "text/plain": [
       "Empty DataFrame\n",
       "Columns: [text, source]\n",
       "Index: []"
      ]
     },
     "execution_count": 8,
     "metadata": {},
     "output_type": "execute_result"
    }
   ],
   "source": [
    "data = pd.concat([rnn_duplicates,other_duplicates])\n",
    "all_dup = data[data.duplicated()]\n",
    "all_dup"
   ]
  },
  {
   "cell_type": "code",
   "execution_count": null,
   "id": "0d7525f6-5fea-4d3f-ae54-1cb4f1c44ff0",
   "metadata": {},
   "outputs": [],
   "source": []
  }
 ],
 "metadata": {
  "kernelspec": {
   "display_name": "Python 3 (ipykernel)",
   "language": "python",
   "name": "python3"
  },
  "language_info": {
   "codemirror_mode": {
    "name": "ipython",
    "version": 3
   },
   "file_extension": ".py",
   "mimetype": "text/x-python",
   "name": "python",
   "nbconvert_exporter": "python",
   "pygments_lexer": "ipython3",
   "version": "3.9.13"
  }
 },
 "nbformat": 4,
 "nbformat_minor": 5
}
